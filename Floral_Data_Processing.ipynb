{
 "cells": [
  {
   "cell_type": "markdown",
   "id": "b767f6ec",
   "metadata": {},
   "source": [
    "# Floral Data Processing"
   ]
  },
  {
   "cell_type": "markdown",
   "id": "9e02cb2b",
   "metadata": {},
   "source": [
    "# **Imports**"
   ]
  },
  {
   "cell_type": "code",
   "execution_count": 1,
   "id": "797f1d83",
   "metadata": {},
   "outputs": [],
   "source": [
    "#Numpy\n",
    "import numpy as np\n",
    "\n",
    "#Pandas\n",
    "import pandas as pd\n",
    "\n",
    "#Seaborn\n",
    "import seaborn as sns\n",
    "\n",
    "#matplotlib\n",
    "import matplotlib.pyplot as plt\n",
    "import plotly\n",
    "\n",
    "import warnings\n",
    "warnings.filterwarnings(\"ignore\")"
   ]
  },
  {
   "cell_type": "markdown",
   "id": "19b79bb2",
   "metadata": {},
   "source": [
    "# **Loading Data**"
   ]
  },
  {
   "cell_type": "code",
   "execution_count": 2,
   "id": "da3879a6",
   "metadata": {},
   "outputs": [],
   "source": [
    "GDS = pd.read_csv('GDS')"
   ]
  },
  {
   "cell_type": "code",
   "execution_count": 3,
   "id": "fdb2e264",
   "metadata": {
    "scrolled": true
   },
   "outputs": [
    {
     "data": {
      "text/html": [
       "<div>\n",
       "<style scoped>\n",
       "    .dataframe tbody tr th:only-of-type {\n",
       "        vertical-align: middle;\n",
       "    }\n",
       "\n",
       "    .dataframe tbody tr th {\n",
       "        vertical-align: top;\n",
       "    }\n",
       "\n",
       "    .dataframe thead th {\n",
       "        text-align: right;\n",
       "    }\n",
       "</style>\n",
       "<table border=\"1\" class=\"dataframe\">\n",
       "  <thead>\n",
       "    <tr style=\"text-align: right;\">\n",
       "      <th></th>\n",
       "      <th>Order #</th>\n",
       "      <th>Transaction Type</th>\n",
       "      <th>Order Time</th>\n",
       "      <th>Order Date</th>\n",
       "      <th>Delivery Date_x</th>\n",
       "      <th>Sender</th>\n",
       "      <th>Recipient</th>\n",
       "      <th>Product Total</th>\n",
       "      <th>Delivery_x</th>\n",
       "      <th>Nontaxable Delivery</th>\n",
       "      <th>...</th>\n",
       "      <th>Billing State</th>\n",
       "      <th>Billing Zip</th>\n",
       "      <th>Subtotal</th>\n",
       "      <th>Delivery_y</th>\n",
       "      <th>Sale Tax</th>\n",
       "      <th>Tip</th>\n",
       "      <th>Discount_y</th>\n",
       "      <th>Grand Total_y</th>\n",
       "      <th>Tax Exempt</th>\n",
       "      <th>Payment Method_y</th>\n",
       "    </tr>\n",
       "  </thead>\n",
       "  <tbody>\n",
       "    <tr>\n",
       "      <th>0</th>\n",
       "      <td>100017453</td>\n",
       "      <td>Sale</td>\n",
       "      <td>03:28:16PM Sat</td>\n",
       "      <td>Dec 29, 2018</td>\n",
       "      <td>Dec 29, 2018</td>\n",
       "      <td>Candyce Williams Glaser</td>\n",
       "      <td>NaN</td>\n",
       "      <td>$815.00</td>\n",
       "      <td>$0.00</td>\n",
       "      <td>$0.00</td>\n",
       "      <td>...</td>\n",
       "      <td>NaN</td>\n",
       "      <td>NaN</td>\n",
       "      <td>NaN</td>\n",
       "      <td>NaN</td>\n",
       "      <td>NaN</td>\n",
       "      <td>NaN</td>\n",
       "      <td>NaN</td>\n",
       "      <td>NaN</td>\n",
       "      <td>NaN</td>\n",
       "      <td>NaN</td>\n",
       "    </tr>\n",
       "    <tr>\n",
       "      <th>1</th>\n",
       "      <td>100017452</td>\n",
       "      <td>Sale</td>\n",
       "      <td>03:16:50PM Sat</td>\n",
       "      <td>Dec 29, 2018</td>\n",
       "      <td>Dec 29, 2018</td>\n",
       "      <td>NaN</td>\n",
       "      <td>NaN</td>\n",
       "      <td>$249.90</td>\n",
       "      <td>$0.00</td>\n",
       "      <td>$0.00</td>\n",
       "      <td>...</td>\n",
       "      <td>NaN</td>\n",
       "      <td>NaN</td>\n",
       "      <td>NaN</td>\n",
       "      <td>NaN</td>\n",
       "      <td>NaN</td>\n",
       "      <td>NaN</td>\n",
       "      <td>NaN</td>\n",
       "      <td>NaN</td>\n",
       "      <td>NaN</td>\n",
       "      <td>NaN</td>\n",
       "    </tr>\n",
       "    <tr>\n",
       "      <th>2</th>\n",
       "      <td>100017451</td>\n",
       "      <td>Sale</td>\n",
       "      <td>02:58:53PM Sat</td>\n",
       "      <td>Dec 29, 2018</td>\n",
       "      <td>Dec 29, 2018</td>\n",
       "      <td>NaN</td>\n",
       "      <td>NaN</td>\n",
       "      <td>$24.95</td>\n",
       "      <td>$0.00</td>\n",
       "      <td>$0.00</td>\n",
       "      <td>...</td>\n",
       "      <td>NaN</td>\n",
       "      <td>NaN</td>\n",
       "      <td>NaN</td>\n",
       "      <td>NaN</td>\n",
       "      <td>NaN</td>\n",
       "      <td>NaN</td>\n",
       "      <td>NaN</td>\n",
       "      <td>NaN</td>\n",
       "      <td>NaN</td>\n",
       "      <td>NaN</td>\n",
       "    </tr>\n",
       "    <tr>\n",
       "      <th>3</th>\n",
       "      <td>100017450</td>\n",
       "      <td>Sale</td>\n",
       "      <td>02:54:45PM Sat</td>\n",
       "      <td>Dec 29, 2018</td>\n",
       "      <td>Dec 29, 2018</td>\n",
       "      <td>Tracie Hamilton</td>\n",
       "      <td>NaN</td>\n",
       "      <td>$635.00</td>\n",
       "      <td>$0.00</td>\n",
       "      <td>$0.00</td>\n",
       "      <td>...</td>\n",
       "      <td>NaN</td>\n",
       "      <td>NaN</td>\n",
       "      <td>NaN</td>\n",
       "      <td>NaN</td>\n",
       "      <td>NaN</td>\n",
       "      <td>NaN</td>\n",
       "      <td>NaN</td>\n",
       "      <td>NaN</td>\n",
       "      <td>NaN</td>\n",
       "      <td>NaN</td>\n",
       "    </tr>\n",
       "    <tr>\n",
       "      <th>4</th>\n",
       "      <td>100017202</td>\n",
       "      <td>Sale</td>\n",
       "      <td>02:48:15PM Sat</td>\n",
       "      <td>Dec 29, 2018</td>\n",
       "      <td>Dec 23, 2018</td>\n",
       "      <td>Candyce Williams Glaser</td>\n",
       "      <td>Candyce Williams Glaser</td>\n",
       "      <td>$702.00</td>\n",
       "      <td>$0.00</td>\n",
       "      <td>$25.00</td>\n",
       "      <td>...</td>\n",
       "      <td>NaN</td>\n",
       "      <td>NaN</td>\n",
       "      <td>NaN</td>\n",
       "      <td>NaN</td>\n",
       "      <td>NaN</td>\n",
       "      <td>NaN</td>\n",
       "      <td>NaN</td>\n",
       "      <td>NaN</td>\n",
       "      <td>NaN</td>\n",
       "      <td>NaN</td>\n",
       "    </tr>\n",
       "  </tbody>\n",
       "</table>\n",
       "<p>5 rows × 55 columns</p>\n",
       "</div>"
      ],
      "text/plain": [
       "     Order # Transaction Type      Order Time    Order Date Delivery Date_x  \\\n",
       "0  100017453             Sale  03:28:16PM Sat  Dec 29, 2018    Dec 29, 2018   \n",
       "1  100017452             Sale  03:16:50PM Sat  Dec 29, 2018    Dec 29, 2018   \n",
       "2  100017451             Sale  02:58:53PM Sat  Dec 29, 2018    Dec 29, 2018   \n",
       "3  100017450             Sale  02:54:45PM Sat  Dec 29, 2018    Dec 29, 2018   \n",
       "4  100017202             Sale  02:48:15PM Sat  Dec 29, 2018    Dec 23, 2018   \n",
       "\n",
       "                    Sender                Recipient Product Total Delivery_x  \\\n",
       "0  Candyce Williams Glaser                      NaN       $815.00      $0.00   \n",
       "1                      NaN                      NaN       $249.90      $0.00   \n",
       "2                      NaN                      NaN        $24.95      $0.00   \n",
       "3          Tracie Hamilton                      NaN       $635.00      $0.00   \n",
       "4  Candyce Williams Glaser  Candyce Williams Glaser       $702.00      $0.00   \n",
       "\n",
       "  Nontaxable Delivery  ... Billing State Billing Zip Subtotal Delivery_y  \\\n",
       "0               $0.00  ...           NaN         NaN      NaN        NaN   \n",
       "1               $0.00  ...           NaN         NaN      NaN        NaN   \n",
       "2               $0.00  ...           NaN         NaN      NaN        NaN   \n",
       "3               $0.00  ...           NaN         NaN      NaN        NaN   \n",
       "4              $25.00  ...           NaN         NaN      NaN        NaN   \n",
       "\n",
       "  Sale Tax Tip Discount_y Grand Total_y Tax Exempt Payment Method_y  \n",
       "0      NaN NaN        NaN           NaN        NaN              NaN  \n",
       "1      NaN NaN        NaN           NaN        NaN              NaN  \n",
       "2      NaN NaN        NaN           NaN        NaN              NaN  \n",
       "3      NaN NaN        NaN           NaN        NaN              NaN  \n",
       "4      NaN NaN        NaN           NaN        NaN              NaN  \n",
       "\n",
       "[5 rows x 55 columns]"
      ]
     },
     "execution_count": 3,
     "metadata": {},
     "output_type": "execute_result"
    }
   ],
   "source": [
    "GDS.head()"
   ]
  },
  {
   "cell_type": "markdown",
   "id": "fc969a11",
   "metadata": {},
   "source": [
    "# **Data Exploration**"
   ]
  },
  {
   "cell_type": "code",
   "execution_count": 4,
   "id": "d5429309",
   "metadata": {},
   "outputs": [
    {
     "data": {
      "text/plain": [
       "1879164"
      ]
     },
     "execution_count": 4,
     "metadata": {},
     "output_type": "execute_result"
    }
   ],
   "source": [
    "GDS.isna().sum().sum()"
   ]
  },
  {
   "cell_type": "code",
   "execution_count": 5,
   "id": "39c7e28f",
   "metadata": {
    "scrolled": false
   },
   "outputs": [
    {
     "name": "stdout",
     "output_type": "stream",
     "text": [
      "<class 'pandas.core.frame.DataFrame'>\n",
      "RangeIndex: 52916 entries, 0 to 52915\n",
      "Data columns (total 55 columns):\n",
      " #   Column                 Non-Null Count  Dtype  \n",
      "---  ------                 --------------  -----  \n",
      " 0   Order #                52916 non-null  int64  \n",
      " 1   Transaction Type       47467 non-null  object \n",
      " 2   Order Time             47467 non-null  object \n",
      " 3   Order Date             47467 non-null  object \n",
      " 4   Delivery Date_x        47458 non-null  object \n",
      " 5   Sender                 28135 non-null  object \n",
      " 6   Recipient              21933 non-null  object \n",
      " 7   Product Total          47467 non-null  object \n",
      " 8   Delivery_x             47467 non-null  object \n",
      " 9   Nontaxable Delivery    47467 non-null  object \n",
      " 10  Wire Out Fee           47467 non-null  object \n",
      " 11  Discount_x             47467 non-null  object \n",
      " 12  Gift Cards             47467 non-null  object \n",
      " 13  Tax                    47467 non-null  object \n",
      " 14  Tips                   47467 non-null  object \n",
      " 15  Grand Total_x          47467 non-null  object \n",
      " 16  Payment Method_x       47467 non-null  object \n",
      " 17  Order Type             47276 non-null  object \n",
      " 18  Order Method           47467 non-null  object \n",
      " 19  Order Source           5449 non-null   object \n",
      " 20  Sale Date              5449 non-null   object \n",
      " 21  Delivery Date_y        5449 non-null   object \n",
      " 22  Order Status           5449 non-null   object \n",
      " 23  Delivery Method        5449 non-null   object \n",
      " 24  Product Name           5449 non-null   object \n",
      " 25  Item Number            138 non-null    object \n",
      " 26  Card Message           5245 non-null   object \n",
      " 27  Card Signature         2917 non-null   object \n",
      " 28  Occasion               4808 non-null   object \n",
      " 29  Customer Name          5449 non-null   object \n",
      " 30  Customer Phone         5449 non-null   object \n",
      " 31  Customer Email         5420 non-null   object \n",
      " 32  Recipient Name         5449 non-null   object \n",
      " 33  Recipient Phone        5449 non-null   object \n",
      " 34  Delivery Street        5449 non-null   object \n",
      " 35  Delivery Street 2      0 non-null      float64\n",
      " 36  Delivery City          5449 non-null   object \n",
      " 37  Delivery State         5449 non-null   object \n",
      " 38  Delivery Zip           5449 non-null   float64\n",
      " 39  Delivery Address Type  5449 non-null   object \n",
      " 40  Billing Name           5449 non-null   object \n",
      " 41  Billing Phone          5449 non-null   object \n",
      " 42  Billing Street         5449 non-null   object \n",
      " 43  Billing Street 2       0 non-null      float64\n",
      " 44  Billing City           5449 non-null   object \n",
      " 45  Billing State          5412 non-null   object \n",
      " 46  Billing Zip            5449 non-null   object \n",
      " 47  Subtotal               5449 non-null   float64\n",
      " 48  Delivery_y             5449 non-null   float64\n",
      " 49  Sale Tax               5449 non-null   float64\n",
      " 50  Tip                    3303 non-null   float64\n",
      " 51  Discount_y             5449 non-null   float64\n",
      " 52  Grand Total_y          5449 non-null   float64\n",
      " 53  Tax Exempt             43 non-null     float64\n",
      " 54  Payment Method_y       5449 non-null   object \n",
      "dtypes: float64(10), int64(1), object(44)\n",
      "memory usage: 22.2+ MB\n"
     ]
    }
   ],
   "source": [
    "GDS.info()"
   ]
  },
  {
   "cell_type": "code",
   "execution_count": 6,
   "id": "1108d8da",
   "metadata": {},
   "outputs": [
    {
     "name": "stdout",
     "output_type": "stream",
     "text": [
      "Delivered              5022\n",
      "Accepted                275\n",
      "Canceled                104\n",
      "Out for Delivery         35\n",
      "Arrangement Created      11\n",
      "Processing                2\n",
      "Name: Order Status, dtype: int64\n"
     ]
    }
   ],
   "source": [
    "# Order status Value counts\n",
    "Ors= GDS['Order Status'].value_counts()\n",
    "print(Ors)\n",
    "# decide what to do about canceled"
   ]
  },
  {
   "cell_type": "code",
   "execution_count": 7,
   "id": "b87c6163",
   "metadata": {
    "scrolled": true
   },
   "outputs": [
    {
     "name": "stdout",
     "output_type": "stream",
     "text": [
      "N/A|N/A                                119\n",
      "N/A|N/A|N/A                             17\n",
      "N/A|N/A|N/A|N/A|N/A|N/A|N/A|N/A|N/A      1\n",
      "N/A|N/A|N/A|N/A|N/A                      1\n",
      "Name: Item Number, dtype: int64\n"
     ]
    }
   ],
   "source": [
    "#Item number is irrelevant\n",
    "IN= GDS['Item Number'].value_counts()\n",
    "print(IN)"
   ]
  },
  {
   "cell_type": "code",
   "execution_count": 8,
   "id": "dbd929b3",
   "metadata": {},
   "outputs": [
    {
     "name": "stdout",
     "output_type": "stream",
     "text": [
      "[          nan 1.5815383e+09]\n"
     ]
    }
   ],
   "source": [
    "# Tax Exept has no valuable information\n",
    "TE= GDS['Tax Exempt'].unique()\n",
    "print(TE)"
   ]
  },
  {
   "cell_type": "code",
   "execution_count": 9,
   "id": "fb5f940e",
   "metadata": {
    "scrolled": true
   },
   "outputs": [
    {
     "name": "stdout",
     "output_type": "stream",
     "text": [
      "0.0    5449\n",
      "Name: Discount_y, dtype: int64\n"
     ]
    }
   ],
   "source": [
    "# Irrelevant data\n",
    "g1= GDS['Discount_y'].value_counts()\n",
    "print(g1)"
   ]
  },
  {
   "cell_type": "markdown",
   "id": "38707a93",
   "metadata": {},
   "source": [
    "# **Fill nans with 0**"
   ]
  },
  {
   "cell_type": "code",
   "execution_count": 10,
   "id": "61b929b7",
   "metadata": {
    "scrolled": true
   },
   "outputs": [
    {
     "name": "stdout",
     "output_type": "stream",
     "text": [
      "[nan  0.]\n"
     ]
    }
   ],
   "source": [
    "Disy = GDS['Discount_y'].unique()\n",
    "GDS['Discount_y'] = GDS['Discount_y'].fillna(0, inplace = True)\n",
    "print(Disy)"
   ]
  },
  {
   "cell_type": "code",
   "execution_count": 11,
   "id": "dc40af80",
   "metadata": {},
   "outputs": [
    {
     "name": "stdout",
     "output_type": "stream",
     "text": [
      "['$0.00' '$11.95' '$14.95' '$24.95' '($24.95)' '$7.50' '$36.00' '$23.95'\n",
      " '$4.00' '$10.00' ' -$11.95' '$12.50' '$0.00 ' '$20.00' '$22.95' '$9.95'\n",
      " '($11.95)' '$11.95 ' '$14.95 ' '$22.95 ' '$22.50 ' '$6.00 ' '$20.00 '\n",
      " '$5.00 ' '$7.50 ' '$24.95 ' '$15.00 ' '$17.95 ' '$30.00 ' '$12.95 '\n",
      " '$25.00 ' '$45.00 ' '$28.95 ' '$7.69 ' '$29.95 ' '($14.95)' '$4.99 '\n",
      " '$10.00 ' '$18.95 ' '$8.00 ' '$5.95 ' '$19.95 ' '$18.00 ' '($18.95)'\n",
      " '$27.99 ' '$4.95 ' '$9.95 ' '$1.00 ' '$9.50 ' '$27.95 ' '$35.00 '\n",
      " '$9.99 ' nan]\n"
     ]
    }
   ],
   "source": [
    "Wire = GDS['Wire Out Fee'].unique()\n",
    "#GDS['Wire Out Fee'] = GDS['Wire Out Fee'].fillna(0, inplace = True)\n",
    "print(Wire)"
   ]
  },
  {
   "cell_type": "code",
   "execution_count": 12,
   "id": "5e4ad40e",
   "metadata": {},
   "outputs": [
    {
     "name": "stdout",
     "output_type": "stream",
     "text": [
      "['$0.00' ' -$124.96' ' -$54.85' ... '($95.38)' '($101.43)' nan]\n"
     ]
    }
   ],
   "source": [
    "Dis = GDS['Discount_x'].unique()\n",
    "GDS['Discount_x'] = GDS['Discount_x'].fillna(0, inplace = True)\n",
    "print(Dis)"
   ]
  },
  {
   "cell_type": "code",
   "execution_count": 13,
   "id": "e716c3f4",
   "metadata": {},
   "outputs": [
    {
     "name": "stdout",
     "output_type": "stream",
     "text": [
      "['$0.00' '$0.00 ' '$15.00 ' '$7.00 ' '$17.00 ' nan]\n"
     ]
    }
   ],
   "source": [
    "TIP = GDS['Tips'].unique()\n",
    "GDS['Tip'] = GDS['Tips'].fillna(0, inplace = True)\n",
    "print(TIP)"
   ]
  },
  {
   "cell_type": "code",
   "execution_count": 14,
   "id": "97c1b820",
   "metadata": {
    "scrolled": false
   },
   "outputs": [
    {
     "name": "stdout",
     "output_type": "stream",
     "text": [
      "['Sale' 'Adjustment' 'Refund' nan]\n"
     ]
    }
   ],
   "source": [
    "UQ = GDS['Transaction Type'].unique()\n",
    "print(UQ)\n",
    "# figure out what to put for nans here"
   ]
  },
  {
   "cell_type": "code",
   "execution_count": 15,
   "id": "e9da6c0d",
   "metadata": {
    "scrolled": false
   },
   "outputs": [
    {
     "name": "stdout",
     "output_type": "stream",
     "text": [
      "[nan 'Premium Site' 'Marketplace' 'F2F' 'Yelp']\n"
     ]
    }
   ],
   "source": [
    "OS = GDS['Order Source'].unique()\n",
    "print(OS)\n",
    "# Decide what to do about nan for Order source"
   ]
  },
  {
   "cell_type": "code",
   "execution_count": 16,
   "id": "ef23c2fa",
   "metadata": {
    "scrolled": true
   },
   "outputs": [
    {
     "name": "stdout",
     "output_type": "stream",
     "text": [
      "['Credit Card' 'Cash' 'Bloomnation' 'FSN'\n",
      " 'External Processor (Not Floranext)' 'Check / Money order' 'BBROOKS'\n",
      " 'Donation' 'Gift Certificate' 'Write Off' 'Wire Service' 'CFS' nan]\n"
     ]
    }
   ],
   "source": [
    "PM = GDS['Payment Method_x'].unique()\n",
    "print(PM)"
   ]
  },
  {
   "cell_type": "code",
   "execution_count": 17,
   "id": "d5002046",
   "metadata": {},
   "outputs": [
    {
     "name": "stdout",
     "output_type": "stream",
     "text": [
      "[nan 'Credit Card' 'F2f Payment' 'Bloom Yelpbiz']\n"
     ]
    }
   ],
   "source": [
    "PM = GDS['Payment Method_y'].unique()\n",
    "print(PM)"
   ]
  },
  {
   "cell_type": "code",
   "execution_count": 18,
   "id": "e41153e3",
   "metadata": {
    "scrolled": true
   },
   "outputs": [
    {
     "name": "stdout",
     "output_type": "stream",
     "text": [
      "Consolidated Funeral Services, Inc.    941\n",
      "Anka Brazzell                          275\n",
      "Candyce Williams Glaser                266\n",
      "Wild Root Florist                      252\n",
      "BLOOM NATION                           219\n",
      "                                      ... \n",
      "Lynn Lowe                                1\n",
      "HENRY G DAVIS                            1\n",
      "Mary Atkins                              1\n",
      "Julie Schmader                           1\n",
      "Darcy Bomer                              1\n",
      "Name: Sender, Length: 11032, dtype: int64\n"
     ]
    }
   ],
   "source": [
    "SDC = GDS['Sender'].value_counts()\n",
    "print(SDC)"
   ]
  },
  {
   "cell_type": "code",
   "execution_count": 19,
   "id": "407bb1c3",
   "metadata": {
    "scrolled": false
   },
   "outputs": [
    {
     "name": "stdout",
     "output_type": "stream",
     "text": [
      "Birthday                         1220\n",
      "Sympathy and Funeral              835\n",
      "Mother's Day                      502\n",
      "Just Because                      405\n",
      "Get Well                          398\n",
      "Thank You                         295\n",
      "Valentine's Day                   232\n",
      "Anniversary                       222\n",
      "Congrats                          193\n",
      "Christmas                         101\n",
      "Love and Romance                   78\n",
      "New Baby                           67\n",
      "I'm Sorry                          60\n",
      "Easter and Passover                45\n",
      "Thanksgiving                       28\n",
      "Wedding                            22\n",
      "Admin Professionals' Week          21\n",
      "Prom                               12\n",
      "Autumn                              9\n",
      "Father's Day                        9\n",
      "Summer                              8\n",
      "Best Friends Day                    7\n",
      "Spring                              6\n",
      "New Year                            6\n",
      "Graduation                          6\n",
      "Holiday                             5\n",
      "Women's Day                         4\n",
      "Winter                              3\n",
      "Halloween                           1\n",
      "Grandparent's Day                   1\n",
      "Breast Cancer Awareness Month       1\n",
      "Flower Crown                        1\n",
      "Parent's Day                        1\n",
      "Persian New Year                    1\n",
      "Boss's Day                          1\n",
      "Gift Sets                           1\n",
      "Cinco De Mayo                       1\n",
      "Name: Occasion, dtype: int64\n"
     ]
    }
   ],
   "source": [
    "OC = GDS['Occasion'].value_counts()\n",
    "print(OC)\n",
    "#Look into getting rest of occasion value counts"
   ]
  },
  {
   "cell_type": "code",
   "execution_count": 20,
   "id": "09cbd6b9",
   "metadata": {},
   "outputs": [
    {
     "name": "stdout",
     "output_type": "stream",
     "text": [
      "$0.00       21841\n",
      "$12.00       4843\n",
      "$15.00       4091\n",
      "$0.00        4063\n",
      "$17.95       2437\n",
      "            ...  \n",
      "$31.00          1\n",
      "$53.24          1\n",
      "$195.00         1\n",
      "$10.46          1\n",
      "$11.49          1\n",
      "Name: Nontaxable Delivery, Length: 390, dtype: int64\n"
     ]
    }
   ],
   "source": [
    "#Nontaxable Delivery\n",
    "Nd = GDS['Nontaxable Delivery'].value_counts()\n",
    "print(Nd)"
   ]
  },
  {
   "cell_type": "code",
   "execution_count": 21,
   "id": "aba65575",
   "metadata": {
    "scrolled": true
   },
   "outputs": [
    {
     "name": "stdout",
     "output_type": "stream",
     "text": [
      "8-May-21        236\n",
      "7-May-22        215\n",
      "14-Feb-23       213\n",
      "11-May-19       203\n",
      "13-May-23       199\n",
      "               ... \n",
      "Dec 22, 2017      1\n",
      "Aug 10, 2017      1\n",
      "20-Mar-22         1\n",
      "Sep 30, 2018      1\n",
      "29-Sep-19         1\n",
      "Name: Delivery Date_x, Length: 1740, dtype: int64\n"
     ]
    }
   ],
   "source": [
    "DD1 = GDS['Delivery Date_x'].value_counts()\n",
    "print(DD1)"
   ]
  },
  {
   "cell_type": "code",
   "execution_count": 22,
   "id": "a02572cf",
   "metadata": {},
   "outputs": [
    {
     "name": "stdout",
     "output_type": "stream",
     "text": [
      "$0.00     39918\n",
      "$0.00      7549\n",
      "Name: Delivery_x, dtype: int64\n"
     ]
    }
   ],
   "source": [
    "Dee = GDS['Delivery_x'].value_counts()\n",
    "print(Dee)"
   ]
  },
  {
   "cell_type": "code",
   "execution_count": 23,
   "id": "322d8065",
   "metadata": {
    "scrolled": false
   },
   "outputs": [
    {
     "name": "stdout",
     "output_type": "stream",
     "text": [
      "          Order # Transaction Type      Order Time Order Date Delivery Date_x  \\\n",
      "44068  1000056974             Sale  10:48:12AM Tue   2-May-23             NaN   \n",
      "44124  1000056903             Sale  02:14:09PM Sat  29-Apr-23             NaN   \n",
      "44130  1000056898             Sale  01:02:18PM Sat  29-Apr-23             NaN   \n",
      "44522  1000056547             Sale  12:11:42PM Tue  18-Apr-23             NaN   \n",
      "44712  1000056390             Sale  11:40:21AM Thu  13-Apr-23             NaN   \n",
      "...           ...              ...             ...        ...             ...   \n",
      "52911  2749452849              NaN             NaN        NaN             NaN   \n",
      "52912  2553412309              NaN             NaN        NaN             NaN   \n",
      "52913  3540158661              NaN             NaN        NaN             NaN   \n",
      "52914  3591549621              NaN             NaN        NaN             NaN   \n",
      "52915  7662866077              NaN             NaN        NaN             NaN   \n",
      "\n",
      "            Sender Recipient Product Total Delivery_x Nontaxable Delivery  \\\n",
      "44068  LARK FOSTER       NaN      $215.70      $0.00               $0.00    \n",
      "44124          NaN       NaN       $50.00      $0.00               $0.00    \n",
      "44130          NaN       NaN       $24.95      $0.00               $0.00    \n",
      "44522          NaN       NaN        $2.50      $0.00               $0.00    \n",
      "44712          NaN       NaN      $196.85      $0.00               $0.00    \n",
      "...            ...       ...           ...        ...                 ...   \n",
      "52911          NaN       NaN           NaN        NaN                 NaN   \n",
      "52912          NaN       NaN           NaN        NaN                 NaN   \n",
      "52913          NaN       NaN           NaN        NaN                 NaN   \n",
      "52914          NaN       NaN           NaN        NaN                 NaN   \n",
      "52915          NaN       NaN           NaN        NaN                 NaN   \n",
      "\n",
      "       ...         Billing State Billing Zip Subtotal Delivery_y Sale Tax  \\\n",
      "44068  ...                   NaN         NaN      NaN        NaN      NaN   \n",
      "44124  ...                   NaN         NaN      NaN        NaN      NaN   \n",
      "44130  ...                   NaN         NaN      NaN        NaN      NaN   \n",
      "44522  ...                   NaN         NaN      NaN        NaN      NaN   \n",
      "44712  ...                   NaN         NaN      NaN        NaN      NaN   \n",
      "...    ...                   ...         ...      ...        ...      ...   \n",
      "52911  ...             Tennessee       37067    135.0      16.95    13.16   \n",
      "52912  ...               Florida       33067    400.0      12.95    39.00   \n",
      "52913  ...             Tennessee       37064    155.0      17.95    15.11   \n",
      "52914  ...  District of Columbia       20005     95.0      16.95     9.26   \n",
      "52915  ...  District of Columbia       20005     88.0      16.95     8.58   \n",
      "\n",
      "        Tip Discount_y Grand Total_y Tax Exempt Payment Method_y  \n",
      "44068  None       None           NaN        NaN              NaN  \n",
      "44124  None       None           NaN        NaN              NaN  \n",
      "44130  None       None           NaN        NaN              NaN  \n",
      "44522  None       None           NaN        NaN              NaN  \n",
      "44712  None       None           NaN        NaN              NaN  \n",
      "...     ...        ...           ...        ...              ...  \n",
      "52911  None       None        170.11        NaN      Credit Card  \n",
      "52912  None       None        531.95        NaN      Credit Card  \n",
      "52913  None       None        203.56        NaN      Credit Card  \n",
      "52914  None       None        130.71        NaN      Credit Card  \n",
      "52915  None       None        122.33        NaN      Credit Card  \n",
      "\n",
      "[5458 rows x 55 columns]\n"
     ]
    }
   ],
   "source": [
    "similar_dates = GDS[GDS['Delivery Date_x'].isin(GDS['Delivery Date_y'])]\n",
    "print(similar_dates)"
   ]
  },
  {
   "cell_type": "code",
   "execution_count": 24,
   "id": "88cd6076",
   "metadata": {
    "scrolled": true
   },
   "outputs": [
    {
     "name": "stdout",
     "output_type": "stream",
     "text": [
      "Not Provided          5362\n",
      "Residential             72\n",
      "Business                 7\n",
      "Funeral / Cemetery       3\n",
      "Hospital                 2\n",
      "Other                    2\n",
      "Place of Worship         1\n",
      "Name: Delivery Address Type, dtype: int64\n"
     ]
    }
   ],
   "source": [
    "DAT = GDS['Delivery Address Type'].value_counts()\n",
    "print(DAT)"
   ]
  },
  {
   "cell_type": "markdown",
   "id": "7edb1cf5",
   "metadata": {},
   "source": [
    "# **Cleaning Unecessary Symbols**"
   ]
  },
  {
   "cell_type": "code",
   "execution_count": 25,
   "id": "59c093a2",
   "metadata": {
    "scrolled": true
   },
   "outputs": [
    {
     "name": "stdout",
     "output_type": "stream",
     "text": [
      "$0.00       2688\n",
      "$7.31       1886\n",
      "$12.19      1854\n",
      "$9.75       1823\n",
      "$14.63      1421\n",
      "            ... \n",
      "$12.24         1\n",
      "($0.88)        1\n",
      "$27.07         1\n",
      "$123.83        1\n",
      "$1.98          1\n",
      "Name: Tax, Length: 4037, dtype: int64\n"
     ]
    }
   ],
   "source": [
    "#Taking out everything except numbers in the column\n",
    "xat = GDS['Tax'].value_counts()\n",
    "GDS['Tax'] = GDS['Tax'].str.replace('(', '').str.replace(')', '').str.replace('$', '')\n",
    "print(xat)"
   ]
  },
  {
   "cell_type": "code",
   "execution_count": 26,
   "id": "2ebb08b9",
   "metadata": {
    "scrolled": true
   },
   "outputs": [],
   "source": [
    "#Taking out everything except numbers in the column\n",
    "XAT = GDS['Tips'].value_counts()\n",
    "GDS['Tips'] = GDS['Tips'].str.replace('(', '').str.replace(')', '').str.replace('$', '')"
   ]
  },
  {
   "cell_type": "code",
   "execution_count": 27,
   "id": "bc987e69",
   "metadata": {},
   "outputs": [],
   "source": [
    "#Wire Out Fee\n",
    "WOF = GDS['Wire Out Fee'].value_counts()\n",
    "GDS['Wire Out Fee'] = GDS['Wire Out Fee'].str.replace('(', '').str.replace(')', '').str.replace('$', '').str.replace(',', '')"
   ]
  },
  {
   "cell_type": "code",
   "execution_count": 28,
   "id": "3977ad88",
   "metadata": {},
   "outputs": [],
   "source": [
    "#Grand Total_x\n",
    "GT = GDS['Grand Total_x'].value_counts()\n",
    "GDS['Grand Total_x'] = GDS['Grand Total_x'].str.replace('(', '').str.replace(')', '').str.replace('$', '').str.replace(',', '')"
   ]
  },
  {
   "cell_type": "code",
   "execution_count": 29,
   "id": "5e1fd69a",
   "metadata": {},
   "outputs": [],
   "source": [
    "#Nontaxable Delivery\n",
    "NT = GDS['Nontaxable Delivery'].value_counts()\n",
    "GDS['Nontaxable Delivery'] = GDS['Nontaxable Delivery'].str.replace('(', '').str.replace(')', '').str.replace('$', '').str.replace(',', '')"
   ]
  },
  {
   "cell_type": "code",
   "execution_count": 30,
   "id": "26ea36ec",
   "metadata": {},
   "outputs": [],
   "source": [
    "DAT = GDS['Product Total'].value_counts()\n",
    "GDS['Product Total'] = GDS['Product Total'].str.replace('(', '').str.replace(')', '').str.replace('$', '').str.replace(',', '')"
   ]
  },
  {
   "cell_type": "code",
   "execution_count": 31,
   "id": "bc7bfa0a",
   "metadata": {},
   "outputs": [],
   "source": [
    "DAT = GDS['Gift Cards'].value_counts()\n",
    "GDS['Gift Cards'] = GDS['Gift Cards'].str.replace('(', '').str.replace(')', '').str.replace('$', '')"
   ]
  },
  {
   "cell_type": "code",
   "execution_count": 32,
   "id": "f19be494",
   "metadata": {},
   "outputs": [
    {
     "name": "stdout",
     "output_type": "stream",
     "text": [
      "<class 'pandas.core.frame.DataFrame'>\n",
      "RangeIndex: 52916 entries, 0 to 52915\n",
      "Data columns (total 30 columns):\n",
      " #   Column               Non-Null Count  Dtype  \n",
      "---  ------               --------------  -----  \n",
      " 0   Order #              52916 non-null  int64  \n",
      " 1   Transaction Type     47467 non-null  object \n",
      " 2   Order Time           47467 non-null  object \n",
      " 3   Order Date           47467 non-null  object \n",
      " 4   Delivery Date_x      47458 non-null  object \n",
      " 5   Sender               28135 non-null  object \n",
      " 6   Recipient            21933 non-null  object \n",
      " 7   Product Total        47467 non-null  object \n",
      " 8   Nontaxable Delivery  47467 non-null  object \n",
      " 9   Wire Out Fee         47467 non-null  object \n",
      " 10  Gift Cards           47467 non-null  object \n",
      " 11  Tax                  47467 non-null  object \n",
      " 12  Tips                 47467 non-null  object \n",
      " 13  Grand Total_x        47467 non-null  object \n",
      " 14  Payment Method_x     47467 non-null  object \n",
      " 15  Order Type           47276 non-null  object \n",
      " 16  Order Method         47467 non-null  object \n",
      " 17  Order Source         5449 non-null   object \n",
      " 18  Sale Date            5449 non-null   object \n",
      " 19  Order Status         5449 non-null   object \n",
      " 20  Delivery Method      5449 non-null   object \n",
      " 21  Product Name         5449 non-null   object \n",
      " 22  Occasion             4808 non-null   object \n",
      " 23  Customer Name        5449 non-null   object \n",
      " 24  Recipient Name       5449 non-null   object \n",
      " 25  Delivery Street      5449 non-null   object \n",
      " 26  Delivery City        5449 non-null   object \n",
      " 27  Delivery State       5449 non-null   object \n",
      " 28  Delivery Zip         5449 non-null   float64\n",
      " 29  Subtotal             5449 non-null   float64\n",
      "dtypes: float64(2), int64(1), object(27)\n",
      "memory usage: 12.1+ MB\n"
     ]
    }
   ],
   "source": [
    "columns_to_drop = ['Delivery Street 2','Billing Street 2', 'Delivery_x', 'Delivery_y', 'Discount_y', 'Discount_x', 'Card Signature', \n",
    "                   'Card Message', 'Tip','Customer Email', 'Customer Phone', 'Delivery Address Type', 'Tax Exempt', 'Grand Total_y', \n",
    "                   'Item Number', 'Billing Phone', 'Delivery Date_y', 'Payment Method_y', 'Sale Tax', 'Billing Name', \n",
    "                   'Billing Street', 'Billing City', 'Billing State', 'Billing Zip', 'Recipient Phone']\n",
    "df = GDS.drop(columns_to_drop, axis= 1)\n",
    "df.info()"
   ]
  },
  {
   "cell_type": "markdown",
   "id": "a4383221",
   "metadata": {},
   "source": [
    "# **Changing Data Types**"
   ]
  },
  {
   "cell_type": "code",
   "execution_count": 33,
   "id": "65abcde7",
   "metadata": {},
   "outputs": [],
   "source": [
    "# Changing Data Types\n",
    "df['Gift Cards'] = df['Gift Cards'].astype(float)\n",
    "df['Tax'] = df['Tax'].astype(float)\n",
    "df['Tips'] = df['Tips'].astype(float)\n",
    "df['Grand Total_x'] = df['Grand Total_x'].astype(float)\n",
    "df['Product Total'] = df['Product Total'].astype(float)\n",
    "df['Wire Out Fee'] = df['Wire Out Fee'].astype(float)\n",
    "df['Nontaxable Delivery'] = df['Nontaxable Delivery'].astype(float)\n",
    "df['Order Date'] = pd.to_datetime(df['Order Date'])\n",
    "df['Delivery Date_x'] = pd.to_datetime(df['Delivery Date_x'])\n",
    "df['Order Time'] = pd.to_datetime(df['Order Time'])\n",
    "df['Sale Date'] = pd.to_datetime(df['Sale Date'])"
   ]
  },
  {
   "cell_type": "code",
   "execution_count": 34,
   "id": "a5ebc2a7",
   "metadata": {},
   "outputs": [
    {
     "name": "stdout",
     "output_type": "stream",
     "text": [
      "<class 'pandas.core.frame.DataFrame'>\n",
      "RangeIndex: 52916 entries, 0 to 52915\n",
      "Data columns (total 30 columns):\n",
      " #   Column               Non-Null Count  Dtype         \n",
      "---  ------               --------------  -----         \n",
      " 0   Order #              52916 non-null  int64         \n",
      " 1   Transaction Type     47467 non-null  object        \n",
      " 2   Order Time           47467 non-null  datetime64[ns]\n",
      " 3   Order Date           47467 non-null  datetime64[ns]\n",
      " 4   Delivery Date_x      47458 non-null  datetime64[ns]\n",
      " 5   Sender               28135 non-null  object        \n",
      " 6   Recipient            21933 non-null  object        \n",
      " 7   Product Total        47467 non-null  float64       \n",
      " 8   Nontaxable Delivery  47467 non-null  float64       \n",
      " 9   Wire Out Fee         47467 non-null  float64       \n",
      " 10  Gift Cards           47467 non-null  float64       \n",
      " 11  Tax                  47467 non-null  float64       \n",
      " 12  Tips                 47467 non-null  float64       \n",
      " 13  Grand Total_x        47467 non-null  float64       \n",
      " 14  Payment Method_x     47467 non-null  object        \n",
      " 15  Order Type           47276 non-null  object        \n",
      " 16  Order Method         47467 non-null  object        \n",
      " 17  Order Source         5449 non-null   object        \n",
      " 18  Sale Date            5449 non-null   datetime64[ns]\n",
      " 19  Order Status         5449 non-null   object        \n",
      " 20  Delivery Method      5449 non-null   object        \n",
      " 21  Product Name         5449 non-null   object        \n",
      " 22  Occasion             4808 non-null   object        \n",
      " 23  Customer Name        5449 non-null   object        \n",
      " 24  Recipient Name       5449 non-null   object        \n",
      " 25  Delivery Street      5449 non-null   object        \n",
      " 26  Delivery City        5449 non-null   object        \n",
      " 27  Delivery State       5449 non-null   object        \n",
      " 28  Delivery Zip         5449 non-null   float64       \n",
      " 29  Subtotal             5449 non-null   float64       \n",
      "dtypes: datetime64[ns](4), float64(9), int64(1), object(16)\n",
      "memory usage: 12.1+ MB\n"
     ]
    }
   ],
   "source": [
    "df.info()"
   ]
  },
  {
   "cell_type": "code",
   "execution_count": 35,
   "id": "2547c97f",
   "metadata": {},
   "outputs": [
    {
     "data": {
      "text/plain": [
       "749962"
      ]
     },
     "execution_count": 35,
     "metadata": {},
     "output_type": "execute_result"
    }
   ],
   "source": [
    "df.isna().sum().sum()"
   ]
  },
  {
   "cell_type": "code",
   "execution_count": null,
   "id": "08501767",
   "metadata": {},
   "outputs": [],
   "source": []
  },
  {
   "cell_type": "code",
   "execution_count": null,
   "id": "1e6d0853",
   "metadata": {},
   "outputs": [],
   "source": []
  },
  {
   "cell_type": "code",
   "execution_count": null,
   "id": "18f33a04",
   "metadata": {},
   "outputs": [],
   "source": []
  },
  {
   "cell_type": "code",
   "execution_count": null,
   "id": "afce9007",
   "metadata": {},
   "outputs": [],
   "source": []
  },
  {
   "cell_type": "code",
   "execution_count": null,
   "id": "4f3da7b3",
   "metadata": {},
   "outputs": [],
   "source": []
  },
  {
   "cell_type": "code",
   "execution_count": null,
   "id": "b8e075f9",
   "metadata": {},
   "outputs": [],
   "source": []
  }
 ],
 "metadata": {
  "kernelspec": {
   "display_name": "Python (dojo-env)",
   "language": "python",
   "name": "dojo-env"
  },
  "language_info": {
   "codemirror_mode": {
    "name": "ipython",
    "version": 3
   },
   "file_extension": ".py",
   "mimetype": "text/x-python",
   "name": "python",
   "nbconvert_exporter": "python",
   "pygments_lexer": "ipython3",
   "version": "3.9.15"
  },
  "toc": {
   "base_numbering": 1,
   "nav_menu": {},
   "number_sections": false,
   "sideBar": true,
   "skip_h1_title": false,
   "title_cell": "Table of Contents",
   "title_sidebar": "Contents",
   "toc_cell": false,
   "toc_position": {
    "height": "calc(100% - 180px)",
    "left": "10px",
    "top": "150px",
    "width": "215.824px"
   },
   "toc_section_display": true,
   "toc_window_display": false
  }
 },
 "nbformat": 4,
 "nbformat_minor": 5
}
