{
 "cells": [
  {
   "cell_type": "markdown",
   "id": "296b639f",
   "metadata": {},
   "source": [
    "# **Floral Tableau Visualizations**"
   ]
  },
  {
   "cell_type": "code",
   "execution_count": 1,
   "id": "d4eaeb56",
   "metadata": {},
   "outputs": [],
   "source": [
    "#Numpy\n",
    "import numpy as np\n",
    "from numpy import median\n",
    "\n",
    "#Pandas\n",
    "import pandas as pd\n",
    "\n",
    "#Seaborn\n",
    "import seaborn as sns\n",
    "\n",
    "#matplotlib\n",
    "import matplotlib.pyplot as plt\n",
    "import plotly\n",
    "\n",
    "#Sklearn\n",
    "from sklearn.decomposition import PCA\n",
    "from sklearn.preprocessing import StandardScaler, OneHotEncoder\n",
    "from sklearn.model_selection import GridSearchCV, train_test_split\n",
    "from sklearn.compose import make_column_selector, make_column_transformer\n",
    "from sklearn.impute import SimpleImputer\n",
    "from sklearn.pipeline import make_pipeline\n",
    "from sklearn.linear_model import LinearRegression\n",
    "from sklearn.ensemble import RandomForestRegressor, GradientBoostingRegressor\n",
    "from sklearn.neighbors import KNeighborsRegressor\n",
    "from sklearn.tree import DecisionTreeRegressor\n",
    "import tensorflow as tf\n",
    "import tensorflow.keras as keras\n",
    "from keras.models import Sequential\n",
    "from keras.layers import Dense, Dropout\n",
    "from tensorflow.keras.metrics import RootMeanSquaredError\n",
    "from sklearn import metrics\n",
    "from sklearn.metrics import mean_squared_error, mean_absolute_error, r2_score\n",
    "import lightgbm as lgb\n",
    "\n",
    "# Set Random seeds for consistent outcomes\n",
    "keras.backend.clear_session()\n",
    "np.random.seed(42)\n",
    "tf.random.set_seed(42)\n",
    "\n",
    "#Scipy\n",
    "from scipy.sparse import csr_matrix\n",
    "\n",
    "#Warnings\n",
    "import warnings\n",
    "warnings.filterwarnings(\"ignore\")"
   ]
  },
  {
   "cell_type": "code",
   "execution_count": null,
   "id": "9021be6c",
   "metadata": {},
   "outputs": [],
   "source": []
  },
  {
   "cell_type": "markdown",
   "id": "f1e2dc34",
   "metadata": {},
   "source": [
    "Embedding Tableau visualizations in your GitHub README using the %%html magic command is a good way to showcase your work, but you're right that it might not provide the best user experience. To make it look cleaner and more interactive, you can consider using GitHub Pages along with some additional techniques. Here's a step-by-step guide:\n",
    "\n",
    "GitHub Pages:\n",
    "GitHub Pages allows you to host a website directly from your GitHub repository. This is a cleaner way to showcase your Tableau visualization and provide an interactive experience.\n",
    "\n",
    "Create a new branch in your repository called gh-pages. This is where your GitHub Pages content will reside.\n",
    "Create an index.html file in the root of the gh-pages branch.\n",
    "Inside the index.html file, use the Tableau Embed Code as you did before.\n",
    "Customizing the Page:\n",
    "You can enhance the appearance and interactivity by using HTML, CSS, and JavaScript. For example:\n",
    "\n",
    "Style the page using CSS to make it visually appealing.\n",
    "Add some instructions or a brief description of the visualization.\n",
    "Optionally, you can use JavaScript to add interactivity, like filters or tooltips.\n",
    "Embed Code:\n",
    "To embed your Tableau visualization, you'll need to modify the Tableau embed code to ensure it fits within the GitHub Pages context.\n",
    "\n",
    "Copy the modified Tableau embed code.\n",
    "Paste it inside your index.html file.\n",
    "Commit and Push:\n",
    "After you've made the necessary changes to the gh-pages branch, commit your changes and push them to GitHub.\n",
    "\n",
    "Accessing the Visualization:\n",
    "Your Tableau visualization will be accessible via a URL like: https://yourusername.github.io/your-repository/."
   ]
  },
  {
   "cell_type": "code",
   "execution_count": 2,
   "id": "211edbec",
   "metadata": {},
   "outputs": [
    {
     "data": {
      "text/html": [
       "<div class='tableauPlaceholder' id='viz1692320040992' style='position: relative'><noscript><a href='#'><img alt='Grand Total By Month ' src='https:&#47;&#47;public.tableau.com&#47;static&#47;images&#47;Fl&#47;Floral_Data_Visualizations-paymentmethodbyyear&#47;Sheet1&#47;1_rss.png' style='border: none' /></a></noscript><object class='tableauViz'  style='display:none;'><param name='host_url' value='https%3A%2F%2Fpublic.tableau.com%2F' /> <param name='embed_code_version' value='3' /> <param name='site_root' value='' /><param name='name' value='Floral_Data_Visualizations-paymentmethodbyyear&#47;Sheet1' /><param name='tabs' value='no' /><param name='toolbar' value='yes' /><param name='static_image' value='https:&#47;&#47;public.tableau.com&#47;static&#47;images&#47;Fl&#47;Floral_Data_Visualizations-paymentmethodbyyear&#47;Sheet1&#47;1.png' /> <param name='animate_transition' value='yes' /><param name='display_static_image' value='yes' /><param name='display_spinner' value='yes' /><param name='display_overlay' value='yes' /><param name='display_count' value='yes' /><param name='language' value='en-US' /><param name='filter' value='publish=yes' /></object></div>                <script type='text/javascript'>                    var divElement = document.getElementById('viz1692320040992');                    var vizElement = divElement.getElementsByTagName('object')[0];                    vizElement.style.width='100%';vizElement.style.height=(divElement.offsetWidth*0.75)+'px';                    var scriptElement = document.createElement('script');                    scriptElement.src = 'https://public.tableau.com/javascripts/api/viz_v1.js';                    vizElement.parentNode.insertBefore(scriptElement, vizElement);                </script>\n"
      ],
      "text/plain": [
       "<IPython.core.display.HTML object>"
      ]
     },
     "metadata": {},
     "output_type": "display_data"
    }
   ],
   "source": [
    "%%html\n",
    "<div class='tableauPlaceholder' id='viz1692320040992' style='position: relative'><noscript><a href='#'><img alt='Grand Total By Month ' src='https:&#47;&#47;public.tableau.com&#47;static&#47;images&#47;Fl&#47;Floral_Data_Visualizations-paymentmethodbyyear&#47;Sheet1&#47;1_rss.png' style='border: none' /></a></noscript><object class='tableauViz'  style='display:none;'><param name='host_url' value='https%3A%2F%2Fpublic.tableau.com%2F' /> <param name='embed_code_version' value='3' /> <param name='site_root' value='' /><param name='name' value='Floral_Data_Visualizations-paymentmethodbyyear&#47;Sheet1' /><param name='tabs' value='no' /><param name='toolbar' value='yes' /><param name='static_image' value='https:&#47;&#47;public.tableau.com&#47;static&#47;images&#47;Fl&#47;Floral_Data_Visualizations-paymentmethodbyyear&#47;Sheet1&#47;1.png' /> <param name='animate_transition' value='yes' /><param name='display_static_image' value='yes' /><param name='display_spinner' value='yes' /><param name='display_overlay' value='yes' /><param name='display_count' value='yes' /><param name='language' value='en-US' /><param name='filter' value='publish=yes' /></object></div>                <script type='text/javascript'>                    var divElement = document.getElementById('viz1692320040992');                    var vizElement = divElement.getElementsByTagName('object')[0];                    vizElement.style.width='100%';vizElement.style.height=(divElement.offsetWidth*0.75)+'px';                    var scriptElement = document.createElement('script');                    scriptElement.src = 'https://public.tableau.com/javascripts/api/viz_v1.js';                    vizElement.parentNode.insertBefore(scriptElement, vizElement);                </script>"
   ]
  }
 ],
 "metadata": {
  "kernelspec": {
   "display_name": "Python (dojo-env)",
   "language": "python",
   "name": "dojo-env"
  },
  "language_info": {
   "codemirror_mode": {
    "name": "ipython",
    "version": 3
   },
   "file_extension": ".py",
   "mimetype": "text/x-python",
   "name": "python",
   "nbconvert_exporter": "python",
   "pygments_lexer": "ipython3",
   "version": "3.9.15"
  },
  "toc": {
   "base_numbering": 1,
   "nav_menu": {},
   "number_sections": false,
   "sideBar": true,
   "skip_h1_title": false,
   "title_cell": "Table of Contents",
   "title_sidebar": "Contents",
   "toc_cell": false,
   "toc_position": {},
   "toc_section_display": true,
   "toc_window_display": true
  }
 },
 "nbformat": 4,
 "nbformat_minor": 5
}
