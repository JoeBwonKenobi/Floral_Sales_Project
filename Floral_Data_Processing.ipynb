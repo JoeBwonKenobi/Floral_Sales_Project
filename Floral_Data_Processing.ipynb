{
 "cells": [
  {
   "cell_type": "markdown",
   "id": "b767f6ec",
   "metadata": {},
   "source": [
    "# Floral Data Processing"
   ]
  },
  {
   "cell_type": "markdown",
   "id": "9e02cb2b",
   "metadata": {},
   "source": [
    "# **Imports**"
   ]
  },
  {
   "cell_type": "code",
   "execution_count": 1,
   "id": "797f1d83",
   "metadata": {},
   "outputs": [],
   "source": [
    "#Numpy\n",
    "import numpy as np\n",
    "from numpy import median\n",
    "\n",
    "#Pandas\n",
    "import pandas as pd\n",
    "\n",
    "#Seaborn\n",
    "import seaborn as sns\n",
    "\n",
    "#matplotlib\n",
    "import matplotlib.pyplot as plt\n",
    "import plotly\n",
    "\n",
    "#Sklearn\n",
    "from sklearn.preprocessing import StandardScaler\n",
    "from sklearn.preprocessing import OneHotEncoder\n",
    "from sklearn.model_selection import train_test_split\n",
    "from sklearn.compose import make_column_selector\n",
    "from sklearn.compose import make_column_transformer\n",
    "from sklearn.impute import SimpleImputer\n",
    "from sklearn.pipeline import make_pipeline\n",
    "\n",
    "#Warnings\n",
    "import warnings\n",
    "warnings.filterwarnings(\"ignore\")"
   ]
  },
  {
   "cell_type": "markdown",
   "id": "19b79bb2",
   "metadata": {},
   "source": [
    "# **Loading Data**"
   ]
  },
  {
   "cell_type": "code",
   "execution_count": 2,
   "id": "da3879a6",
   "metadata": {},
   "outputs": [],
   "source": [
    "#Loading in the data from the previous notebook\n",
    "GDS = pd.read_csv('GDS')"
   ]
  },
  {
   "cell_type": "code",
   "execution_count": 3,
   "id": "58ec9149",
   "metadata": {},
   "outputs": [
    {
     "name": "stdout",
     "output_type": "stream",
     "text": [
      "<class 'pandas.core.frame.DataFrame'>\n",
      "RangeIndex: 49376 entries, 0 to 49375\n",
      "Data columns (total 19 columns):\n",
      " #   Column               Non-Null Count  Dtype \n",
      "---  ------               --------------  ----- \n",
      " 0   Order #              49376 non-null  object\n",
      " 1   Transaction Type     49376 non-null  object\n",
      " 2   Order Time           49376 non-null  object\n",
      " 3   Order Date           49376 non-null  object\n",
      " 4   Delivery Date        49355 non-null  object\n",
      " 5   Sender               30039 non-null  object\n",
      " 6   Recipient            23570 non-null  object\n",
      " 7   Product Total        49369 non-null  object\n",
      " 8   Delivery             49364 non-null  object\n",
      " 9   Nontaxable Delivery  49364 non-null  object\n",
      " 10  Wire Out Fee         49250 non-null  object\n",
      " 11  Discount             49250 non-null  object\n",
      " 12  Gift Cards           49250 non-null  object\n",
      " 13  Tax                  49364 non-null  object\n",
      " 14  Tips                 49250 non-null  object\n",
      " 15  Grand Total          49376 non-null  object\n",
      " 16  Payment Method       49376 non-null  object\n",
      " 17  Order Type           49059 non-null  object\n",
      " 18  Order Method         49250 non-null  object\n",
      "dtypes: object(19)\n",
      "memory usage: 7.2+ MB\n"
     ]
    }
   ],
   "source": [
    "GDS.info()"
   ]
  },
  {
   "cell_type": "code",
   "execution_count": 4,
   "id": "fdb2e264",
   "metadata": {
    "scrolled": true
   },
   "outputs": [
    {
     "data": {
      "text/html": [
       "<div>\n",
       "<style scoped>\n",
       "    .dataframe tbody tr th:only-of-type {\n",
       "        vertical-align: middle;\n",
       "    }\n",
       "\n",
       "    .dataframe tbody tr th {\n",
       "        vertical-align: top;\n",
       "    }\n",
       "\n",
       "    .dataframe thead th {\n",
       "        text-align: right;\n",
       "    }\n",
       "</style>\n",
       "<table border=\"1\" class=\"dataframe\">\n",
       "  <thead>\n",
       "    <tr style=\"text-align: right;\">\n",
       "      <th></th>\n",
       "      <th>Order #</th>\n",
       "      <th>Transaction Type</th>\n",
       "      <th>Order Time</th>\n",
       "      <th>Order Date</th>\n",
       "      <th>Delivery Date</th>\n",
       "      <th>Sender</th>\n",
       "      <th>Recipient</th>\n",
       "      <th>Product Total</th>\n",
       "      <th>Delivery</th>\n",
       "      <th>Nontaxable Delivery</th>\n",
       "      <th>Wire Out Fee</th>\n",
       "      <th>Discount</th>\n",
       "      <th>Gift Cards</th>\n",
       "      <th>Tax</th>\n",
       "      <th>Tips</th>\n",
       "      <th>Grand Total</th>\n",
       "      <th>Payment Method</th>\n",
       "      <th>Order Type</th>\n",
       "      <th>Order Method</th>\n",
       "    </tr>\n",
       "  </thead>\n",
       "  <tbody>\n",
       "    <tr>\n",
       "      <th>0</th>\n",
       "      <td>100017453</td>\n",
       "      <td>Sale</td>\n",
       "      <td>03:28:16PM Sat</td>\n",
       "      <td>Dec 29, 2018</td>\n",
       "      <td>Dec 29, 2018</td>\n",
       "      <td>Candyce Williams Glaser</td>\n",
       "      <td>NaN</td>\n",
       "      <td>$815.00</td>\n",
       "      <td>$0.00</td>\n",
       "      <td>$0.00</td>\n",
       "      <td>$0.00</td>\n",
       "      <td>$0.00</td>\n",
       "      <td>$0.00</td>\n",
       "      <td>$79.46</td>\n",
       "      <td>$0.00</td>\n",
       "      <td>$894.46</td>\n",
       "      <td>Credit Card</td>\n",
       "      <td>Taken</td>\n",
       "      <td>Phone</td>\n",
       "    </tr>\n",
       "    <tr>\n",
       "      <th>1</th>\n",
       "      <td>100017452</td>\n",
       "      <td>Sale</td>\n",
       "      <td>03:16:50PM Sat</td>\n",
       "      <td>Dec 29, 2018</td>\n",
       "      <td>Dec 29, 2018</td>\n",
       "      <td>NaN</td>\n",
       "      <td>NaN</td>\n",
       "      <td>$249.90</td>\n",
       "      <td>$0.00</td>\n",
       "      <td>$0.00</td>\n",
       "      <td>$0.00</td>\n",
       "      <td>-$124.96</td>\n",
       "      <td>$0.00</td>\n",
       "      <td>$12.19</td>\n",
       "      <td>$0.00</td>\n",
       "      <td>$137.13</td>\n",
       "      <td>Credit Card</td>\n",
       "      <td>Taken</td>\n",
       "      <td>Walk-In</td>\n",
       "    </tr>\n",
       "    <tr>\n",
       "      <th>2</th>\n",
       "      <td>100017451</td>\n",
       "      <td>Sale</td>\n",
       "      <td>02:58:53PM Sat</td>\n",
       "      <td>Dec 29, 2018</td>\n",
       "      <td>Dec 29, 2018</td>\n",
       "      <td>NaN</td>\n",
       "      <td>NaN</td>\n",
       "      <td>$24.95</td>\n",
       "      <td>$0.00</td>\n",
       "      <td>$0.00</td>\n",
       "      <td>$0.00</td>\n",
       "      <td>$0.00</td>\n",
       "      <td>$0.00</td>\n",
       "      <td>$2.43</td>\n",
       "      <td>$0.00</td>\n",
       "      <td>$27.38</td>\n",
       "      <td>Credit Card</td>\n",
       "      <td>Taken</td>\n",
       "      <td>Walk-In</td>\n",
       "    </tr>\n",
       "    <tr>\n",
       "      <th>3</th>\n",
       "      <td>100017450</td>\n",
       "      <td>Sale</td>\n",
       "      <td>02:54:45PM Sat</td>\n",
       "      <td>Dec 29, 2018</td>\n",
       "      <td>Dec 29, 2018</td>\n",
       "      <td>Tracie Hamilton</td>\n",
       "      <td>NaN</td>\n",
       "      <td>$635.00</td>\n",
       "      <td>$0.00</td>\n",
       "      <td>$0.00</td>\n",
       "      <td>$0.00</td>\n",
       "      <td>$0.00</td>\n",
       "      <td>$0.00</td>\n",
       "      <td>$61.91</td>\n",
       "      <td>$0.00</td>\n",
       "      <td>$696.91</td>\n",
       "      <td>Credit Card</td>\n",
       "      <td>Taken</td>\n",
       "      <td>Phone</td>\n",
       "    </tr>\n",
       "    <tr>\n",
       "      <th>4</th>\n",
       "      <td>100017202</td>\n",
       "      <td>Sale</td>\n",
       "      <td>02:48:15PM Sat</td>\n",
       "      <td>Dec 29, 2018</td>\n",
       "      <td>Dec 23, 2018</td>\n",
       "      <td>Candyce Williams Glaser</td>\n",
       "      <td>Candyce Williams Glaser</td>\n",
       "      <td>$702.00</td>\n",
       "      <td>$0.00</td>\n",
       "      <td>$25.00</td>\n",
       "      <td>$0.00</td>\n",
       "      <td>$0.00</td>\n",
       "      <td>$0.00</td>\n",
       "      <td>$68.45</td>\n",
       "      <td>$0.00</td>\n",
       "      <td>$795.45</td>\n",
       "      <td>Credit Card</td>\n",
       "      <td>Delivery</td>\n",
       "      <td>Walk-In</td>\n",
       "    </tr>\n",
       "  </tbody>\n",
       "</table>\n",
       "</div>"
      ],
      "text/plain": [
       "     Order # Transaction Type      Order Time    Order Date Delivery Date  \\\n",
       "0  100017453             Sale  03:28:16PM Sat  Dec 29, 2018  Dec 29, 2018   \n",
       "1  100017452             Sale  03:16:50PM Sat  Dec 29, 2018  Dec 29, 2018   \n",
       "2  100017451             Sale  02:58:53PM Sat  Dec 29, 2018  Dec 29, 2018   \n",
       "3  100017450             Sale  02:54:45PM Sat  Dec 29, 2018  Dec 29, 2018   \n",
       "4  100017202             Sale  02:48:15PM Sat  Dec 29, 2018  Dec 23, 2018   \n",
       "\n",
       "                    Sender                Recipient Product Total Delivery  \\\n",
       "0  Candyce Williams Glaser                      NaN       $815.00    $0.00   \n",
       "1                      NaN                      NaN       $249.90    $0.00   \n",
       "2                      NaN                      NaN        $24.95    $0.00   \n",
       "3          Tracie Hamilton                      NaN       $635.00    $0.00   \n",
       "4  Candyce Williams Glaser  Candyce Williams Glaser       $702.00    $0.00   \n",
       "\n",
       "  Nontaxable Delivery Wire Out Fee   Discount Gift Cards     Tax   Tips  \\\n",
       "0               $0.00        $0.00      $0.00      $0.00  $79.46  $0.00   \n",
       "1               $0.00        $0.00   -$124.96      $0.00  $12.19  $0.00   \n",
       "2               $0.00        $0.00      $0.00      $0.00   $2.43  $0.00   \n",
       "3               $0.00        $0.00      $0.00      $0.00  $61.91  $0.00   \n",
       "4              $25.00        $0.00      $0.00      $0.00  $68.45  $0.00   \n",
       "\n",
       "  Grand Total Payment Method Order Type Order Method  \n",
       "0     $894.46    Credit Card      Taken        Phone  \n",
       "1     $137.13    Credit Card      Taken      Walk-In  \n",
       "2      $27.38    Credit Card      Taken      Walk-In  \n",
       "3     $696.91    Credit Card      Taken        Phone  \n",
       "4     $795.45    Credit Card   Delivery      Walk-In  "
      ]
     },
     "execution_count": 4,
     "metadata": {},
     "output_type": "execute_result"
    }
   ],
   "source": [
    "#Preview of data\n",
    "GDS.head()"
   ]
  },
  {
   "cell_type": "markdown",
   "id": "fc969a11",
   "metadata": {},
   "source": [
    "# **Data Exploration**"
   ]
  },
  {
   "cell_type": "code",
   "execution_count": 5,
   "id": "d5429309",
   "metadata": {},
   "outputs": [
    {
     "name": "stdout",
     "output_type": "stream",
     "text": [
      "There are 46154 missing values.\n"
     ]
    }
   ],
   "source": [
    "#Print statement containing number of total missing values\n",
    "print(\"There are\", GDS.isna().sum().sum(), \"missing values.\")"
   ]
  },
  {
   "cell_type": "code",
   "execution_count": 6,
   "id": "f8f5e61f",
   "metadata": {},
   "outputs": [
    {
     "data": {
      "text/plain": [
       "Order #                    0\n",
       "Transaction Type           0\n",
       "Order Time                 0\n",
       "Order Date                 0\n",
       "Delivery Date             21\n",
       "Sender                 19337\n",
       "Recipient              25806\n",
       "Product Total              7\n",
       "Delivery                  12\n",
       "Nontaxable Delivery       12\n",
       "Wire Out Fee             126\n",
       "Discount                 126\n",
       "Gift Cards               126\n",
       "Tax                       12\n",
       "Tips                     126\n",
       "Grand Total                0\n",
       "Payment Method             0\n",
       "Order Type               317\n",
       "Order Method             126\n",
       "dtype: int64"
      ]
     },
     "execution_count": 6,
     "metadata": {},
     "output_type": "execute_result"
    }
   ],
   "source": [
    "#Looking at missing calues for each column\n",
    "GDS.isna().sum()"
   ]
  },
  {
   "cell_type": "code",
   "execution_count": 7,
   "id": "39c7e28f",
   "metadata": {
    "scrolled": true
   },
   "outputs": [
    {
     "name": "stdout",
     "output_type": "stream",
     "text": [
      "<class 'pandas.core.frame.DataFrame'>\n",
      "RangeIndex: 49376 entries, 0 to 49375\n",
      "Data columns (total 19 columns):\n",
      " #   Column               Non-Null Count  Dtype \n",
      "---  ------               --------------  ----- \n",
      " 0   Order #              49376 non-null  object\n",
      " 1   Transaction Type     49376 non-null  object\n",
      " 2   Order Time           49376 non-null  object\n",
      " 3   Order Date           49376 non-null  object\n",
      " 4   Delivery Date        49355 non-null  object\n",
      " 5   Sender               30039 non-null  object\n",
      " 6   Recipient            23570 non-null  object\n",
      " 7   Product Total        49369 non-null  object\n",
      " 8   Delivery             49364 non-null  object\n",
      " 9   Nontaxable Delivery  49364 non-null  object\n",
      " 10  Wire Out Fee         49250 non-null  object\n",
      " 11  Discount             49250 non-null  object\n",
      " 12  Gift Cards           49250 non-null  object\n",
      " 13  Tax                  49364 non-null  object\n",
      " 14  Tips                 49250 non-null  object\n",
      " 15  Grand Total          49376 non-null  object\n",
      " 16  Payment Method       49376 non-null  object\n",
      " 17  Order Type           49059 non-null  object\n",
      " 18  Order Method         49250 non-null  object\n",
      "dtypes: object(19)\n",
      "memory usage: 7.2+ MB\n"
     ]
    }
   ],
   "source": [
    "#Looking at data types and null values\n",
    "GDS.info()"
   ]
  },
  {
   "cell_type": "markdown",
   "id": "413eab9d",
   "metadata": {},
   "source": [
    "# **Data Cleaning**"
   ]
  },
  {
   "cell_type": "markdown",
   "id": "ca24917e",
   "metadata": {},
   "source": [
    "### **Dropping unnecessary columns**"
   ]
  },
  {
   "cell_type": "code",
   "execution_count": 8,
   "id": "3f440d90",
   "metadata": {},
   "outputs": [
    {
     "name": "stdout",
     "output_type": "stream",
     "text": [
      "<class 'pandas.core.frame.DataFrame'>\n",
      "RangeIndex: 49376 entries, 0 to 49375\n",
      "Data columns (total 17 columns):\n",
      " #   Column               Non-Null Count  Dtype \n",
      "---  ------               --------------  ----- \n",
      " 0   Order #              49376 non-null  object\n",
      " 1   Transaction Type     49376 non-null  object\n",
      " 2   Order Time           49376 non-null  object\n",
      " 3   Order Date           49376 non-null  object\n",
      " 4   Delivery Date        49355 non-null  object\n",
      " 5   Product Total        49369 non-null  object\n",
      " 6   Delivery             49364 non-null  object\n",
      " 7   Nontaxable Delivery  49364 non-null  object\n",
      " 8   Wire Out Fee         49250 non-null  object\n",
      " 9   Discount             49250 non-null  object\n",
      " 10  Gift Cards           49250 non-null  object\n",
      " 11  Tax                  49364 non-null  object\n",
      " 12  Tips                 49250 non-null  object\n",
      " 13  Grand Total          49376 non-null  object\n",
      " 14  Payment Method       49376 non-null  object\n",
      " 15  Order Type           49059 non-null  object\n",
      " 16  Order Method         49250 non-null  object\n",
      "dtypes: object(17)\n",
      "memory usage: 6.4+ MB\n"
     ]
    }
   ],
   "source": [
    "#Dropping unecessarry columns\n",
    "#These columns do not contribute any meaningful data to the insight I am after\n",
    "columns_to_drop = ['Sender','Recipient']\n",
    "df = GDS.drop(columns_to_drop, axis = 1)\n",
    "df.info()"
   ]
  },
  {
   "cell_type": "markdown",
   "id": "92786499",
   "metadata": {},
   "source": [
    "### **Changing Data Types**"
   ]
  },
  {
   "cell_type": "code",
   "execution_count": 9,
   "id": "08945cbf",
   "metadata": {},
   "outputs": [],
   "source": [
    "#changing data types\n",
    "def change_column_datatype(df, column_dict):\n",
    "    \"\"\"\n",
    "    Change the data type of columns in a Pandas DataFrame.\n",
    "\n",
    "    Parameters:\n",
    "    - df: Pandas DataFrame object.\n",
    "    - column_dict: Dictionary specifying column names and their desired data types.\n",
    "                   Key: column name (string).\n",
    "                   Value: desired data type (string).\n",
    "                   Example: {'column1': 'int', 'column2': 'float', 'column3': 'datetime'}\n",
    "    Returns:\n",
    "    - df: Updated Pandas DataFrame with changed data types.\n",
    "    \"\"\"\n",
    "    try:\n",
    "        for column, datatype in column_dict.items():\n",
    "            if datatype == 'float':\n",
    "                df[column] = df[column].str.replace('$', '').str.replace(',', '').str.replace('()', '')\n",
    "                df[column] = df[column].apply(lambda x: float(x.replace('(', '').replace(')', '')) if isinstance(x, str) else x)\n",
    "                df[column] = df[column].replace([np.inf, -np.inf], np.nan).astype(float)\n",
    "            elif datatype == 'int':\n",
    "                df[column] = df[column].replace(['NA', 'inf', '-inf'], np.nan).astype(float).astype(pd.Int64Dtype())\n",
    "            elif datatype == 'datetime':\n",
    "                df[column] = pd.to_datetime(df[column], errors='coerce')\n",
    "            else:\n",
    "                df[column] = df[column].astype(datatype)\n",
    "        return df\n",
    "    except KeyError as e:\n",
    "        print(f\"Error: Column '{e.args[0]}' does not exist in the DataFrame.\")\n",
    "    except Exception as e:\n",
    "        print(f\"Error: {str(e)}\")"
   ]
  },
  {
   "cell_type": "code",
   "execution_count": 11,
   "id": "600682d1",
   "metadata": {},
   "outputs": [
    {
     "name": "stdout",
     "output_type": "stream",
     "text": [
      "Before conversion:\n"
     ]
    },
    {
     "ename": "AttributeError",
     "evalue": "'NoneType' object has no attribute 'dtypes'",
     "output_type": "error",
     "traceback": [
      "\u001b[1;31m---------------------------------------------------------------------------\u001b[0m",
      "\u001b[1;31mAttributeError\u001b[0m                            Traceback (most recent call last)",
      "Cell \u001b[1;32mIn [11], line 3\u001b[0m\n\u001b[0;32m      1\u001b[0m \u001b[38;5;66;03m# Print DataFrame Before Conversion\u001b[39;00m\n\u001b[0;32m      2\u001b[0m \u001b[38;5;28mprint\u001b[39m(\u001b[38;5;124m\"\u001b[39m\u001b[38;5;124mBefore conversion:\u001b[39m\u001b[38;5;124m\"\u001b[39m)\n\u001b[1;32m----> 3\u001b[0m \u001b[38;5;28mprint\u001b[39m(\u001b[43mdf\u001b[49m\u001b[38;5;241;43m.\u001b[39;49m\u001b[43mdtypes\u001b[49m)\n\u001b[0;32m      4\u001b[0m \u001b[38;5;28mprint\u001b[39m(df)\n\u001b[0;32m      6\u001b[0m \u001b[38;5;66;03m# Define the desired data types for columns\u001b[39;00m\n",
      "\u001b[1;31mAttributeError\u001b[0m: 'NoneType' object has no attribute 'dtypes'"
     ]
    }
   ],
   "source": [
    "# Print DataFrame Before Conversion\n",
    "print(\"Before conversion:\")\n",
    "print(df.dtypes)\n",
    "print(df)\n",
    "\n",
    "# Define the desired data types for columns\n",
    "column_dict = {\n",
    "    'Product Total': 'float',\n",
    "    'Nontaxable Delivery': 'float',\n",
    "    'Wire Out Fee': 'float',\n",
    "    'Gift Cards': 'float',\n",
    "    'Order Time': 'datetime',\n",
    "    'Order Date': 'datetime',\n",
    "    'Delivery Zip': 'int',\n",
    "}\n",
    "\n",
    "# Call the function to change data types\n",
    "df = change_column_datatype(df, column_dict)\n",
    "\n",
    "# Print DataFrame After Conversion\n",
    "print(\"\\nAfter conversion:\")\n",
    "print(df.dtypes)\n",
    "print(df)"
   ]
  },
  {
   "cell_type": "markdown",
   "id": "99ab6777",
   "metadata": {},
   "source": [
    "### **Unique values**"
   ]
  },
  {
   "cell_type": "code",
   "execution_count": null,
   "id": "d2f98251",
   "metadata": {
    "scrolled": false
   },
   "outputs": [],
   "source": [
    "# Check for unique values to make sure they all make sense\n",
    "unique_counts = df.nunique()\n",
    "print(unique_counts)"
   ]
  },
  {
   "cell_type": "code",
   "execution_count": null,
   "id": "7516e11c",
   "metadata": {},
   "outputs": [],
   "source": [
    "df.head()"
   ]
  },
  {
   "cell_type": "markdown",
   "id": "2c7ebffa",
   "metadata": {},
   "source": [
    "### **Replace nans function**"
   ]
  },
  {
   "cell_type": "markdown",
   "id": "6097fa68",
   "metadata": {},
   "source": [
    "- The dataset had missing values in every column, necessitating the use of imputation techniques to fill in these gaps and ensure sufficient data for accurate analysis. \n",
    "- Imputation involved systematically replacing the missing values in each column with estimated or substituted values using simple imputer, ultimately creating a complete dataset suitable for further analysis."
   ]
  },
  {
   "cell_type": "code",
   "execution_count": null,
   "id": "478ad5d9",
   "metadata": {},
   "outputs": [],
   "source": [
    "def replace_nan(df):\n",
    "    # Find categorical and numerical columns\n",
    "    categorical_cols = df.select_dtypes(include='object').columns\n",
    "    numerical_cols = df.select_dtypes(include=np.number).columns\n",
    "    date_cols = ['Order Time', 'Order Date', 'Delivery Date_x']\n",
    "# Replace NaT values with NaN\n",
    "    df = df.replace(pd.NaT, np.nan)\n",
    "\n",
    "# Impute missing values with mode for categorical variables\n",
    "    categorical_imputer = SimpleImputer(strategy='most_frequent')\n",
    "    df[categorical_cols] = categorical_imputer.fit_transform(df[categorical_cols])\n",
    "# Replace missing values in date columns with most frequent date\n",
    "    for col in date_cols:\n",
    "        most_frequent_date = df[col].mode().values[0]\n",
    "        df[col].fillna(most_frequent_date, inplace=True)\n",
    "        # Impute missing values with median for numerical variables\n",
    "        numerical_imputer = SimpleImputer(strategy='most_frequent')\n",
    "    df[numerical_cols] = numerical_imputer.fit_transform(df[numerical_cols])\n",
    "\n",
    "    return df"
   ]
  },
  {
   "cell_type": "code",
   "execution_count": null,
   "id": "a565bab5",
   "metadata": {},
   "outputs": [],
   "source": [
    "#Runing the function to transform the data\n",
    "transformed_data =replace_nan(df)"
   ]
  },
  {
   "cell_type": "code",
   "execution_count": null,
   "id": "b865d4b5",
   "metadata": {
    "scrolled": true
   },
   "outputs": [],
   "source": [
    "#Making sure the data has been transformed\n",
    "transformed_data"
   ]
  },
  {
   "cell_type": "markdown",
   "id": "a24379d7",
   "metadata": {},
   "source": [
    "# **Creating the pipeline**"
   ]
  },
  {
   "cell_type": "code",
   "execution_count": null,
   "id": "984f5037",
   "metadata": {},
   "outputs": [],
   "source": [
    "#Validation Split\n",
    "X= transformed_data.drop(columns = 'Product Total')\n",
    "y = transformed_data['Product Total']"
   ]
  },
  {
   "cell_type": "code",
   "execution_count": null,
   "id": "a1ab2d33",
   "metadata": {},
   "outputs": [],
   "source": [
    "#Train, Test, Split\n",
    "X_train, X_test, y_train, y_test = train_test_split(X, y, random_state=42)"
   ]
  },
  {
   "cell_type": "code",
   "execution_count": null,
   "id": "0acaef74",
   "metadata": {
    "scrolled": false
   },
   "outputs": [],
   "source": [
    "#Function for pipeline creation\n",
    "def create_preprocessing_pipeline(X_train, numeric_cols, categorical_cols):\n",
    "\n",
    "#Scaler\n",
    "    scaler = StandardScaler()\n",
    "\n",
    "# Numeric pipeline\n",
    "    numeric_pipe = make_pipeline(scaler)\n",
    "    numeric_pipe\n",
    "\n",
    "#OneHotEncoder\n",
    "    ohe =OneHotEncoder(handle_unknown='ignore', sparse=False)\n",
    "\n",
    "# Create the numeric and categorical pipeline\n",
    "    numeric_pipe = make_pipeline(scaler)\n",
    "    categorical_pipe = make_pipeline(ohe)\n",
    "\n",
    "# Create column selectors\n",
    "    num_cols_idx = np.isin(X_train.columns, numeric_cols)\n",
    "    cat_cols_idx = np.isin(X_train.columns, categorical_cols)\n",
    "    \n",
    "# Create tuples for preprocessing the categorical and numeric columns\n",
    "    num_tuple = (numeric_pipe, num_cols_idx)\n",
    "    cat_tuple = (categorical_pipe, cat_cols_idx)\n",
    "    \n",
    "# Create the Column Transformer\n",
    "    preprocessor = make_column_transformer(num_tuple, cat_tuple, remainder='passthrough')\n",
    "\n",
    "# Fit the transformer\n",
    "    preprocessor.fit(X_train)\n",
    "    \n",
    "    return preprocessor"
   ]
  },
  {
   "cell_type": "code",
   "execution_count": null,
   "id": "0ed9749a",
   "metadata": {},
   "outputs": [],
   "source": [
    "#Defining columns \n",
    "numeric_cols = ['Product Total', 'Grand Total']\n",
    "categorical_cols = ['Transaction Type', 'Order Type']"
   ]
  },
  {
   "cell_type": "code",
   "execution_count": null,
   "id": "48141759",
   "metadata": {},
   "outputs": [],
   "source": [
    "#Preprocessor creation\n",
    "preprocessor = create_preprocessing_pipeline(X_train, numeric_cols, categorical_cols)"
   ]
  },
  {
   "cell_type": "code",
   "execution_count": null,
   "id": "a019967e",
   "metadata": {},
   "outputs": [],
   "source": [
    "#Transforming x-train\n",
    "X_train_preprocessed = preprocessor.transform(X_train)"
   ]
  },
  {
   "cell_type": "code",
   "execution_count": null,
   "id": "3d1c6688",
   "metadata": {},
   "outputs": [],
   "source": [
    "#simplifying transformed data name\n",
    "cd = transformed_data"
   ]
  },
  {
   "cell_type": "code",
   "execution_count": null,
   "id": "bc6c98fc",
   "metadata": {
    "scrolled": false
   },
   "outputs": [],
   "source": [
    "#This shows us that there are rows in the data that are not sales, so we want to delete them.\n",
    "cd['Transaction Type'].value_counts()"
   ]
  },
  {
   "cell_type": "code",
   "execution_count": null,
   "id": "447787e6",
   "metadata": {},
   "outputs": [],
   "source": [
    "#Function to extract only sales \n",
    "\n",
    "def remove_adjustment_refund_rows(data):\n",
    "    # Filter out rows with 'Adjustment' and 'Refund' transaction types\n",
    "    filtered_data = cd[cd['Transaction Type'].isin(['Sale'])]\n",
    "    \n",
    "    return filtered_data\n",
    "\n",
    "# Example usage:\n",
    "filtered_data = remove_adjustment_refund_rows(transformed_data)\n",
    "fd = filtered_data"
   ]
  },
  {
   "cell_type": "code",
   "execution_count": null,
   "id": "fc9e53aa",
   "metadata": {},
   "outputs": [],
   "source": [
    "#Checking there are only sales rows in the data\n",
    "fd['Transaction Type'].value_counts()"
   ]
  },
  {
   "cell_type": "markdown",
   "id": "4ef62521",
   "metadata": {},
   "source": [
    "## **Data Exploration**"
   ]
  },
  {
   "cell_type": "markdown",
   "id": "c0c0dcb5",
   "metadata": {},
   "source": [
    "This section looks into exploring irregularities within the data and how I assess them."
   ]
  },
  {
   "cell_type": "markdown",
   "id": "f7b73e34",
   "metadata": {},
   "source": [
    "### **Sender/Recipient - Customer Name/Recipient Name?**"
   ]
  },
  {
   "cell_type": "code",
   "execution_count": null,
   "id": "37248cb8",
   "metadata": {},
   "outputs": [],
   "source": [
    "fd['Occasion'].value_counts()"
   ]
  },
  {
   "cell_type": "code",
   "execution_count": null,
   "id": "f58665d1",
   "metadata": {
    "scrolled": true
   },
   "outputs": [],
   "source": [
    "fd.info()"
   ]
  },
  {
   "cell_type": "markdown",
   "id": "f95b4128",
   "metadata": {},
   "source": [
    "### **Payment Method**"
   ]
  },
  {
   "cell_type": "code",
   "execution_count": null,
   "id": "a6c9e5f2",
   "metadata": {},
   "outputs": [],
   "source": [
    "fd['Payment Method_x'].value_counts()"
   ]
  },
  {
   "cell_type": "markdown",
   "id": "f40a0440",
   "metadata": {},
   "source": [
    "### **Order method, type & source** "
   ]
  },
  {
   "cell_type": "code",
   "execution_count": null,
   "id": "e8c7694b",
   "metadata": {},
   "outputs": [],
   "source": [
    "#Compare to order source to verify there are no duplicates \n",
    "fd['Order Method'].value_counts()"
   ]
  },
  {
   "cell_type": "code",
   "execution_count": null,
   "id": "891f87bd",
   "metadata": {},
   "outputs": [],
   "source": [
    "#Compare to order method to verify there are no duplicates \n",
    "fd['Order Source'].value_counts()"
   ]
  },
  {
   "cell_type": "code",
   "execution_count": null,
   "id": "c8521fc8",
   "metadata": {},
   "outputs": [],
   "source": [
    "# Identify what the difference is in these last three columns ^^^\n",
    "fd['Order Type'].value_counts()"
   ]
  },
  {
   "cell_type": "markdown",
   "id": "cd1611a9",
   "metadata": {},
   "source": [
    "### **Delivery Date**"
   ]
  },
  {
   "cell_type": "code",
   "execution_count": null,
   "id": "f0a69c84",
   "metadata": {
    "scrolled": true
   },
   "outputs": [],
   "source": [
    "fd['Delivery Date_x'].value_counts()"
   ]
  },
  {
   "cell_type": "markdown",
   "id": "d1e70187",
   "metadata": {},
   "source": [
    "### **Delivery Street**"
   ]
  },
  {
   "cell_type": "code",
   "execution_count": null,
   "id": "f3938180",
   "metadata": {
    "scrolled": true
   },
   "outputs": [],
   "source": [
    "# Looking further into the sales data for locating the most popular delivery street.\n",
    "#The shop is located on Hilsboro Road, so it makes sense that its the most popular delivery street.\n",
    "fd['Delivery Street'].value_counts()"
   ]
  },
  {
   "cell_type": "markdown",
   "id": "cfb0d4e1",
   "metadata": {},
   "source": [
    "### **Non-taxable Delivery Compaired to Delivery Zip/Street**"
   ]
  },
  {
   "cell_type": "code",
   "execution_count": null,
   "id": "a170cf6b",
   "metadata": {},
   "outputs": [],
   "source": [
    "#Figure out what the amounts represent\n",
    "fd['Nontaxable Delivery'].value_counts()"
   ]
  },
  {
   "cell_type": "markdown",
   "id": "164da1e8",
   "metadata": {},
   "source": [
    "### **Product Name**"
   ]
  },
  {
   "cell_type": "code",
   "execution_count": null,
   "id": "bd1bbf08",
   "metadata": {
    "scrolled": false
   },
   "outputs": [],
   "source": [
    "#This will help to identify the most frequently ordered products\n",
    "fd['Product Name'].value_counts()"
   ]
  },
  {
   "cell_type": "code",
   "execution_count": null,
   "id": "23c1b796",
   "metadata": {},
   "outputs": [],
   "source": [
    "#Identifying duplicates\n",
    "duplicates = fd.duplicated(keep='first') \n",
    "num_duplicates = duplicates.sum()\n",
    "print('Number of duplicate rows:', num_duplicates)\n",
    "\n",
    "#Print the duplicated rows\n",
    "duplicate_rows = fd[duplicates]\n",
    "print('Duplicate rows:')\n",
    "print(duplicate_rows)\n",
    "\n",
    "#Drop the identified duplicate rows\n",
    "fd = fd.drop_duplicates(keep='first')"
   ]
  },
  {
   "cell_type": "code",
   "execution_count": null,
   "id": "ce3fa8fe",
   "metadata": {},
   "outputs": [],
   "source": [
    "#Confiriming there are no duplicates remaining\n",
    "duplicates = fd.duplicated(keep='first') \n",
    "num_duplicates = duplicates.sum()\n",
    "print('Number of duplicate rows:', num_duplicates)\n",
    "duplicate_rows = fd[duplicates]\n",
    "print('Duplicate rows:')\n",
    "print(duplicate_rows)"
   ]
  },
  {
   "cell_type": "code",
   "execution_count": null,
   "id": "dd5b637a",
   "metadata": {},
   "outputs": [],
   "source": [
    "#Looking at overview of data\n",
    "fd.info()"
   ]
  },
  {
   "cell_type": "markdown",
   "id": "58f6dd38",
   "metadata": {},
   "source": [
    "### **Zip**"
   ]
  },
  {
   "cell_type": "code",
   "execution_count": null,
   "id": "fe4e0430",
   "metadata": {
    "scrolled": false
   },
   "outputs": [],
   "source": [
    "#This column should be changed in the future to whatever method used for geospatial viz\n",
    "# Looking at the delivery zip for insight about what are the most popular zip codes for the shop\n",
    "# We know from this that 37064 is by very far the most popular zipcode for obvious reasons\n",
    "# We now want to look at other surrounding zip codes that may be in close competition\n",
    "#Then visualize the comparison of the results for futher analysis\n",
    "fd['Delivery Zip'].value_counts()"
   ]
  },
  {
   "cell_type": "markdown",
   "id": "9f344524",
   "metadata": {},
   "source": [
    "## **Visualizations**"
   ]
  },
  {
   "cell_type": "markdown",
   "id": "6bfc0667",
   "metadata": {},
   "source": [
    "- From the above print out we see there are two significantly more popular zip codes compared to the rest of the data. 37064 & 37069 (47,558 & 1403 respectively). \n",
    "- I'm choosing to visualize the other zip codes except these two, and zip codes with less than five occurrences as they contribute little insight to exploring the most popular surrounding zip codes."
   ]
  },
  {
   "cell_type": "code",
   "execution_count": null,
   "id": "34dfdeae",
   "metadata": {},
   "outputs": [],
   "source": [
    "# Count the occurrences of each zip code\n",
    "zip_code_counts = fd['Delivery Zip'].value_counts()\n",
    "\n",
    "# Get the zip codes with less than five occurrences\n",
    "zip_codes_to_remove = zip_code_counts[(zip_code_counts < 5) | (zip_code_counts > 30000)].index# Set the style and color palette\n",
    "# Filter the DataFrame to exclude zip codes with less than five occurrences\n",
    "filtered_zip_data = fd[~fd['Delivery Zip'].isin(zip_codes_to_remove)]\n",
    "sns.set_style('whitegrid')\n",
    "sns.set_palette('Set2')\n",
    "\n",
    "# Create a larger figure size\n",
    "plt.figure(figsize=(10, 6))\n",
    "# Plot the data\n",
    "ax = filtered_zip_data['Delivery Zip'].value_counts().plot(kind='bar')\n",
    "# Customize the plot\n",
    "ax.set_title('Zip Code Occurrences', fontsize=16)\n",
    "ax.set_xlabel('Zip Code', fontsize=12)\n",
    "ax.set_ylabel('Count', fontsize=12)\n",
    "ax.tick_params(axis='x', labelrotation=45)\n",
    "ax.spines['top'].set_visible(False)\n",
    "ax.spines['right'].set_visible(False)\n",
    "# Add labels to the bars\n",
    "for p in ax.patches:\n",
    "    ax.annotate(str(p.get_height()), (p.get_x() + p.get_width() / 2., p.get_height()), ha='center', va='center',\n",
    "                xytext=(0, 5), textcoords='offset points', fontsize=10)\n",
    "# Save the plot as an image file\n",
    "plt.savefig('zip_code_occurrences.png', bbox_inches='tight')"
   ]
  },
  {
   "cell_type": "code",
   "execution_count": null,
   "id": "3e683e3f",
   "metadata": {},
   "outputs": [],
   "source": [
    "# Create barplot\n",
    "plt.bar(fd['Payment Method_x'], fd['Product Total'])\n",
    "\n",
    "# Set plot labels and title\n",
    "plt.xlabel('Payment Method')\n",
    "plt.ylabel('Product Total')\n",
    "plt.xticks(rotation=45, fontsize = 9, fontweight = 'heavy', ha = 'right');\n",
    "plt.title('Payment Methods')\n",
    "\n",
    "# Show the plot\n",
    "plt.show()"
   ]
  },
  {
   "cell_type": "code",
   "execution_count": null,
   "id": "9b07eac7",
   "metadata": {
    "scrolled": true
   },
   "outputs": [],
   "source": [
    "# Create barplot\n",
    "plt.bar(fd['Occasion'], fd['Product Total'])\n",
    "\n",
    "# Set plot labels and title\n",
    "plt.xlabel('Occasion')\n",
    "plt.ylabel('Product Total')\n",
    "plt.xticks(rotation=45, fontsize = 9, fontweight = 'heavy', ha = 'right');\n",
    "plt.title('Floral Occasion Breakdown')\n",
    "\n",
    "# Show the plot\n",
    "plt.show()"
   ]
  },
  {
   "cell_type": "code",
   "execution_count": null,
   "id": "1452fec7",
   "metadata": {},
   "outputs": [],
   "source": [
    "fd['Occasion'].value_counts()"
   ]
  },
  {
   "cell_type": "code",
   "execution_count": null,
   "id": "d2214681",
   "metadata": {
    "scrolled": false
   },
   "outputs": [],
   "source": [
    "# Create barplot of order methods\n",
    "plt.bar(fd['Order Method'], fd['Product Total'])\n",
    "\n",
    "# Set plot labels and title\n",
    "plt.xlabel('Order Method')\n",
    "plt.ylabel('Product Total')\n",
    "plt.xticks(rotation=35, fontsize = 12, fontweight = 'normal', ha = 'right');\n",
    "plt.title('Floral Order Type')\n",
    "\n",
    "# Show the plot\n",
    "plt.show()"
   ]
  },
  {
   "cell_type": "code",
   "execution_count": null,
   "id": "131a259f",
   "metadata": {},
   "outputs": [],
   "source": [
    "#Saving the new dataframe to upload in the next notebook\n",
    "fd.to_csv('fd', index=False)"
   ]
  },
  {
   "cell_type": "code",
   "execution_count": null,
   "id": "2cfafd01",
   "metadata": {},
   "outputs": [],
   "source": []
  }
 ],
 "metadata": {
  "kernelspec": {
   "display_name": "Python (dojo-env)",
   "language": "python",
   "name": "dojo-env"
  },
  "language_info": {
   "codemirror_mode": {
    "name": "ipython",
    "version": 3
   },
   "file_extension": ".py",
   "mimetype": "text/x-python",
   "name": "python",
   "nbconvert_exporter": "python",
   "pygments_lexer": "ipython3",
   "version": "3.9.15"
  },
  "toc": {
   "base_numbering": 1,
   "nav_menu": {},
   "number_sections": false,
   "sideBar": true,
   "skip_h1_title": false,
   "title_cell": "Table of Contents",
   "title_sidebar": "Contents",
   "toc_cell": false,
   "toc_position": {
    "height": "calc(100% - 180px)",
    "left": "10px",
    "top": "150px",
    "width": "215.824px"
   },
   "toc_section_display": true,
   "toc_window_display": false
  }
 },
 "nbformat": 4,
 "nbformat_minor": 5
}
