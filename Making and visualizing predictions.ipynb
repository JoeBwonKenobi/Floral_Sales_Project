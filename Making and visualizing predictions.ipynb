{
 "cells": [
  {
   "cell_type": "markdown",
   "id": "4b895ce0",
   "metadata": {},
   "source": [
    "# Predictions"
   ]
  },
  {
   "cell_type": "code",
   "execution_count": 1,
   "id": "2295729c",
   "metadata": {},
   "outputs": [],
   "source": [
    "#Numpy\n",
    "import numpy as np\n",
    "from numpy import median\n",
    "\n",
    "#Pandas\n",
    "import pandas as pd\n",
    "\n",
    "#Seaborn\n",
    "import seaborn as sns\n",
    "\n",
    "#matplotlib\n",
    "import matplotlib.pyplot as plt\n",
    "import plotly\n",
    "from matplotlib.ticker import ScalarFormatter\n",
    "\n",
    "#Sklearn\n",
    "from sklearn.decomposition import PCA\n",
    "from sklearn.preprocessing import StandardScaler, OneHotEncoder\n",
    "from sklearn.model_selection import GridSearchCV, train_test_split\n",
    "from sklearn.compose import make_column_selector, make_column_transformer\n",
    "from sklearn.impute import SimpleImputer\n",
    "from sklearn.pipeline import make_pipeline\n",
    "from sklearn.linear_model import LinearRegression\n",
    "from sklearn.ensemble import RandomForestRegressor, GradientBoostingRegressor\n",
    "from sklearn.model_selection import RandomizedSearchCV\n",
    "from sklearn.neighbors import KNeighborsRegressor\n",
    "from sklearn.tree import DecisionTreeRegressor\n",
    "from tensorflow.keras.metrics import RootMeanSquaredError\n",
    "from sklearn import metrics\n",
    "from sklearn.metrics import mean_squared_error, mean_absolute_error, r2_score\n",
    "import lightgbm as lgb\n",
    "\n",
    "#Scipy\n",
    "from scipy.sparse import csr_matrix\n",
    "\n",
    "#Warnings\n",
    "import warnings\n",
    "warnings.filterwarnings(\"ignore\")"
   ]
  },
  {
   "cell_type": "code",
   "execution_count": 2,
   "id": "1a419baa",
   "metadata": {},
   "outputs": [],
   "source": [
    "#Loading in the data from the previous notebook\n",
    "fd = pd.read_csv('Predictions')"
   ]
  },
  {
   "cell_type": "code",
   "execution_count": 3,
   "id": "5a2a17e3",
   "metadata": {
    "scrolled": false
   },
   "outputs": [
    {
     "name": "stdout",
     "output_type": "stream",
     "text": [
      "<class 'pandas.core.frame.DataFrame'>\n",
      "RangeIndex: 46062 entries, 0 to 46061\n",
      "Data columns (total 9 columns):\n",
      " #   Column          Non-Null Count  Dtype  \n",
      "---  ------          --------------  -----  \n",
      " 0   Order #         46062 non-null  int64  \n",
      " 1   Product Total   46062 non-null  float64\n",
      " 2   Grand Total     46062 non-null  float64\n",
      " 3   Delivery Year   46062 non-null  int64  \n",
      " 4   Delivery Day    46062 non-null  int64  \n",
      " 5   Delivery Month  46062 non-null  int64  \n",
      " 6   Order Year      46062 non-null  int64  \n",
      " 7   Order Day       46062 non-null  int64  \n",
      " 8   Order Month     46062 non-null  int64  \n",
      "dtypes: float64(2), int64(7)\n",
      "memory usage: 3.2 MB\n"
     ]
    }
   ],
   "source": [
    "fd.info()"
   ]
  },
  {
   "cell_type": "markdown",
   "id": "fb359d61",
   "metadata": {},
   "source": [
    "## **Making Predictions with RFG**"
   ]
  },
  {
   "cell_type": "code",
   "execution_count": 4,
   "id": "c7351deb",
   "metadata": {},
   "outputs": [],
   "source": [
    "# Drop the target column to separate it from the features\n",
    "X = fd.drop(columns='Product Total')\n",
    "y = fd['Product Total']"
   ]
  },
  {
   "cell_type": "code",
   "execution_count": 5,
   "id": "eac2eb29",
   "metadata": {},
   "outputs": [],
   "source": [
    "#Split training and test\n",
    "X_train, X_test, y_train, y_test = train_test_split(X, y, random_state=42)"
   ]
  },
  {
   "cell_type": "code",
   "execution_count": 6,
   "id": "21a29392",
   "metadata": {},
   "outputs": [],
   "source": [
    "#Imputers\n",
    "freq_imputer = SimpleImputer(strategy='most_frequent')\n",
    "mean_imputer = SimpleImputer(strategy= 'mean')\n",
    "\n",
    "#Scaler\n",
    "scaler = StandardScaler()\n",
    "\n",
    "#OneHotEncoder\n",
    "ohe =OneHotEncoder(handle_unknown='ignore', sparse=True)\n",
    "\n",
    "#Create Selectors\n",
    "cat_selector = make_column_selector(dtype_include= 'object')\n",
    "num_selector = make_column_selector(dtype_include='number')\n",
    "\n",
    "# Numeric pipeline\n",
    "numeric_pipe = make_pipeline(mean_imputer, scaler)\n",
    "numeric_pipe\n",
    "\n",
    "#cat pipe\n",
    "categorical_pipe = make_pipeline(freq_imputer, ohe)\n",
    "categorical_pipe\n",
    "\n",
    "#Make tuples for preprocessing the categorical and numeric columns\n",
    "num_tuple = (numeric_pipe, num_selector)\n",
    "cat_tuple = (categorical_pipe, cat_selector)          "
   ]
  },
  {
   "cell_type": "code",
   "execution_count": 7,
   "id": "a6fb964f",
   "metadata": {},
   "outputs": [],
   "source": [
    "#Create Column Transformer\n",
    "preprocessor= make_column_transformer(num_tuple, cat_tuple, remainder = 'passthrough')"
   ]
  },
  {
   "cell_type": "code",
   "execution_count": 8,
   "id": "14c38c6c",
   "metadata": {},
   "outputs": [],
   "source": [
    "# Preprocess the data\n",
    "# Fit and transform the preprocessing on the training data\n",
    "X_train_preprocessed = preprocessor.fit_transform(X_train)\n",
    "\n",
    "# Transform the test data using the fitted preprocessor\n",
    "X_test_preprocessed = preprocessor.transform(X_test)"
   ]
  },
  {
   "cell_type": "code",
   "execution_count": 9,
   "id": "89317d70",
   "metadata": {},
   "outputs": [
    {
     "data": {
      "text/html": [
       "<style>#sk-container-id-1 {color: black;background-color: white;}#sk-container-id-1 pre{padding: 0;}#sk-container-id-1 div.sk-toggleable {background-color: white;}#sk-container-id-1 label.sk-toggleable__label {cursor: pointer;display: block;width: 100%;margin-bottom: 0;padding: 0.3em;box-sizing: border-box;text-align: center;}#sk-container-id-1 label.sk-toggleable__label-arrow:before {content: \"▸\";float: left;margin-right: 0.25em;color: #696969;}#sk-container-id-1 label.sk-toggleable__label-arrow:hover:before {color: black;}#sk-container-id-1 div.sk-estimator:hover label.sk-toggleable__label-arrow:before {color: black;}#sk-container-id-1 div.sk-toggleable__content {max-height: 0;max-width: 0;overflow: hidden;text-align: left;background-color: #f0f8ff;}#sk-container-id-1 div.sk-toggleable__content pre {margin: 0.2em;color: black;border-radius: 0.25em;background-color: #f0f8ff;}#sk-container-id-1 input.sk-toggleable__control:checked~div.sk-toggleable__content {max-height: 200px;max-width: 100%;overflow: auto;}#sk-container-id-1 input.sk-toggleable__control:checked~label.sk-toggleable__label-arrow:before {content: \"▾\";}#sk-container-id-1 div.sk-estimator input.sk-toggleable__control:checked~label.sk-toggleable__label {background-color: #d4ebff;}#sk-container-id-1 div.sk-label input.sk-toggleable__control:checked~label.sk-toggleable__label {background-color: #d4ebff;}#sk-container-id-1 input.sk-hidden--visually {border: 0;clip: rect(1px 1px 1px 1px);clip: rect(1px, 1px, 1px, 1px);height: 1px;margin: -1px;overflow: hidden;padding: 0;position: absolute;width: 1px;}#sk-container-id-1 div.sk-estimator {font-family: monospace;background-color: #f0f8ff;border: 1px dotted black;border-radius: 0.25em;box-sizing: border-box;margin-bottom: 0.5em;}#sk-container-id-1 div.sk-estimator:hover {background-color: #d4ebff;}#sk-container-id-1 div.sk-parallel-item::after {content: \"\";width: 100%;border-bottom: 1px solid gray;flex-grow: 1;}#sk-container-id-1 div.sk-label:hover label.sk-toggleable__label {background-color: #d4ebff;}#sk-container-id-1 div.sk-serial::before {content: \"\";position: absolute;border-left: 1px solid gray;box-sizing: border-box;top: 0;bottom: 0;left: 50%;z-index: 0;}#sk-container-id-1 div.sk-serial {display: flex;flex-direction: column;align-items: center;background-color: white;padding-right: 0.2em;padding-left: 0.2em;position: relative;}#sk-container-id-1 div.sk-item {position: relative;z-index: 1;}#sk-container-id-1 div.sk-parallel {display: flex;align-items: stretch;justify-content: center;background-color: white;position: relative;}#sk-container-id-1 div.sk-item::before, #sk-container-id-1 div.sk-parallel-item::before {content: \"\";position: absolute;border-left: 1px solid gray;box-sizing: border-box;top: 0;bottom: 0;left: 50%;z-index: -1;}#sk-container-id-1 div.sk-parallel-item {display: flex;flex-direction: column;z-index: 1;position: relative;background-color: white;}#sk-container-id-1 div.sk-parallel-item:first-child::after {align-self: flex-end;width: 50%;}#sk-container-id-1 div.sk-parallel-item:last-child::after {align-self: flex-start;width: 50%;}#sk-container-id-1 div.sk-parallel-item:only-child::after {width: 0;}#sk-container-id-1 div.sk-dashed-wrapped {border: 1px dashed gray;margin: 0 0.4em 0.5em 0.4em;box-sizing: border-box;padding-bottom: 0.4em;background-color: white;}#sk-container-id-1 div.sk-label label {font-family: monospace;font-weight: bold;display: inline-block;line-height: 1.2em;}#sk-container-id-1 div.sk-label-container {text-align: center;}#sk-container-id-1 div.sk-container {/* jupyter's `normalize.less` sets `[hidden] { display: none; }` but bootstrap.min.css set `[hidden] { display: none !important; }` so we also need the `!important` here to be able to override the default hidden behavior on the sphinx rendered scikit-learn.org. See: https://github.com/scikit-learn/scikit-learn/issues/21755 */display: inline-block !important;position: relative;}#sk-container-id-1 div.sk-text-repr-fallback {display: none;}</style><div id=\"sk-container-id-1\" class=\"sk-top-container\"><div class=\"sk-text-repr-fallback\"><pre>ColumnTransformer(remainder=&#x27;passthrough&#x27;,\n",
       "                  transformers=[(&#x27;pipeline-1&#x27;,\n",
       "                                 Pipeline(steps=[(&#x27;simpleimputer&#x27;,\n",
       "                                                  SimpleImputer()),\n",
       "                                                 (&#x27;standardscaler&#x27;,\n",
       "                                                  StandardScaler())]),\n",
       "                                 &lt;sklearn.compose._column_transformer.make_column_selector object at 0x0000023600368670&gt;),\n",
       "                                (&#x27;pipeline-2&#x27;,\n",
       "                                 Pipeline(steps=[(&#x27;simpleimputer&#x27;,\n",
       "                                                  SimpleImputer(strategy=&#x27;most_frequent&#x27;)),\n",
       "                                                 (&#x27;onehotencoder&#x27;,\n",
       "                                                  OneHotEncoder(handle_unknown=&#x27;ignore&#x27;))]),\n",
       "                                 &lt;sklearn.compose._column_transformer.make_column_selector object at 0x0000023600368160&gt;)])</pre><b>In a Jupyter environment, please rerun this cell to show the HTML representation or trust the notebook. <br />On GitHub, the HTML representation is unable to render, please try loading this page with nbviewer.org.</b></div><div class=\"sk-container\" hidden><div class=\"sk-item sk-dashed-wrapped\"><div class=\"sk-label-container\"><div class=\"sk-label sk-toggleable\"><input class=\"sk-toggleable__control sk-hidden--visually\" id=\"sk-estimator-id-1\" type=\"checkbox\" ><label for=\"sk-estimator-id-1\" class=\"sk-toggleable__label sk-toggleable__label-arrow\">ColumnTransformer</label><div class=\"sk-toggleable__content\"><pre>ColumnTransformer(remainder=&#x27;passthrough&#x27;,\n",
       "                  transformers=[(&#x27;pipeline-1&#x27;,\n",
       "                                 Pipeline(steps=[(&#x27;simpleimputer&#x27;,\n",
       "                                                  SimpleImputer()),\n",
       "                                                 (&#x27;standardscaler&#x27;,\n",
       "                                                  StandardScaler())]),\n",
       "                                 &lt;sklearn.compose._column_transformer.make_column_selector object at 0x0000023600368670&gt;),\n",
       "                                (&#x27;pipeline-2&#x27;,\n",
       "                                 Pipeline(steps=[(&#x27;simpleimputer&#x27;,\n",
       "                                                  SimpleImputer(strategy=&#x27;most_frequent&#x27;)),\n",
       "                                                 (&#x27;onehotencoder&#x27;,\n",
       "                                                  OneHotEncoder(handle_unknown=&#x27;ignore&#x27;))]),\n",
       "                                 &lt;sklearn.compose._column_transformer.make_column_selector object at 0x0000023600368160&gt;)])</pre></div></div></div><div class=\"sk-parallel\"><div class=\"sk-parallel-item\"><div class=\"sk-item\"><div class=\"sk-label-container\"><div class=\"sk-label sk-toggleable\"><input class=\"sk-toggleable__control sk-hidden--visually\" id=\"sk-estimator-id-2\" type=\"checkbox\" ><label for=\"sk-estimator-id-2\" class=\"sk-toggleable__label sk-toggleable__label-arrow\">pipeline-1</label><div class=\"sk-toggleable__content\"><pre>&lt;sklearn.compose._column_transformer.make_column_selector object at 0x0000023600368670&gt;</pre></div></div></div><div class=\"sk-serial\"><div class=\"sk-item\"><div class=\"sk-serial\"><div class=\"sk-item\"><div class=\"sk-estimator sk-toggleable\"><input class=\"sk-toggleable__control sk-hidden--visually\" id=\"sk-estimator-id-3\" type=\"checkbox\" ><label for=\"sk-estimator-id-3\" class=\"sk-toggleable__label sk-toggleable__label-arrow\">SimpleImputer</label><div class=\"sk-toggleable__content\"><pre>SimpleImputer()</pre></div></div></div><div class=\"sk-item\"><div class=\"sk-estimator sk-toggleable\"><input class=\"sk-toggleable__control sk-hidden--visually\" id=\"sk-estimator-id-4\" type=\"checkbox\" ><label for=\"sk-estimator-id-4\" class=\"sk-toggleable__label sk-toggleable__label-arrow\">StandardScaler</label><div class=\"sk-toggleable__content\"><pre>StandardScaler()</pre></div></div></div></div></div></div></div></div><div class=\"sk-parallel-item\"><div class=\"sk-item\"><div class=\"sk-label-container\"><div class=\"sk-label sk-toggleable\"><input class=\"sk-toggleable__control sk-hidden--visually\" id=\"sk-estimator-id-5\" type=\"checkbox\" ><label for=\"sk-estimator-id-5\" class=\"sk-toggleable__label sk-toggleable__label-arrow\">pipeline-2</label><div class=\"sk-toggleable__content\"><pre>&lt;sklearn.compose._column_transformer.make_column_selector object at 0x0000023600368160&gt;</pre></div></div></div><div class=\"sk-serial\"><div class=\"sk-item\"><div class=\"sk-serial\"><div class=\"sk-item\"><div class=\"sk-estimator sk-toggleable\"><input class=\"sk-toggleable__control sk-hidden--visually\" id=\"sk-estimator-id-6\" type=\"checkbox\" ><label for=\"sk-estimator-id-6\" class=\"sk-toggleable__label sk-toggleable__label-arrow\">SimpleImputer</label><div class=\"sk-toggleable__content\"><pre>SimpleImputer(strategy=&#x27;most_frequent&#x27;)</pre></div></div></div><div class=\"sk-item\"><div class=\"sk-estimator sk-toggleable\"><input class=\"sk-toggleable__control sk-hidden--visually\" id=\"sk-estimator-id-7\" type=\"checkbox\" ><label for=\"sk-estimator-id-7\" class=\"sk-toggleable__label sk-toggleable__label-arrow\">OneHotEncoder</label><div class=\"sk-toggleable__content\"><pre>OneHotEncoder(handle_unknown=&#x27;ignore&#x27;)</pre></div></div></div></div></div></div></div></div><div class=\"sk-parallel-item\"><div class=\"sk-item\"><div class=\"sk-label-container\"><div class=\"sk-label sk-toggleable\"><input class=\"sk-toggleable__control sk-hidden--visually\" id=\"sk-estimator-id-8\" type=\"checkbox\" ><label for=\"sk-estimator-id-8\" class=\"sk-toggleable__label sk-toggleable__label-arrow\">remainder</label><div class=\"sk-toggleable__content\"><pre>[]</pre></div></div></div><div class=\"sk-serial\"><div class=\"sk-item\"><div class=\"sk-estimator sk-toggleable\"><input class=\"sk-toggleable__control sk-hidden--visually\" id=\"sk-estimator-id-9\" type=\"checkbox\" ><label for=\"sk-estimator-id-9\" class=\"sk-toggleable__label sk-toggleable__label-arrow\">passthrough</label><div class=\"sk-toggleable__content\"><pre>passthrough</pre></div></div></div></div></div></div></div></div></div></div>"
      ],
      "text/plain": [
       "ColumnTransformer(remainder='passthrough',\n",
       "                  transformers=[('pipeline-1',\n",
       "                                 Pipeline(steps=[('simpleimputer',\n",
       "                                                  SimpleImputer()),\n",
       "                                                 ('standardscaler',\n",
       "                                                  StandardScaler())]),\n",
       "                                 <sklearn.compose._column_transformer.make_column_selector object at 0x0000023600368670>),\n",
       "                                ('pipeline-2',\n",
       "                                 Pipeline(steps=[('simpleimputer',\n",
       "                                                  SimpleImputer(strategy='most_frequent')),\n",
       "                                                 ('onehotencoder',\n",
       "                                                  OneHotEncoder(handle_unknown='ignore'))]),\n",
       "                                 <sklearn.compose._column_transformer.make_column_selector object at 0x0000023600368160>)])"
      ]
     },
     "execution_count": 9,
     "metadata": {},
     "output_type": "execute_result"
    }
   ],
   "source": [
    "# Looking at how the preprocessor is organized\n",
    "preprocessor"
   ]
  },
  {
   "cell_type": "code",
   "execution_count": 10,
   "id": "899b382b",
   "metadata": {},
   "outputs": [],
   "source": [
    "#Random forrest Regressor Pipeline\n",
    "#Fitting the pipeline\n",
    "rf_tree_pipe = make_pipeline(preprocessor,RandomForestRegressor(random_state = 42))\n",
    "rf_tree_pipe.fit(X_train, y_train)\n",
    "\n",
    "# Get predictions for training and test data\n",
    "y_hat_train = rf_tree_pipe.predict(X_train)\n",
    "y_hat_test = rf_tree_pipe.predict(X_test)"
   ]
  },
  {
   "cell_type": "code",
   "execution_count": 11,
   "id": "ed66454a",
   "metadata": {},
   "outputs": [],
   "source": [
    "#Function for evaluating Model preformance\n",
    "def evaluate_model(y_true, y_pred, split='training'):\n",
    "  \"\"\" prints RMSE, and R2 metrics, include which data split was evaluated\n",
    "\n",
    "  Args:\n",
    "    y_true: y-train or y-test\n",
    "    y_pred: result of model.predict(X)\n",
    "    split: which data split is being evaluate ['training','test']\n",
    "  \"\"\"\n",
    "\n",
    "  r2 = r2_score(y_true,y_pred)\n",
    "  mae = mean_absolute_error(y_true,y_pred)\n",
    "  mse = mean_squared_error(y_true, y_pred)\n",
    "  rmse = mean_squared_error(y_true,y_pred,squared=False)\n",
    "\n",
    "\n",
    "  print(f'Results for {split} data:')\n",
    "  print(f\"  - R^2 = {round(r2,3)}\")\n",
    "  print(f\"  - MAE = {round(mae,3)}\")\n",
    "  print(f\"  - MSE = {round(mse,3)}\")\n",
    "  print(f\"  - RMSE = {round(rmse,3)}\")\n",
    "  print()"
   ]
  },
  {
   "cell_type": "code",
   "execution_count": 12,
   "id": "ca281e21",
   "metadata": {},
   "outputs": [
    {
     "name": "stdout",
     "output_type": "stream",
     "text": [
      "Results for training data:\n",
      "  - R^2 = 0.994\n",
      "  - MAE = 3.016\n",
      "  - MSE = 221.097\n",
      "  - RMSE = 14.869\n",
      "\n",
      "Results for testing data:\n",
      "  - R^2 = 0.937\n",
      "  - MAE = 8.03\n",
      "  - MSE = 1872.78\n",
      "  - RMSE = 43.276\n",
      "\n"
     ]
    }
   ],
   "source": [
    "# Evaluate model's performance\n",
    "evaluate_model(y_train, y_hat_train,split='training')\n",
    "evaluate_model(y_test, y_hat_test,split='testing')"
   ]
  },
  {
   "cell_type": "code",
   "execution_count": 13,
   "id": "2dc8ae76",
   "metadata": {
    "scrolled": true
   },
   "outputs": [
    {
     "name": "stdout",
     "output_type": "stream",
     "text": [
      "     Train (max_depth=5)  Test (max_depth=5)  Train (max_depth=10)  \\\n",
      "202             0.970970            0.934562              0.989080   \n",
      "203             0.970961            0.934571              0.989056   \n",
      "204             0.970957            0.934571              0.989058   \n",
      "205             0.970959            0.934597              0.989059   \n",
      "206             0.970981            0.934566              0.989069   \n",
      "207             0.970993            0.934584              0.989089   \n",
      "208             0.971008            0.934617              0.989093   \n",
      "\n",
      "     Test (max_depth=10)  Train (max_depth=15)  Test (max_depth=15)  \n",
      "202             0.938154              0.993461             0.937557  \n",
      "203             0.938033              0.993431             0.937410  \n",
      "204             0.938044              0.993426             0.937438  \n",
      "205             0.938065              0.993431             0.937477  \n",
      "206             0.938066              0.993453             0.937485  \n",
      "207             0.938031              0.993466             0.937475  \n",
      "208             0.938043              0.993476             0.937520  \n"
     ]
    }
   ],
   "source": [
    "#create a range of max_depth values\n",
    "n_estimators = [202, 203, 204, 205, 206, 207, 208]\n",
    "\n",
    "max_depths = [5, 10, 15] \n",
    "\n",
    "#create a dataframe to store train and test scores.\n",
    "scores = pd.DataFrame(index=n_estimators)\n",
    "\n",
    "# Loop over the values in n_estimators\n",
    "for n in n_estimators:\n",
    "    for max_depth in max_depths:\n",
    "        # Fit a new model with max_depth\n",
    "        rf = RandomForestRegressor(random_state=42, n_estimators=n, max_depth=max_depth)\n",
    "\n",
    "        # Put the model into a pipeline\n",
    "        rf_pipe = make_pipeline(preprocessor, rf)\n",
    "\n",
    "        # Fit the model\n",
    "        rf_pipe.fit(X_train, y_train)\n",
    "\n",
    "        # Create prediction arrays\n",
    "        train_pred = rf_pipe.predict(X_train)\n",
    "        test_pred = rf_pipe.predict(X_test)\n",
    "\n",
    "        # Evaluate the model using R2 Score\n",
    "        train_r2score = r2_score(y_train, train_pred)\n",
    "        test_r2score = r2_score(y_test, test_pred)\n",
    "\n",
    "        # Store the scores in the scores dataframe\n",
    "        scores.loc[n, f'Train (max_depth={max_depth})'] = train_r2score\n",
    "        scores.loc[n, f'Test (max_depth={max_depth})'] = test_r2score\n",
    "\n",
    "# Print the scores dataframe\n",
    "print(scores)"
   ]
  },
  {
   "cell_type": "code",
   "execution_count": 14,
   "id": "431f1066",
   "metadata": {},
   "outputs": [
    {
     "name": "stdout",
     "output_type": "stream",
     "text": [
      "Training Scores for Random Forest Regressor\n",
      "Results for training data:\n",
      "  - R^2 = 0.971\n",
      "  - MAE = 10.424\n",
      "  - MSE = 1047.421\n",
      "  - RMSE = 32.364\n",
      "\n",
      "\n",
      "\n",
      "Testing Scores for Random forest Regressor\n",
      "Results for testing data:\n",
      "  - R^2 = 0.935\n",
      "  - MAE = 10.684\n",
      "  - MSE = 1932.193\n",
      "  - RMSE = 43.957\n",
      "\n"
     ]
    }
   ],
   "source": [
    "#Obtaining the traing and test scores for random forest regression model\n",
    "best_rf = RandomForestRegressor(random_state = 42, n_estimators = n, max_depth=5)\n",
    "\n",
    "best_rf_pipe = make_pipeline(preprocessor, best_rf)\n",
    "\n",
    "best_rf_pipe.fit(X_train, y_train)\n",
    "\n",
    "print('Training Scores for Random Forest Regressor')\n",
    "evaluate_model(y_train, best_rf_pipe.predict(X_train), split = 'training')\n",
    "\n",
    "print('\\n')\n",
    "\n",
    "print('Testing Scores for Random forest Regressor')\n",
    "evaluate_model(y_test, best_rf_pipe.predict(X_test), split = 'testing')"
   ]
  },
  {
   "cell_type": "code",
   "execution_count": 15,
   "id": "6817c419",
   "metadata": {},
   "outputs": [],
   "source": [
    "# Use the trained model to make predictions on your dataset 'fd'\n",
    "predictions = best_rf.predict(fd.drop(columns=['Product Total']))\n",
    "\n",
    "# Create a new DataFrame with the predictions and 'Year' column (assuming 'Year' is one of the columns in your dataset)\n",
    "predictions_df = pd.DataFrame({'Order Year': fd['Order Year'], 'Predicted Product Total': predictions})\n",
    "\n",
    "# Group the predictions by 'Year' and calculate the mean of 'Predicted Product Total' for each year\n",
    "predictions_grouped = predictions_df.groupby('Order Year')['Predicted Product Total'].mean().reset_index()"
   ]
  },
  {
   "cell_type": "code",
   "execution_count": 17,
   "id": "ffc34b8d",
   "metadata": {
    "scrolled": true
   },
   "outputs": [
    {
     "data": {
      "image/png": "[encoded data removed]",
      "text/plain": [
       "<Figure size 1000x600 with 1 Axes>"
      ]
     },
     "metadata": {},
     "output_type": "display_data"
    }
   ],
   "source": [
    "# Create a bar plot for the predicted 'Product Total' by year\n",
    "plt.figure(figsize=(10, 6))  # Adjust the figure size if needed\n",
    "plt.bar(predictions_grouped['Order Year'], predictions_grouped['Predicted Product Total'], color='blue', alpha=0.7)\n",
    "plt.xlabel('Year')\n",
    "plt.ylabel('Predicted Product Total')\n",
    "plt.title('Predicted Product Total by Year')\n",
    "plt.grid(True)\n",
    "\n",
    "# Show the plot\n",
    "plt.show()"
   ]
  }
 ],
 "metadata": {
  "kernelspec": {
   "display_name": "Python (dojo-env)",
   "language": "python",
   "name": "dojo-env"
  },
  "language_info": {
   "codemirror_mode": {
    "name": "ipython",
    "version": 3
   },
   "file_extension": ".py",
   "mimetype": "text/x-python",
   "name": "python",
   "nbconvert_exporter": "python",
   "pygments_lexer": "ipython3",
   "version": "3.9.15"
  },
  "toc": {
   "base_numbering": 1,
   "nav_menu": {},
   "number_sections": false,
   "sideBar": true,
   "skip_h1_title": false,
   "title_cell": "Table of Contents",
   "title_sidebar": "Contents",
   "toc_cell": false,
   "toc_position": {},
   "toc_section_display": true,
   "toc_window_display": false
  }
 },
 "nbformat": 4,
 "nbformat_minor": 5
}
