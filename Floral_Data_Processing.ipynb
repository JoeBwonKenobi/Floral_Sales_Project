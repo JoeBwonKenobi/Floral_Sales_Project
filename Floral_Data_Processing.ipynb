{
 "cells": [
  {
   "cell_type": "markdown",
   "id": "b767f6ec",
   "metadata": {},
   "source": [
    "# Floral Data Processing"
   ]
  },
  {
   "cell_type": "markdown",
   "id": "9e02cb2b",
   "metadata": {},
   "source": [
    "# **Imports**"
   ]
  },
  {
   "cell_type": "code",
   "execution_count": 1,
   "id": "797f1d83",
   "metadata": {},
   "outputs": [],
   "source": [
    "#Numpy\n",
    "import numpy as np\n",
    "from numpy import median\n",
    "\n",
    "#Pandas\n",
    "import pandas as pd\n",
    "\n",
    "#Seaborn\n",
    "import seaborn as sns\n",
    "\n",
    "#matplotlib\n",
    "import matplotlib.pyplot as plt\n",
    "import plotly\n",
    "\n",
    "#Sklearn\n",
    "from sklearn.preprocessing import StandardScaler\n",
    "from sklearn.preprocessing import OneHotEncoder\n",
    "from sklearn.model_selection import train_test_split\n",
    "from sklearn.compose import make_column_selector\n",
    "from sklearn.compose import make_column_transformer\n",
    "from sklearn.impute import SimpleImputer\n",
    "from sklearn.pipeline import make_pipeline\n",
    "\n",
    "import warnings\n",
    "warnings.filterwarnings(\"ignore\")"
   ]
  },
  {
   "cell_type": "markdown",
   "id": "19b79bb2",
   "metadata": {},
   "source": [
    "# **Loading Data**"
   ]
  },
  {
   "cell_type": "code",
   "execution_count": 2,
   "id": "da3879a6",
   "metadata": {},
   "outputs": [],
   "source": [
    "GDS = pd.read_csv('GDS')"
   ]
  },
  {
   "cell_type": "code",
   "execution_count": 3,
   "id": "fdb2e264",
   "metadata": {
    "scrolled": true
   },
   "outputs": [
    {
     "data": {
      "text/html": [
       "<div>\n",
       "<style scoped>\n",
       "    .dataframe tbody tr th:only-of-type {\n",
       "        vertical-align: middle;\n",
       "    }\n",
       "\n",
       "    .dataframe tbody tr th {\n",
       "        vertical-align: top;\n",
       "    }\n",
       "\n",
       "    .dataframe thead th {\n",
       "        text-align: right;\n",
       "    }\n",
       "</style>\n",
       "<table border=\"1\" class=\"dataframe\">\n",
       "  <thead>\n",
       "    <tr style=\"text-align: right;\">\n",
       "      <th></th>\n",
       "      <th>Order #</th>\n",
       "      <th>Transaction Type</th>\n",
       "      <th>Order Time</th>\n",
       "      <th>Order Date</th>\n",
       "      <th>Delivery Date_x</th>\n",
       "      <th>Sender</th>\n",
       "      <th>Recipient</th>\n",
       "      <th>Product Total</th>\n",
       "      <th>Delivery_x</th>\n",
       "      <th>Nontaxable Delivery</th>\n",
       "      <th>...</th>\n",
       "      <th>Billing State</th>\n",
       "      <th>Billing Zip</th>\n",
       "      <th>Subtotal</th>\n",
       "      <th>Delivery_y</th>\n",
       "      <th>Sale Tax</th>\n",
       "      <th>Tip</th>\n",
       "      <th>Discount_y</th>\n",
       "      <th>Grand Total_y</th>\n",
       "      <th>Tax Exempt</th>\n",
       "      <th>Payment Method_y</th>\n",
       "    </tr>\n",
       "  </thead>\n",
       "  <tbody>\n",
       "    <tr>\n",
       "      <th>0</th>\n",
       "      <td>100017453</td>\n",
       "      <td>Sale</td>\n",
       "      <td>03:28:16PM Sat</td>\n",
       "      <td>Dec 29, 2018</td>\n",
       "      <td>Dec 29, 2018</td>\n",
       "      <td>Candyce Williams Glaser</td>\n",
       "      <td>NaN</td>\n",
       "      <td>$815.00</td>\n",
       "      <td>$0.00</td>\n",
       "      <td>$0.00</td>\n",
       "      <td>...</td>\n",
       "      <td>NaN</td>\n",
       "      <td>NaN</td>\n",
       "      <td>NaN</td>\n",
       "      <td>NaN</td>\n",
       "      <td>NaN</td>\n",
       "      <td>NaN</td>\n",
       "      <td>NaN</td>\n",
       "      <td>NaN</td>\n",
       "      <td>NaN</td>\n",
       "      <td>NaN</td>\n",
       "    </tr>\n",
       "    <tr>\n",
       "      <th>1</th>\n",
       "      <td>100017452</td>\n",
       "      <td>Sale</td>\n",
       "      <td>03:16:50PM Sat</td>\n",
       "      <td>Dec 29, 2018</td>\n",
       "      <td>Dec 29, 2018</td>\n",
       "      <td>NaN</td>\n",
       "      <td>NaN</td>\n",
       "      <td>$249.90</td>\n",
       "      <td>$0.00</td>\n",
       "      <td>$0.00</td>\n",
       "      <td>...</td>\n",
       "      <td>NaN</td>\n",
       "      <td>NaN</td>\n",
       "      <td>NaN</td>\n",
       "      <td>NaN</td>\n",
       "      <td>NaN</td>\n",
       "      <td>NaN</td>\n",
       "      <td>NaN</td>\n",
       "      <td>NaN</td>\n",
       "      <td>NaN</td>\n",
       "      <td>NaN</td>\n",
       "    </tr>\n",
       "    <tr>\n",
       "      <th>2</th>\n",
       "      <td>100017451</td>\n",
       "      <td>Sale</td>\n",
       "      <td>02:58:53PM Sat</td>\n",
       "      <td>Dec 29, 2018</td>\n",
       "      <td>Dec 29, 2018</td>\n",
       "      <td>NaN</td>\n",
       "      <td>NaN</td>\n",
       "      <td>$24.95</td>\n",
       "      <td>$0.00</td>\n",
       "      <td>$0.00</td>\n",
       "      <td>...</td>\n",
       "      <td>NaN</td>\n",
       "      <td>NaN</td>\n",
       "      <td>NaN</td>\n",
       "      <td>NaN</td>\n",
       "      <td>NaN</td>\n",
       "      <td>NaN</td>\n",
       "      <td>NaN</td>\n",
       "      <td>NaN</td>\n",
       "      <td>NaN</td>\n",
       "      <td>NaN</td>\n",
       "    </tr>\n",
       "    <tr>\n",
       "      <th>3</th>\n",
       "      <td>100017450</td>\n",
       "      <td>Sale</td>\n",
       "      <td>02:54:45PM Sat</td>\n",
       "      <td>Dec 29, 2018</td>\n",
       "      <td>Dec 29, 2018</td>\n",
       "      <td>Tracie Hamilton</td>\n",
       "      <td>NaN</td>\n",
       "      <td>$635.00</td>\n",
       "      <td>$0.00</td>\n",
       "      <td>$0.00</td>\n",
       "      <td>...</td>\n",
       "      <td>NaN</td>\n",
       "      <td>NaN</td>\n",
       "      <td>NaN</td>\n",
       "      <td>NaN</td>\n",
       "      <td>NaN</td>\n",
       "      <td>NaN</td>\n",
       "      <td>NaN</td>\n",
       "      <td>NaN</td>\n",
       "      <td>NaN</td>\n",
       "      <td>NaN</td>\n",
       "    </tr>\n",
       "    <tr>\n",
       "      <th>4</th>\n",
       "      <td>100017202</td>\n",
       "      <td>Sale</td>\n",
       "      <td>02:48:15PM Sat</td>\n",
       "      <td>Dec 29, 2018</td>\n",
       "      <td>Dec 23, 2018</td>\n",
       "      <td>Candyce Williams Glaser</td>\n",
       "      <td>Candyce Williams Glaser</td>\n",
       "      <td>$702.00</td>\n",
       "      <td>$0.00</td>\n",
       "      <td>$25.00</td>\n",
       "      <td>...</td>\n",
       "      <td>NaN</td>\n",
       "      <td>NaN</td>\n",
       "      <td>NaN</td>\n",
       "      <td>NaN</td>\n",
       "      <td>NaN</td>\n",
       "      <td>NaN</td>\n",
       "      <td>NaN</td>\n",
       "      <td>NaN</td>\n",
       "      <td>NaN</td>\n",
       "      <td>NaN</td>\n",
       "    </tr>\n",
       "  </tbody>\n",
       "</table>\n",
       "<p>5 rows × 55 columns</p>\n",
       "</div>"
      ],
      "text/plain": [
       "     Order # Transaction Type      Order Time    Order Date Delivery Date_x  \\\n",
       "0  100017453             Sale  03:28:16PM Sat  Dec 29, 2018    Dec 29, 2018   \n",
       "1  100017452             Sale  03:16:50PM Sat  Dec 29, 2018    Dec 29, 2018   \n",
       "2  100017451             Sale  02:58:53PM Sat  Dec 29, 2018    Dec 29, 2018   \n",
       "3  100017450             Sale  02:54:45PM Sat  Dec 29, 2018    Dec 29, 2018   \n",
       "4  100017202             Sale  02:48:15PM Sat  Dec 29, 2018    Dec 23, 2018   \n",
       "\n",
       "                    Sender                Recipient Product Total Delivery_x  \\\n",
       "0  Candyce Williams Glaser                      NaN       $815.00      $0.00   \n",
       "1                      NaN                      NaN       $249.90      $0.00   \n",
       "2                      NaN                      NaN        $24.95      $0.00   \n",
       "3          Tracie Hamilton                      NaN       $635.00      $0.00   \n",
       "4  Candyce Williams Glaser  Candyce Williams Glaser       $702.00      $0.00   \n",
       "\n",
       "  Nontaxable Delivery  ... Billing State Billing Zip Subtotal Delivery_y  \\\n",
       "0               $0.00  ...           NaN         NaN      NaN        NaN   \n",
       "1               $0.00  ...           NaN         NaN      NaN        NaN   \n",
       "2               $0.00  ...           NaN         NaN      NaN        NaN   \n",
       "3               $0.00  ...           NaN         NaN      NaN        NaN   \n",
       "4              $25.00  ...           NaN         NaN      NaN        NaN   \n",
       "\n",
       "  Sale Tax Tip Discount_y Grand Total_y Tax Exempt Payment Method_y  \n",
       "0      NaN NaN        NaN           NaN        NaN              NaN  \n",
       "1      NaN NaN        NaN           NaN        NaN              NaN  \n",
       "2      NaN NaN        NaN           NaN        NaN              NaN  \n",
       "3      NaN NaN        NaN           NaN        NaN              NaN  \n",
       "4      NaN NaN        NaN           NaN        NaN              NaN  \n",
       "\n",
       "[5 rows x 55 columns]"
      ]
     },
     "execution_count": 3,
     "metadata": {},
     "output_type": "execute_result"
    }
   ],
   "source": [
    "GDS.head()"
   ]
  },
  {
   "cell_type": "markdown",
   "id": "fc969a11",
   "metadata": {},
   "source": [
    "# **Data Exploration**"
   ]
  },
  {
   "cell_type": "code",
   "execution_count": 4,
   "id": "d5429309",
   "metadata": {},
   "outputs": [
    {
     "name": "stdout",
     "output_type": "stream",
     "text": [
      "There are 1879164 missing values.\n"
     ]
    }
   ],
   "source": [
    "print(\"There are\", GDS.isna().sum().sum(), \"missing values.\")"
   ]
  },
  {
   "cell_type": "code",
   "execution_count": 5,
   "id": "f8f5e61f",
   "metadata": {},
   "outputs": [
    {
     "data": {
      "text/plain": [
       "Order #                      0\n",
       "Transaction Type          5449\n",
       "Order Time                5449\n",
       "Order Date                5449\n",
       "Delivery Date_x           5458\n",
       "Sender                   24781\n",
       "Recipient                30983\n",
       "Product Total             5449\n",
       "Delivery_x                5449\n",
       "Nontaxable Delivery       5449\n",
       "Wire Out Fee              5449\n",
       "Discount_x                5449\n",
       "Gift Cards                5449\n",
       "Tax                       5449\n",
       "Tips                      5449\n",
       "Grand Total_x             5449\n",
       "Payment Method_x          5449\n",
       "Order Type                5640\n",
       "Order Method              5449\n",
       "Order Source             47467\n",
       "Sale Date                47467\n",
       "Delivery Date_y          47467\n",
       "Order Status             47467\n",
       "Delivery Method          47467\n",
       "Product Name             47467\n",
       "Item Number              52778\n",
       "Card Message             47671\n",
       "Card Signature           49999\n",
       "Occasion                 48108\n",
       "Customer Name            47467\n",
       "Customer Phone           47467\n",
       "Customer Email           47496\n",
       "Recipient Name           47467\n",
       "Recipient Phone          47467\n",
       "Delivery Street          47467\n",
       "Delivery Street 2        52916\n",
       "Delivery City            47467\n",
       "Delivery State           47467\n",
       "Delivery Zip             47467\n",
       "Delivery Address Type    47467\n",
       "Billing Name             47467\n",
       "Billing Phone            47467\n",
       "Billing Street           47467\n",
       "Billing Street 2         52916\n",
       "Billing City             47467\n",
       "Billing State            47504\n",
       "Billing Zip              47467\n",
       "Subtotal                 47467\n",
       "Delivery_y               47467\n",
       "Sale Tax                 47467\n",
       "Tip                      49613\n",
       "Discount_y               47467\n",
       "Grand Total_y            47467\n",
       "Tax Exempt               52873\n",
       "Payment Method_y         47467\n",
       "dtype: int64"
      ]
     },
     "execution_count": 5,
     "metadata": {},
     "output_type": "execute_result"
    }
   ],
   "source": [
    "GDS.isna().sum()"
   ]
  },
  {
   "cell_type": "code",
   "execution_count": 6,
   "id": "39c7e28f",
   "metadata": {
    "scrolled": true
   },
   "outputs": [
    {
     "name": "stdout",
     "output_type": "stream",
     "text": [
      "<class 'pandas.core.frame.DataFrame'>\n",
      "RangeIndex: 52916 entries, 0 to 52915\n",
      "Data columns (total 55 columns):\n",
      " #   Column                 Non-Null Count  Dtype  \n",
      "---  ------                 --------------  -----  \n",
      " 0   Order #                52916 non-null  int64  \n",
      " 1   Transaction Type       47467 non-null  object \n",
      " 2   Order Time             47467 non-null  object \n",
      " 3   Order Date             47467 non-null  object \n",
      " 4   Delivery Date_x        47458 non-null  object \n",
      " 5   Sender                 28135 non-null  object \n",
      " 6   Recipient              21933 non-null  object \n",
      " 7   Product Total          47467 non-null  object \n",
      " 8   Delivery_x             47467 non-null  object \n",
      " 9   Nontaxable Delivery    47467 non-null  object \n",
      " 10  Wire Out Fee           47467 non-null  object \n",
      " 11  Discount_x             47467 non-null  object \n",
      " 12  Gift Cards             47467 non-null  object \n",
      " 13  Tax                    47467 non-null  object \n",
      " 14  Tips                   47467 non-null  object \n",
      " 15  Grand Total_x          47467 non-null  object \n",
      " 16  Payment Method_x       47467 non-null  object \n",
      " 17  Order Type             47276 non-null  object \n",
      " 18  Order Method           47467 non-null  object \n",
      " 19  Order Source           5449 non-null   object \n",
      " 20  Sale Date              5449 non-null   object \n",
      " 21  Delivery Date_y        5449 non-null   object \n",
      " 22  Order Status           5449 non-null   object \n",
      " 23  Delivery Method        5449 non-null   object \n",
      " 24  Product Name           5449 non-null   object \n",
      " 25  Item Number            138 non-null    object \n",
      " 26  Card Message           5245 non-null   object \n",
      " 27  Card Signature         2917 non-null   object \n",
      " 28  Occasion               4808 non-null   object \n",
      " 29  Customer Name          5449 non-null   object \n",
      " 30  Customer Phone         5449 non-null   object \n",
      " 31  Customer Email         5420 non-null   object \n",
      " 32  Recipient Name         5449 non-null   object \n",
      " 33  Recipient Phone        5449 non-null   object \n",
      " 34  Delivery Street        5449 non-null   object \n",
      " 35  Delivery Street 2      0 non-null      float64\n",
      " 36  Delivery City          5449 non-null   object \n",
      " 37  Delivery State         5449 non-null   object \n",
      " 38  Delivery Zip           5449 non-null   float64\n",
      " 39  Delivery Address Type  5449 non-null   object \n",
      " 40  Billing Name           5449 non-null   object \n",
      " 41  Billing Phone          5449 non-null   object \n",
      " 42  Billing Street         5449 non-null   object \n",
      " 43  Billing Street 2       0 non-null      float64\n",
      " 44  Billing City           5449 non-null   object \n",
      " 45  Billing State          5412 non-null   object \n",
      " 46  Billing Zip            5449 non-null   object \n",
      " 47  Subtotal               5449 non-null   float64\n",
      " 48  Delivery_y             5449 non-null   float64\n",
      " 49  Sale Tax               5449 non-null   float64\n",
      " 50  Tip                    3303 non-null   float64\n",
      " 51  Discount_y             5449 non-null   float64\n",
      " 52  Grand Total_y          5449 non-null   float64\n",
      " 53  Tax Exempt             43 non-null     float64\n",
      " 54  Payment Method_y       5449 non-null   object \n",
      "dtypes: float64(10), int64(1), object(44)\n",
      "memory usage: 22.2+ MB\n"
     ]
    }
   ],
   "source": [
    "GDS.info()"
   ]
  },
  {
   "cell_type": "markdown",
   "id": "413eab9d",
   "metadata": {},
   "source": [
    "# **Data Cleaning**"
   ]
  },
  {
   "cell_type": "code",
   "execution_count": 7,
   "id": "f19be494",
   "metadata": {
    "scrolled": true
   },
   "outputs": [
    {
     "name": "stdout",
     "output_type": "stream",
     "text": [
      "<class 'pandas.core.frame.DataFrame'>\n",
      "RangeIndex: 52916 entries, 0 to 52915\n",
      "Data columns (total 26 columns):\n",
      " #   Column               Non-Null Count  Dtype  \n",
      "---  ------               --------------  -----  \n",
      " 0   Order #              52916 non-null  int64  \n",
      " 1   Transaction Type     47467 non-null  object \n",
      " 2   Order Time           47467 non-null  object \n",
      " 3   Order Date           47467 non-null  object \n",
      " 4   Delivery Date_x      47458 non-null  object \n",
      " 5   Sender               28135 non-null  object \n",
      " 6   Recipient            21933 non-null  object \n",
      " 7   Product Total        47467 non-null  object \n",
      " 8   Nontaxable Delivery  47467 non-null  object \n",
      " 9   Wire Out Fee         47467 non-null  object \n",
      " 10  Gift Cards           47467 non-null  object \n",
      " 11  Grand Total_x        47467 non-null  object \n",
      " 12  Payment Method_x     47467 non-null  object \n",
      " 13  Order Type           47276 non-null  object \n",
      " 14  Order Method         47467 non-null  object \n",
      " 15  Order Source         5449 non-null   object \n",
      " 16  Sale Date            5449 non-null   object \n",
      " 17  Delivery Method      5449 non-null   object \n",
      " 18  Product Name         5449 non-null   object \n",
      " 19  Occasion             4808 non-null   object \n",
      " 20  Customer Name        5449 non-null   object \n",
      " 21  Recipient Name       5449 non-null   object \n",
      " 22  Delivery Street      5449 non-null   object \n",
      " 23  Delivery City        5449 non-null   object \n",
      " 24  Delivery Zip         5449 non-null   float64\n",
      " 25  Subtotal             5449 non-null   float64\n",
      "dtypes: float64(2), int64(1), object(23)\n",
      "memory usage: 10.5+ MB\n"
     ]
    }
   ],
   "source": [
    "#Dropping unnecessary columns\n",
    "columns_to_drop = ['Delivery Street 2','Billing Street 2', 'Delivery_x', 'Delivery_y', 'Discount_y', 'Discount_x', 'Card Signature', \n",
    "                   'Card Message', 'Tips', 'Tip', 'Customer Email', 'Customer Phone', 'Delivery Address Type', 'Tax Exempt', 'Grand Total_y', \n",
    "                   'Item Number', 'Billing Phone', 'Delivery State', 'Delivery Date_y', 'Payment Method_y', 'Sale Tax', 'Billing Name', \n",
    "                   'Billing Street', 'Billing City', 'Billing State', 'Billing Zip', 'Recipient Phone', 'Order Status', 'Tax']\n",
    "df = GDS.drop(columns_to_drop, axis= 1)\n",
    "df.info()"
   ]
  },
  {
   "cell_type": "code",
   "execution_count": 8,
   "id": "d2f98251",
   "metadata": {
    "scrolled": true
   },
   "outputs": [
    {
     "name": "stdout",
     "output_type": "stream",
     "text": [
      "Order #                51426\n",
      "Transaction Type           3\n",
      "Order Time             41876\n",
      "Order Date              1683\n",
      "Delivery Date_x         1740\n",
      "Sender                 11032\n",
      "Recipient              14112\n",
      "Product Total           5472\n",
      "Nontaxable Delivery      390\n",
      "Wire Out Fee              52\n",
      "Gift Cards                22\n",
      "Grand Total_x           9511\n",
      "Payment Method_x          12\n",
      "Order Type                 4\n",
      "Order Method               5\n",
      "Order Source               4\n",
      "Sale Date               1434\n",
      "Delivery Method            2\n",
      "Product Name             535\n",
      "Occasion                  37\n",
      "Customer Name           3731\n",
      "Recipient Name          4406\n",
      "Delivery Street         4056\n",
      "Delivery City             95\n",
      "Delivery Zip              35\n",
      "Subtotal                 157\n",
      "dtype: int64\n"
     ]
    }
   ],
   "source": [
    "# Check for unique values\n",
    "unique_counts = df.nunique()\n",
    "print(unique_counts)"
   ]
  },
  {
   "cell_type": "code",
   "execution_count": 9,
   "id": "bc6c98fc",
   "metadata": {},
   "outputs": [
    {
     "data": {
      "text/plain": [
       "Sale          46068\n",
       "Adjustment      981\n",
       "Refund          418\n",
       "Name: Transaction Type, dtype: int64"
      ]
     },
     "execution_count": 9,
     "metadata": {},
     "output_type": "execute_result"
    }
   ],
   "source": [
    "df['Transaction Type'].value_counts()"
   ]
  },
  {
   "cell_type": "markdown",
   "id": "a24379d7",
   "metadata": {},
   "source": [
    "# **Creating the pipeline**"
   ]
  },
  {
   "cell_type": "code",
   "execution_count": 10,
   "id": "984f5037",
   "metadata": {},
   "outputs": [],
   "source": [
    "#Validation Split\n",
    "X= df.drop(columns = 'Product Total')\n",
    "y = df['Product Total']"
   ]
  },
  {
   "cell_type": "code",
   "execution_count": 11,
   "id": "a1ab2d33",
   "metadata": {},
   "outputs": [],
   "source": [
    "#Train, Test, Split\n",
    "X_train, X_test, y_train, y_test = train_test_split(X, y, random_state=42)"
   ]
  },
  {
   "cell_type": "code",
   "execution_count": 12,
   "id": "0acaef74",
   "metadata": {
    "scrolled": false
   },
   "outputs": [],
   "source": [
    "def create_preprocessing_pipeline(X_train, numeric_cols, categorical_cols):\n",
    "#mean imputer\n",
    "    mean_imputer = SimpleImputer(strategy= 'mean')\n",
    "\n",
    "#Scaler\n",
    "    scaler = StandardScaler()\n",
    "\n",
    "# Numeric pipeline\n",
    "    numeric_pipe = make_pipeline(mean_imputer, scaler)\n",
    "    numeric_pipe\n",
    "    \n",
    "# Define the constant imputer for categorical pipeline\n",
    "    constant_imputer = SimpleImputer(strategy='constant', fill_value='missing')\n",
    "    \n",
    "#OneHotEncoder\n",
    "    ohe =OneHotEncoder(handle_unknown='ignore', sparse=False)\n",
    "\n",
    "# Create the numeric pipeline\n",
    "    numeric_pipe = make_pipeline(mean_imputer, scaler)\n",
    "\n",
    "# Create the categorical pipeline\n",
    "    categorical_pipe = make_pipeline(constant_imputer, ohe)\n",
    "\n",
    "# Create column selectors\n",
    "    num_cols_idx = np.isin(X_train.columns, numeric_cols)\n",
    "    cat_cols_idx = np.isin(X_train.columns, categorical_cols)\n",
    "    \n",
    "# Create tuples for preprocessing the categorical and numeric columns\n",
    "    num_tuple = (numeric_pipe, num_cols_idx)\n",
    "    cat_tuple = (categorical_pipe, cat_cols_idx)\n",
    "    \n",
    "# Create the Column Transformer\n",
    "    preprocessor = make_column_transformer(num_tuple, cat_tuple, remainder='passthrough')\n",
    "\n",
    "# Fit the transformer\n",
    "    preprocessor.fit(X_train)\n",
    "    \n",
    "    return preprocessor"
   ]
  },
  {
   "cell_type": "code",
   "execution_count": 13,
   "id": "0ed9749a",
   "metadata": {},
   "outputs": [],
   "source": [
    "numeric_cols = ['Product Total', 'Grand Total']\n",
    "categorical_cols = ['Transaction Type', 'Order Type']"
   ]
  },
  {
   "cell_type": "code",
   "execution_count": 14,
   "id": "48141759",
   "metadata": {},
   "outputs": [],
   "source": [
    "preprocessor = create_preprocessing_pipeline(X_train, numeric_cols, categorical_cols)"
   ]
  },
  {
   "cell_type": "code",
   "execution_count": 15,
   "id": "a019967e",
   "metadata": {},
   "outputs": [],
   "source": [
    "X_train_preprocessed = preprocessor.transform(X_train)"
   ]
  },
  {
   "cell_type": "code",
   "execution_count": 16,
   "id": "356bc83f",
   "metadata": {},
   "outputs": [
    {
     "data": {
      "image/png": "[encoded data removed]",
      "text/plain": [
       "<Figure size 640x480 with 1 Axes>"
      ]
     },
     "metadata": {},
     "output_type": "display_data"
    }
   ],
   "source": [
    "# Assuming X_train_preprocessed is your preprocessed data\n",
    "\n",
    "# Extract the transformed categorical columns\n",
    "categorical_data = X_train_preprocessed[:, -len(categorical_cols):]\n",
    "\n",
    "# Calculate the sum of each category\n",
    "category_sum = categorical_data.sum(axis=0)\n",
    "# Create a pandas DataFrame for the bar plot\n",
    "df = pd.DataFrame({'Categories': categorical_cols, 'Count': category_sum})\n",
    "\n",
    "# Create the bar plot\n",
    "plt.bar(df['Categories'], df['Count'])\n",
    "# Add labels and title\n",
    "plt.xlabel('Categories')\n",
    "plt.ylabel('Count')\n",
    "plt.title('Bar Plot of Preprocessed Categorical Data')\n",
    "\n",
    "# Rotate the x-axis labels if needed\n",
    "plt.xticks(rotation=45)\n",
    "\n",
    "# Display the plot\n",
    "plt.show()"
   ]
  },
  {
   "cell_type": "code",
   "execution_count": 18,
   "id": "e686a02c",
   "metadata": {},
   "outputs": [
    {
     "data": {
      "image/png": "[encoded data removed]",
      "text/plain": [
       "<Figure size 640x480 with 1 Axes>"
      ]
     },
     "metadata": {},
     "output_type": "display_data"
    }
   ],
   "source": [
    "# Assuming X_train_preprocessed is your preprocessed data\n",
    "\n",
    "# Extract the transformed numeric columns\n",
    "numeric_data = X_train_preprocessed[:, :len(numeric_cols)]\n",
    "\n",
    "# Calculate the mean of each numeric column\n",
    "column_means = numeric_data.mean(axis=0)\n",
    "# Create a list of column names for the bar plot\n",
    "column_names = ['Product Total', 'Grand Total']\n",
    "\n",
    "# Make sure column_means is a numpy array\n",
    "column_means = np.array(column_means)\n",
    "\n",
    "# Create the bar plot\n",
    "plt.bar(column_names, column_means)\n",
    "# Add labels and title\n",
    "plt.xlabel('Numeric Columns')\n",
    "plt.ylabel('Mean Value')\n",
    "plt.title('Bar Plot of Preprocessed Numeric Data')\n",
    "\n",
    "# Rotate the x-axis labels if needed\n",
    "plt.xticks(rotation=45)\n",
    "\n",
    "# Display the plot\n",
    "plt.show()"
   ]
  },
  {
   "cell_type": "code",
   "execution_count": null,
   "id": "d2214681",
   "metadata": {},
   "outputs": [],
   "source": []
  }
 ],
 "metadata": {
  "kernelspec": {
   "display_name": "Python (dojo-env)",
   "language": "python",
   "name": "dojo-env"
  },
  "language_info": {
   "codemirror_mode": {
    "name": "ipython",
    "version": 3
   },
   "file_extension": ".py",
   "mimetype": "text/x-python",
   "name": "python",
   "nbconvert_exporter": "python",
   "pygments_lexer": "ipython3",
   "version": "3.9.15"
  },
  "toc": {
   "base_numbering": 1,
   "nav_menu": {},
   "number_sections": false,
   "sideBar": true,
   "skip_h1_title": false,
   "title_cell": "Table of Contents",
   "title_sidebar": "Contents",
   "toc_cell": false,
   "toc_position": {
    "height": "calc(100% - 180px)",
    "left": "10px",
    "top": "150px",
    "width": "215.824px"
   },
   "toc_section_display": true,
   "toc_window_display": false
  }
 },
 "nbformat": 4,
 "nbformat_minor": 5
}
