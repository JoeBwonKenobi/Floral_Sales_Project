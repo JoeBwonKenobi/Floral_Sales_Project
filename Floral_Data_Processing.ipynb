{
 "cells": [
  {
   "cell_type": "markdown",
   "id": "b767f6ec",
   "metadata": {},
   "source": [
    "# Floral Data Processing"
   ]
  },
  {
   "cell_type": "markdown",
   "id": "9e02cb2b",
   "metadata": {},
   "source": [
    "# **Imports**"
   ]
  },
  {
   "cell_type": "code",
   "execution_count": 1,
   "id": "797f1d83",
   "metadata": {},
   "outputs": [],
   "source": [
    "#Numpy\n",
    "import numpy as np\n",
    "from numpy import median\n",
    "\n",
    "#Pandas\n",
    "import pandas as pd\n",
    "\n",
    "#Seaborn\n",
    "import seaborn as sns\n",
    "\n",
    "#matplotlib\n",
    "import matplotlib.pyplot as plt\n",
    "import plotly\n",
    "\n",
    "#Sklearn\n",
    "from sklearn.preprocessing import StandardScaler\n",
    "from sklearn.preprocessing import OneHotEncoder\n",
    "from sklearn.model_selection import train_test_split\n",
    "from sklearn.compose import make_column_selector\n",
    "from sklearn.compose import make_column_transformer\n",
    "from sklearn.impute import SimpleImputer\n",
    "from sklearn.pipeline import make_pipeline\n",
    "\n",
    "import warnings\n",
    "warnings.filterwarnings(\"ignore\")"
   ]
  },
  {
   "cell_type": "markdown",
   "id": "19b79bb2",
   "metadata": {},
   "source": [
    "# **Loading Data**"
   ]
  },
  {
   "cell_type": "code",
   "execution_count": 2,
   "id": "da3879a6",
   "metadata": {},
   "outputs": [],
   "source": [
    "#Loading in the data from the previous notebook\n",
    "GDS = pd.read_csv('GDS')"
   ]
  },
  {
   "cell_type": "code",
   "execution_count": 3,
   "id": "fdb2e264",
   "metadata": {
    "scrolled": true
   },
   "outputs": [
    {
     "data": {
      "text/html": [
       "<div>\n",
       "<style scoped>\n",
       "    .dataframe tbody tr th:only-of-type {\n",
       "        vertical-align: middle;\n",
       "    }\n",
       "\n",
       "    .dataframe tbody tr th {\n",
       "        vertical-align: top;\n",
       "    }\n",
       "\n",
       "    .dataframe thead th {\n",
       "        text-align: right;\n",
       "    }\n",
       "</style>\n",
       "<table border=\"1\" class=\"dataframe\">\n",
       "  <thead>\n",
       "    <tr style=\"text-align: right;\">\n",
       "      <th></th>\n",
       "      <th>Order #</th>\n",
       "      <th>Transaction Type</th>\n",
       "      <th>Order Time</th>\n",
       "      <th>Order Date</th>\n",
       "      <th>Delivery Date_x</th>\n",
       "      <th>Sender</th>\n",
       "      <th>Recipient</th>\n",
       "      <th>Product Total</th>\n",
       "      <th>Delivery_x</th>\n",
       "      <th>Nontaxable Delivery</th>\n",
       "      <th>...</th>\n",
       "      <th>Billing State</th>\n",
       "      <th>Billing Zip</th>\n",
       "      <th>Subtotal</th>\n",
       "      <th>Delivery_y</th>\n",
       "      <th>Sale Tax</th>\n",
       "      <th>Tip</th>\n",
       "      <th>Discount_y</th>\n",
       "      <th>Grand Total_y</th>\n",
       "      <th>Tax Exempt</th>\n",
       "      <th>Payment Method_y</th>\n",
       "    </tr>\n",
       "  </thead>\n",
       "  <tbody>\n",
       "    <tr>\n",
       "      <th>0</th>\n",
       "      <td>100017453</td>\n",
       "      <td>Sale</td>\n",
       "      <td>03:28:16PM Sat</td>\n",
       "      <td>Dec 29, 2018</td>\n",
       "      <td>Dec 29, 2018</td>\n",
       "      <td>Candyce Williams Glaser</td>\n",
       "      <td>NaN</td>\n",
       "      <td>$815.00</td>\n",
       "      <td>$0.00</td>\n",
       "      <td>$0.00</td>\n",
       "      <td>...</td>\n",
       "      <td>NaN</td>\n",
       "      <td>NaN</td>\n",
       "      <td>NaN</td>\n",
       "      <td>NaN</td>\n",
       "      <td>NaN</td>\n",
       "      <td>NaN</td>\n",
       "      <td>NaN</td>\n",
       "      <td>NaN</td>\n",
       "      <td>NaN</td>\n",
       "      <td>NaN</td>\n",
       "    </tr>\n",
       "    <tr>\n",
       "      <th>1</th>\n",
       "      <td>100017452</td>\n",
       "      <td>Sale</td>\n",
       "      <td>03:16:50PM Sat</td>\n",
       "      <td>Dec 29, 2018</td>\n",
       "      <td>Dec 29, 2018</td>\n",
       "      <td>NaN</td>\n",
       "      <td>NaN</td>\n",
       "      <td>$249.90</td>\n",
       "      <td>$0.00</td>\n",
       "      <td>$0.00</td>\n",
       "      <td>...</td>\n",
       "      <td>NaN</td>\n",
       "      <td>NaN</td>\n",
       "      <td>NaN</td>\n",
       "      <td>NaN</td>\n",
       "      <td>NaN</td>\n",
       "      <td>NaN</td>\n",
       "      <td>NaN</td>\n",
       "      <td>NaN</td>\n",
       "      <td>NaN</td>\n",
       "      <td>NaN</td>\n",
       "    </tr>\n",
       "    <tr>\n",
       "      <th>2</th>\n",
       "      <td>100017451</td>\n",
       "      <td>Sale</td>\n",
       "      <td>02:58:53PM Sat</td>\n",
       "      <td>Dec 29, 2018</td>\n",
       "      <td>Dec 29, 2018</td>\n",
       "      <td>NaN</td>\n",
       "      <td>NaN</td>\n",
       "      <td>$24.95</td>\n",
       "      <td>$0.00</td>\n",
       "      <td>$0.00</td>\n",
       "      <td>...</td>\n",
       "      <td>NaN</td>\n",
       "      <td>NaN</td>\n",
       "      <td>NaN</td>\n",
       "      <td>NaN</td>\n",
       "      <td>NaN</td>\n",
       "      <td>NaN</td>\n",
       "      <td>NaN</td>\n",
       "      <td>NaN</td>\n",
       "      <td>NaN</td>\n",
       "      <td>NaN</td>\n",
       "    </tr>\n",
       "    <tr>\n",
       "      <th>3</th>\n",
       "      <td>100017450</td>\n",
       "      <td>Sale</td>\n",
       "      <td>02:54:45PM Sat</td>\n",
       "      <td>Dec 29, 2018</td>\n",
       "      <td>Dec 29, 2018</td>\n",
       "      <td>Tracie Hamilton</td>\n",
       "      <td>NaN</td>\n",
       "      <td>$635.00</td>\n",
       "      <td>$0.00</td>\n",
       "      <td>$0.00</td>\n",
       "      <td>...</td>\n",
       "      <td>NaN</td>\n",
       "      <td>NaN</td>\n",
       "      <td>NaN</td>\n",
       "      <td>NaN</td>\n",
       "      <td>NaN</td>\n",
       "      <td>NaN</td>\n",
       "      <td>NaN</td>\n",
       "      <td>NaN</td>\n",
       "      <td>NaN</td>\n",
       "      <td>NaN</td>\n",
       "    </tr>\n",
       "    <tr>\n",
       "      <th>4</th>\n",
       "      <td>100017202</td>\n",
       "      <td>Sale</td>\n",
       "      <td>02:48:15PM Sat</td>\n",
       "      <td>Dec 29, 2018</td>\n",
       "      <td>Dec 23, 2018</td>\n",
       "      <td>Candyce Williams Glaser</td>\n",
       "      <td>Candyce Williams Glaser</td>\n",
       "      <td>$702.00</td>\n",
       "      <td>$0.00</td>\n",
       "      <td>$25.00</td>\n",
       "      <td>...</td>\n",
       "      <td>NaN</td>\n",
       "      <td>NaN</td>\n",
       "      <td>NaN</td>\n",
       "      <td>NaN</td>\n",
       "      <td>NaN</td>\n",
       "      <td>NaN</td>\n",
       "      <td>NaN</td>\n",
       "      <td>NaN</td>\n",
       "      <td>NaN</td>\n",
       "      <td>NaN</td>\n",
       "    </tr>\n",
       "  </tbody>\n",
       "</table>\n",
       "<p>5 rows × 55 columns</p>\n",
       "</div>"
      ],
      "text/plain": [
       "     Order # Transaction Type      Order Time    Order Date Delivery Date_x  \\\n",
       "0  100017453             Sale  03:28:16PM Sat  Dec 29, 2018    Dec 29, 2018   \n",
       "1  100017452             Sale  03:16:50PM Sat  Dec 29, 2018    Dec 29, 2018   \n",
       "2  100017451             Sale  02:58:53PM Sat  Dec 29, 2018    Dec 29, 2018   \n",
       "3  100017450             Sale  02:54:45PM Sat  Dec 29, 2018    Dec 29, 2018   \n",
       "4  100017202             Sale  02:48:15PM Sat  Dec 29, 2018    Dec 23, 2018   \n",
       "\n",
       "                    Sender                Recipient Product Total Delivery_x  \\\n",
       "0  Candyce Williams Glaser                      NaN       $815.00      $0.00   \n",
       "1                      NaN                      NaN       $249.90      $0.00   \n",
       "2                      NaN                      NaN        $24.95      $0.00   \n",
       "3          Tracie Hamilton                      NaN       $635.00      $0.00   \n",
       "4  Candyce Williams Glaser  Candyce Williams Glaser       $702.00      $0.00   \n",
       "\n",
       "  Nontaxable Delivery  ... Billing State Billing Zip Subtotal Delivery_y  \\\n",
       "0               $0.00  ...           NaN         NaN      NaN        NaN   \n",
       "1               $0.00  ...           NaN         NaN      NaN        NaN   \n",
       "2               $0.00  ...           NaN         NaN      NaN        NaN   \n",
       "3               $0.00  ...           NaN         NaN      NaN        NaN   \n",
       "4              $25.00  ...           NaN         NaN      NaN        NaN   \n",
       "\n",
       "  Sale Tax Tip Discount_y Grand Total_y Tax Exempt Payment Method_y  \n",
       "0      NaN NaN        NaN           NaN        NaN              NaN  \n",
       "1      NaN NaN        NaN           NaN        NaN              NaN  \n",
       "2      NaN NaN        NaN           NaN        NaN              NaN  \n",
       "3      NaN NaN        NaN           NaN        NaN              NaN  \n",
       "4      NaN NaN        NaN           NaN        NaN              NaN  \n",
       "\n",
       "[5 rows x 55 columns]"
      ]
     },
     "execution_count": 3,
     "metadata": {},
     "output_type": "execute_result"
    }
   ],
   "source": [
    "#Preview of data\n",
    "GDS.head()"
   ]
  },
  {
   "cell_type": "markdown",
   "id": "fc969a11",
   "metadata": {},
   "source": [
    "# **Data Exploration**"
   ]
  },
  {
   "cell_type": "code",
   "execution_count": 4,
   "id": "d5429309",
   "metadata": {},
   "outputs": [
    {
     "name": "stdout",
     "output_type": "stream",
     "text": [
      "There are 1879164 missing values.\n"
     ]
    }
   ],
   "source": [
    "#Print statement containing number of total missing values\n",
    "print(\"There are\", GDS.isna().sum().sum(), \"missing values.\")"
   ]
  },
  {
   "cell_type": "code",
   "execution_count": 5,
   "id": "f8f5e61f",
   "metadata": {},
   "outputs": [
    {
     "data": {
      "text/plain": [
       "Order #                      0\n",
       "Transaction Type          5449\n",
       "Order Time                5449\n",
       "Order Date                5449\n",
       "Delivery Date_x           5458\n",
       "Sender                   24781\n",
       "Recipient                30983\n",
       "Product Total             5449\n",
       "Delivery_x                5449\n",
       "Nontaxable Delivery       5449\n",
       "Wire Out Fee              5449\n",
       "Discount_x                5449\n",
       "Gift Cards                5449\n",
       "Tax                       5449\n",
       "Tips                      5449\n",
       "Grand Total_x             5449\n",
       "Payment Method_x          5449\n",
       "Order Type                5640\n",
       "Order Method              5449\n",
       "Order Source             47467\n",
       "Sale Date                47467\n",
       "Delivery Date_y          47467\n",
       "Order Status             47467\n",
       "Delivery Method          47467\n",
       "Product Name             47467\n",
       "Item Number              52778\n",
       "Card Message             47671\n",
       "Card Signature           49999\n",
       "Occasion                 48108\n",
       "Customer Name            47467\n",
       "Customer Phone           47467\n",
       "Customer Email           47496\n",
       "Recipient Name           47467\n",
       "Recipient Phone          47467\n",
       "Delivery Street          47467\n",
       "Delivery Street 2        52916\n",
       "Delivery City            47467\n",
       "Delivery State           47467\n",
       "Delivery Zip             47467\n",
       "Delivery Address Type    47467\n",
       "Billing Name             47467\n",
       "Billing Phone            47467\n",
       "Billing Street           47467\n",
       "Billing Street 2         52916\n",
       "Billing City             47467\n",
       "Billing State            47504\n",
       "Billing Zip              47467\n",
       "Subtotal                 47467\n",
       "Delivery_y               47467\n",
       "Sale Tax                 47467\n",
       "Tip                      49613\n",
       "Discount_y               47467\n",
       "Grand Total_y            47467\n",
       "Tax Exempt               52873\n",
       "Payment Method_y         47467\n",
       "dtype: int64"
      ]
     },
     "execution_count": 5,
     "metadata": {},
     "output_type": "execute_result"
    }
   ],
   "source": [
    "#Looking at missing calues for each column\n",
    "GDS.isna().sum()"
   ]
  },
  {
   "cell_type": "code",
   "execution_count": 6,
   "id": "39c7e28f",
   "metadata": {
    "scrolled": true
   },
   "outputs": [
    {
     "name": "stdout",
     "output_type": "stream",
     "text": [
      "<class 'pandas.core.frame.DataFrame'>\n",
      "RangeIndex: 52916 entries, 0 to 52915\n",
      "Data columns (total 55 columns):\n",
      " #   Column                 Non-Null Count  Dtype  \n",
      "---  ------                 --------------  -----  \n",
      " 0   Order #                52916 non-null  int64  \n",
      " 1   Transaction Type       47467 non-null  object \n",
      " 2   Order Time             47467 non-null  object \n",
      " 3   Order Date             47467 non-null  object \n",
      " 4   Delivery Date_x        47458 non-null  object \n",
      " 5   Sender                 28135 non-null  object \n",
      " 6   Recipient              21933 non-null  object \n",
      " 7   Product Total          47467 non-null  object \n",
      " 8   Delivery_x             47467 non-null  object \n",
      " 9   Nontaxable Delivery    47467 non-null  object \n",
      " 10  Wire Out Fee           47467 non-null  object \n",
      " 11  Discount_x             47467 non-null  object \n",
      " 12  Gift Cards             47467 non-null  object \n",
      " 13  Tax                    47467 non-null  object \n",
      " 14  Tips                   47467 non-null  object \n",
      " 15  Grand Total_x          47467 non-null  object \n",
      " 16  Payment Method_x       47467 non-null  object \n",
      " 17  Order Type             47276 non-null  object \n",
      " 18  Order Method           47467 non-null  object \n",
      " 19  Order Source           5449 non-null   object \n",
      " 20  Sale Date              5449 non-null   object \n",
      " 21  Delivery Date_y        5449 non-null   object \n",
      " 22  Order Status           5449 non-null   object \n",
      " 23  Delivery Method        5449 non-null   object \n",
      " 24  Product Name           5449 non-null   object \n",
      " 25  Item Number            138 non-null    object \n",
      " 26  Card Message           5245 non-null   object \n",
      " 27  Card Signature         2917 non-null   object \n",
      " 28  Occasion               4808 non-null   object \n",
      " 29  Customer Name          5449 non-null   object \n",
      " 30  Customer Phone         5449 non-null   object \n",
      " 31  Customer Email         5420 non-null   object \n",
      " 32  Recipient Name         5449 non-null   object \n",
      " 33  Recipient Phone        5449 non-null   object \n",
      " 34  Delivery Street        5449 non-null   object \n",
      " 35  Delivery Street 2      0 non-null      float64\n",
      " 36  Delivery City          5449 non-null   object \n",
      " 37  Delivery State         5449 non-null   object \n",
      " 38  Delivery Zip           5449 non-null   float64\n",
      " 39  Delivery Address Type  5449 non-null   object \n",
      " 40  Billing Name           5449 non-null   object \n",
      " 41  Billing Phone          5449 non-null   object \n",
      " 42  Billing Street         5449 non-null   object \n",
      " 43  Billing Street 2       0 non-null      float64\n",
      " 44  Billing City           5449 non-null   object \n",
      " 45  Billing State          5412 non-null   object \n",
      " 46  Billing Zip            5449 non-null   object \n",
      " 47  Subtotal               5449 non-null   float64\n",
      " 48  Delivery_y             5449 non-null   float64\n",
      " 49  Sale Tax               5449 non-null   float64\n",
      " 50  Tip                    3303 non-null   float64\n",
      " 51  Discount_y             5449 non-null   float64\n",
      " 52  Grand Total_y          5449 non-null   float64\n",
      " 53  Tax Exempt             43 non-null     float64\n",
      " 54  Payment Method_y       5449 non-null   object \n",
      "dtypes: float64(10), int64(1), object(44)\n",
      "memory usage: 22.2+ MB\n"
     ]
    }
   ],
   "source": [
    "GDS.info()"
   ]
  },
  {
   "cell_type": "markdown",
   "id": "413eab9d",
   "metadata": {},
   "source": [
    "# **Data Cleaning**"
   ]
  },
  {
   "cell_type": "code",
   "execution_count": 7,
   "id": "f19be494",
   "metadata": {
    "scrolled": true
   },
   "outputs": [
    {
     "name": "stdout",
     "output_type": "stream",
     "text": [
      "<class 'pandas.core.frame.DataFrame'>\n",
      "RangeIndex: 52916 entries, 0 to 52915\n",
      "Data columns (total 26 columns):\n",
      " #   Column               Non-Null Count  Dtype  \n",
      "---  ------               --------------  -----  \n",
      " 0   Order #              52916 non-null  int64  \n",
      " 1   Transaction Type     47467 non-null  object \n",
      " 2   Order Time           47467 non-null  object \n",
      " 3   Order Date           47467 non-null  object \n",
      " 4   Delivery Date_x      47458 non-null  object \n",
      " 5   Sender               28135 non-null  object \n",
      " 6   Recipient            21933 non-null  object \n",
      " 7   Product Total        47467 non-null  object \n",
      " 8   Nontaxable Delivery  47467 non-null  object \n",
      " 9   Wire Out Fee         47467 non-null  object \n",
      " 10  Gift Cards           47467 non-null  object \n",
      " 11  Grand Total_x        47467 non-null  object \n",
      " 12  Payment Method_x     47467 non-null  object \n",
      " 13  Order Type           47276 non-null  object \n",
      " 14  Order Method         47467 non-null  object \n",
      " 15  Order Source         5449 non-null   object \n",
      " 16  Sale Date            5449 non-null   object \n",
      " 17  Delivery Method      5449 non-null   object \n",
      " 18  Product Name         5449 non-null   object \n",
      " 19  Occasion             4808 non-null   object \n",
      " 20  Customer Name        5449 non-null   object \n",
      " 21  Recipient Name       5449 non-null   object \n",
      " 22  Delivery Street      5449 non-null   object \n",
      " 23  Delivery City        5449 non-null   object \n",
      " 24  Delivery Zip         5449 non-null   float64\n",
      " 25  Subtotal             5449 non-null   float64\n",
      "dtypes: float64(2), int64(1), object(23)\n",
      "memory usage: 10.5+ MB\n"
     ]
    }
   ],
   "source": [
    "#Dropping unnecessary columns\n",
    "columns_to_drop = ['Delivery Street 2','Billing Street 2', 'Delivery_x', 'Delivery_y', 'Discount_y', 'Discount_x', 'Card Signature', \n",
    "                   'Card Message', 'Tips', 'Tip', 'Customer Email', 'Customer Phone', 'Delivery Address Type', 'Tax Exempt', 'Grand Total_y', \n",
    "                   'Item Number', 'Billing Phone', 'Delivery State', 'Delivery Date_y', 'Payment Method_y', 'Sale Tax', 'Billing Name', \n",
    "                   'Billing Street', 'Billing City', 'Billing State', 'Billing Zip', 'Recipient Phone', 'Order Status', 'Tax']\n",
    "df = GDS.drop(columns_to_drop, axis= 1)\n",
    "#Preview of remaining columns\n",
    "df.info()"
   ]
  },
  {
   "cell_type": "markdown",
   "id": "92786499",
   "metadata": {},
   "source": [
    "### **Changing Data Types**"
   ]
  },
  {
   "cell_type": "code",
   "execution_count": 8,
   "id": "08945cbf",
   "metadata": {},
   "outputs": [],
   "source": [
    "def change_column_datatype(df, column_dict):\n",
    "    \"\"\"\n",
    "    Change the data type of columns in a Pandas DataFrame.\n",
    "    \n",
    "    Parameters:\n",
    "    - df: Pandas DataFrame object.\n",
    "    - column_dict: Dictionary specifying column names and their desired data types.\n",
    "                   Key: column name (string).\n",
    "                   Value: desired data type (string).\n",
    "                   Example: {'column1': 'int', 'column2': 'float', 'column3': 'datetime'}\n",
    "    Returns:\n",
    "    - df: Updated Pandas DataFrame with changed data types.\n",
    "    \"\"\"\n",
    "    try:\n",
    "        for column, datatype in column_dict.items():\n",
    "            if datatype == 'float':\n",
    "                df[column] = df[column].str.replace('$', '').str.replace(',', '').str.replace('()', '')\n",
    "                df[column] = df[column].apply(lambda x: float(x.replace('(', '').replace(')', '')) if isinstance(x, str) else x)\n",
    "                df[column] = df[column].replace([np.inf, -np.inf], np.nan)\n",
    "            elif datatype == 'int':\n",
    "                df[column] = df[column].replace(['NA', 'inf', '-inf'], np.nan)\n",
    "                df[column] = df[column].astype(float).astype(pd.Int64Dtype())\n",
    "            elif datatype == 'datetime':\n",
    "                df[column] = pd.to_datetime(df[column], errors='coerce')\n",
    "            else:\n",
    "                df[column] = df[column].astype(datatype)\n",
    "        return df\n",
    "    except KeyError as e:\n",
    "        print(f\"Error: Column '{e.args[0]}' does not exist in the DataFrame.\")\n",
    "    except Exception as e:\n",
    "        print(f\"Error: {str(e)}\")\n"
   ]
  },
  {
   "cell_type": "code",
   "execution_count": 9,
   "id": "600682d1",
   "metadata": {},
   "outputs": [
    {
     "name": "stdout",
     "output_type": "stream",
     "text": [
      "Before conversion:\n",
      "Order #                  int64\n",
      "Transaction Type        object\n",
      "Order Time              object\n",
      "Order Date              object\n",
      "Delivery Date_x         object\n",
      "Sender                  object\n",
      "Recipient               object\n",
      "Product Total           object\n",
      "Nontaxable Delivery     object\n",
      "Wire Out Fee            object\n",
      "Gift Cards              object\n",
      "Grand Total_x           object\n",
      "Payment Method_x        object\n",
      "Order Type              object\n",
      "Order Method            object\n",
      "Order Source            object\n",
      "Sale Date               object\n",
      "Delivery Method         object\n",
      "Product Name            object\n",
      "Occasion                object\n",
      "Customer Name           object\n",
      "Recipient Name          object\n",
      "Delivery Street         object\n",
      "Delivery City           object\n",
      "Delivery Zip           float64\n",
      "Subtotal               float64\n",
      "dtype: object\n",
      "          Order # Transaction Type      Order Time    Order Date  \\\n",
      "0       100017453             Sale  03:28:16PM Sat  Dec 29, 2018   \n",
      "1       100017452             Sale  03:16:50PM Sat  Dec 29, 2018   \n",
      "2       100017451             Sale  02:58:53PM Sat  Dec 29, 2018   \n",
      "3       100017450             Sale  02:54:45PM Sat  Dec 29, 2018   \n",
      "4       100017202             Sale  02:48:15PM Sat  Dec 29, 2018   \n",
      "...           ...              ...             ...           ...   \n",
      "52911  2749452849              NaN             NaN           NaN   \n",
      "52912  2553412309              NaN             NaN           NaN   \n",
      "52913  3540158661              NaN             NaN           NaN   \n",
      "52914  3591549621              NaN             NaN           NaN   \n",
      "52915  7662866077              NaN             NaN           NaN   \n",
      "\n",
      "      Delivery Date_x                   Sender                Recipient  \\\n",
      "0        Dec 29, 2018  Candyce Williams Glaser                      NaN   \n",
      "1        Dec 29, 2018                      NaN                      NaN   \n",
      "2        Dec 29, 2018                      NaN                      NaN   \n",
      "3        Dec 29, 2018          Tracie Hamilton                      NaN   \n",
      "4        Dec 23, 2018  Candyce Williams Glaser  Candyce Williams Glaser   \n",
      "...               ...                      ...                      ...   \n",
      "52911             NaN                      NaN                      NaN   \n",
      "52912             NaN                      NaN                      NaN   \n",
      "52913             NaN                      NaN                      NaN   \n",
      "52914             NaN                      NaN                      NaN   \n",
      "52915             NaN                      NaN                      NaN   \n",
      "\n",
      "      Product Total Nontaxable Delivery Wire Out Fee  ...   Sale Date  \\\n",
      "0           $815.00               $0.00        $0.00  ...         NaN   \n",
      "1           $249.90               $0.00        $0.00  ...         NaN   \n",
      "2            $24.95               $0.00        $0.00  ...         NaN   \n",
      "3           $635.00               $0.00        $0.00  ...         NaN   \n",
      "4           $702.00              $25.00        $0.00  ...         NaN   \n",
      "...             ...                 ...          ...  ...         ...   \n",
      "52911           NaN                 NaN          NaN  ...  2023-06-05   \n",
      "52912           NaN                 NaN          NaN  ...  2023-06-05   \n",
      "52913           NaN                 NaN          NaN  ...  2023-06-05   \n",
      "52914           NaN                 NaN          NaN  ...  2023-06-05   \n",
      "52915           NaN                 NaN          NaN  ...  2023-06-05   \n",
      "\n",
      "      Delivery Method                              Product Name   Occasion  \\\n",
      "0                 NaN                                       NaN        NaN   \n",
      "1                 NaN                                       NaN        NaN   \n",
      "2                 NaN                                       NaN        NaN   \n",
      "3                 NaN                                       NaN        NaN   \n",
      "4                 NaN                                       NaN        NaN   \n",
      "...               ...                                       ...        ...   \n",
      "52911  Local Delivery                   Blush Designer's Choice   Birthday   \n",
      "52912  Local Delivery  Designer's Choice $250 - upgrade:premium        NaN   \n",
      "52913  Local Delivery                               Honky Tonk         NaN   \n",
      "52914  Local Delivery                            Vivid Daydream  Thank You   \n",
      "52915  Local Delivery                              Tranquil Duo  Thank You   \n",
      "\n",
      "          Customer Name   Recipient Name                   Delivery Street  \\\n",
      "0                   NaN              NaN                               NaN   \n",
      "1                   NaN              NaN                               NaN   \n",
      "2                   NaN              NaN                               NaN   \n",
      "3                   NaN              NaN                               NaN   \n",
      "4                   NaN              NaN                               NaN   \n",
      "...                 ...              ...                               ...   \n",
      "52911  Austin Broussard  Karen Broussard  740 Cool Springs Blvd. Suite 200   \n",
      "52912       Paul  Tuffy   Danielle  West  15000 Iron Horse Lane, Apt 15102   \n",
      "52913    Cindy Chandler   Cindy Chandler                3117 Tristan Drive   \n",
      "52914     Bonnie Repasi        Erin Rice            700 Cool Springs Blvd.   \n",
      "52915     Bonnie Repasi   Kevin Thompson            700 Cool Springs Blvd.   \n",
      "\n",
      "      Delivery City Delivery Zip Subtotal  \n",
      "0               NaN          NaN      NaN  \n",
      "1               NaN          NaN      NaN  \n",
      "2               NaN          NaN      NaN  \n",
      "3               NaN          NaN      NaN  \n",
      "4               NaN          NaN      NaN  \n",
      "...             ...          ...      ...  \n",
      "52911      Franklin      37067.0    135.0  \n",
      "52912      Franklin      37069.0    400.0  \n",
      "52913      Franklin      37064.0    155.0  \n",
      "52914      Franklin      37067.0     95.0  \n",
      "52915      Franklin      37067.0     88.0  \n",
      "\n",
      "[52916 rows x 26 columns]\n",
      "\n",
      "After conversion\n",
      "Order #                         int64\n",
      "Transaction Type               object\n",
      "Order Time             datetime64[ns]\n",
      "Order Date             datetime64[ns]\n",
      "Delivery Date_x        datetime64[ns]\n",
      "Sender                         object\n",
      "Recipient                      object\n",
      "Product Total                 float64\n",
      "Nontaxable Delivery           float64\n",
      "Wire Out Fee                  float64\n",
      "Gift Cards                    float64\n",
      "Grand Total_x                 float64\n",
      "Payment Method_x               object\n",
      "Order Type                     object\n",
      "Order Method                   object\n",
      "Order Source                   object\n",
      "Sale Date              datetime64[ns]\n",
      "Delivery Method                object\n",
      "Product Name                   object\n",
      "Occasion                       object\n",
      "Customer Name                  object\n",
      "Recipient Name                 object\n",
      "Delivery Street                object\n",
      "Delivery City                  object\n",
      "Delivery Zip                    Int64\n",
      "Subtotal                      float64\n",
      "dtype: object\n",
      "          Order # Transaction Type          Order Time Order Date  \\\n",
      "0       100017453             Sale 2023-07-08 15:28:16 2018-12-29   \n",
      "1       100017452             Sale 2023-07-08 15:16:50 2018-12-29   \n",
      "2       100017451             Sale 2023-07-08 14:58:53 2018-12-29   \n",
      "3       100017450             Sale 2023-07-08 14:54:45 2018-12-29   \n",
      "4       100017202             Sale 2023-07-08 14:48:15 2018-12-29   \n",
      "...           ...              ...                 ...        ...   \n",
      "52911  2749452849              NaN                 NaT        NaT   \n",
      "52912  2553412309              NaN                 NaT        NaT   \n",
      "52913  3540158661              NaN                 NaT        NaT   \n",
      "52914  3591549621              NaN                 NaT        NaT   \n",
      "52915  7662866077              NaN                 NaT        NaT   \n",
      "\n",
      "      Delivery Date_x                   Sender                Recipient  \\\n",
      "0          2018-12-29  Candyce Williams Glaser                      NaN   \n",
      "1          2018-12-29                      NaN                      NaN   \n",
      "2          2018-12-29                      NaN                      NaN   \n",
      "3          2018-12-29          Tracie Hamilton                      NaN   \n",
      "4          2018-12-23  Candyce Williams Glaser  Candyce Williams Glaser   \n",
      "...               ...                      ...                      ...   \n",
      "52911             NaT                      NaN                      NaN   \n",
      "52912             NaT                      NaN                      NaN   \n",
      "52913             NaT                      NaN                      NaN   \n",
      "52914             NaT                      NaN                      NaN   \n",
      "52915             NaT                      NaN                      NaN   \n",
      "\n",
      "       Product Total  Nontaxable Delivery  Wire Out Fee  ...  Sale Date  \\\n",
      "0             815.00                  0.0           0.0  ...        NaT   \n",
      "1             249.90                  0.0           0.0  ...        NaT   \n",
      "2              24.95                  0.0           0.0  ...        NaT   \n",
      "3             635.00                  0.0           0.0  ...        NaT   \n",
      "4             702.00                 25.0           0.0  ...        NaT   \n",
      "...              ...                  ...           ...  ...        ...   \n",
      "52911            NaN                  NaN           NaN  ... 2023-06-05   \n",
      "52912            NaN                  NaN           NaN  ... 2023-06-05   \n",
      "52913            NaN                  NaN           NaN  ... 2023-06-05   \n",
      "52914            NaN                  NaN           NaN  ... 2023-06-05   \n",
      "52915            NaN                  NaN           NaN  ... 2023-06-05   \n",
      "\n",
      "       Delivery Method                              Product Name   Occasion  \\\n",
      "0                  NaN                                       NaN        NaN   \n",
      "1                  NaN                                       NaN        NaN   \n",
      "2                  NaN                                       NaN        NaN   \n",
      "3                  NaN                                       NaN        NaN   \n",
      "4                  NaN                                       NaN        NaN   \n",
      "...                ...                                       ...        ...   \n",
      "52911   Local Delivery                   Blush Designer's Choice   Birthday   \n",
      "52912   Local Delivery  Designer's Choice $250 - upgrade:premium        NaN   \n",
      "52913   Local Delivery                               Honky Tonk         NaN   \n",
      "52914   Local Delivery                            Vivid Daydream  Thank You   \n",
      "52915   Local Delivery                              Tranquil Duo  Thank You   \n",
      "\n",
      "          Customer Name   Recipient Name                   Delivery Street  \\\n",
      "0                   NaN              NaN                               NaN   \n",
      "1                   NaN              NaN                               NaN   \n",
      "2                   NaN              NaN                               NaN   \n",
      "3                   NaN              NaN                               NaN   \n",
      "4                   NaN              NaN                               NaN   \n",
      "...                 ...              ...                               ...   \n",
      "52911  Austin Broussard  Karen Broussard  740 Cool Springs Blvd. Suite 200   \n",
      "52912       Paul  Tuffy   Danielle  West  15000 Iron Horse Lane, Apt 15102   \n",
      "52913    Cindy Chandler   Cindy Chandler                3117 Tristan Drive   \n",
      "52914     Bonnie Repasi        Erin Rice            700 Cool Springs Blvd.   \n",
      "52915     Bonnie Repasi   Kevin Thompson            700 Cool Springs Blvd.   \n",
      "\n",
      "      Delivery City Delivery Zip Subtotal  \n",
      "0               NaN         <NA>      NaN  \n",
      "1               NaN         <NA>      NaN  \n",
      "2               NaN         <NA>      NaN  \n",
      "3               NaN         <NA>      NaN  \n",
      "4               NaN         <NA>      NaN  \n",
      "...             ...          ...      ...  \n",
      "52911      Franklin        37067    135.0  \n",
      "52912      Franklin        37069    400.0  \n",
      "52913      Franklin        37064    155.0  \n",
      "52914      Franklin        37067     95.0  \n",
      "52915      Franklin        37067     88.0  \n",
      "\n",
      "[52916 rows x 26 columns]\n"
     ]
    }
   ],
   "source": [
    "# Print Data Frame Before Conversion \n",
    "print(\"Before conversion:\")\n",
    "print(df.dtypes)\n",
    "print(df)\n",
    "# Define the desired data types for columns \n",
    "column_dict = {'Product Total':'float', 'Nontaxable Delivery':'float','Wire Out Fee':'float',\n",
    "              'Gift Cards':'float', 'Grand Total_x':'float', 'Order Time':'datetime', 'Order Date':'datetime',\n",
    "              'Sale Date':'datetime', 'Delivery Date_x':'datetime', 'Delivery Zip':'int'}\n",
    "# Call the function to change data types \n",
    "df = change_column_datatype(df, column_dict)\n",
    "\n",
    "# Print Data Frame After Conversion \n",
    "print(\"\\nAfter conversion\")\n",
    "print(df.dtypes)\n",
    "print(df)"
   ]
  },
  {
   "cell_type": "code",
   "execution_count": null,
   "id": "611d04a2",
   "metadata": {},
   "outputs": [],
   "source": []
  },
  {
   "cell_type": "code",
   "execution_count": null,
   "id": "31f274af",
   "metadata": {},
   "outputs": [],
   "source": []
  },
  {
   "cell_type": "code",
   "execution_count": null,
   "id": "bde3da5f",
   "metadata": {},
   "outputs": [],
   "source": []
  },
  {
   "cell_type": "code",
   "execution_count": null,
   "id": "1c606210",
   "metadata": {},
   "outputs": [],
   "source": []
  },
  {
   "cell_type": "code",
   "execution_count": null,
   "id": "e849e45d",
   "metadata": {},
   "outputs": [],
   "source": []
  },
  {
   "cell_type": "markdown",
   "id": "99ab6777",
   "metadata": {},
   "source": [
    "### **Unique values**"
   ]
  },
  {
   "cell_type": "code",
   "execution_count": 10,
   "id": "d2f98251",
   "metadata": {
    "scrolled": true
   },
   "outputs": [
    {
     "name": "stdout",
     "output_type": "stream",
     "text": [
      "Order #                51426\n",
      "Transaction Type           3\n",
      "Order Time             41876\n",
      "Order Date              1683\n",
      "Delivery Date_x         1724\n",
      "Sender                 11032\n",
      "Recipient              14112\n",
      "Product Total           4419\n",
      "Nontaxable Delivery      311\n",
      "Wire Out Fee              39\n",
      "Gift Cards                21\n",
      "Grand Total_x           7999\n",
      "Payment Method_x          12\n",
      "Order Type                 4\n",
      "Order Method               5\n",
      "Order Source               4\n",
      "Sale Date               1434\n",
      "Delivery Method            2\n",
      "Product Name             535\n",
      "Occasion                  37\n",
      "Customer Name           3731\n",
      "Recipient Name          4406\n",
      "Delivery Street         4056\n",
      "Delivery City             95\n",
      "Delivery Zip              35\n",
      "Subtotal                 157\n",
      "dtype: int64\n"
     ]
    }
   ],
   "source": [
    "# Check for unique values\n",
    "unique_counts = df.nunique()\n",
    "print(unique_counts)"
   ]
  },
  {
   "cell_type": "markdown",
   "id": "2c7ebffa",
   "metadata": {},
   "source": [
    "### **Replace nans function**"
   ]
  },
  {
   "cell_type": "code",
   "execution_count": 11,
   "id": "71243edf",
   "metadata": {},
   "outputs": [],
   "source": [
    "def replace_nan(data):\n",
    "    \"\"\"\n",
    "    Replace NaN values in a Pandas DataFrame.\n",
    "\n",
    "    Parameters:\n",
    "    - data: Pandas DataFrame object.\n",
    "    \n",
    "    Returns:\n",
    "    - data_filled_numerical: DataFrame with filled numerical values.\n",
    "    - data_filled_categorical: DataFrame with filled categorical values.\n",
    "    \"\"\"\n",
    "# Replace NaN values with mean for numerical columns\n",
    "    numerical_cols = data.select_dtypes(include=np.number).columns\n",
    "    data_filled_numerical = data.copy()\n",
    "    if len(numerical_cols) > 0:\n",
    "        numerical_mean = data[numerical_cols].mean().round().astype(int)\n",
    "        data_filled_numerical[numerical_cols] = data[numerical_cols].fillna(numerical_mean)\n",
    "# Replace NaN values with mode for categorical columns\n",
    "    categorical_cols = data.select_dtypes(include=['object']).columns\n",
    "    data_filled_categorical = data.copy()\n",
    "    if len(categorical_cols) > 0:\n",
    "        categorical_mode = data[categorical_cols].mode().iloc[0]\n",
    "        data_filled_categorical[categorical_cols] = data[categorical_cols].fillna(categorical_mode)\n",
    "    return data_filled_numerical, data_filled_categorical"
   ]
  },
  {
   "cell_type": "code",
   "execution_count": 12,
   "id": "b97064c6",
   "metadata": {},
   "outputs": [
    {
     "name": "stdout",
     "output_type": "stream",
     "text": [
      "Numerical Data:\n",
      "          Order # Transaction Type          Order Time Order Date  \\\n",
      "0       100017453             Sale 2023-07-08 15:28:16 2018-12-29   \n",
      "1       100017452             Sale 2023-07-08 15:16:50 2018-12-29   \n",
      "2       100017451             Sale 2023-07-08 14:58:53 2018-12-29   \n",
      "3       100017450             Sale 2023-07-08 14:54:45 2018-12-29   \n",
      "4       100017202             Sale 2023-07-08 14:48:15 2018-12-29   \n",
      "...           ...              ...                 ...        ...   \n",
      "52911  2749452849              NaN                 NaT        NaT   \n",
      "52912  2553412309              NaN                 NaT        NaT   \n",
      "52913  3540158661              NaN                 NaT        NaT   \n",
      "52914  3591549621              NaN                 NaT        NaT   \n",
      "52915  7662866077              NaN                 NaT        NaT   \n",
      "\n",
      "      Delivery Date_x                   Sender                Recipient  \\\n",
      "0          2018-12-29  Candyce Williams Glaser                      NaN   \n",
      "1          2018-12-29                      NaN                      NaN   \n",
      "2          2018-12-29                      NaN                      NaN   \n",
      "3          2018-12-29          Tracie Hamilton                      NaN   \n",
      "4          2018-12-23  Candyce Williams Glaser  Candyce Williams Glaser   \n",
      "...               ...                      ...                      ...   \n",
      "52911             NaT                      NaN                      NaN   \n",
      "52912             NaT                      NaN                      NaN   \n",
      "52913             NaT                      NaN                      NaN   \n",
      "52914             NaT                      NaN                      NaN   \n",
      "52915             NaT                      NaN                      NaN   \n",
      "\n",
      "       Product Total  Nontaxable Delivery  Wire Out Fee  ...  Sale Date  \\\n",
      "0             815.00                  0.0           0.0  ...        NaT   \n",
      "1             249.90                  0.0           0.0  ...        NaT   \n",
      "2              24.95                  0.0           0.0  ...        NaT   \n",
      "3             635.00                  0.0           0.0  ...        NaT   \n",
      "4             702.00                 25.0           0.0  ...        NaT   \n",
      "...              ...                  ...           ...  ...        ...   \n",
      "52911         113.00                  7.0           0.0  ... 2023-06-05   \n",
      "52912         113.00                  7.0           0.0  ... 2023-06-05   \n",
      "52913         113.00                  7.0           0.0  ... 2023-06-05   \n",
      "52914         113.00                  7.0           0.0  ... 2023-06-05   \n",
      "52915         113.00                  7.0           0.0  ... 2023-06-05   \n",
      "\n",
      "       Delivery Method                              Product Name   Occasion  \\\n",
      "0                  NaN                                       NaN        NaN   \n",
      "1                  NaN                                       NaN        NaN   \n",
      "2                  NaN                                       NaN        NaN   \n",
      "3                  NaN                                       NaN        NaN   \n",
      "4                  NaN                                       NaN        NaN   \n",
      "...                ...                                       ...        ...   \n",
      "52911   Local Delivery                   Blush Designer's Choice   Birthday   \n",
      "52912   Local Delivery  Designer's Choice $250 - upgrade:premium        NaN   \n",
      "52913   Local Delivery                               Honky Tonk         NaN   \n",
      "52914   Local Delivery                            Vivid Daydream  Thank You   \n",
      "52915   Local Delivery                              Tranquil Duo  Thank You   \n",
      "\n",
      "          Customer Name   Recipient Name                   Delivery Street  \\\n",
      "0                   NaN              NaN                               NaN   \n",
      "1                   NaN              NaN                               NaN   \n",
      "2                   NaN              NaN                               NaN   \n",
      "3                   NaN              NaN                               NaN   \n",
      "4                   NaN              NaN                               NaN   \n",
      "...                 ...              ...                               ...   \n",
      "52911  Austin Broussard  Karen Broussard  740 Cool Springs Blvd. Suite 200   \n",
      "52912       Paul  Tuffy   Danielle  West  15000 Iron Horse Lane, Apt 15102   \n",
      "52913    Cindy Chandler   Cindy Chandler                3117 Tristan Drive   \n",
      "52914     Bonnie Repasi        Erin Rice            700 Cool Springs Blvd.   \n",
      "52915     Bonnie Repasi   Kevin Thompson            700 Cool Springs Blvd.   \n",
      "\n",
      "      Delivery City Delivery Zip Subtotal  \n",
      "0               NaN        37088    109.0  \n",
      "1               NaN        37088    109.0  \n",
      "2               NaN        37088    109.0  \n",
      "3               NaN        37088    109.0  \n",
      "4               NaN        37088    109.0  \n",
      "...             ...          ...      ...  \n",
      "52911      Franklin        37067    135.0  \n",
      "52912      Franklin        37069    400.0  \n",
      "52913      Franklin        37064    155.0  \n",
      "52914      Franklin        37067     95.0  \n",
      "52915      Franklin        37067     88.0  \n",
      "\n",
      "[52916 rows x 26 columns]\n",
      "\n",
      "Categorical Data:\n",
      "          Order # Transaction Type          Order Time Order Date  \\\n",
      "0       100017453             Sale 2023-07-08 15:28:16 2018-12-29   \n",
      "1       100017452             Sale 2023-07-08 15:16:50 2018-12-29   \n",
      "2       100017451             Sale 2023-07-08 14:58:53 2018-12-29   \n",
      "3       100017450             Sale 2023-07-08 14:54:45 2018-12-29   \n",
      "4       100017202             Sale 2023-07-08 14:48:15 2018-12-29   \n",
      "...           ...              ...                 ...        ...   \n",
      "52911  2749452849             Sale                 NaT        NaT   \n",
      "52912  2553412309             Sale                 NaT        NaT   \n",
      "52913  3540158661             Sale                 NaT        NaT   \n",
      "52914  3591549621             Sale                 NaT        NaT   \n",
      "52915  7662866077             Sale                 NaT        NaT   \n",
      "\n",
      "      Delivery Date_x                               Sender  \\\n",
      "0          2018-12-29              Candyce Williams Glaser   \n",
      "1          2018-12-29  Consolidated Funeral Services, Inc.   \n",
      "2          2018-12-29  Consolidated Funeral Services, Inc.   \n",
      "3          2018-12-29                      Tracie Hamilton   \n",
      "4          2018-12-23              Candyce Williams Glaser   \n",
      "...               ...                                  ...   \n",
      "52911             NaT  Consolidated Funeral Services, Inc.   \n",
      "52912             NaT  Consolidated Funeral Services, Inc.   \n",
      "52913             NaT  Consolidated Funeral Services, Inc.   \n",
      "52914             NaT  Consolidated Funeral Services, Inc.   \n",
      "52915             NaT  Consolidated Funeral Services, Inc.   \n",
      "\n",
      "                     Recipient  Product Total  Nontaxable Delivery  \\\n",
      "0      Candyce Williams Glaser         815.00                  0.0   \n",
      "1      Candyce Williams Glaser         249.90                  0.0   \n",
      "2      Candyce Williams Glaser          24.95                  0.0   \n",
      "3      Candyce Williams Glaser         635.00                  0.0   \n",
      "4      Candyce Williams Glaser         702.00                 25.0   \n",
      "...                        ...            ...                  ...   \n",
      "52911  Candyce Williams Glaser            NaN                  NaN   \n",
      "52912  Candyce Williams Glaser            NaN                  NaN   \n",
      "52913  Candyce Williams Glaser            NaN                  NaN   \n",
      "52914  Candyce Williams Glaser            NaN                  NaN   \n",
      "52915  Candyce Williams Glaser            NaN                  NaN   \n",
      "\n",
      "       Wire Out Fee  ...  Sale Date  Delivery Method  \\\n",
      "0               0.0  ...        NaT   Local Delivery   \n",
      "1               0.0  ...        NaT   Local Delivery   \n",
      "2               0.0  ...        NaT   Local Delivery   \n",
      "3               0.0  ...        NaT   Local Delivery   \n",
      "4               0.0  ...        NaT   Local Delivery   \n",
      "...             ...  ...        ...              ...   \n",
      "52911           NaN  ... 2023-06-05   Local Delivery   \n",
      "52912           NaN  ... 2023-06-05   Local Delivery   \n",
      "52913           NaN  ... 2023-06-05   Local Delivery   \n",
      "52914           NaN  ... 2023-06-05   Local Delivery   \n",
      "52915           NaN  ... 2023-06-05   Local Delivery   \n",
      "\n",
      "                                   Product Name   Occasion     Customer Name  \\\n",
      "0                                Vivid Daydream   Birthday   Angie LoSchiavo   \n",
      "1                                Vivid Daydream   Birthday   Angie LoSchiavo   \n",
      "2                                Vivid Daydream   Birthday   Angie LoSchiavo   \n",
      "3                                Vivid Daydream   Birthday   Angie LoSchiavo   \n",
      "4                                Vivid Daydream   Birthday   Angie LoSchiavo   \n",
      "...                                         ...        ...               ...   \n",
      "52911                   Blush Designer's Choice   Birthday  Austin Broussard   \n",
      "52912  Designer's Choice $250 - upgrade:premium   Birthday       Paul  Tuffy   \n",
      "52913                               Honky Tonk    Birthday    Cindy Chandler   \n",
      "52914                            Vivid Daydream  Thank You     Bonnie Repasi   \n",
      "52915                              Tranquil Duo  Thank You     Bonnie Repasi   \n",
      "\n",
      "        Recipient Name                   Delivery Street Delivery City  \\\n",
      "0       Kellie Hopkins               2179 Hillsboro Road      Franklin   \n",
      "1       Kellie Hopkins               2179 Hillsboro Road      Franklin   \n",
      "2       Kellie Hopkins               2179 Hillsboro Road      Franklin   \n",
      "3       Kellie Hopkins               2179 Hillsboro Road      Franklin   \n",
      "4       Kellie Hopkins               2179 Hillsboro Road      Franklin   \n",
      "...                ...                               ...           ...   \n",
      "52911  Karen Broussard  740 Cool Springs Blvd. Suite 200      Franklin   \n",
      "52912   Danielle  West  15000 Iron Horse Lane, Apt 15102      Franklin   \n",
      "52913   Cindy Chandler                3117 Tristan Drive      Franklin   \n",
      "52914        Erin Rice            700 Cool Springs Blvd.      Franklin   \n",
      "52915   Kevin Thompson            700 Cool Springs Blvd.      Franklin   \n",
      "\n",
      "      Delivery Zip Subtotal  \n",
      "0             <NA>      NaN  \n",
      "1             <NA>      NaN  \n",
      "2             <NA>      NaN  \n",
      "3             <NA>      NaN  \n",
      "4             <NA>      NaN  \n",
      "...            ...      ...  \n",
      "52911        37067    135.0  \n",
      "52912        37069    400.0  \n",
      "52913        37064    155.0  \n",
      "52914        37067     95.0  \n",
      "52915        37067     88.0  \n",
      "\n",
      "[52916 rows x 26 columns]\n"
     ]
    }
   ],
   "source": [
    "data = df \n",
    "# Call the function to replace NaN values\n",
    "data_filled_numerical, data_filled_categorical = replace_nan(data)\n",
    "# Print the filled DataFrames\n",
    "print(\"Numerical Data:\")\n",
    "print(data_filled_numerical)\n",
    "print(\"\\nCategorical Data:\")\n",
    "print(data_filled_categorical)"
   ]
  },
  {
   "cell_type": "code",
   "execution_count": 13,
   "id": "fe4e0430",
   "metadata": {},
   "outputs": [
    {
     "data": {
      "text/plain": [
       "37064    1490\n",
       "37069    1403\n",
       "37027     720\n",
       "37067     714\n",
       "37215     204\n",
       "37221     170\n",
       "37205     164\n",
       "37204      79\n",
       "37203      70\n",
       "37209      59\n",
       "37211      55\n",
       "37212      53\n",
       "37220      39\n",
       "37013      31\n",
       "37075      26\n",
       "37207      17\n",
       "37216      15\n",
       "37206      15\n",
       "37174      14\n",
       "37076      13\n",
       "37122      13\n",
       "37214      12\n",
       "37208      12\n",
       "37138       9\n",
       "37210       9\n",
       "37217       8\n",
       "37072       6\n",
       "37228       6\n",
       "37065       6\n",
       "37219       5\n",
       "37179       5\n",
       "37218       3\n",
       "37201       2\n",
       "37213       1\n",
       "37202       1\n",
       "Name: Delivery Zip, dtype: Int64"
      ]
     },
     "execution_count": 13,
     "metadata": {},
     "output_type": "execute_result"
    }
   ],
   "source": [
    "df['Delivery Zip'].value_counts()"
   ]
  },
  {
   "cell_type": "code",
   "execution_count": 14,
   "id": "f3938180",
   "metadata": {},
   "outputs": [
    {
     "data": {
      "text/plain": [
       "2179 Hillsboro Road        241\n",
       "3009 Columbia Ave           22\n",
       "689 Legends Crest Dr.       21\n",
       "3117 Tristan Drive          19\n",
       "1007 Boxwood Drive          18\n",
       "                          ... \n",
       "814 Barrington Place Dr      1\n",
       "2323 C old hickory Blvd      1\n",
       "2484 Santa Barbara Lane      1\n",
       "211 Bedford Way              1\n",
       "1824 Thornbrook Lane         1\n",
       "Name: Delivery Street, Length: 4056, dtype: int64"
      ]
     },
     "execution_count": 14,
     "metadata": {},
     "output_type": "execute_result"
    }
   ],
   "source": [
    "df['Delivery Street'].value_counts()"
   ]
  },
  {
   "cell_type": "code",
   "execution_count": 15,
   "id": "bc2d45f1",
   "metadata": {},
   "outputs": [
    {
     "data": {
      "text/plain": [
       "2020-05-06    37\n",
       "2022-05-05    35\n",
       "2021-05-06    29\n",
       "2023-05-10    28\n",
       "2019-05-10    28\n",
       "              ..\n",
       "2022-03-13     1\n",
       "2022-03-12     1\n",
       "2022-03-11     1\n",
       "2022-03-07     1\n",
       "2018-12-21     1\n",
       "Name: Sale Date, Length: 1434, dtype: int64"
      ]
     },
     "execution_count": 15,
     "metadata": {},
     "output_type": "execute_result"
    }
   ],
   "source": [
    "df['Sale Date'].value_counts()"
   ]
  },
  {
   "cell_type": "code",
   "execution_count": 16,
   "id": "f0a69c84",
   "metadata": {},
   "outputs": [
    {
     "data": {
      "text/plain": [
       "2021-05-08    236\n",
       "2022-05-07    215\n",
       "2023-02-14    213\n",
       "2019-05-11    203\n",
       "2023-05-13    199\n",
       "             ... \n",
       "2019-12-08      1\n",
       "2022-12-24      1\n",
       "2019-12-15      1\n",
       "2017-12-04      1\n",
       "2023-06-05      1\n",
       "Name: Delivery Date_x, Length: 1724, dtype: int64"
      ]
     },
     "execution_count": 16,
     "metadata": {},
     "output_type": "execute_result"
    }
   ],
   "source": [
    "df['Delivery Date_x'].value_counts()"
   ]
  },
  {
   "cell_type": "code",
   "execution_count": 17,
   "id": "bd1bbf08",
   "metadata": {},
   "outputs": [
    {
     "data": {
      "text/plain": [
       "Vivid Daydream                                                                  280\n",
       "Designer's Choice  75                                                           194\n",
       "Mimi’s Rose Garden: Pretty in Pink Edition                                      128\n",
       "Blush Designer's Choice                                                         122\n",
       "CARNTON Hydrangea Cluster in white                                              121\n",
       "                                                                               ... \n",
       "Mini poinsettias in Barnwood - upgrade:deluxe|Mini poinsettias in Barnwood        1\n",
       "RED BIRD WINTER                                                                   1\n",
       "Blush Designer's Choice - upgrade:deluxe|Peony Gathering  (Colors will vary)      1\n",
       "Joy - Fall - upgrade:deluxe|Joy - Fall                                            1\n",
       "Designer's Choice $250 - upgrade:premium                                          1\n",
       "Name: Product Name, Length: 535, dtype: int64"
      ]
     },
     "execution_count": 17,
     "metadata": {},
     "output_type": "execute_result"
    }
   ],
   "source": [
    "df['Product Name'].value_counts()"
   ]
  },
  {
   "cell_type": "code",
   "execution_count": 18,
   "id": "1972dacc",
   "metadata": {},
   "outputs": [
    {
     "data": {
      "text/plain": [
       "Premium Site    5256\n",
       "Marketplace      160\n",
       "F2F               29\n",
       "Yelp               4\n",
       "Name: Order Source, dtype: int64"
      ]
     },
     "execution_count": 18,
     "metadata": {},
     "output_type": "execute_result"
    }
   ],
   "source": [
    "df['Order Source'].value_counts()"
   ]
  },
  {
   "cell_type": "code",
   "execution_count": 19,
   "id": "96baa5f7",
   "metadata": {},
   "outputs": [
    {
     "data": {
      "text/plain": [
       "Delivery    20401\n",
       "Taken       20150\n",
       "Pickup       5448\n",
       "Wire Out     1277\n",
       "Name: Order Type, dtype: int64"
      ]
     },
     "execution_count": 19,
     "metadata": {},
     "output_type": "execute_result"
    }
   ],
   "source": [
    "df['Order Type'].value_counts()"
   ]
  },
  {
   "cell_type": "code",
   "execution_count": 20,
   "id": "96499941",
   "metadata": {},
   "outputs": [
    {
     "data": {
      "text/plain": [
       "Phone                            24224\n",
       "Walk-In                          22430\n",
       "Website                            439\n",
       "Subscription / Standing Order      333\n",
       "Florist-to-Florist                  41\n",
       "Name: Order Method, dtype: int64"
      ]
     },
     "execution_count": 20,
     "metadata": {},
     "output_type": "execute_result"
    }
   ],
   "source": [
    "df['Order Method'].value_counts()"
   ]
  },
  {
   "cell_type": "code",
   "execution_count": 21,
   "id": "ec39c3fb",
   "metadata": {},
   "outputs": [],
   "source": [
    "#df['Delivery City'].value_counts()"
   ]
  },
  {
   "cell_type": "code",
   "execution_count": 22,
   "id": "9a1fc14c",
   "metadata": {},
   "outputs": [
    {
     "data": {
      "text/plain": [
       "Franklin           2841\n",
       "Nashville           703\n",
       "Brentwood           521\n",
       "FRANKLIN            381\n",
       "Franklin            286\n",
       "                   ... \n",
       "Frankline             1\n",
       "New York              1\n",
       "Hendersonville        1\n",
       "Old hickory           1\n",
       "Frank.in              1\n",
       "Name: Delivery City, Length: 95, dtype: int64"
      ]
     },
     "execution_count": 22,
     "metadata": {},
     "output_type": "execute_result"
    }
   ],
   "source": [
    "df['Delivery City'].value_counts()"
   ]
  },
  {
   "cell_type": "code",
   "execution_count": 23,
   "id": "a1d2ba5d",
   "metadata": {},
   "outputs": [
    {
     "data": {
      "text/plain": [
       "0.00      47432\n",
       "100.00        7\n",
       "50.00         7\n",
       "200.00        3\n",
       "20.00         2\n",
       "16.46         1\n",
       "6.59          1\n",
       "250.00        1\n",
       "70.00         1\n",
       "40.00         1\n",
       "39.42         1\n",
       "126.21        1\n",
       "59.95         1\n",
       "38.14         1\n",
       "154.48        1\n",
       "43.79         1\n",
       "49.39         1\n",
       "25.00         1\n",
       "74.63         1\n",
       "25.37         1\n",
       "71.28         1\n",
       "Name: Gift Cards, dtype: int64"
      ]
     },
     "execution_count": 23,
     "metadata": {},
     "output_type": "execute_result"
    }
   ],
   "source": [
    "df['Gift Cards'].value_counts()"
   ]
  },
  {
   "cell_type": "code",
   "execution_count": 24,
   "id": "f81b6f7e",
   "metadata": {},
   "outputs": [
    {
     "data": {
      "text/plain": [
       "0.00     25904\n",
       "12.00     6788\n",
       "15.00     5171\n",
       "17.95     2474\n",
       "16.95     1102\n",
       "         ...  \n",
       "85.00        1\n",
       "45.40        1\n",
       "12.30        1\n",
       "4.56         1\n",
       "11.49        1\n",
       "Name: Nontaxable Delivery, Length: 311, dtype: int64"
      ]
     },
     "execution_count": 24,
     "metadata": {},
     "output_type": "execute_result"
    }
   ],
   "source": [
    "df['Nontaxable Delivery'].value_counts()"
   ]
  },
  {
   "cell_type": "code",
   "execution_count": null,
   "id": "2cd5cd2d",
   "metadata": {},
   "outputs": [],
   "source": []
  },
  {
   "cell_type": "code",
   "execution_count": 25,
   "id": "bc6c98fc",
   "metadata": {
    "scrolled": true
   },
   "outputs": [
    {
     "data": {
      "text/plain": [
       "Sale          46068\n",
       "Adjustment      981\n",
       "Refund          418\n",
       "Name: Transaction Type, dtype: int64"
      ]
     },
     "execution_count": 25,
     "metadata": {},
     "output_type": "execute_result"
    }
   ],
   "source": [
    "df['Transaction Type'].value_counts()"
   ]
  },
  {
   "cell_type": "code",
   "execution_count": 26,
   "id": "b3d5b692",
   "metadata": {},
   "outputs": [
    {
     "name": "stdout",
     "output_type": "stream",
     "text": [
      "0      Sale\n",
      "1      Sale\n",
      "2      Sale\n",
      "3      Sale\n",
      "4      Sale\n",
      "       ... \n",
      "115    Sale\n",
      "116    Sale\n",
      "117    Sale\n",
      "118    Sale\n",
      "119    Sale\n",
      "Name: Transaction Type, Length: 120, dtype: object\n"
     ]
    }
   ],
   "source": [
    "print(df['Transaction Type'].head(120))"
   ]
  },
  {
   "cell_type": "code",
   "execution_count": null,
   "id": "990e50e6",
   "metadata": {},
   "outputs": [],
   "source": []
  },
  {
   "cell_type": "markdown",
   "id": "a24379d7",
   "metadata": {},
   "source": [
    "# **Creating the pipeline**"
   ]
  },
  {
   "cell_type": "code",
   "execution_count": 27,
   "id": "984f5037",
   "metadata": {},
   "outputs": [],
   "source": [
    "#Validation Split\n",
    "X= df.drop(columns = 'Product Total')\n",
    "y = df['Product Total']"
   ]
  },
  {
   "cell_type": "code",
   "execution_count": 28,
   "id": "a1ab2d33",
   "metadata": {},
   "outputs": [],
   "source": [
    "#Train, Test, Split\n",
    "X_train, X_test, y_train, y_test = train_test_split(X, y, random_state=42)"
   ]
  },
  {
   "cell_type": "code",
   "execution_count": 29,
   "id": "0acaef74",
   "metadata": {
    "scrolled": false
   },
   "outputs": [],
   "source": [
    "#Function for pipeline creation\n",
    "def create_preprocessing_pipeline(X_train, numeric_cols, categorical_cols):\n",
    "#mean imputer\n",
    "    mean_imputer = SimpleImputer(strategy= 'mean')\n",
    "\n",
    "#Scaler\n",
    "    scaler = StandardScaler()\n",
    "\n",
    "# Numeric pipeline\n",
    "    numeric_pipe = make_pipeline(mean_imputer, scaler)\n",
    "    numeric_pipe\n",
    "    \n",
    "# Define the constant imputer for categorical pipeline\n",
    "    constant_imputer = SimpleImputer(strategy='constant', fill_value='missing')\n",
    "    \n",
    "#OneHotEncoder\n",
    "    ohe =OneHotEncoder(handle_unknown='ignore', sparse=False)\n",
    "\n",
    "# Create the numeric pipeline\n",
    "    numeric_pipe = make_pipeline(mean_imputer, scaler)\n",
    "\n",
    "# Create the categorical pipeline\n",
    "    categorical_pipe = make_pipeline(constant_imputer, ohe)\n",
    "\n",
    "# Create column selectors\n",
    "    num_cols_idx = np.isin(X_train.columns, numeric_cols)\n",
    "    cat_cols_idx = np.isin(X_train.columns, categorical_cols)\n",
    "    \n",
    "# Create tuples for preprocessing the categorical and numeric columns\n",
    "    num_tuple = (numeric_pipe, num_cols_idx)\n",
    "    cat_tuple = (categorical_pipe, cat_cols_idx)\n",
    "    \n",
    "# Create the Column Transformer\n",
    "    preprocessor = make_column_transformer(num_tuple, cat_tuple, remainder='passthrough')\n",
    "\n",
    "# Fit the transformer\n",
    "    preprocessor.fit(X_train)\n",
    "    \n",
    "    return preprocessor"
   ]
  },
  {
   "cell_type": "code",
   "execution_count": 30,
   "id": "0ed9749a",
   "metadata": {},
   "outputs": [],
   "source": [
    "#Defining columns \n",
    "numeric_cols = ['Product Total', 'Grand Total']\n",
    "categorical_cols = ['Transaction Type', 'Order Type']"
   ]
  },
  {
   "cell_type": "code",
   "execution_count": 31,
   "id": "48141759",
   "metadata": {},
   "outputs": [],
   "source": [
    "preprocessor = create_preprocessing_pipeline(X_train, numeric_cols, categorical_cols)"
   ]
  },
  {
   "cell_type": "code",
   "execution_count": 32,
   "id": "a019967e",
   "metadata": {},
   "outputs": [],
   "source": [
    "X_train_preprocessed = preprocessor.transform(X_train)"
   ]
  },
  {
   "cell_type": "code",
   "execution_count": 33,
   "id": "356bc83f",
   "metadata": {},
   "outputs": [
    {
     "ename": "TypeError",
     "evalue": "float() argument must be a string or a number, not 'NAType'",
     "output_type": "error",
     "traceback": [
      "\u001b[1;31m---------------------------------------------------------------------------\u001b[0m",
      "\u001b[1;31mTypeError\u001b[0m                                 Traceback (most recent call last)",
      "Cell \u001b[1;32mIn [33], line 12\u001b[0m\n\u001b[0;32m      9\u001b[0m df \u001b[38;5;241m=\u001b[39m pd\u001b[38;5;241m.\u001b[39mDataFrame({\u001b[38;5;124m'\u001b[39m\u001b[38;5;124mCategories\u001b[39m\u001b[38;5;124m'\u001b[39m: categorical_cols, \u001b[38;5;124m'\u001b[39m\u001b[38;5;124mCount\u001b[39m\u001b[38;5;124m'\u001b[39m: category_sum})\n\u001b[0;32m     11\u001b[0m \u001b[38;5;66;03m# Create the bar plot\u001b[39;00m\n\u001b[1;32m---> 12\u001b[0m \u001b[43mplt\u001b[49m\u001b[38;5;241;43m.\u001b[39;49m\u001b[43mbar\u001b[49m\u001b[43m(\u001b[49m\u001b[43mdf\u001b[49m\u001b[43m[\u001b[49m\u001b[38;5;124;43m'\u001b[39;49m\u001b[38;5;124;43mCategories\u001b[39;49m\u001b[38;5;124;43m'\u001b[39;49m\u001b[43m]\u001b[49m\u001b[43m,\u001b[49m\u001b[43m \u001b[49m\u001b[43mdf\u001b[49m\u001b[43m[\u001b[49m\u001b[38;5;124;43m'\u001b[39;49m\u001b[38;5;124;43mCount\u001b[39;49m\u001b[38;5;124;43m'\u001b[39;49m\u001b[43m]\u001b[49m\u001b[43m)\u001b[49m\n\u001b[0;32m     13\u001b[0m \u001b[38;5;66;03m# Add labels and title\u001b[39;00m\n\u001b[0;32m     14\u001b[0m plt\u001b[38;5;241m.\u001b[39mxlabel(\u001b[38;5;124m'\u001b[39m\u001b[38;5;124mCategories\u001b[39m\u001b[38;5;124m'\u001b[39m)\n",
      "File \u001b[1;32m~\\anaconda3\\envs\\dojo-env\\lib\\site-packages\\matplotlib\\pyplot.py:2367\u001b[0m, in \u001b[0;36mbar\u001b[1;34m(x, height, width, bottom, align, data, **kwargs)\u001b[0m\n\u001b[0;32m   2363\u001b[0m \u001b[38;5;129m@_copy_docstring_and_deprecators\u001b[39m(Axes\u001b[38;5;241m.\u001b[39mbar)\n\u001b[0;32m   2364\u001b[0m \u001b[38;5;28;01mdef\u001b[39;00m \u001b[38;5;21mbar\u001b[39m(\n\u001b[0;32m   2365\u001b[0m         x, height, width\u001b[38;5;241m=\u001b[39m\u001b[38;5;241m0.8\u001b[39m, bottom\u001b[38;5;241m=\u001b[39m\u001b[38;5;28;01mNone\u001b[39;00m, \u001b[38;5;241m*\u001b[39m, align\u001b[38;5;241m=\u001b[39m\u001b[38;5;124m'\u001b[39m\u001b[38;5;124mcenter\u001b[39m\u001b[38;5;124m'\u001b[39m,\n\u001b[0;32m   2366\u001b[0m         data\u001b[38;5;241m=\u001b[39m\u001b[38;5;28;01mNone\u001b[39;00m, \u001b[38;5;241m*\u001b[39m\u001b[38;5;241m*\u001b[39mkwargs):\n\u001b[1;32m-> 2367\u001b[0m     \u001b[38;5;28;01mreturn\u001b[39;00m gca()\u001b[38;5;241m.\u001b[39mbar(\n\u001b[0;32m   2368\u001b[0m         x, height, width\u001b[38;5;241m=\u001b[39mwidth, bottom\u001b[38;5;241m=\u001b[39mbottom, align\u001b[38;5;241m=\u001b[39malign,\n\u001b[0;32m   2369\u001b[0m         \u001b[38;5;241m*\u001b[39m\u001b[38;5;241m*\u001b[39m({\u001b[38;5;124m\"\u001b[39m\u001b[38;5;124mdata\u001b[39m\u001b[38;5;124m\"\u001b[39m: data} \u001b[38;5;28;01mif\u001b[39;00m data \u001b[38;5;129;01mis\u001b[39;00m \u001b[38;5;129;01mnot\u001b[39;00m \u001b[38;5;28;01mNone\u001b[39;00m \u001b[38;5;28;01melse\u001b[39;00m {}), \u001b[38;5;241m*\u001b[39m\u001b[38;5;241m*\u001b[39mkwargs)\n",
      "File \u001b[1;32m~\\anaconda3\\envs\\dojo-env\\lib\\site-packages\\matplotlib\\__init__.py:1423\u001b[0m, in \u001b[0;36m_preprocess_data.<locals>.inner\u001b[1;34m(ax, data, *args, **kwargs)\u001b[0m\n\u001b[0;32m   1420\u001b[0m \u001b[38;5;129m@functools\u001b[39m\u001b[38;5;241m.\u001b[39mwraps(func)\n\u001b[0;32m   1421\u001b[0m \u001b[38;5;28;01mdef\u001b[39;00m \u001b[38;5;21minner\u001b[39m(ax, \u001b[38;5;241m*\u001b[39margs, data\u001b[38;5;241m=\u001b[39m\u001b[38;5;28;01mNone\u001b[39;00m, \u001b[38;5;241m*\u001b[39m\u001b[38;5;241m*\u001b[39mkwargs):\n\u001b[0;32m   1422\u001b[0m     \u001b[38;5;28;01mif\u001b[39;00m data \u001b[38;5;129;01mis\u001b[39;00m \u001b[38;5;28;01mNone\u001b[39;00m:\n\u001b[1;32m-> 1423\u001b[0m         \u001b[38;5;28;01mreturn\u001b[39;00m func(ax, \u001b[38;5;241m*\u001b[39m\u001b[38;5;28mmap\u001b[39m(sanitize_sequence, args), \u001b[38;5;241m*\u001b[39m\u001b[38;5;241m*\u001b[39mkwargs)\n\u001b[0;32m   1425\u001b[0m     bound \u001b[38;5;241m=\u001b[39m new_sig\u001b[38;5;241m.\u001b[39mbind(ax, \u001b[38;5;241m*\u001b[39margs, \u001b[38;5;241m*\u001b[39m\u001b[38;5;241m*\u001b[39mkwargs)\n\u001b[0;32m   1426\u001b[0m     auto_label \u001b[38;5;241m=\u001b[39m (bound\u001b[38;5;241m.\u001b[39marguments\u001b[38;5;241m.\u001b[39mget(label_namer)\n\u001b[0;32m   1427\u001b[0m                   \u001b[38;5;129;01mor\u001b[39;00m bound\u001b[38;5;241m.\u001b[39mkwargs\u001b[38;5;241m.\u001b[39mget(label_namer))\n",
      "File \u001b[1;32m~\\anaconda3\\envs\\dojo-env\\lib\\site-packages\\matplotlib\\axes\\_axes.py:2468\u001b[0m, in \u001b[0;36mAxes.bar\u001b[1;34m(self, x, height, width, bottom, align, **kwargs)\u001b[0m\n\u001b[0;32m   2466\u001b[0m     \u001b[38;5;28;01melse\u001b[39;00m:  \u001b[38;5;66;03m# horizontal\u001b[39;00m\n\u001b[0;32m   2467\u001b[0m         r\u001b[38;5;241m.\u001b[39msticky_edges\u001b[38;5;241m.\u001b[39mx\u001b[38;5;241m.\u001b[39mappend(l)\n\u001b[1;32m-> 2468\u001b[0m     \u001b[38;5;28;43mself\u001b[39;49m\u001b[38;5;241;43m.\u001b[39;49m\u001b[43madd_patch\u001b[49m\u001b[43m(\u001b[49m\u001b[43mr\u001b[49m\u001b[43m)\u001b[49m\n\u001b[0;32m   2469\u001b[0m     patches\u001b[38;5;241m.\u001b[39mappend(r)\n\u001b[0;32m   2471\u001b[0m \u001b[38;5;28;01mif\u001b[39;00m xerr \u001b[38;5;129;01mis\u001b[39;00m \u001b[38;5;129;01mnot\u001b[39;00m \u001b[38;5;28;01mNone\u001b[39;00m \u001b[38;5;129;01mor\u001b[39;00m yerr \u001b[38;5;129;01mis\u001b[39;00m \u001b[38;5;129;01mnot\u001b[39;00m \u001b[38;5;28;01mNone\u001b[39;00m:\n",
      "File \u001b[1;32m~\\anaconda3\\envs\\dojo-env\\lib\\site-packages\\matplotlib\\axes\\_base.py:2415\u001b[0m, in \u001b[0;36m_AxesBase.add_patch\u001b[1;34m(self, p)\u001b[0m\n\u001b[0;32m   2413\u001b[0m \u001b[38;5;28;01mif\u001b[39;00m p\u001b[38;5;241m.\u001b[39mget_clip_path() \u001b[38;5;129;01mis\u001b[39;00m \u001b[38;5;28;01mNone\u001b[39;00m:\n\u001b[0;32m   2414\u001b[0m     p\u001b[38;5;241m.\u001b[39mset_clip_path(\u001b[38;5;28mself\u001b[39m\u001b[38;5;241m.\u001b[39mpatch)\n\u001b[1;32m-> 2415\u001b[0m \u001b[38;5;28;43mself\u001b[39;49m\u001b[38;5;241;43m.\u001b[39;49m\u001b[43m_update_patch_limits\u001b[49m\u001b[43m(\u001b[49m\u001b[43mp\u001b[49m\u001b[43m)\u001b[49m\n\u001b[0;32m   2416\u001b[0m \u001b[38;5;28mself\u001b[39m\u001b[38;5;241m.\u001b[39m_children\u001b[38;5;241m.\u001b[39mappend(p)\n\u001b[0;32m   2417\u001b[0m p\u001b[38;5;241m.\u001b[39m_remove_method \u001b[38;5;241m=\u001b[39m \u001b[38;5;28mself\u001b[39m\u001b[38;5;241m.\u001b[39m_children\u001b[38;5;241m.\u001b[39mremove\n",
      "File \u001b[1;32m~\\anaconda3\\envs\\dojo-env\\lib\\site-packages\\matplotlib\\axes\\_base.py:2446\u001b[0m, in \u001b[0;36m_AxesBase._update_patch_limits\u001b[1;34m(self, patch)\u001b[0m\n\u001b[0;32m   2443\u001b[0m \u001b[38;5;28;01mif\u001b[39;00m \u001b[38;5;28mlen\u001b[39m(vertices):\n\u001b[0;32m   2444\u001b[0m     vertices \u001b[38;5;241m=\u001b[39m np\u001b[38;5;241m.\u001b[39mrow_stack(vertices)\n\u001b[1;32m-> 2446\u001b[0m patch_trf \u001b[38;5;241m=\u001b[39m \u001b[43mpatch\u001b[49m\u001b[38;5;241;43m.\u001b[39;49m\u001b[43mget_transform\u001b[49m\u001b[43m(\u001b[49m\u001b[43m)\u001b[49m\n\u001b[0;32m   2447\u001b[0m updatex, updatey \u001b[38;5;241m=\u001b[39m patch_trf\u001b[38;5;241m.\u001b[39mcontains_branch_seperately(\u001b[38;5;28mself\u001b[39m\u001b[38;5;241m.\u001b[39mtransData)\n\u001b[0;32m   2448\u001b[0m \u001b[38;5;28;01mif\u001b[39;00m \u001b[38;5;129;01mnot\u001b[39;00m (updatex \u001b[38;5;129;01mor\u001b[39;00m updatey):\n",
      "File \u001b[1;32m~\\anaconda3\\envs\\dojo-env\\lib\\site-packages\\matplotlib\\patches.py:262\u001b[0m, in \u001b[0;36mPatch.get_transform\u001b[1;34m(self)\u001b[0m\n\u001b[0;32m    260\u001b[0m \u001b[38;5;28;01mdef\u001b[39;00m \u001b[38;5;21mget_transform\u001b[39m(\u001b[38;5;28mself\u001b[39m):\n\u001b[0;32m    261\u001b[0m \u001b[38;5;250m    \u001b[39m\u001b[38;5;124;03m\"\"\"Return the `~.transforms.Transform` applied to the `Patch`.\"\"\"\u001b[39;00m\n\u001b[1;32m--> 262\u001b[0m     \u001b[38;5;28;01mreturn\u001b[39;00m \u001b[38;5;28;43mself\u001b[39;49m\u001b[38;5;241;43m.\u001b[39;49m\u001b[43mget_patch_transform\u001b[49m\u001b[43m(\u001b[49m\u001b[43m)\u001b[49m \u001b[38;5;241m+\u001b[39m artist\u001b[38;5;241m.\u001b[39mArtist\u001b[38;5;241m.\u001b[39mget_transform(\u001b[38;5;28mself\u001b[39m)\n",
      "File \u001b[1;32m~\\anaconda3\\envs\\dojo-env\\lib\\site-packages\\matplotlib\\patches.py:745\u001b[0m, in \u001b[0;36mRectangle.get_patch_transform\u001b[1;34m(self)\u001b[0m\n\u001b[0;32m    740\u001b[0m \u001b[38;5;28;01mdef\u001b[39;00m \u001b[38;5;21mget_patch_transform\u001b[39m(\u001b[38;5;28mself\u001b[39m):\n\u001b[0;32m    741\u001b[0m     \u001b[38;5;66;03m# Note: This cannot be called until after this has been added to\u001b[39;00m\n\u001b[0;32m    742\u001b[0m     \u001b[38;5;66;03m# an Axes, otherwise unit conversion will fail. This makes it very\u001b[39;00m\n\u001b[0;32m    743\u001b[0m     \u001b[38;5;66;03m# important to call the accessor method and not directly access the\u001b[39;00m\n\u001b[0;32m    744\u001b[0m     \u001b[38;5;66;03m# transformation member variable.\u001b[39;00m\n\u001b[1;32m--> 745\u001b[0m     bbox \u001b[38;5;241m=\u001b[39m \u001b[38;5;28;43mself\u001b[39;49m\u001b[38;5;241;43m.\u001b[39;49m\u001b[43mget_bbox\u001b[49m\u001b[43m(\u001b[49m\u001b[43m)\u001b[49m\n\u001b[0;32m    746\u001b[0m     \u001b[38;5;28;01mif\u001b[39;00m \u001b[38;5;28mself\u001b[39m\u001b[38;5;241m.\u001b[39mrotation_point \u001b[38;5;241m==\u001b[39m \u001b[38;5;124m'\u001b[39m\u001b[38;5;124mcenter\u001b[39m\u001b[38;5;124m'\u001b[39m:\n\u001b[0;32m    747\u001b[0m         width, height \u001b[38;5;241m=\u001b[39m bbox\u001b[38;5;241m.\u001b[39mx1 \u001b[38;5;241m-\u001b[39m bbox\u001b[38;5;241m.\u001b[39mx0, bbox\u001b[38;5;241m.\u001b[39my1 \u001b[38;5;241m-\u001b[39m bbox\u001b[38;5;241m.\u001b[39my0\n",
      "File \u001b[1;32m~\\anaconda3\\envs\\dojo-env\\lib\\site-packages\\matplotlib\\patches.py:877\u001b[0m, in \u001b[0;36mRectangle.get_bbox\u001b[1;34m(self)\u001b[0m\n\u001b[0;32m    875\u001b[0m \u001b[38;5;250m\u001b[39m\u001b[38;5;124;03m\"\"\"Return the `.Bbox`.\"\"\"\u001b[39;00m\n\u001b[0;32m    876\u001b[0m x0, y0, x1, y1 \u001b[38;5;241m=\u001b[39m \u001b[38;5;28mself\u001b[39m\u001b[38;5;241m.\u001b[39m_convert_units()\n\u001b[1;32m--> 877\u001b[0m \u001b[38;5;28;01mreturn\u001b[39;00m \u001b[43mtransforms\u001b[49m\u001b[38;5;241;43m.\u001b[39;49m\u001b[43mBbox\u001b[49m\u001b[38;5;241;43m.\u001b[39;49m\u001b[43mfrom_extents\u001b[49m\u001b[43m(\u001b[49m\u001b[43mx0\u001b[49m\u001b[43m,\u001b[49m\u001b[43m \u001b[49m\u001b[43my0\u001b[49m\u001b[43m,\u001b[49m\u001b[43m \u001b[49m\u001b[43mx1\u001b[49m\u001b[43m,\u001b[49m\u001b[43m \u001b[49m\u001b[43my1\u001b[49m\u001b[43m)\u001b[49m\n",
      "File \u001b[1;32m~\\anaconda3\\envs\\dojo-env\\lib\\site-packages\\matplotlib\\transforms.py:826\u001b[0m, in \u001b[0;36mBbox.from_extents\u001b[1;34m(minpos, *args)\u001b[0m\n\u001b[0;32m    809\u001b[0m \u001b[38;5;129m@staticmethod\u001b[39m\n\u001b[0;32m    810\u001b[0m \u001b[38;5;28;01mdef\u001b[39;00m \u001b[38;5;21mfrom_extents\u001b[39m(\u001b[38;5;241m*\u001b[39margs, minpos\u001b[38;5;241m=\u001b[39m\u001b[38;5;28;01mNone\u001b[39;00m):\n\u001b[0;32m    811\u001b[0m \u001b[38;5;250m    \u001b[39m\u001b[38;5;124;03m\"\"\"\u001b[39;00m\n\u001b[0;32m    812\u001b[0m \u001b[38;5;124;03m    Create a new Bbox from *left*, *bottom*, *right* and *top*.\u001b[39;00m\n\u001b[0;32m    813\u001b[0m \n\u001b[1;32m   (...)\u001b[0m\n\u001b[0;32m    824\u001b[0m \u001b[38;5;124;03m       scales where negative bounds result in floating point errors.\u001b[39;00m\n\u001b[0;32m    825\u001b[0m \u001b[38;5;124;03m    \"\"\"\u001b[39;00m\n\u001b[1;32m--> 826\u001b[0m     bbox \u001b[38;5;241m=\u001b[39m \u001b[43mBbox\u001b[49m\u001b[43m(\u001b[49m\u001b[43mnp\u001b[49m\u001b[38;5;241;43m.\u001b[39;49m\u001b[43mreshape\u001b[49m\u001b[43m(\u001b[49m\u001b[43margs\u001b[49m\u001b[43m,\u001b[49m\u001b[43m \u001b[49m\u001b[43m(\u001b[49m\u001b[38;5;241;43m2\u001b[39;49m\u001b[43m,\u001b[49m\u001b[43m \u001b[49m\u001b[38;5;241;43m2\u001b[39;49m\u001b[43m)\u001b[49m\u001b[43m)\u001b[49m\u001b[43m)\u001b[49m\n\u001b[0;32m    827\u001b[0m     \u001b[38;5;28;01mif\u001b[39;00m minpos \u001b[38;5;129;01mis\u001b[39;00m \u001b[38;5;129;01mnot\u001b[39;00m \u001b[38;5;28;01mNone\u001b[39;00m:\n\u001b[0;32m    828\u001b[0m         bbox\u001b[38;5;241m.\u001b[39m_minpos[:] \u001b[38;5;241m=\u001b[39m minpos\n",
      "File \u001b[1;32m~\\anaconda3\\envs\\dojo-env\\lib\\site-packages\\matplotlib\\transforms.py:762\u001b[0m, in \u001b[0;36mBbox.__init__\u001b[1;34m(self, points, **kwargs)\u001b[0m\n\u001b[0;32m    755\u001b[0m \u001b[38;5;250m\u001b[39m\u001b[38;5;124;03m\"\"\"\u001b[39;00m\n\u001b[0;32m    756\u001b[0m \u001b[38;5;124;03mParameters\u001b[39;00m\n\u001b[0;32m    757\u001b[0m \u001b[38;5;124;03m----------\u001b[39;00m\n\u001b[0;32m    758\u001b[0m \u001b[38;5;124;03mpoints : ndarray\u001b[39;00m\n\u001b[0;32m    759\u001b[0m \u001b[38;5;124;03m    A 2x2 numpy array of the form ``[[x0, y0], [x1, y1]]``.\u001b[39;00m\n\u001b[0;32m    760\u001b[0m \u001b[38;5;124;03m\"\"\"\u001b[39;00m\n\u001b[0;32m    761\u001b[0m \u001b[38;5;28msuper\u001b[39m()\u001b[38;5;241m.\u001b[39m\u001b[38;5;21m__init__\u001b[39m(\u001b[38;5;241m*\u001b[39m\u001b[38;5;241m*\u001b[39mkwargs)\n\u001b[1;32m--> 762\u001b[0m points \u001b[38;5;241m=\u001b[39m \u001b[43mnp\u001b[49m\u001b[38;5;241;43m.\u001b[39;49m\u001b[43masarray\u001b[49m\u001b[43m(\u001b[49m\u001b[43mpoints\u001b[49m\u001b[43m,\u001b[49m\u001b[43m \u001b[49m\u001b[38;5;28;43mfloat\u001b[39;49m\u001b[43m)\u001b[49m\n\u001b[0;32m    763\u001b[0m \u001b[38;5;28;01mif\u001b[39;00m points\u001b[38;5;241m.\u001b[39mshape \u001b[38;5;241m!=\u001b[39m (\u001b[38;5;241m2\u001b[39m, \u001b[38;5;241m2\u001b[39m):\n\u001b[0;32m    764\u001b[0m     \u001b[38;5;28;01mraise\u001b[39;00m \u001b[38;5;167;01mValueError\u001b[39;00m(\u001b[38;5;124m'\u001b[39m\u001b[38;5;124mBbox points must be of the form \u001b[39m\u001b[38;5;124m'\u001b[39m\n\u001b[0;32m    765\u001b[0m                      \u001b[38;5;124m'\u001b[39m\u001b[38;5;124m\"\u001b[39m\u001b[38;5;124m[[x0, y0], [x1, y1]]\u001b[39m\u001b[38;5;124m\"\u001b[39m\u001b[38;5;124m.\u001b[39m\u001b[38;5;124m'\u001b[39m)\n",
      "\u001b[1;31mTypeError\u001b[0m: float() argument must be a string or a number, not 'NAType'"
     ]
    },
    {
     "data": {
      "image/png": "[encoded data removed]",
      "text/plain": [
       "<Figure size 640x480 with 1 Axes>"
      ]
     },
     "metadata": {},
     "output_type": "display_data"
    }
   ],
   "source": [
    "# Assuming X_train_preprocessed is your preprocessed data\n",
    "\n",
    "# Extract the transformed categorical columns\n",
    "categorical_data = X_train_preprocessed[:, -len(categorical_cols):]\n",
    "\n",
    "# Calculate the sum of each category\n",
    "category_sum = categorical_data.sum(axis=0)\n",
    "# Create a pandas DataFrame for the bar plot\n",
    "df = pd.DataFrame({'Categories': categorical_cols, 'Count': category_sum})\n",
    "\n",
    "# Create the bar plot\n",
    "plt.bar(df['Categories'], df['Count'])\n",
    "# Add labels and title\n",
    "plt.xlabel('Categories')\n",
    "plt.ylabel('Count')\n",
    "plt.title('Bar Plot of Preprocessed Categorical Data')\n",
    "\n",
    "# Rotate the x-axis labels if needed\n",
    "plt.xticks(rotation=45)\n",
    "\n",
    "# Display the plot\n",
    "plt.show()"
   ]
  },
  {
   "cell_type": "code",
   "execution_count": null,
   "id": "e686a02c",
   "metadata": {},
   "outputs": [],
   "source": [
    "# Assuming X_train_preprocessed is your preprocessed data\n",
    "\n",
    "# Extract the transformed numeric columns\n",
    "numeric_data = X_train_preprocessed[:, :len(numeric_cols)]\n",
    "\n",
    "# Calculate the mean of each numeric column\n",
    "column_means = numeric_data.mean(axis=0)\n",
    "# Create a list of column names for the bar plot\n",
    "column_names = ['Product Total', 'Grand Total']\n",
    "\n",
    "# Make sure column_means is a numpy array\n",
    "column_means = np.array(column_means)\n",
    "\n",
    "# Create the bar plot\n",
    "plt.bar(column_names, column_means)\n",
    "# Add labels and title\n",
    "plt.xlabel('Numeric Columns')\n",
    "plt.ylabel('Mean Value')\n",
    "plt.title('Bar Plot of Preprocessed Numeric Data')\n",
    "\n",
    "# Rotate the x-axis labels if needed\n",
    "plt.xticks(rotation=45)\n",
    "\n",
    "# Display the plot\n",
    "plt.show()"
   ]
  },
  {
   "cell_type": "code",
   "execution_count": null,
   "id": "d2214681",
   "metadata": {},
   "outputs": [],
   "source": []
  }
 ],
 "metadata": {
  "kernelspec": {
   "display_name": "Python (dojo-env)",
   "language": "python",
   "name": "dojo-env"
  },
  "language_info": {
   "codemirror_mode": {
    "name": "ipython",
    "version": 3
   },
   "file_extension": ".py",
   "mimetype": "text/x-python",
   "name": "python",
   "nbconvert_exporter": "python",
   "pygments_lexer": "ipython3",
   "version": "3.9.15"
  },
  "toc": {
   "base_numbering": 1,
   "nav_menu": {},
   "number_sections": false,
   "sideBar": true,
   "skip_h1_title": false,
   "title_cell": "Table of Contents",
   "title_sidebar": "Contents",
   "toc_cell": false,
   "toc_position": {
    "height": "calc(100% - 180px)",
    "left": "10px",
    "top": "150px",
    "width": "215.824px"
   },
   "toc_section_display": true,
   "toc_window_display": false
  }
 },
 "nbformat": 4,
 "nbformat_minor": 5
}
