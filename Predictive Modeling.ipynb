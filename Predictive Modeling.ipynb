{
 "cells": [
  {
   "cell_type": "markdown",
   "id": "7e97fe74",
   "metadata": {},
   "source": [
    "# **Modeling**"
   ]
  },
  {
   "cell_type": "markdown",
   "id": "c1241109",
   "metadata": {},
   "source": [
    "# **Imports**"
   ]
  },
  {
   "cell_type": "code",
   "execution_count": 1,
   "id": "9e2cd85d",
   "metadata": {},
   "outputs": [],
   "source": [
    "#Numpy\n",
    "import numpy as np\n",
    "from numpy import median\n",
    "\n",
    "#Pandas\n",
    "import pandas as pd\n",
    "\n",
    "#Seaborn\n",
    "import seaborn as sns\n",
    "\n",
    "#matplotlib\n",
    "import matplotlib.pyplot as plt\n",
    "import plotly\n",
    "\n",
    "#Sklearn\n",
    "from sklearn.preprocessing import StandardScaler\n",
    "from sklearn.preprocessing import OneHotEncoder \n",
    "from sklearn.model_selection import GridSearchCV, train_test_split\n",
    "from sklearn.compose import make_column_selector\n",
    "from sklearn.compose import make_column_transformer\n",
    "from sklearn.impute import SimpleImputer\n",
    "from sklearn.pipeline import make_pipeline\n",
    "from sklearn.linear_model import LinearRegression\n",
    "from sklearn import metrics\n",
    "from sklearn.metrics import mean_squared_error\n",
    "\n",
    "#Warnings\n",
    "import warnings\n",
    "warnings.filterwarnings(\"ignore\")"
   ]
  },
  {
   "cell_type": "markdown",
   "id": "aa8ba1b4",
   "metadata": {},
   "source": [
    "# **Loading Data**"
   ]
  },
  {
   "cell_type": "code",
   "execution_count": 2,
   "id": "f7dbcc02",
   "metadata": {},
   "outputs": [],
   "source": [
    "#Loading in the data from the previous notebook\n",
    "fd = pd.read_csv('fd')"
   ]
  },
  {
   "cell_type": "code",
   "execution_count": 3,
   "id": "080392f2",
   "metadata": {
    "scrolled": true
   },
   "outputs": [
    {
     "data": {
      "text/html": [
       "<div>\n",
       "<style scoped>\n",
       "    .dataframe tbody tr th:only-of-type {\n",
       "        vertical-align: middle;\n",
       "    }\n",
       "\n",
       "    .dataframe tbody tr th {\n",
       "        vertical-align: top;\n",
       "    }\n",
       "\n",
       "    .dataframe thead th {\n",
       "        text-align: right;\n",
       "    }\n",
       "</style>\n",
       "<table border=\"1\" class=\"dataframe\">\n",
       "  <thead>\n",
       "    <tr style=\"text-align: right;\">\n",
       "      <th></th>\n",
       "      <th>Order #</th>\n",
       "      <th>Transaction Type</th>\n",
       "      <th>Order Time</th>\n",
       "      <th>Order Date</th>\n",
       "      <th>Delivery Date</th>\n",
       "      <th>Product Total</th>\n",
       "      <th>Delivery</th>\n",
       "      <th>Nontaxable Delivery</th>\n",
       "      <th>Wire Out Fee</th>\n",
       "      <th>Discount</th>\n",
       "      <th>Gift Cards</th>\n",
       "      <th>Tax</th>\n",
       "      <th>Tips</th>\n",
       "      <th>Grand Total</th>\n",
       "      <th>Payment Method</th>\n",
       "      <th>Order Type</th>\n",
       "      <th>Order Method</th>\n",
       "      <th>Year</th>\n",
       "    </tr>\n",
       "  </thead>\n",
       "  <tbody>\n",
       "    <tr>\n",
       "      <th>0</th>\n",
       "      <td>100017453</td>\n",
       "      <td>Sale</td>\n",
       "      <td>03:28:16PM Sat</td>\n",
       "      <td>2018-12-29</td>\n",
       "      <td>2018-12-29</td>\n",
       "      <td>815.00</td>\n",
       "      <td>$0.00</td>\n",
       "      <td>0.0</td>\n",
       "      <td>0.0</td>\n",
       "      <td>0.00</td>\n",
       "      <td>0.0</td>\n",
       "      <td>79.46</td>\n",
       "      <td>0.0</td>\n",
       "      <td>894.46</td>\n",
       "      <td>Credit Card</td>\n",
       "      <td>Taken</td>\n",
       "      <td>Phone</td>\n",
       "      <td>2018</td>\n",
       "    </tr>\n",
       "    <tr>\n",
       "      <th>1</th>\n",
       "      <td>100017452</td>\n",
       "      <td>Sale</td>\n",
       "      <td>03:16:50PM Sat</td>\n",
       "      <td>2018-12-29</td>\n",
       "      <td>2018-12-29</td>\n",
       "      <td>249.90</td>\n",
       "      <td>$0.00</td>\n",
       "      <td>0.0</td>\n",
       "      <td>0.0</td>\n",
       "      <td>-124.96</td>\n",
       "      <td>0.0</td>\n",
       "      <td>12.19</td>\n",
       "      <td>0.0</td>\n",
       "      <td>137.13</td>\n",
       "      <td>Credit Card</td>\n",
       "      <td>Taken</td>\n",
       "      <td>Walk-In</td>\n",
       "      <td>2018</td>\n",
       "    </tr>\n",
       "    <tr>\n",
       "      <th>2</th>\n",
       "      <td>100017451</td>\n",
       "      <td>Sale</td>\n",
       "      <td>02:58:53PM Sat</td>\n",
       "      <td>2018-12-29</td>\n",
       "      <td>2018-12-29</td>\n",
       "      <td>24.95</td>\n",
       "      <td>$0.00</td>\n",
       "      <td>0.0</td>\n",
       "      <td>0.0</td>\n",
       "      <td>0.00</td>\n",
       "      <td>0.0</td>\n",
       "      <td>2.43</td>\n",
       "      <td>0.0</td>\n",
       "      <td>27.38</td>\n",
       "      <td>Credit Card</td>\n",
       "      <td>Taken</td>\n",
       "      <td>Walk-In</td>\n",
       "      <td>2018</td>\n",
       "    </tr>\n",
       "    <tr>\n",
       "      <th>3</th>\n",
       "      <td>100017450</td>\n",
       "      <td>Sale</td>\n",
       "      <td>02:54:45PM Sat</td>\n",
       "      <td>2018-12-29</td>\n",
       "      <td>2018-12-29</td>\n",
       "      <td>635.00</td>\n",
       "      <td>$0.00</td>\n",
       "      <td>0.0</td>\n",
       "      <td>0.0</td>\n",
       "      <td>0.00</td>\n",
       "      <td>0.0</td>\n",
       "      <td>61.91</td>\n",
       "      <td>0.0</td>\n",
       "      <td>696.91</td>\n",
       "      <td>Credit Card</td>\n",
       "      <td>Taken</td>\n",
       "      <td>Phone</td>\n",
       "      <td>2018</td>\n",
       "    </tr>\n",
       "    <tr>\n",
       "      <th>4</th>\n",
       "      <td>100017202</td>\n",
       "      <td>Sale</td>\n",
       "      <td>02:48:15PM Sat</td>\n",
       "      <td>2018-12-29</td>\n",
       "      <td>2018-12-23</td>\n",
       "      <td>702.00</td>\n",
       "      <td>$0.00</td>\n",
       "      <td>25.0</td>\n",
       "      <td>0.0</td>\n",
       "      <td>0.00</td>\n",
       "      <td>0.0</td>\n",
       "      <td>68.45</td>\n",
       "      <td>0.0</td>\n",
       "      <td>795.45</td>\n",
       "      <td>Credit Card</td>\n",
       "      <td>Delivery</td>\n",
       "      <td>Walk-In</td>\n",
       "      <td>2018</td>\n",
       "    </tr>\n",
       "  </tbody>\n",
       "</table>\n",
       "</div>"
      ],
      "text/plain": [
       "     Order # Transaction Type      Order Time  Order Date Delivery Date  \\\n",
       "0  100017453             Sale  03:28:16PM Sat  2018-12-29    2018-12-29   \n",
       "1  100017452             Sale  03:16:50PM Sat  2018-12-29    2018-12-29   \n",
       "2  100017451             Sale  02:58:53PM Sat  2018-12-29    2018-12-29   \n",
       "3  100017450             Sale  02:54:45PM Sat  2018-12-29    2018-12-29   \n",
       "4  100017202             Sale  02:48:15PM Sat  2018-12-29    2018-12-23   \n",
       "\n",
       "   Product Total Delivery  Nontaxable Delivery  Wire Out Fee  Discount  \\\n",
       "0         815.00    $0.00                  0.0           0.0      0.00   \n",
       "1         249.90    $0.00                  0.0           0.0   -124.96   \n",
       "2          24.95    $0.00                  0.0           0.0      0.00   \n",
       "3         635.00    $0.00                  0.0           0.0      0.00   \n",
       "4         702.00    $0.00                 25.0           0.0      0.00   \n",
       "\n",
       "   Gift Cards    Tax  Tips  Grand Total Payment Method Order Type  \\\n",
       "0         0.0  79.46   0.0       894.46    Credit Card      Taken   \n",
       "1         0.0  12.19   0.0       137.13    Credit Card      Taken   \n",
       "2         0.0   2.43   0.0        27.38    Credit Card      Taken   \n",
       "3         0.0  61.91   0.0       696.91    Credit Card      Taken   \n",
       "4         0.0  68.45   0.0       795.45    Credit Card   Delivery   \n",
       "\n",
       "  Order Method  Year  \n",
       "0        Phone  2018  \n",
       "1      Walk-In  2018  \n",
       "2      Walk-In  2018  \n",
       "3        Phone  2018  \n",
       "4      Walk-In  2018  "
      ]
     },
     "execution_count": 3,
     "metadata": {},
     "output_type": "execute_result"
    }
   ],
   "source": [
    "fd.head()"
   ]
  },
  {
   "cell_type": "code",
   "execution_count": 4,
   "id": "509e3245",
   "metadata": {
    "scrolled": false
   },
   "outputs": [
    {
     "name": "stdout",
     "output_type": "stream",
     "text": [
      "<class 'pandas.core.frame.DataFrame'>\n",
      "RangeIndex: 46062 entries, 0 to 46061\n",
      "Data columns (total 18 columns):\n",
      " #   Column               Non-Null Count  Dtype  \n",
      "---  ------               --------------  -----  \n",
      " 0   Order #              46062 non-null  int64  \n",
      " 1   Transaction Type     46062 non-null  object \n",
      " 2   Order Time           46062 non-null  object \n",
      " 3   Order Date           46062 non-null  object \n",
      " 4   Delivery Date        46062 non-null  object \n",
      " 5   Product Total        46062 non-null  float64\n",
      " 6   Delivery             46062 non-null  object \n",
      " 7   Nontaxable Delivery  46062 non-null  float64\n",
      " 8   Wire Out Fee         46062 non-null  float64\n",
      " 9   Discount             46062 non-null  float64\n",
      " 10  Gift Cards           46062 non-null  float64\n",
      " 11  Tax                  46062 non-null  float64\n",
      " 12  Tips                 46062 non-null  float64\n",
      " 13  Grand Total          46062 non-null  float64\n",
      " 14  Payment Method       46062 non-null  object \n",
      " 15  Order Type           46062 non-null  object \n",
      " 16  Order Method         46062 non-null  object \n",
      " 17  Year                 46062 non-null  int64  \n",
      "dtypes: float64(8), int64(2), object(8)\n",
      "memory usage: 6.3+ MB\n"
     ]
    }
   ],
   "source": [
    "fd.info()"
   ]
  },
  {
   "cell_type": "code",
   "execution_count": 5,
   "id": "9afd2ca4",
   "metadata": {},
   "outputs": [],
   "source": [
    "#fd['Delivery Date'] = pd.to_datetime(fd['Delivery Date'])\n",
    "#fd['Year'] = fd['Delivery Date'].dt.year"
   ]
  },
  {
   "cell_type": "code",
   "execution_count": 6,
   "id": "f6bed98d",
   "metadata": {},
   "outputs": [],
   "source": [
    "filtered_data = fd[(fd['Year'] != 2016) & (fd['Year'] != 2017)]"
   ]
  },
  {
   "cell_type": "code",
   "execution_count": 7,
   "id": "a6755b17",
   "metadata": {},
   "outputs": [],
   "source": [
    "product_total_by_year = filtered_data.groupby('Year')['Product Total'].sum().reset_index()"
   ]
  },
  {
   "cell_type": "code",
   "execution_count": 8,
   "id": "b71d30d4",
   "metadata": {},
   "outputs": [
    {
     "data": {
      "image/png": "[encoded data removed]",
      "text/plain": [
       "<Figure size 640x480 with 1 Axes>"
      ]
     },
     "metadata": {},
     "output_type": "display_data"
    }
   ],
   "source": [
    "# Create barplot\n",
    "plt.bar(product_total_by_year['Year'], product_total_by_year['Product Total'])\n",
    "\n",
    "# Set plot labels and title\n",
    "plt.xlabel('Year')\n",
    "plt.ylabel('Product Total')\n",
    "plt.title('Product Total by Year')\n",
    "\n",
    "# Show the plot\n",
    "plt.show()"
   ]
  },
  {
   "cell_type": "code",
   "execution_count": 9,
   "id": "0c276f15",
   "metadata": {},
   "outputs": [],
   "source": [
    "def replace_nan(fd):\n",
    "    # Find categorical and numerical columns\n",
    "    categorical_cols = fd.select_dtypes(include='object').columns\n",
    "    numerical_cols = fd.select_dtypes(include=np.number).columns\n",
    "    date_cols = ['Order Time', 'Order Date', 'Delivery Date']\n",
    "# Replace NaT values with NaN\n",
    "    fd = fd.replace(pd.NaT, np.nan)\n",
    "\n",
    "# Impute missing values with mode for categorical variables\n",
    "    categorical_imputer = SimpleImputer(strategy='most_frequent')\n",
    "    fd[categorical_cols] = categorical_imputer.fit_transform(fd[categorical_cols])\n",
    "# Replace missing values in date columns with most frequent date\n",
    "    for col in date_cols:\n",
    "        most_frequent_date = fd[col].mode().values[0]\n",
    "        fd[col].fillna(most_frequent_date, inplace=True)\n",
    "        # Impute missing values with median for numerical variables\n",
    "        numerical_imputer = SimpleImputer(strategy='most_frequent')\n",
    "    fd[numerical_cols] = numerical_imputer.fit_transform(fd[numerical_cols])\n",
    "\n",
    "    return fd"
   ]
  },
  {
   "cell_type": "code",
   "execution_count": 10,
   "id": "21de336a",
   "metadata": {},
   "outputs": [],
   "source": [
    "#Runing the function to transform the data\n",
    "transformed_data =replace_nan(fd)"
   ]
  },
  {
   "cell_type": "code",
   "execution_count": 11,
   "id": "e38dc208",
   "metadata": {},
   "outputs": [],
   "source": [
    "# Function to remove adjustment and refund rows\n",
    "def remove_adjustment_refund_rows(data):\n",
    "    # Filter out rows with 'Adjustment' and 'Refund' transaction types\n",
    "    filtered_data = fd[fd['Transaction Type'].isin(['Sale'])]\n",
    "    \n",
    "    return filtered_data\n",
    "\n",
    "# Example usage:\n",
    "filtered_data = remove_adjustment_refund_rows(transformed_data)\n",
    "fd = filtered_data"
   ]
  },
  {
   "cell_type": "markdown",
   "id": "79ffc78e",
   "metadata": {},
   "source": [
    "## **Addressing issue of categorical columns before modeling**"
   ]
  },
  {
   "cell_type": "code",
   "execution_count": 12,
   "id": "0fc01880",
   "metadata": {},
   "outputs": [],
   "source": [
    "# Assuming 'TargetColumn' is the name of your target variable column\n",
    "y = fd['Grand Total']\n",
    "\n",
    "# Drop the target column to get the features\n",
    "X = fd.drop(columns=['Grand Total'])"
   ]
  },
  {
   "cell_type": "code",
   "execution_count": 13,
   "id": "b155b85a",
   "metadata": {},
   "outputs": [
    {
     "ename": "MemoryError",
     "evalue": "Unable to allocate 15.2 GiB for an array with shape (44227, 46062) and data type float64",
     "output_type": "error",
     "traceback": [
      "\u001b[1;31m---------------------------------------------------------------------------\u001b[0m",
      "\u001b[1;31mMemoryError\u001b[0m                               Traceback (most recent call last)",
      "Cell \u001b[1;32mIn [13], line 12\u001b[0m\n\u001b[0;32m     10\u001b[0m X_encoded \u001b[38;5;241m=\u001b[39m pd\u001b[38;5;241m.\u001b[39mDataFrame(encoder\u001b[38;5;241m.\u001b[39mfit_transform(X[categorical_cols]))\n\u001b[0;32m     11\u001b[0m X_encoded\u001b[38;5;241m.\u001b[39mcolumns \u001b[38;5;241m=\u001b[39m encoder\u001b[38;5;241m.\u001b[39mget_feature_names(categorical_cols)\n\u001b[1;32m---> 12\u001b[0m X \u001b[38;5;241m=\u001b[39m \u001b[43mpd\u001b[49m\u001b[38;5;241;43m.\u001b[39;49m\u001b[43mconcat\u001b[49m\u001b[43m(\u001b[49m\u001b[43m[\u001b[49m\u001b[43mX\u001b[49m\u001b[38;5;241;43m.\u001b[39;49m\u001b[43mdrop\u001b[49m\u001b[43m(\u001b[49m\u001b[43mcolumns\u001b[49m\u001b[38;5;241;43m=\u001b[39;49m\u001b[43mcategorical_cols\u001b[49m\u001b[43m)\u001b[49m\u001b[43m,\u001b[49m\u001b[43m \u001b[49m\u001b[43mX_encoded\u001b[49m\u001b[43m]\u001b[49m\u001b[43m,\u001b[49m\u001b[43m \u001b[49m\u001b[43maxis\u001b[49m\u001b[38;5;241;43m=\u001b[39;49m\u001b[38;5;241;43m1\u001b[39;49m\u001b[43m)\u001b[49m\n",
      "File \u001b[1;32m~\\anaconda3\\envs\\dojo-env\\lib\\site-packages\\pandas\\util\\_decorators.py:331\u001b[0m, in \u001b[0;36mdeprecate_nonkeyword_arguments.<locals>.decorate.<locals>.wrapper\u001b[1;34m(*args, **kwargs)\u001b[0m\n\u001b[0;32m    325\u001b[0m \u001b[38;5;28;01mif\u001b[39;00m \u001b[38;5;28mlen\u001b[39m(args) \u001b[38;5;241m>\u001b[39m num_allow_args:\n\u001b[0;32m    326\u001b[0m     warnings\u001b[38;5;241m.\u001b[39mwarn(\n\u001b[0;32m    327\u001b[0m         msg\u001b[38;5;241m.\u001b[39mformat(arguments\u001b[38;5;241m=\u001b[39m_format_argument_list(allow_args)),\n\u001b[0;32m    328\u001b[0m         \u001b[38;5;167;01mFutureWarning\u001b[39;00m,\n\u001b[0;32m    329\u001b[0m         stacklevel\u001b[38;5;241m=\u001b[39mfind_stack_level(),\n\u001b[0;32m    330\u001b[0m     )\n\u001b[1;32m--> 331\u001b[0m \u001b[38;5;28;01mreturn\u001b[39;00m func(\u001b[38;5;241m*\u001b[39margs, \u001b[38;5;241m*\u001b[39m\u001b[38;5;241m*\u001b[39mkwargs)\n",
      "File \u001b[1;32m~\\anaconda3\\envs\\dojo-env\\lib\\site-packages\\pandas\\core\\reshape\\concat.py:381\u001b[0m, in \u001b[0;36mconcat\u001b[1;34m(objs, axis, join, ignore_index, keys, levels, names, verify_integrity, sort, copy)\u001b[0m\n\u001b[0;32m    159\u001b[0m \u001b[38;5;250m\u001b[39m\u001b[38;5;124;03m\"\"\"\u001b[39;00m\n\u001b[0;32m    160\u001b[0m \u001b[38;5;124;03mConcatenate pandas objects along a particular axis.\u001b[39;00m\n\u001b[0;32m    161\u001b[0m \n\u001b[1;32m   (...)\u001b[0m\n\u001b[0;32m    366\u001b[0m \u001b[38;5;124;03m1   3   4\u001b[39;00m\n\u001b[0;32m    367\u001b[0m \u001b[38;5;124;03m\"\"\"\u001b[39;00m\n\u001b[0;32m    368\u001b[0m op \u001b[38;5;241m=\u001b[39m _Concatenator(\n\u001b[0;32m    369\u001b[0m     objs,\n\u001b[0;32m    370\u001b[0m     axis\u001b[38;5;241m=\u001b[39maxis,\n\u001b[1;32m   (...)\u001b[0m\n\u001b[0;32m    378\u001b[0m     sort\u001b[38;5;241m=\u001b[39msort,\n\u001b[0;32m    379\u001b[0m )\n\u001b[1;32m--> 381\u001b[0m \u001b[38;5;28;01mreturn\u001b[39;00m \u001b[43mop\u001b[49m\u001b[38;5;241;43m.\u001b[39;49m\u001b[43mget_result\u001b[49m\u001b[43m(\u001b[49m\u001b[43m)\u001b[49m\n",
      "File \u001b[1;32m~\\anaconda3\\envs\\dojo-env\\lib\\site-packages\\pandas\\core\\reshape\\concat.py:616\u001b[0m, in \u001b[0;36m_Concatenator.get_result\u001b[1;34m(self)\u001b[0m\n\u001b[0;32m    612\u001b[0m             indexers[ax] \u001b[38;5;241m=\u001b[39m obj_labels\u001b[38;5;241m.\u001b[39mget_indexer(new_labels)\n\u001b[0;32m    614\u001b[0m     mgrs_indexers\u001b[38;5;241m.\u001b[39mappend((obj\u001b[38;5;241m.\u001b[39m_mgr, indexers))\n\u001b[1;32m--> 616\u001b[0m new_data \u001b[38;5;241m=\u001b[39m \u001b[43mconcatenate_managers\u001b[49m\u001b[43m(\u001b[49m\n\u001b[0;32m    617\u001b[0m \u001b[43m    \u001b[49m\u001b[43mmgrs_indexers\u001b[49m\u001b[43m,\u001b[49m\u001b[43m \u001b[49m\u001b[38;5;28;43mself\u001b[39;49m\u001b[38;5;241;43m.\u001b[39;49m\u001b[43mnew_axes\u001b[49m\u001b[43m,\u001b[49m\u001b[43m \u001b[49m\u001b[43mconcat_axis\u001b[49m\u001b[38;5;241;43m=\u001b[39;49m\u001b[38;5;28;43mself\u001b[39;49m\u001b[38;5;241;43m.\u001b[39;49m\u001b[43mbm_axis\u001b[49m\u001b[43m,\u001b[49m\u001b[43m \u001b[49m\u001b[43mcopy\u001b[49m\u001b[38;5;241;43m=\u001b[39;49m\u001b[38;5;28;43mself\u001b[39;49m\u001b[38;5;241;43m.\u001b[39;49m\u001b[43mcopy\u001b[49m\n\u001b[0;32m    618\u001b[0m \u001b[43m\u001b[49m\u001b[43m)\u001b[49m\n\u001b[0;32m    619\u001b[0m \u001b[38;5;28;01mif\u001b[39;00m \u001b[38;5;129;01mnot\u001b[39;00m \u001b[38;5;28mself\u001b[39m\u001b[38;5;241m.\u001b[39mcopy:\n\u001b[0;32m    620\u001b[0m     new_data\u001b[38;5;241m.\u001b[39m_consolidate_inplace()\n",
      "File \u001b[1;32m~\\anaconda3\\envs\\dojo-env\\lib\\site-packages\\pandas\\core\\internals\\concat.py:212\u001b[0m, in \u001b[0;36mconcatenate_managers\u001b[1;34m(mgrs_indexers, axes, concat_axis, copy)\u001b[0m\n\u001b[0;32m    210\u001b[0m values \u001b[38;5;241m=\u001b[39m blk\u001b[38;5;241m.\u001b[39mvalues\n\u001b[0;32m    211\u001b[0m \u001b[38;5;28;01mif\u001b[39;00m copy:\n\u001b[1;32m--> 212\u001b[0m     values \u001b[38;5;241m=\u001b[39m \u001b[43mvalues\u001b[49m\u001b[38;5;241;43m.\u001b[39;49m\u001b[43mcopy\u001b[49m\u001b[43m(\u001b[49m\u001b[43m)\u001b[49m\n\u001b[0;32m    213\u001b[0m \u001b[38;5;28;01melse\u001b[39;00m:\n\u001b[0;32m    214\u001b[0m     values \u001b[38;5;241m=\u001b[39m values\u001b[38;5;241m.\u001b[39mview()\n",
      "\u001b[1;31mMemoryError\u001b[0m: Unable to allocate 15.2 GiB for an array with shape (44227, 46062) and data type float64"
     ]
    }
   ],
   "source": [
    "# Identify categorical columns\n",
    "categorical_cols = ['Transaction Type', 'Order Time', 'Order Date', 'Delivery Date', 'Delivery', 'Payment Method', 'Order Type', 'Order Method']\n",
    "\n",
    "# Convert categorical columns to appropriate data types\n",
    "for col in categorical_cols:\n",
    "    X[col] = X[col].astype('category')\n",
    "\n",
    "# Perform one-hot encoding on categorical columns\n",
    "encoder = OneHotEncoder(drop='first', sparse=False)\n",
    "X_encoded = pd.DataFrame(encoder.fit_transform(X[categorical_cols]))\n",
    "X_encoded.columns = encoder.get_feature_names(categorical_cols)\n",
    "X = pd.concat([X.drop(columns=categorical_cols), X_encoded], axis=1)"
   ]
  },
  {
   "cell_type": "code",
   "execution_count": null,
   "id": "8ef5d12d",
   "metadata": {},
   "outputs": [],
   "source": []
  },
  {
   "cell_type": "code",
   "execution_count": null,
   "id": "5b65126c",
   "metadata": {},
   "outputs": [],
   "source": []
  },
  {
   "cell_type": "markdown",
   "id": "cc7e1bc9",
   "metadata": {},
   "source": [
    "### **Validation Split**"
   ]
  },
  {
   "cell_type": "code",
   "execution_count": null,
   "id": "80110fbf",
   "metadata": {},
   "outputs": [],
   "source": [
    "#Split X and y\n",
    "X = fd.drop(columns='Grand Total')\n",
    "y = fd['Grand Total']"
   ]
  },
  {
   "cell_type": "code",
   "execution_count": null,
   "id": "8c43971b",
   "metadata": {},
   "outputs": [],
   "source": [
    "#Split training and test\n",
    "X_train, X_test, y_train, y_test = train_test_split(X, y, random_state=42)"
   ]
  },
  {
   "cell_type": "code",
   "execution_count": null,
   "id": "2b2c7a11",
   "metadata": {},
   "outputs": [],
   "source": [
    "#Imputers\n",
    "freq_imputer = SimpleImputer(strategy='most_frequent')\n",
    "mean_imputer = SimpleImputer(strategy= 'mean')\n",
    "\n",
    "#Scaler\n",
    "scaler = StandardScaler()\n",
    "\n",
    "#OneHotEncoder\n",
    "ohe =OneHotEncoder(handle_unknown='ignore', sparse=True)\n",
    "\n",
    "#Create Selectors\n",
    "cat_selector = make_column_selector(dtype_include= 'object')\n",
    "num_selector = make_column_selector(dtype_include='number')\n",
    "\n",
    "# Numeric pipeline\n",
    "numeric_pipe = make_pipeline(mean_imputer, scaler)\n",
    "numeric_pipe\n",
    "\n",
    "#cat pipe\n",
    "categorical_pipe = make_pipeline(freq_imputer, ohe)\n",
    "categorical_pipe\n",
    "\n",
    "#Make tuples for preprocessing the categorical and numeric columns\n",
    "num_tuple = (numeric_pipe, num_selector)\n",
    "cat_tuple = (categorical_pipe, cat_selector)          "
   ]
  },
  {
   "cell_type": "code",
   "execution_count": null,
   "id": "d60b10f1",
   "metadata": {},
   "outputs": [],
   "source": [
    "#Create Column Transformer\n",
    "preprocessor= make_column_transformer(num_tuple, cat_tuple, remainder = 'passthrough')"
   ]
  },
  {
   "cell_type": "code",
   "execution_count": null,
   "id": "cfac7986",
   "metadata": {},
   "outputs": [],
   "source": [
    "# Preprocess the data\n",
    "X_train_preprocessed = preprocessor.fit_transform(X_train)\n",
    "X_test_preprocessed = preprocessor.transform(X_test)"
   ]
  },
  {
   "cell_type": "code",
   "execution_count": null,
   "id": "571bdf98",
   "metadata": {
    "scrolled": true
   },
   "outputs": [],
   "source": [
    "preprocessor"
   ]
  },
  {
   "cell_type": "code",
   "execution_count": null,
   "id": "41a41759",
   "metadata": {},
   "outputs": [],
   "source": [
    "# Create a LinearRegression model\n",
    "regressor = LinearRegression()\n",
    "\n",
    "# Train the model using the preprocessed training sets\n",
    "regressor.fit(X_train_preprocessed, y_train)\n",
    "\n",
    "# Make predictions on the test set\n",
    "y_pred = regressor.predict(X_test_preprocessed)"
   ]
  },
  {
   "cell_type": "code",
   "execution_count": null,
   "id": "382f865c",
   "metadata": {},
   "outputs": [],
   "source": [
    "# Convert the predictions back to the original target labels\n",
    "y_pred_labels = pd.get_dummies(y_pred).idxmax(axis=1)\n",
    "\n",
    "# Calculate the Mean Squared Error\n",
    "mse = mean_squared_error(y_test, y_pred)\n",
    "print(\"Mean Squared Error:\", mse)"
   ]
  },
  {
   "cell_type": "code",
   "execution_count": null,
   "id": "f7e47245",
   "metadata": {},
   "outputs": [],
   "source": [
    "#RMSE of the linear Regression Model\n",
    "rmse = mean_squared_error(y_test, y_pred, squared=False)\n",
    "print(\"Root Mean Squared Error:\", rmse)"
   ]
  },
  {
   "cell_type": "markdown",
   "id": "bda42769",
   "metadata": {},
   "source": [
    "### **Tuning Hyperparameters**"
   ]
  },
  {
   "cell_type": "code",
   "execution_count": null,
   "id": "0eb4f8c2",
   "metadata": {},
   "outputs": [],
   "source": [
    "# Splitting the training set further for hyperparameter tuning\n",
    "X_train_tune, X_val, y_train_tune, y_val = train_test_split(X_train, y_train, test_size=0.2, random_state=42)\n",
    "\n",
    "# Define the parameter grid to search over\n",
    "param_grid = {\n",
    "    'fit_intercept': [True, False],  # Whether to calculate the intercept for this model\n",
    "    'normalize': [True, False]       # Whether to normalize the features before fitting the model\n",
    "}\n",
    "\n",
    "# Create the Linear Regression model\n",
    "model = LinearRegression()\n",
    "\n",
    "# Initialize the GridSearchCV object\n",
    "grid_search = GridSearchCV(model, param_grid, cv=5, scoring='neg_mean_squared_error')\n",
    "\n",
    "# Perform the grid search on the training data\n",
    "grid_search.fit(X_train_tune, y_train_tune)\n",
    "\n",
    "# Get the best model from the grid search\n",
    "best_model = grid_search.best_estimator_\n",
    "\n",
    "# Predict on the validation set\n",
    "y_pred_val = best_model.predict(X_val)\n",
    "\n",
    "# Calculate RMSE for the validation set\n",
    "rmse_val = mean_squared_error(y_val, y_pred_val, squared=False)\n",
    "print(\"Root Mean Squared Error (Validation):\", rmse_val)\n",
    "\n",
    "# Now, you can use the best_model to predict on the test set and calculate RMSE\n",
    "y_pred_test = best_model.predict(X_test)\n",
    "rmse_test = mean_squared_error(y_test, y_pred_test, squared=False)\n",
    "print(\"Root Mean Squared Error (Test):\", rmse_test)\n"
   ]
  },
  {
   "cell_type": "code",
   "execution_count": null,
   "id": "0cbdc40d",
   "metadata": {},
   "outputs": [],
   "source": []
  },
  {
   "cell_type": "markdown",
   "id": "f6f2d02d",
   "metadata": {},
   "source": [
    "# **Save Predictions**"
   ]
  },
  {
   "cell_type": "code",
   "execution_count": null,
   "id": "1e0af049",
   "metadata": {},
   "outputs": [],
   "source": [
    "#Saving the new dataframe to upload in the next notebook\n",
    "fd.to_csv('Predictions', index=False)"
   ]
  }
 ],
 "metadata": {
  "kernelspec": {
   "display_name": "Python (dojo-env)",
   "language": "python",
   "name": "dojo-env"
  },
  "language_info": {
   "codemirror_mode": {
    "name": "ipython",
    "version": 3
   },
   "file_extension": ".py",
   "mimetype": "text/x-python",
   "name": "python",
   "nbconvert_exporter": "python",
   "pygments_lexer": "ipython3",
   "version": "3.9.15"
  },
  "toc": {
   "base_numbering": 1,
   "nav_menu": {},
   "number_sections": false,
   "sideBar": true,
   "skip_h1_title": false,
   "title_cell": "Table of Contents",
   "title_sidebar": "Contents",
   "toc_cell": false,
   "toc_position": {
    "height": "calc(100% - 180px)",
    "left": "10px",
    "top": "150px",
    "width": "303.531px"
   },
   "toc_section_display": true,
   "toc_window_display": false
  }
 },
 "nbformat": 4,
 "nbformat_minor": 5
}
