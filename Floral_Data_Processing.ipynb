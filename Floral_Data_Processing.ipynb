{
 "cells": [
  {
   "cell_type": "markdown",
   "id": "b767f6ec",
   "metadata": {},
   "source": [
    "# Floral Data Processing"
   ]
  },
  {
   "cell_type": "markdown",
   "id": "9e02cb2b",
   "metadata": {},
   "source": [
    "# **Imports**"
   ]
  },
  {
   "cell_type": "code",
   "execution_count": 1,
   "id": "797f1d83",
   "metadata": {},
   "outputs": [],
   "source": [
    "#Numpy\n",
    "import numpy as np\n",
    "from numpy import median\n",
    "\n",
    "#Pandas\n",
    "import pandas as pd\n",
    "\n",
    "#Seaborn\n",
    "import seaborn as sns\n",
    "\n",
    "#matplotlib\n",
    "import matplotlib.pyplot as plt\n",
    "import plotly\n",
    "\n",
    "#Sklearn\n",
    "from sklearn.preprocessing import StandardScaler\n",
    "from sklearn.preprocessing import OneHotEncoder\n",
    "from sklearn.model_selection import train_test_split\n",
    "from sklearn.compose import make_column_selector\n",
    "from sklearn.compose import make_column_transformer\n",
    "from sklearn.impute import SimpleImputer\n",
    "from sklearn.pipeline import make_pipeline\n",
    "\n",
    "#Warnings\n",
    "import warnings\n",
    "warnings.filterwarnings(\"ignore\")"
   ]
  },
  {
   "cell_type": "markdown",
   "id": "19b79bb2",
   "metadata": {},
   "source": [
    "# **Loading Data**"
   ]
  },
  {
   "cell_type": "code",
   "execution_count": 2,
   "id": "da3879a6",
   "metadata": {},
   "outputs": [],
   "source": [
    "#Loading in the data from the previous notebook\n",
    "GDS = pd.read_csv('GDS')"
   ]
  },
  {
   "cell_type": "code",
   "execution_count": 3,
   "id": "fdb2e264",
   "metadata": {
    "scrolled": true
   },
   "outputs": [
    {
     "data": {
      "text/html": [
       "<div>\n",
       "<style scoped>\n",
       "    .dataframe tbody tr th:only-of-type {\n",
       "        vertical-align: middle;\n",
       "    }\n",
       "\n",
       "    .dataframe tbody tr th {\n",
       "        vertical-align: top;\n",
       "    }\n",
       "\n",
       "    .dataframe thead th {\n",
       "        text-align: right;\n",
       "    }\n",
       "</style>\n",
       "<table border=\"1\" class=\"dataframe\">\n",
       "  <thead>\n",
       "    <tr style=\"text-align: right;\">\n",
       "      <th></th>\n",
       "      <th>Order #</th>\n",
       "      <th>Transaction Type</th>\n",
       "      <th>Order Time</th>\n",
       "      <th>Order Date</th>\n",
       "      <th>Delivery Date_x</th>\n",
       "      <th>Sender</th>\n",
       "      <th>Recipient</th>\n",
       "      <th>Product Total</th>\n",
       "      <th>Delivery_x</th>\n",
       "      <th>Nontaxable Delivery</th>\n",
       "      <th>...</th>\n",
       "      <th>Billing State</th>\n",
       "      <th>Billing Zip</th>\n",
       "      <th>Subtotal</th>\n",
       "      <th>Delivery_y</th>\n",
       "      <th>Sale Tax</th>\n",
       "      <th>Tip</th>\n",
       "      <th>Discount_y</th>\n",
       "      <th>Grand Total_y</th>\n",
       "      <th>Tax Exempt</th>\n",
       "      <th>Payment Method_y</th>\n",
       "    </tr>\n",
       "  </thead>\n",
       "  <tbody>\n",
       "    <tr>\n",
       "      <th>0</th>\n",
       "      <td>100017453</td>\n",
       "      <td>Sale</td>\n",
       "      <td>03:28:16PM Sat</td>\n",
       "      <td>Dec 29, 2018</td>\n",
       "      <td>Dec 29, 2018</td>\n",
       "      <td>Candyce Williams Glaser</td>\n",
       "      <td>NaN</td>\n",
       "      <td>$815.00</td>\n",
       "      <td>$0.00</td>\n",
       "      <td>$0.00</td>\n",
       "      <td>...</td>\n",
       "      <td>NaN</td>\n",
       "      <td>NaN</td>\n",
       "      <td>NaN</td>\n",
       "      <td>NaN</td>\n",
       "      <td>NaN</td>\n",
       "      <td>NaN</td>\n",
       "      <td>NaN</td>\n",
       "      <td>NaN</td>\n",
       "      <td>NaN</td>\n",
       "      <td>NaN</td>\n",
       "    </tr>\n",
       "    <tr>\n",
       "      <th>1</th>\n",
       "      <td>100017452</td>\n",
       "      <td>Sale</td>\n",
       "      <td>03:16:50PM Sat</td>\n",
       "      <td>Dec 29, 2018</td>\n",
       "      <td>Dec 29, 2018</td>\n",
       "      <td>NaN</td>\n",
       "      <td>NaN</td>\n",
       "      <td>$249.90</td>\n",
       "      <td>$0.00</td>\n",
       "      <td>$0.00</td>\n",
       "      <td>...</td>\n",
       "      <td>NaN</td>\n",
       "      <td>NaN</td>\n",
       "      <td>NaN</td>\n",
       "      <td>NaN</td>\n",
       "      <td>NaN</td>\n",
       "      <td>NaN</td>\n",
       "      <td>NaN</td>\n",
       "      <td>NaN</td>\n",
       "      <td>NaN</td>\n",
       "      <td>NaN</td>\n",
       "    </tr>\n",
       "    <tr>\n",
       "      <th>2</th>\n",
       "      <td>100017451</td>\n",
       "      <td>Sale</td>\n",
       "      <td>02:58:53PM Sat</td>\n",
       "      <td>Dec 29, 2018</td>\n",
       "      <td>Dec 29, 2018</td>\n",
       "      <td>NaN</td>\n",
       "      <td>NaN</td>\n",
       "      <td>$24.95</td>\n",
       "      <td>$0.00</td>\n",
       "      <td>$0.00</td>\n",
       "      <td>...</td>\n",
       "      <td>NaN</td>\n",
       "      <td>NaN</td>\n",
       "      <td>NaN</td>\n",
       "      <td>NaN</td>\n",
       "      <td>NaN</td>\n",
       "      <td>NaN</td>\n",
       "      <td>NaN</td>\n",
       "      <td>NaN</td>\n",
       "      <td>NaN</td>\n",
       "      <td>NaN</td>\n",
       "    </tr>\n",
       "    <tr>\n",
       "      <th>3</th>\n",
       "      <td>100017450</td>\n",
       "      <td>Sale</td>\n",
       "      <td>02:54:45PM Sat</td>\n",
       "      <td>Dec 29, 2018</td>\n",
       "      <td>Dec 29, 2018</td>\n",
       "      <td>Tracie Hamilton</td>\n",
       "      <td>NaN</td>\n",
       "      <td>$635.00</td>\n",
       "      <td>$0.00</td>\n",
       "      <td>$0.00</td>\n",
       "      <td>...</td>\n",
       "      <td>NaN</td>\n",
       "      <td>NaN</td>\n",
       "      <td>NaN</td>\n",
       "      <td>NaN</td>\n",
       "      <td>NaN</td>\n",
       "      <td>NaN</td>\n",
       "      <td>NaN</td>\n",
       "      <td>NaN</td>\n",
       "      <td>NaN</td>\n",
       "      <td>NaN</td>\n",
       "    </tr>\n",
       "    <tr>\n",
       "      <th>4</th>\n",
       "      <td>100017202</td>\n",
       "      <td>Sale</td>\n",
       "      <td>02:48:15PM Sat</td>\n",
       "      <td>Dec 29, 2018</td>\n",
       "      <td>Dec 23, 2018</td>\n",
       "      <td>Candyce Williams Glaser</td>\n",
       "      <td>Candyce Williams Glaser</td>\n",
       "      <td>$702.00</td>\n",
       "      <td>$0.00</td>\n",
       "      <td>$25.00</td>\n",
       "      <td>...</td>\n",
       "      <td>NaN</td>\n",
       "      <td>NaN</td>\n",
       "      <td>NaN</td>\n",
       "      <td>NaN</td>\n",
       "      <td>NaN</td>\n",
       "      <td>NaN</td>\n",
       "      <td>NaN</td>\n",
       "      <td>NaN</td>\n",
       "      <td>NaN</td>\n",
       "      <td>NaN</td>\n",
       "    </tr>\n",
       "  </tbody>\n",
       "</table>\n",
       "<p>5 rows × 55 columns</p>\n",
       "</div>"
      ],
      "text/plain": [
       "     Order # Transaction Type      Order Time    Order Date Delivery Date_x  \\\n",
       "0  100017453             Sale  03:28:16PM Sat  Dec 29, 2018    Dec 29, 2018   \n",
       "1  100017452             Sale  03:16:50PM Sat  Dec 29, 2018    Dec 29, 2018   \n",
       "2  100017451             Sale  02:58:53PM Sat  Dec 29, 2018    Dec 29, 2018   \n",
       "3  100017450             Sale  02:54:45PM Sat  Dec 29, 2018    Dec 29, 2018   \n",
       "4  100017202             Sale  02:48:15PM Sat  Dec 29, 2018    Dec 23, 2018   \n",
       "\n",
       "                    Sender                Recipient Product Total Delivery_x  \\\n",
       "0  Candyce Williams Glaser                      NaN       $815.00      $0.00   \n",
       "1                      NaN                      NaN       $249.90      $0.00   \n",
       "2                      NaN                      NaN        $24.95      $0.00   \n",
       "3          Tracie Hamilton                      NaN       $635.00      $0.00   \n",
       "4  Candyce Williams Glaser  Candyce Williams Glaser       $702.00      $0.00   \n",
       "\n",
       "  Nontaxable Delivery  ... Billing State Billing Zip Subtotal Delivery_y  \\\n",
       "0               $0.00  ...           NaN         NaN      NaN        NaN   \n",
       "1               $0.00  ...           NaN         NaN      NaN        NaN   \n",
       "2               $0.00  ...           NaN         NaN      NaN        NaN   \n",
       "3               $0.00  ...           NaN         NaN      NaN        NaN   \n",
       "4              $25.00  ...           NaN         NaN      NaN        NaN   \n",
       "\n",
       "  Sale Tax Tip Discount_y Grand Total_y Tax Exempt Payment Method_y  \n",
       "0      NaN NaN        NaN           NaN        NaN              NaN  \n",
       "1      NaN NaN        NaN           NaN        NaN              NaN  \n",
       "2      NaN NaN        NaN           NaN        NaN              NaN  \n",
       "3      NaN NaN        NaN           NaN        NaN              NaN  \n",
       "4      NaN NaN        NaN           NaN        NaN              NaN  \n",
       "\n",
       "[5 rows x 55 columns]"
      ]
     },
     "execution_count": 3,
     "metadata": {},
     "output_type": "execute_result"
    }
   ],
   "source": [
    "#Preview of data\n",
    "GDS.head()"
   ]
  },
  {
   "cell_type": "markdown",
   "id": "fc969a11",
   "metadata": {},
   "source": [
    "# **Data Exploration**"
   ]
  },
  {
   "cell_type": "code",
   "execution_count": 4,
   "id": "d5429309",
   "metadata": {},
   "outputs": [
    {
     "name": "stdout",
     "output_type": "stream",
     "text": [
      "There are 1879164 missing values.\n"
     ]
    }
   ],
   "source": [
    "#Print statement containing number of total missing values\n",
    "print(\"There are\", GDS.isna().sum().sum(), \"missing values.\")"
   ]
  },
  {
   "cell_type": "code",
   "execution_count": 5,
   "id": "f8f5e61f",
   "metadata": {},
   "outputs": [
    {
     "data": {
      "text/plain": [
       "Order #                      0\n",
       "Transaction Type          5449\n",
       "Order Time                5449\n",
       "Order Date                5449\n",
       "Delivery Date_x           5458\n",
       "Sender                   24781\n",
       "Recipient                30983\n",
       "Product Total             5449\n",
       "Delivery_x                5449\n",
       "Nontaxable Delivery       5449\n",
       "Wire Out Fee              5449\n",
       "Discount_x                5449\n",
       "Gift Cards                5449\n",
       "Tax                       5449\n",
       "Tips                      5449\n",
       "Grand Total_x             5449\n",
       "Payment Method_x          5449\n",
       "Order Type                5640\n",
       "Order Method              5449\n",
       "Order Source             47467\n",
       "Sale Date                47467\n",
       "Delivery Date_y          47467\n",
       "Order Status             47467\n",
       "Delivery Method          47467\n",
       "Product Name             47467\n",
       "Item Number              52778\n",
       "Card Message             47671\n",
       "Card Signature           49999\n",
       "Occasion                 48108\n",
       "Customer Name            47467\n",
       "Customer Phone           47467\n",
       "Customer Email           47496\n",
       "Recipient Name           47467\n",
       "Recipient Phone          47467\n",
       "Delivery Street          47467\n",
       "Delivery Street 2        52916\n",
       "Delivery City            47467\n",
       "Delivery State           47467\n",
       "Delivery Zip             47467\n",
       "Delivery Address Type    47467\n",
       "Billing Name             47467\n",
       "Billing Phone            47467\n",
       "Billing Street           47467\n",
       "Billing Street 2         52916\n",
       "Billing City             47467\n",
       "Billing State            47504\n",
       "Billing Zip              47467\n",
       "Subtotal                 47467\n",
       "Delivery_y               47467\n",
       "Sale Tax                 47467\n",
       "Tip                      49613\n",
       "Discount_y               47467\n",
       "Grand Total_y            47467\n",
       "Tax Exempt               52873\n",
       "Payment Method_y         47467\n",
       "dtype: int64"
      ]
     },
     "execution_count": 5,
     "metadata": {},
     "output_type": "execute_result"
    }
   ],
   "source": [
    "#Looking at missing calues for each column\n",
    "GDS.isna().sum()"
   ]
  },
  {
   "cell_type": "code",
   "execution_count": 6,
   "id": "39c7e28f",
   "metadata": {
    "scrolled": true
   },
   "outputs": [
    {
     "name": "stdout",
     "output_type": "stream",
     "text": [
      "<class 'pandas.core.frame.DataFrame'>\n",
      "RangeIndex: 52916 entries, 0 to 52915\n",
      "Data columns (total 55 columns):\n",
      " #   Column                 Non-Null Count  Dtype  \n",
      "---  ------                 --------------  -----  \n",
      " 0   Order #                52916 non-null  int64  \n",
      " 1   Transaction Type       47467 non-null  object \n",
      " 2   Order Time             47467 non-null  object \n",
      " 3   Order Date             47467 non-null  object \n",
      " 4   Delivery Date_x        47458 non-null  object \n",
      " 5   Sender                 28135 non-null  object \n",
      " 6   Recipient              21933 non-null  object \n",
      " 7   Product Total          47467 non-null  object \n",
      " 8   Delivery_x             47467 non-null  object \n",
      " 9   Nontaxable Delivery    47467 non-null  object \n",
      " 10  Wire Out Fee           47467 non-null  object \n",
      " 11  Discount_x             47467 non-null  object \n",
      " 12  Gift Cards             47467 non-null  object \n",
      " 13  Tax                    47467 non-null  object \n",
      " 14  Tips                   47467 non-null  object \n",
      " 15  Grand Total_x          47467 non-null  object \n",
      " 16  Payment Method_x       47467 non-null  object \n",
      " 17  Order Type             47276 non-null  object \n",
      " 18  Order Method           47467 non-null  object \n",
      " 19  Order Source           5449 non-null   object \n",
      " 20  Sale Date              5449 non-null   object \n",
      " 21  Delivery Date_y        5449 non-null   object \n",
      " 22  Order Status           5449 non-null   object \n",
      " 23  Delivery Method        5449 non-null   object \n",
      " 24  Product Name           5449 non-null   object \n",
      " 25  Item Number            138 non-null    object \n",
      " 26  Card Message           5245 non-null   object \n",
      " 27  Card Signature         2917 non-null   object \n",
      " 28  Occasion               4808 non-null   object \n",
      " 29  Customer Name          5449 non-null   object \n",
      " 30  Customer Phone         5449 non-null   object \n",
      " 31  Customer Email         5420 non-null   object \n",
      " 32  Recipient Name         5449 non-null   object \n",
      " 33  Recipient Phone        5449 non-null   object \n",
      " 34  Delivery Street        5449 non-null   object \n",
      " 35  Delivery Street 2      0 non-null      float64\n",
      " 36  Delivery City          5449 non-null   object \n",
      " 37  Delivery State         5449 non-null   object \n",
      " 38  Delivery Zip           5449 non-null   float64\n",
      " 39  Delivery Address Type  5449 non-null   object \n",
      " 40  Billing Name           5449 non-null   object \n",
      " 41  Billing Phone          5449 non-null   object \n",
      " 42  Billing Street         5449 non-null   object \n",
      " 43  Billing Street 2       0 non-null      float64\n",
      " 44  Billing City           5449 non-null   object \n",
      " 45  Billing State          5412 non-null   object \n",
      " 46  Billing Zip            5449 non-null   object \n",
      " 47  Subtotal               5449 non-null   float64\n",
      " 48  Delivery_y             5449 non-null   float64\n",
      " 49  Sale Tax               5449 non-null   float64\n",
      " 50  Tip                    3303 non-null   float64\n",
      " 51  Discount_y             5449 non-null   float64\n",
      " 52  Grand Total_y          5449 non-null   float64\n",
      " 53  Tax Exempt             43 non-null     float64\n",
      " 54  Payment Method_y       5449 non-null   object \n",
      "dtypes: float64(10), int64(1), object(44)\n",
      "memory usage: 22.2+ MB\n"
     ]
    }
   ],
   "source": [
    "#Looking at data types and null values\n",
    "GDS.info()"
   ]
  },
  {
   "cell_type": "markdown",
   "id": "413eab9d",
   "metadata": {},
   "source": [
    "# **Data Cleaning**"
   ]
  },
  {
   "cell_type": "markdown",
   "id": "ca24917e",
   "metadata": {},
   "source": [
    "### **Dropping unnecessary columns**"
   ]
  },
  {
   "cell_type": "code",
   "execution_count": 7,
   "id": "f19be494",
   "metadata": {
    "scrolled": true
   },
   "outputs": [
    {
     "name": "stdout",
     "output_type": "stream",
     "text": [
      "<class 'pandas.core.frame.DataFrame'>\n",
      "RangeIndex: 52916 entries, 0 to 52915\n",
      "Data columns (total 21 columns):\n",
      " #   Column               Non-Null Count  Dtype  \n",
      "---  ------               --------------  -----  \n",
      " 0   Order #              52916 non-null  int64  \n",
      " 1   Transaction Type     47467 non-null  object \n",
      " 2   Order Time           47467 non-null  object \n",
      " 3   Order Date           47467 non-null  object \n",
      " 4   Delivery Date_x      47458 non-null  object \n",
      " 5   Product Total        47467 non-null  object \n",
      " 6   Nontaxable Delivery  47467 non-null  object \n",
      " 7   Wire Out Fee         47467 non-null  object \n",
      " 8   Gift Cards           47467 non-null  object \n",
      " 9   Grand Total_x        47467 non-null  object \n",
      " 10  Payment Method_x     47467 non-null  object \n",
      " 11  Order Type           47276 non-null  object \n",
      " 12  Order Method         47467 non-null  object \n",
      " 13  Order Source         5449 non-null   object \n",
      " 14  Delivery Method      5449 non-null   object \n",
      " 15  Product Name         5449 non-null   object \n",
      " 16  Occasion             4808 non-null   object \n",
      " 17  Delivery Street      5449 non-null   object \n",
      " 18  Delivery City        5449 non-null   object \n",
      " 19  Delivery Zip         5449 non-null   float64\n",
      " 20  Subtotal             5449 non-null   float64\n",
      "dtypes: float64(2), int64(1), object(18)\n",
      "memory usage: 8.5+ MB\n"
     ]
    }
   ],
   "source": [
    "#Dropping unnecessary columns\n",
    "#These columns do not contribute any meaningful data to the insight I am after\n",
    "columns_to_drop = ['Delivery Street 2','Billing Street 2', 'Delivery_x', 'Delivery_y', 'Discount_y', 'Discount_x', 'Card Signature', \n",
    "                   'Card Message', 'Tips', 'Tip', 'Customer Email', 'Customer Phone', 'Delivery Address Type', 'Tax Exempt', 'Grand Total_y', \n",
    "                   'Item Number', 'Billing Phone', 'Delivery State', 'Delivery Date_y', 'Payment Method_y', 'Sale Tax', 'Sale Date', 'Billing Name', \n",
    "                   'Billing Street', 'Billing City', 'Billing State', 'Billing Zip', 'Recipient Phone', 'Order Status', 'Tax', 'Sender',\n",
    "                   'Recipient', 'Customer Name', 'Recipient Name']\n",
    "df = GDS.drop(columns_to_drop, axis= 1)\n",
    "#Preview of remaining columns\n",
    "df.info()"
   ]
  },
  {
   "cell_type": "markdown",
   "id": "92786499",
   "metadata": {},
   "source": [
    "### **Changing Data Types**"
   ]
  },
  {
   "cell_type": "code",
   "execution_count": 8,
   "id": "08945cbf",
   "metadata": {},
   "outputs": [],
   "source": [
    "import numpy as np\n",
    "import pandas as pd\n",
    "\n",
    "def change_column_datatype(df, column_dict):\n",
    "    \"\"\"\n",
    "    Change the data type of columns in a Pandas DataFrame.\n",
    "\n",
    "    Parameters:\n",
    "    - df: Pandas DataFrame object.\n",
    "    - column_dict: Dictionary specifying column names and their desired data types.\n",
    "                   Key: column name (string).\n",
    "                   Value: desired data type (string).\n",
    "                   Example: {'column1': 'int', 'column2': 'float', 'column3': 'datetime'}\n",
    "    Returns:\n",
    "    - df: Updated Pandas DataFrame with changed data types.\n",
    "    \"\"\"\n",
    "    try:\n",
    "        for column, datatype in column_dict.items():\n",
    "            if datatype == 'float':\n",
    "                df[column] = df[column].str.replace('$', '').str.replace(',', '').str.replace('()', '')\n",
    "                df[column] = df[column].apply(lambda x: float(x.replace('(', '').replace(')', '')) if isinstance(x, str) else x)\n",
    "                df[column] = df[column].replace([np.inf, -np.inf], np.nan).astype(float)\n",
    "            elif datatype == 'int':\n",
    "                df[column] = df[column].replace(['NA', 'inf', '-inf'], np.nan).astype(float).astype(pd.Int64Dtype())\n",
    "            elif datatype == 'datetime':\n",
    "                df[column] = pd.to_datetime(df[column], errors='coerce')\n",
    "            else:\n",
    "                df[column] = df[column].astype(datatype)\n",
    "        return df\n",
    "    except KeyError as e:\n",
    "        print(f\"Error: Column '{e.args[0]}' does not exist in the DataFrame.\")\n",
    "    except Exception as e:\n",
    "        print(f\"Error: {str(e)}\")"
   ]
  },
  {
   "cell_type": "code",
   "execution_count": 9,
   "id": "600682d1",
   "metadata": {},
   "outputs": [
    {
     "name": "stdout",
     "output_type": "stream",
     "text": [
      "Before conversion:\n",
      "Order #                  int64\n",
      "Transaction Type        object\n",
      "Order Time              object\n",
      "Order Date              object\n",
      "Delivery Date_x         object\n",
      "Product Total           object\n",
      "Nontaxable Delivery     object\n",
      "Wire Out Fee            object\n",
      "Gift Cards              object\n",
      "Grand Total_x           object\n",
      "Payment Method_x        object\n",
      "Order Type              object\n",
      "Order Method            object\n",
      "Order Source            object\n",
      "Delivery Method         object\n",
      "Product Name            object\n",
      "Occasion                object\n",
      "Delivery Street         object\n",
      "Delivery City           object\n",
      "Delivery Zip           float64\n",
      "Subtotal               float64\n",
      "dtype: object\n",
      "          Order # Transaction Type      Order Time    Order Date  \\\n",
      "0       100017453             Sale  03:28:16PM Sat  Dec 29, 2018   \n",
      "1       100017452             Sale  03:16:50PM Sat  Dec 29, 2018   \n",
      "2       100017451             Sale  02:58:53PM Sat  Dec 29, 2018   \n",
      "3       100017450             Sale  02:54:45PM Sat  Dec 29, 2018   \n",
      "4       100017202             Sale  02:48:15PM Sat  Dec 29, 2018   \n",
      "...           ...              ...             ...           ...   \n",
      "52911  2749452849              NaN             NaN           NaN   \n",
      "52912  2553412309              NaN             NaN           NaN   \n",
      "52913  3540158661              NaN             NaN           NaN   \n",
      "52914  3591549621              NaN             NaN           NaN   \n",
      "52915  7662866077              NaN             NaN           NaN   \n",
      "\n",
      "      Delivery Date_x Product Total Nontaxable Delivery Wire Out Fee  \\\n",
      "0        Dec 29, 2018       $815.00               $0.00        $0.00   \n",
      "1        Dec 29, 2018       $249.90               $0.00        $0.00   \n",
      "2        Dec 29, 2018        $24.95               $0.00        $0.00   \n",
      "3        Dec 29, 2018       $635.00               $0.00        $0.00   \n",
      "4        Dec 23, 2018       $702.00              $25.00        $0.00   \n",
      "...               ...           ...                 ...          ...   \n",
      "52911             NaN           NaN                 NaN          NaN   \n",
      "52912             NaN           NaN                 NaN          NaN   \n",
      "52913             NaN           NaN                 NaN          NaN   \n",
      "52914             NaN           NaN                 NaN          NaN   \n",
      "52915             NaN           NaN                 NaN          NaN   \n",
      "\n",
      "      Gift Cards Grand Total_x  ... Order Type Order Method  Order Source  \\\n",
      "0          $0.00       $894.46  ...      Taken        Phone           NaN   \n",
      "1          $0.00       $137.13  ...      Taken      Walk-In           NaN   \n",
      "2          $0.00        $27.38  ...      Taken      Walk-In           NaN   \n",
      "3          $0.00       $696.91  ...      Taken        Phone           NaN   \n",
      "4          $0.00       $795.45  ...   Delivery      Walk-In           NaN   \n",
      "...          ...           ...  ...        ...          ...           ...   \n",
      "52911        NaN           NaN  ...        NaN          NaN  Premium Site   \n",
      "52912        NaN           NaN  ...        NaN          NaN  Premium Site   \n",
      "52913        NaN           NaN  ...        NaN          NaN  Premium Site   \n",
      "52914        NaN           NaN  ...        NaN          NaN  Premium Site   \n",
      "52915        NaN           NaN  ...        NaN          NaN  Premium Site   \n",
      "\n",
      "      Delivery Method                              Product Name   Occasion  \\\n",
      "0                 NaN                                       NaN        NaN   \n",
      "1                 NaN                                       NaN        NaN   \n",
      "2                 NaN                                       NaN        NaN   \n",
      "3                 NaN                                       NaN        NaN   \n",
      "4                 NaN                                       NaN        NaN   \n",
      "...               ...                                       ...        ...   \n",
      "52911  Local Delivery                   Blush Designer's Choice   Birthday   \n",
      "52912  Local Delivery  Designer's Choice $250 - upgrade:premium        NaN   \n",
      "52913  Local Delivery                               Honky Tonk         NaN   \n",
      "52914  Local Delivery                            Vivid Daydream  Thank You   \n",
      "52915  Local Delivery                              Tranquil Duo  Thank You   \n",
      "\n",
      "                        Delivery Street Delivery City Delivery Zip  Subtotal  \n",
      "0                                   NaN           NaN          NaN       NaN  \n",
      "1                                   NaN           NaN          NaN       NaN  \n",
      "2                                   NaN           NaN          NaN       NaN  \n",
      "3                                   NaN           NaN          NaN       NaN  \n",
      "4                                   NaN           NaN          NaN       NaN  \n",
      "...                                 ...           ...          ...       ...  \n",
      "52911  740 Cool Springs Blvd. Suite 200      Franklin      37067.0     135.0  \n",
      "52912  15000 Iron Horse Lane, Apt 15102      Franklin      37069.0     400.0  \n",
      "52913                3117 Tristan Drive      Franklin      37064.0     155.0  \n",
      "52914            700 Cool Springs Blvd.      Franklin      37067.0      95.0  \n",
      "52915            700 Cool Springs Blvd.      Franklin      37067.0      88.0  \n",
      "\n",
      "[52916 rows x 21 columns]\n",
      "\n",
      "After conversion:\n",
      "Order #                         int64\n",
      "Transaction Type               object\n",
      "Order Time             datetime64[ns]\n",
      "Order Date             datetime64[ns]\n",
      "Delivery Date_x        datetime64[ns]\n",
      "Product Total                 float64\n",
      "Nontaxable Delivery           float64\n",
      "Wire Out Fee                  float64\n",
      "Gift Cards                    float64\n",
      "Grand Total_x                 float64\n",
      "Payment Method_x               object\n",
      "Order Type                     object\n",
      "Order Method                   object\n",
      "Order Source                   object\n",
      "Delivery Method                object\n",
      "Product Name                   object\n",
      "Occasion                       object\n",
      "Delivery Street                object\n",
      "Delivery City                  object\n",
      "Delivery Zip                    Int64\n",
      "Subtotal                      float64\n",
      "dtype: object\n",
      "          Order # Transaction Type          Order Time Order Date  \\\n",
      "0       100017453             Sale 2023-07-22 15:28:16 2018-12-29   \n",
      "1       100017452             Sale 2023-07-22 15:16:50 2018-12-29   \n",
      "2       100017451             Sale 2023-07-22 14:58:53 2018-12-29   \n",
      "3       100017450             Sale 2023-07-22 14:54:45 2018-12-29   \n",
      "4       100017202             Sale 2023-07-22 14:48:15 2018-12-29   \n",
      "...           ...              ...                 ...        ...   \n",
      "52911  2749452849              NaN                 NaT        NaT   \n",
      "52912  2553412309              NaN                 NaT        NaT   \n",
      "52913  3540158661              NaN                 NaT        NaT   \n",
      "52914  3591549621              NaN                 NaT        NaT   \n",
      "52915  7662866077              NaN                 NaT        NaT   \n",
      "\n",
      "      Delivery Date_x  Product Total  Nontaxable Delivery  Wire Out Fee  \\\n",
      "0          2018-12-29         815.00                  0.0           0.0   \n",
      "1          2018-12-29         249.90                  0.0           0.0   \n",
      "2          2018-12-29          24.95                  0.0           0.0   \n",
      "3          2018-12-29         635.00                  0.0           0.0   \n",
      "4          2018-12-23         702.00                 25.0           0.0   \n",
      "...               ...            ...                  ...           ...   \n",
      "52911             NaT            NaN                  NaN           NaN   \n",
      "52912             NaT            NaN                  NaN           NaN   \n",
      "52913             NaT            NaN                  NaN           NaN   \n",
      "52914             NaT            NaN                  NaN           NaN   \n",
      "52915             NaT            NaN                  NaN           NaN   \n",
      "\n",
      "       Gift Cards  Grand Total_x  ... Order Type Order Method  Order Source  \\\n",
      "0             0.0         894.46  ...      Taken        Phone           NaN   \n",
      "1             0.0         137.13  ...      Taken      Walk-In           NaN   \n",
      "2             0.0          27.38  ...      Taken      Walk-In           NaN   \n",
      "3             0.0         696.91  ...      Taken        Phone           NaN   \n",
      "4             0.0         795.45  ...   Delivery      Walk-In           NaN   \n",
      "...           ...            ...  ...        ...          ...           ...   \n",
      "52911         NaN            NaN  ...        NaN          NaN  Premium Site   \n",
      "52912         NaN            NaN  ...        NaN          NaN  Premium Site   \n",
      "52913         NaN            NaN  ...        NaN          NaN  Premium Site   \n",
      "52914         NaN            NaN  ...        NaN          NaN  Premium Site   \n",
      "52915         NaN            NaN  ...        NaN          NaN  Premium Site   \n",
      "\n",
      "      Delivery Method                              Product Name   Occasion  \\\n",
      "0                 NaN                                       NaN        NaN   \n",
      "1                 NaN                                       NaN        NaN   \n",
      "2                 NaN                                       NaN        NaN   \n",
      "3                 NaN                                       NaN        NaN   \n",
      "4                 NaN                                       NaN        NaN   \n",
      "...               ...                                       ...        ...   \n",
      "52911  Local Delivery                   Blush Designer's Choice   Birthday   \n",
      "52912  Local Delivery  Designer's Choice $250 - upgrade:premium        NaN   \n",
      "52913  Local Delivery                               Honky Tonk         NaN   \n",
      "52914  Local Delivery                            Vivid Daydream  Thank You   \n",
      "52915  Local Delivery                              Tranquil Duo  Thank You   \n",
      "\n",
      "                        Delivery Street Delivery City Delivery Zip  Subtotal  \n",
      "0                                   NaN           NaN         <NA>       NaN  \n",
      "1                                   NaN           NaN         <NA>       NaN  \n",
      "2                                   NaN           NaN         <NA>       NaN  \n",
      "3                                   NaN           NaN         <NA>       NaN  \n",
      "4                                   NaN           NaN         <NA>       NaN  \n",
      "...                                 ...           ...          ...       ...  \n",
      "52911  740 Cool Springs Blvd. Suite 200      Franklin        37067     135.0  \n",
      "52912  15000 Iron Horse Lane, Apt 15102      Franklin        37069     400.0  \n",
      "52913                3117 Tristan Drive      Franklin        37064     155.0  \n",
      "52914            700 Cool Springs Blvd.      Franklin        37067      95.0  \n",
      "52915            700 Cool Springs Blvd.      Franklin        37067      88.0  \n",
      "\n",
      "[52916 rows x 21 columns]\n"
     ]
    }
   ],
   "source": [
    "# Print DataFrame Before Conversion\n",
    "print(\"Before conversion:\")\n",
    "print(df.dtypes)\n",
    "print(df)\n",
    "\n",
    "# Define the desired data types for columns\n",
    "column_dict = {\n",
    "    'Product Total': 'float',\n",
    "    'Nontaxable Delivery': 'float',\n",
    "    'Wire Out Fee': 'float',\n",
    "    'Gift Cards': 'float',\n",
    "    'Grand Total_x': 'float',\n",
    "    'Order Time': 'datetime',\n",
    "    'Order Date': 'datetime',\n",
    "    'Delivery Date_x': 'datetime',\n",
    "    'Delivery Zip': 'int',\n",
    "}\n",
    "\n",
    "# Call the function to change data types\n",
    "df = change_column_datatype(df, column_dict)\n",
    "\n",
    "# Print DataFrame After Conversion\n",
    "print(\"\\nAfter conversion:\")\n",
    "print(df.dtypes)\n",
    "print(df)"
   ]
  },
  {
   "cell_type": "markdown",
   "id": "99ab6777",
   "metadata": {},
   "source": [
    "### **Unique values**"
   ]
  },
  {
   "cell_type": "code",
   "execution_count": 10,
   "id": "d2f98251",
   "metadata": {
    "scrolled": false
   },
   "outputs": [
    {
     "name": "stdout",
     "output_type": "stream",
     "text": [
      "Order #                51426\n",
      "Transaction Type           3\n",
      "Order Time             41876\n",
      "Order Date              1683\n",
      "Delivery Date_x         1724\n",
      "Product Total           4419\n",
      "Nontaxable Delivery      311\n",
      "Wire Out Fee              39\n",
      "Gift Cards                21\n",
      "Grand Total_x           7999\n",
      "Payment Method_x          12\n",
      "Order Type                 4\n",
      "Order Method               5\n",
      "Order Source               4\n",
      "Delivery Method            2\n",
      "Product Name             535\n",
      "Occasion                  37\n",
      "Delivery Street         4056\n",
      "Delivery City             95\n",
      "Delivery Zip              35\n",
      "Subtotal                 157\n",
      "dtype: int64\n"
     ]
    }
   ],
   "source": [
    "# Check for unique values to make sure they all make sense\n",
    "unique_counts = df.nunique()\n",
    "print(unique_counts)"
   ]
  },
  {
   "cell_type": "code",
   "execution_count": 11,
   "id": "7516e11c",
   "metadata": {},
   "outputs": [
    {
     "data": {
      "text/html": [
       "<div>\n",
       "<style scoped>\n",
       "    .dataframe tbody tr th:only-of-type {\n",
       "        vertical-align: middle;\n",
       "    }\n",
       "\n",
       "    .dataframe tbody tr th {\n",
       "        vertical-align: top;\n",
       "    }\n",
       "\n",
       "    .dataframe thead th {\n",
       "        text-align: right;\n",
       "    }\n",
       "</style>\n",
       "<table border=\"1\" class=\"dataframe\">\n",
       "  <thead>\n",
       "    <tr style=\"text-align: right;\">\n",
       "      <th></th>\n",
       "      <th>Order #</th>\n",
       "      <th>Transaction Type</th>\n",
       "      <th>Order Time</th>\n",
       "      <th>Order Date</th>\n",
       "      <th>Delivery Date_x</th>\n",
       "      <th>Product Total</th>\n",
       "      <th>Nontaxable Delivery</th>\n",
       "      <th>Wire Out Fee</th>\n",
       "      <th>Gift Cards</th>\n",
       "      <th>Grand Total_x</th>\n",
       "      <th>...</th>\n",
       "      <th>Order Type</th>\n",
       "      <th>Order Method</th>\n",
       "      <th>Order Source</th>\n",
       "      <th>Delivery Method</th>\n",
       "      <th>Product Name</th>\n",
       "      <th>Occasion</th>\n",
       "      <th>Delivery Street</th>\n",
       "      <th>Delivery City</th>\n",
       "      <th>Delivery Zip</th>\n",
       "      <th>Subtotal</th>\n",
       "    </tr>\n",
       "  </thead>\n",
       "  <tbody>\n",
       "    <tr>\n",
       "      <th>0</th>\n",
       "      <td>100017453</td>\n",
       "      <td>Sale</td>\n",
       "      <td>2023-07-22 15:28:16</td>\n",
       "      <td>2018-12-29</td>\n",
       "      <td>2018-12-29</td>\n",
       "      <td>815.00</td>\n",
       "      <td>0.0</td>\n",
       "      <td>0.0</td>\n",
       "      <td>0.0</td>\n",
       "      <td>894.46</td>\n",
       "      <td>...</td>\n",
       "      <td>Taken</td>\n",
       "      <td>Phone</td>\n",
       "      <td>NaN</td>\n",
       "      <td>NaN</td>\n",
       "      <td>NaN</td>\n",
       "      <td>NaN</td>\n",
       "      <td>NaN</td>\n",
       "      <td>NaN</td>\n",
       "      <td>&lt;NA&gt;</td>\n",
       "      <td>NaN</td>\n",
       "    </tr>\n",
       "    <tr>\n",
       "      <th>1</th>\n",
       "      <td>100017452</td>\n",
       "      <td>Sale</td>\n",
       "      <td>2023-07-22 15:16:50</td>\n",
       "      <td>2018-12-29</td>\n",
       "      <td>2018-12-29</td>\n",
       "      <td>249.90</td>\n",
       "      <td>0.0</td>\n",
       "      <td>0.0</td>\n",
       "      <td>0.0</td>\n",
       "      <td>137.13</td>\n",
       "      <td>...</td>\n",
       "      <td>Taken</td>\n",
       "      <td>Walk-In</td>\n",
       "      <td>NaN</td>\n",
       "      <td>NaN</td>\n",
       "      <td>NaN</td>\n",
       "      <td>NaN</td>\n",
       "      <td>NaN</td>\n",
       "      <td>NaN</td>\n",
       "      <td>&lt;NA&gt;</td>\n",
       "      <td>NaN</td>\n",
       "    </tr>\n",
       "    <tr>\n",
       "      <th>2</th>\n",
       "      <td>100017451</td>\n",
       "      <td>Sale</td>\n",
       "      <td>2023-07-22 14:58:53</td>\n",
       "      <td>2018-12-29</td>\n",
       "      <td>2018-12-29</td>\n",
       "      <td>24.95</td>\n",
       "      <td>0.0</td>\n",
       "      <td>0.0</td>\n",
       "      <td>0.0</td>\n",
       "      <td>27.38</td>\n",
       "      <td>...</td>\n",
       "      <td>Taken</td>\n",
       "      <td>Walk-In</td>\n",
       "      <td>NaN</td>\n",
       "      <td>NaN</td>\n",
       "      <td>NaN</td>\n",
       "      <td>NaN</td>\n",
       "      <td>NaN</td>\n",
       "      <td>NaN</td>\n",
       "      <td>&lt;NA&gt;</td>\n",
       "      <td>NaN</td>\n",
       "    </tr>\n",
       "    <tr>\n",
       "      <th>3</th>\n",
       "      <td>100017450</td>\n",
       "      <td>Sale</td>\n",
       "      <td>2023-07-22 14:54:45</td>\n",
       "      <td>2018-12-29</td>\n",
       "      <td>2018-12-29</td>\n",
       "      <td>635.00</td>\n",
       "      <td>0.0</td>\n",
       "      <td>0.0</td>\n",
       "      <td>0.0</td>\n",
       "      <td>696.91</td>\n",
       "      <td>...</td>\n",
       "      <td>Taken</td>\n",
       "      <td>Phone</td>\n",
       "      <td>NaN</td>\n",
       "      <td>NaN</td>\n",
       "      <td>NaN</td>\n",
       "      <td>NaN</td>\n",
       "      <td>NaN</td>\n",
       "      <td>NaN</td>\n",
       "      <td>&lt;NA&gt;</td>\n",
       "      <td>NaN</td>\n",
       "    </tr>\n",
       "    <tr>\n",
       "      <th>4</th>\n",
       "      <td>100017202</td>\n",
       "      <td>Sale</td>\n",
       "      <td>2023-07-22 14:48:15</td>\n",
       "      <td>2018-12-29</td>\n",
       "      <td>2018-12-23</td>\n",
       "      <td>702.00</td>\n",
       "      <td>25.0</td>\n",
       "      <td>0.0</td>\n",
       "      <td>0.0</td>\n",
       "      <td>795.45</td>\n",
       "      <td>...</td>\n",
       "      <td>Delivery</td>\n",
       "      <td>Walk-In</td>\n",
       "      <td>NaN</td>\n",
       "      <td>NaN</td>\n",
       "      <td>NaN</td>\n",
       "      <td>NaN</td>\n",
       "      <td>NaN</td>\n",
       "      <td>NaN</td>\n",
       "      <td>&lt;NA&gt;</td>\n",
       "      <td>NaN</td>\n",
       "    </tr>\n",
       "  </tbody>\n",
       "</table>\n",
       "<p>5 rows × 21 columns</p>\n",
       "</div>"
      ],
      "text/plain": [
       "     Order # Transaction Type          Order Time Order Date Delivery Date_x  \\\n",
       "0  100017453             Sale 2023-07-22 15:28:16 2018-12-29      2018-12-29   \n",
       "1  100017452             Sale 2023-07-22 15:16:50 2018-12-29      2018-12-29   \n",
       "2  100017451             Sale 2023-07-22 14:58:53 2018-12-29      2018-12-29   \n",
       "3  100017450             Sale 2023-07-22 14:54:45 2018-12-29      2018-12-29   \n",
       "4  100017202             Sale 2023-07-22 14:48:15 2018-12-29      2018-12-23   \n",
       "\n",
       "   Product Total  Nontaxable Delivery  Wire Out Fee  Gift Cards  \\\n",
       "0         815.00                  0.0           0.0         0.0   \n",
       "1         249.90                  0.0           0.0         0.0   \n",
       "2          24.95                  0.0           0.0         0.0   \n",
       "3         635.00                  0.0           0.0         0.0   \n",
       "4         702.00                 25.0           0.0         0.0   \n",
       "\n",
       "   Grand Total_x  ... Order Type Order Method Order Source Delivery Method  \\\n",
       "0         894.46  ...      Taken        Phone          NaN             NaN   \n",
       "1         137.13  ...      Taken      Walk-In          NaN             NaN   \n",
       "2          27.38  ...      Taken      Walk-In          NaN             NaN   \n",
       "3         696.91  ...      Taken        Phone          NaN             NaN   \n",
       "4         795.45  ...   Delivery      Walk-In          NaN             NaN   \n",
       "\n",
       "  Product Name Occasion Delivery Street Delivery City Delivery Zip  Subtotal  \n",
       "0          NaN      NaN             NaN           NaN         <NA>       NaN  \n",
       "1          NaN      NaN             NaN           NaN         <NA>       NaN  \n",
       "2          NaN      NaN             NaN           NaN         <NA>       NaN  \n",
       "3          NaN      NaN             NaN           NaN         <NA>       NaN  \n",
       "4          NaN      NaN             NaN           NaN         <NA>       NaN  \n",
       "\n",
       "[5 rows x 21 columns]"
      ]
     },
     "execution_count": 11,
     "metadata": {},
     "output_type": "execute_result"
    }
   ],
   "source": [
    "df.head()"
   ]
  },
  {
   "cell_type": "markdown",
   "id": "2c7ebffa",
   "metadata": {},
   "source": [
    "### **Replace nans function**"
   ]
  },
  {
   "cell_type": "markdown",
   "id": "6097fa68",
   "metadata": {},
   "source": [
    "- The dataset had missing values in every column, necessitating the use of imputation techniques to fill in these gaps and ensure sufficient data for accurate analysis. \n",
    "- Imputation involved systematically replacing the missing values in each column with estimated or substituted values using simple imputer, ultimately creating a complete dataset suitable for further analysis."
   ]
  },
  {
   "cell_type": "code",
   "execution_count": 12,
   "id": "478ad5d9",
   "metadata": {},
   "outputs": [],
   "source": [
    "def replace_nan(df):\n",
    "    # Find categorical and numerical columns\n",
    "    categorical_cols = df.select_dtypes(include='object').columns\n",
    "    numerical_cols = df.select_dtypes(include=np.number).columns\n",
    "    date_cols = ['Order Time', 'Order Date', 'Delivery Date_x']\n",
    "# Replace NaT values with NaN\n",
    "    df = df.replace(pd.NaT, np.nan)\n",
    "\n",
    "# Impute missing values with mode for categorical variables\n",
    "    categorical_imputer = SimpleImputer(strategy='most_frequent')\n",
    "    df[categorical_cols] = categorical_imputer.fit_transform(df[categorical_cols])\n",
    "# Replace missing values in date columns with most frequent date\n",
    "    for col in date_cols:\n",
    "        most_frequent_date = df[col].mode().values[0]\n",
    "        df[col].fillna(most_frequent_date, inplace=True)\n",
    "        # Impute missing values with median for numerical variables\n",
    "        numerical_imputer = SimpleImputer(strategy='most_frequent')\n",
    "    df[numerical_cols] = numerical_imputer.fit_transform(df[numerical_cols])\n",
    "\n",
    "    return df"
   ]
  },
  {
   "cell_type": "code",
   "execution_count": 13,
   "id": "a565bab5",
   "metadata": {},
   "outputs": [],
   "source": [
    "#Runing the function to transform the data\n",
    "transformed_data =replace_nan(df)"
   ]
  },
  {
   "cell_type": "code",
   "execution_count": 14,
   "id": "b865d4b5",
   "metadata": {
    "scrolled": true
   },
   "outputs": [
    {
     "data": {
      "text/html": [
       "<div>\n",
       "<style scoped>\n",
       "    .dataframe tbody tr th:only-of-type {\n",
       "        vertical-align: middle;\n",
       "    }\n",
       "\n",
       "    .dataframe tbody tr th {\n",
       "        vertical-align: top;\n",
       "    }\n",
       "\n",
       "    .dataframe thead th {\n",
       "        text-align: right;\n",
       "    }\n",
       "</style>\n",
       "<table border=\"1\" class=\"dataframe\">\n",
       "  <thead>\n",
       "    <tr style=\"text-align: right;\">\n",
       "      <th></th>\n",
       "      <th>Order #</th>\n",
       "      <th>Transaction Type</th>\n",
       "      <th>Order Time</th>\n",
       "      <th>Order Date</th>\n",
       "      <th>Delivery Date_x</th>\n",
       "      <th>Product Total</th>\n",
       "      <th>Nontaxable Delivery</th>\n",
       "      <th>Wire Out Fee</th>\n",
       "      <th>Gift Cards</th>\n",
       "      <th>Grand Total_x</th>\n",
       "      <th>...</th>\n",
       "      <th>Order Type</th>\n",
       "      <th>Order Method</th>\n",
       "      <th>Order Source</th>\n",
       "      <th>Delivery Method</th>\n",
       "      <th>Product Name</th>\n",
       "      <th>Occasion</th>\n",
       "      <th>Delivery Street</th>\n",
       "      <th>Delivery City</th>\n",
       "      <th>Delivery Zip</th>\n",
       "      <th>Subtotal</th>\n",
       "    </tr>\n",
       "  </thead>\n",
       "  <tbody>\n",
       "    <tr>\n",
       "      <th>0</th>\n",
       "      <td>1.000175e+08</td>\n",
       "      <td>Sale</td>\n",
       "      <td>2023-07-22 15:28:16</td>\n",
       "      <td>2018-12-29</td>\n",
       "      <td>2018-12-29</td>\n",
       "      <td>815.00</td>\n",
       "      <td>0.0</td>\n",
       "      <td>0.0</td>\n",
       "      <td>0.0</td>\n",
       "      <td>894.46</td>\n",
       "      <td>...</td>\n",
       "      <td>Taken</td>\n",
       "      <td>Phone</td>\n",
       "      <td>Premium Site</td>\n",
       "      <td>Local Delivery</td>\n",
       "      <td>Vivid Daydream</td>\n",
       "      <td>Birthday</td>\n",
       "      <td>2179 Hillsboro Road</td>\n",
       "      <td>Franklin</td>\n",
       "      <td>37064.0</td>\n",
       "      <td>75.0</td>\n",
       "    </tr>\n",
       "    <tr>\n",
       "      <th>1</th>\n",
       "      <td>1.000175e+08</td>\n",
       "      <td>Sale</td>\n",
       "      <td>2023-07-22 15:16:50</td>\n",
       "      <td>2018-12-29</td>\n",
       "      <td>2018-12-29</td>\n",
       "      <td>249.90</td>\n",
       "      <td>0.0</td>\n",
       "      <td>0.0</td>\n",
       "      <td>0.0</td>\n",
       "      <td>137.13</td>\n",
       "      <td>...</td>\n",
       "      <td>Taken</td>\n",
       "      <td>Walk-In</td>\n",
       "      <td>Premium Site</td>\n",
       "      <td>Local Delivery</td>\n",
       "      <td>Vivid Daydream</td>\n",
       "      <td>Birthday</td>\n",
       "      <td>2179 Hillsboro Road</td>\n",
       "      <td>Franklin</td>\n",
       "      <td>37064.0</td>\n",
       "      <td>75.0</td>\n",
       "    </tr>\n",
       "    <tr>\n",
       "      <th>2</th>\n",
       "      <td>1.000175e+08</td>\n",
       "      <td>Sale</td>\n",
       "      <td>2023-07-22 14:58:53</td>\n",
       "      <td>2018-12-29</td>\n",
       "      <td>2018-12-29</td>\n",
       "      <td>24.95</td>\n",
       "      <td>0.0</td>\n",
       "      <td>0.0</td>\n",
       "      <td>0.0</td>\n",
       "      <td>27.38</td>\n",
       "      <td>...</td>\n",
       "      <td>Taken</td>\n",
       "      <td>Walk-In</td>\n",
       "      <td>Premium Site</td>\n",
       "      <td>Local Delivery</td>\n",
       "      <td>Vivid Daydream</td>\n",
       "      <td>Birthday</td>\n",
       "      <td>2179 Hillsboro Road</td>\n",
       "      <td>Franklin</td>\n",
       "      <td>37064.0</td>\n",
       "      <td>75.0</td>\n",
       "    </tr>\n",
       "    <tr>\n",
       "      <th>3</th>\n",
       "      <td>1.000174e+08</td>\n",
       "      <td>Sale</td>\n",
       "      <td>2023-07-22 14:54:45</td>\n",
       "      <td>2018-12-29</td>\n",
       "      <td>2018-12-29</td>\n",
       "      <td>635.00</td>\n",
       "      <td>0.0</td>\n",
       "      <td>0.0</td>\n",
       "      <td>0.0</td>\n",
       "      <td>696.91</td>\n",
       "      <td>...</td>\n",
       "      <td>Taken</td>\n",
       "      <td>Phone</td>\n",
       "      <td>Premium Site</td>\n",
       "      <td>Local Delivery</td>\n",
       "      <td>Vivid Daydream</td>\n",
       "      <td>Birthday</td>\n",
       "      <td>2179 Hillsboro Road</td>\n",
       "      <td>Franklin</td>\n",
       "      <td>37064.0</td>\n",
       "      <td>75.0</td>\n",
       "    </tr>\n",
       "    <tr>\n",
       "      <th>4</th>\n",
       "      <td>1.000172e+08</td>\n",
       "      <td>Sale</td>\n",
       "      <td>2023-07-22 14:48:15</td>\n",
       "      <td>2018-12-29</td>\n",
       "      <td>2018-12-23</td>\n",
       "      <td>702.00</td>\n",
       "      <td>25.0</td>\n",
       "      <td>0.0</td>\n",
       "      <td>0.0</td>\n",
       "      <td>795.45</td>\n",
       "      <td>...</td>\n",
       "      <td>Delivery</td>\n",
       "      <td>Walk-In</td>\n",
       "      <td>Premium Site</td>\n",
       "      <td>Local Delivery</td>\n",
       "      <td>Vivid Daydream</td>\n",
       "      <td>Birthday</td>\n",
       "      <td>2179 Hillsboro Road</td>\n",
       "      <td>Franklin</td>\n",
       "      <td>37064.0</td>\n",
       "      <td>75.0</td>\n",
       "    </tr>\n",
       "    <tr>\n",
       "      <th>...</th>\n",
       "      <td>...</td>\n",
       "      <td>...</td>\n",
       "      <td>...</td>\n",
       "      <td>...</td>\n",
       "      <td>...</td>\n",
       "      <td>...</td>\n",
       "      <td>...</td>\n",
       "      <td>...</td>\n",
       "      <td>...</td>\n",
       "      <td>...</td>\n",
       "      <td>...</td>\n",
       "      <td>...</td>\n",
       "      <td>...</td>\n",
       "      <td>...</td>\n",
       "      <td>...</td>\n",
       "      <td>...</td>\n",
       "      <td>...</td>\n",
       "      <td>...</td>\n",
       "      <td>...</td>\n",
       "      <td>...</td>\n",
       "      <td>...</td>\n",
       "    </tr>\n",
       "    <tr>\n",
       "      <th>52911</th>\n",
       "      <td>2.749453e+09</td>\n",
       "      <td>Sale</td>\n",
       "      <td>2023-07-21 12:52:04</td>\n",
       "      <td>2022-04-23</td>\n",
       "      <td>2021-05-08</td>\n",
       "      <td>100.00</td>\n",
       "      <td>0.0</td>\n",
       "      <td>0.0</td>\n",
       "      <td>0.0</td>\n",
       "      <td>21.95</td>\n",
       "      <td>...</td>\n",
       "      <td>Delivery</td>\n",
       "      <td>Phone</td>\n",
       "      <td>Premium Site</td>\n",
       "      <td>Local Delivery</td>\n",
       "      <td>Blush Designer's Choice</td>\n",
       "      <td>Birthday</td>\n",
       "      <td>740 Cool Springs Blvd. Suite 200</td>\n",
       "      <td>Franklin</td>\n",
       "      <td>37067.0</td>\n",
       "      <td>135.0</td>\n",
       "    </tr>\n",
       "    <tr>\n",
       "      <th>52912</th>\n",
       "      <td>2.553412e+09</td>\n",
       "      <td>Sale</td>\n",
       "      <td>2023-07-21 12:52:04</td>\n",
       "      <td>2022-04-23</td>\n",
       "      <td>2021-05-08</td>\n",
       "      <td>100.00</td>\n",
       "      <td>0.0</td>\n",
       "      <td>0.0</td>\n",
       "      <td>0.0</td>\n",
       "      <td>21.95</td>\n",
       "      <td>...</td>\n",
       "      <td>Delivery</td>\n",
       "      <td>Phone</td>\n",
       "      <td>Premium Site</td>\n",
       "      <td>Local Delivery</td>\n",
       "      <td>Designer's Choice $250 - upgrade:premium</td>\n",
       "      <td>Birthday</td>\n",
       "      <td>15000 Iron Horse Lane, Apt 15102</td>\n",
       "      <td>Franklin</td>\n",
       "      <td>37069.0</td>\n",
       "      <td>400.0</td>\n",
       "    </tr>\n",
       "    <tr>\n",
       "      <th>52913</th>\n",
       "      <td>3.540159e+09</td>\n",
       "      <td>Sale</td>\n",
       "      <td>2023-07-21 12:52:04</td>\n",
       "      <td>2022-04-23</td>\n",
       "      <td>2021-05-08</td>\n",
       "      <td>100.00</td>\n",
       "      <td>0.0</td>\n",
       "      <td>0.0</td>\n",
       "      <td>0.0</td>\n",
       "      <td>21.95</td>\n",
       "      <td>...</td>\n",
       "      <td>Delivery</td>\n",
       "      <td>Phone</td>\n",
       "      <td>Premium Site</td>\n",
       "      <td>Local Delivery</td>\n",
       "      <td>Honky Tonk</td>\n",
       "      <td>Birthday</td>\n",
       "      <td>3117 Tristan Drive</td>\n",
       "      <td>Franklin</td>\n",
       "      <td>37064.0</td>\n",
       "      <td>155.0</td>\n",
       "    </tr>\n",
       "    <tr>\n",
       "      <th>52914</th>\n",
       "      <td>3.591550e+09</td>\n",
       "      <td>Sale</td>\n",
       "      <td>2023-07-21 12:52:04</td>\n",
       "      <td>2022-04-23</td>\n",
       "      <td>2021-05-08</td>\n",
       "      <td>100.00</td>\n",
       "      <td>0.0</td>\n",
       "      <td>0.0</td>\n",
       "      <td>0.0</td>\n",
       "      <td>21.95</td>\n",
       "      <td>...</td>\n",
       "      <td>Delivery</td>\n",
       "      <td>Phone</td>\n",
       "      <td>Premium Site</td>\n",
       "      <td>Local Delivery</td>\n",
       "      <td>Vivid Daydream</td>\n",
       "      <td>Thank You</td>\n",
       "      <td>700 Cool Springs Blvd.</td>\n",
       "      <td>Franklin</td>\n",
       "      <td>37067.0</td>\n",
       "      <td>95.0</td>\n",
       "    </tr>\n",
       "    <tr>\n",
       "      <th>52915</th>\n",
       "      <td>7.662866e+09</td>\n",
       "      <td>Sale</td>\n",
       "      <td>2023-07-21 12:52:04</td>\n",
       "      <td>2022-04-23</td>\n",
       "      <td>2021-05-08</td>\n",
       "      <td>100.00</td>\n",
       "      <td>0.0</td>\n",
       "      <td>0.0</td>\n",
       "      <td>0.0</td>\n",
       "      <td>21.95</td>\n",
       "      <td>...</td>\n",
       "      <td>Delivery</td>\n",
       "      <td>Phone</td>\n",
       "      <td>Premium Site</td>\n",
       "      <td>Local Delivery</td>\n",
       "      <td>Tranquil Duo</td>\n",
       "      <td>Thank You</td>\n",
       "      <td>700 Cool Springs Blvd.</td>\n",
       "      <td>Franklin</td>\n",
       "      <td>37067.0</td>\n",
       "      <td>88.0</td>\n",
       "    </tr>\n",
       "  </tbody>\n",
       "</table>\n",
       "<p>52916 rows × 21 columns</p>\n",
       "</div>"
      ],
      "text/plain": [
       "            Order # Transaction Type          Order Time Order Date  \\\n",
       "0      1.000175e+08             Sale 2023-07-22 15:28:16 2018-12-29   \n",
       "1      1.000175e+08             Sale 2023-07-22 15:16:50 2018-12-29   \n",
       "2      1.000175e+08             Sale 2023-07-22 14:58:53 2018-12-29   \n",
       "3      1.000174e+08             Sale 2023-07-22 14:54:45 2018-12-29   \n",
       "4      1.000172e+08             Sale 2023-07-22 14:48:15 2018-12-29   \n",
       "...             ...              ...                 ...        ...   \n",
       "52911  2.749453e+09             Sale 2023-07-21 12:52:04 2022-04-23   \n",
       "52912  2.553412e+09             Sale 2023-07-21 12:52:04 2022-04-23   \n",
       "52913  3.540159e+09             Sale 2023-07-21 12:52:04 2022-04-23   \n",
       "52914  3.591550e+09             Sale 2023-07-21 12:52:04 2022-04-23   \n",
       "52915  7.662866e+09             Sale 2023-07-21 12:52:04 2022-04-23   \n",
       "\n",
       "      Delivery Date_x  Product Total  Nontaxable Delivery  Wire Out Fee  \\\n",
       "0          2018-12-29         815.00                  0.0           0.0   \n",
       "1          2018-12-29         249.90                  0.0           0.0   \n",
       "2          2018-12-29          24.95                  0.0           0.0   \n",
       "3          2018-12-29         635.00                  0.0           0.0   \n",
       "4          2018-12-23         702.00                 25.0           0.0   \n",
       "...               ...            ...                  ...           ...   \n",
       "52911      2021-05-08         100.00                  0.0           0.0   \n",
       "52912      2021-05-08         100.00                  0.0           0.0   \n",
       "52913      2021-05-08         100.00                  0.0           0.0   \n",
       "52914      2021-05-08         100.00                  0.0           0.0   \n",
       "52915      2021-05-08         100.00                  0.0           0.0   \n",
       "\n",
       "       Gift Cards  Grand Total_x  ... Order Type Order Method  Order Source  \\\n",
       "0             0.0         894.46  ...      Taken        Phone  Premium Site   \n",
       "1             0.0         137.13  ...      Taken      Walk-In  Premium Site   \n",
       "2             0.0          27.38  ...      Taken      Walk-In  Premium Site   \n",
       "3             0.0         696.91  ...      Taken        Phone  Premium Site   \n",
       "4             0.0         795.45  ...   Delivery      Walk-In  Premium Site   \n",
       "...           ...            ...  ...        ...          ...           ...   \n",
       "52911         0.0          21.95  ...   Delivery        Phone  Premium Site   \n",
       "52912         0.0          21.95  ...   Delivery        Phone  Premium Site   \n",
       "52913         0.0          21.95  ...   Delivery        Phone  Premium Site   \n",
       "52914         0.0          21.95  ...   Delivery        Phone  Premium Site   \n",
       "52915         0.0          21.95  ...   Delivery        Phone  Premium Site   \n",
       "\n",
       "      Delivery Method                              Product Name   Occasion  \\\n",
       "0      Local Delivery                            Vivid Daydream   Birthday   \n",
       "1      Local Delivery                            Vivid Daydream   Birthday   \n",
       "2      Local Delivery                            Vivid Daydream   Birthday   \n",
       "3      Local Delivery                            Vivid Daydream   Birthday   \n",
       "4      Local Delivery                            Vivid Daydream   Birthday   \n",
       "...               ...                                       ...        ...   \n",
       "52911  Local Delivery                   Blush Designer's Choice   Birthday   \n",
       "52912  Local Delivery  Designer's Choice $250 - upgrade:premium   Birthday   \n",
       "52913  Local Delivery                               Honky Tonk    Birthday   \n",
       "52914  Local Delivery                            Vivid Daydream  Thank You   \n",
       "52915  Local Delivery                              Tranquil Duo  Thank You   \n",
       "\n",
       "                        Delivery Street Delivery City Delivery Zip  Subtotal  \n",
       "0                   2179 Hillsboro Road      Franklin      37064.0      75.0  \n",
       "1                   2179 Hillsboro Road      Franklin      37064.0      75.0  \n",
       "2                   2179 Hillsboro Road      Franklin      37064.0      75.0  \n",
       "3                   2179 Hillsboro Road      Franklin      37064.0      75.0  \n",
       "4                   2179 Hillsboro Road      Franklin      37064.0      75.0  \n",
       "...                                 ...           ...          ...       ...  \n",
       "52911  740 Cool Springs Blvd. Suite 200      Franklin      37067.0     135.0  \n",
       "52912  15000 Iron Horse Lane, Apt 15102      Franklin      37069.0     400.0  \n",
       "52913                3117 Tristan Drive      Franklin      37064.0     155.0  \n",
       "52914            700 Cool Springs Blvd.      Franklin      37067.0      95.0  \n",
       "52915            700 Cool Springs Blvd.      Franklin      37067.0      88.0  \n",
       "\n",
       "[52916 rows x 21 columns]"
      ]
     },
     "execution_count": 14,
     "metadata": {},
     "output_type": "execute_result"
    }
   ],
   "source": [
    "#Making sure the data has been transformed\n",
    "transformed_data"
   ]
  },
  {
   "cell_type": "markdown",
   "id": "a24379d7",
   "metadata": {},
   "source": [
    "# **Creating the pipeline**"
   ]
  },
  {
   "cell_type": "code",
   "execution_count": 15,
   "id": "984f5037",
   "metadata": {},
   "outputs": [],
   "source": [
    "#Validation Split\n",
    "X= transformed_data.drop(columns = 'Product Total')\n",
    "y = transformed_data['Product Total']"
   ]
  },
  {
   "cell_type": "code",
   "execution_count": 16,
   "id": "a1ab2d33",
   "metadata": {},
   "outputs": [],
   "source": [
    "#Train, Test, Split\n",
    "X_train, X_test, y_train, y_test = train_test_split(X, y, random_state=42)"
   ]
  },
  {
   "cell_type": "code",
   "execution_count": 17,
   "id": "0acaef74",
   "metadata": {
    "scrolled": false
   },
   "outputs": [],
   "source": [
    "#Function for pipeline creation\n",
    "def create_preprocessing_pipeline(X_train, numeric_cols, categorical_cols):\n",
    "\n",
    "#Scaler\n",
    "    scaler = StandardScaler()\n",
    "\n",
    "# Numeric pipeline\n",
    "    numeric_pipe = make_pipeline(scaler)\n",
    "    numeric_pipe\n",
    "\n",
    "#OneHotEncoder\n",
    "    ohe =OneHotEncoder(handle_unknown='ignore', sparse=False)\n",
    "\n",
    "# Create the numeric and categorical pipeline\n",
    "    numeric_pipe = make_pipeline(scaler)\n",
    "    categorical_pipe = make_pipeline(ohe)\n",
    "\n",
    "# Create column selectors\n",
    "    num_cols_idx = np.isin(X_train.columns, numeric_cols)\n",
    "    cat_cols_idx = np.isin(X_train.columns, categorical_cols)\n",
    "    \n",
    "# Create tuples for preprocessing the categorical and numeric columns\n",
    "    num_tuple = (numeric_pipe, num_cols_idx)\n",
    "    cat_tuple = (categorical_pipe, cat_cols_idx)\n",
    "    \n",
    "# Create the Column Transformer\n",
    "    preprocessor = make_column_transformer(num_tuple, cat_tuple, remainder='passthrough')\n",
    "\n",
    "# Fit the transformer\n",
    "    preprocessor.fit(X_train)\n",
    "    \n",
    "    return preprocessor"
   ]
  },
  {
   "cell_type": "code",
   "execution_count": 18,
   "id": "0ed9749a",
   "metadata": {},
   "outputs": [],
   "source": [
    "#Defining columns \n",
    "numeric_cols = ['Product Total', 'Grand Total']\n",
    "categorical_cols = ['Transaction Type', 'Order Type']"
   ]
  },
  {
   "cell_type": "code",
   "execution_count": 19,
   "id": "48141759",
   "metadata": {},
   "outputs": [],
   "source": [
    "#Preprocessor creation\n",
    "preprocessor = create_preprocessing_pipeline(X_train, numeric_cols, categorical_cols)"
   ]
  },
  {
   "cell_type": "code",
   "execution_count": 20,
   "id": "a019967e",
   "metadata": {},
   "outputs": [],
   "source": [
    "#Transforming x-train\n",
    "X_train_preprocessed = preprocessor.transform(X_train)"
   ]
  },
  {
   "cell_type": "code",
   "execution_count": 21,
   "id": "3d1c6688",
   "metadata": {},
   "outputs": [],
   "source": [
    "#simplifying transformed data name\n",
    "cd = transformed_data"
   ]
  },
  {
   "cell_type": "code",
   "execution_count": 22,
   "id": "bc6c98fc",
   "metadata": {
    "scrolled": false
   },
   "outputs": [
    {
     "data": {
      "text/plain": [
       "Sale          51517\n",
       "Adjustment      981\n",
       "Refund          418\n",
       "Name: Transaction Type, dtype: int64"
      ]
     },
     "execution_count": 22,
     "metadata": {},
     "output_type": "execute_result"
    }
   ],
   "source": [
    "#This shows us that there are rows in the data that are not sales, so we want to delete them.\n",
    "cd['Transaction Type'].value_counts()"
   ]
  },
  {
   "cell_type": "code",
   "execution_count": 23,
   "id": "447787e6",
   "metadata": {},
   "outputs": [],
   "source": [
    "#Function to extract only sales \n",
    "import pandas as pd\n",
    "\n",
    "def remove_adjustment_refund_rows(data):\n",
    "    # Filter out rows with 'Adjustment' and 'Refund' transaction types\n",
    "    filtered_data = cd[cd['Transaction Type'].isin(['Sale'])]\n",
    "    \n",
    "    return filtered_data\n",
    "\n",
    "# Example usage:\n",
    "filtered_data = remove_adjustment_refund_rows(transformed_data)\n",
    "fd = filtered_data"
   ]
  },
  {
   "cell_type": "code",
   "execution_count": 24,
   "id": "fc9e53aa",
   "metadata": {},
   "outputs": [
    {
     "data": {
      "text/plain": [
       "Sale    51517\n",
       "Name: Transaction Type, dtype: int64"
      ]
     },
     "execution_count": 24,
     "metadata": {},
     "output_type": "execute_result"
    }
   ],
   "source": [
    "#Checking there are only sales rows in the data\n",
    "fd['Transaction Type'].value_counts()"
   ]
  },
  {
   "cell_type": "markdown",
   "id": "4ef62521",
   "metadata": {},
   "source": [
    "## **Data Exploration**"
   ]
  },
  {
   "cell_type": "markdown",
   "id": "c0c0dcb5",
   "metadata": {},
   "source": [
    "This section looks into exploring irregularities within the data and how I assess them."
   ]
  },
  {
   "cell_type": "markdown",
   "id": "f7b73e34",
   "metadata": {},
   "source": [
    "### **Sender/Recipient - Customer Name/Recipient Name?**"
   ]
  },
  {
   "cell_type": "code",
   "execution_count": 25,
   "id": "37248cb8",
   "metadata": {},
   "outputs": [
    {
     "data": {
      "text/plain": [
       "Birthday                         47929\n",
       "Sympathy and Funeral               835\n",
       "Mother's Day                       502\n",
       "Just Because                       405\n",
       "Get Well                           398\n",
       "Thank You                          295\n",
       "Valentine's Day                    232\n",
       "Anniversary                        222\n",
       "Congrats                           193\n",
       "Christmas                          101\n",
       "Love and Romance                    78\n",
       "New Baby                            67\n",
       "I'm Sorry                           60\n",
       "Easter and Passover                 45\n",
       "Thanksgiving                        28\n",
       "Wedding                             22\n",
       "Admin Professionals' Week           21\n",
       "Prom                                12\n",
       "Autumn                               9\n",
       "Father's Day                         9\n",
       "Summer                               8\n",
       "Best Friends Day                     7\n",
       "Spring                               6\n",
       "New Year                             6\n",
       "Graduation                           6\n",
       "Holiday                              5\n",
       "Women's Day                          4\n",
       "Winter                               3\n",
       "Halloween                            1\n",
       "Grandparent's Day                    1\n",
       "Breast Cancer Awareness Month        1\n",
       "Flower Crown                         1\n",
       "Parent's Day                         1\n",
       "Persian New Year                     1\n",
       "Boss's Day                           1\n",
       "Gift Sets                            1\n",
       "Cinco De Mayo                        1\n",
       "Name: Occasion, dtype: int64"
      ]
     },
     "execution_count": 25,
     "metadata": {},
     "output_type": "execute_result"
    }
   ],
   "source": [
    "fd['Occasion'].value_counts()"
   ]
  },
  {
   "cell_type": "code",
   "execution_count": 26,
   "id": "f58665d1",
   "metadata": {
    "scrolled": true
   },
   "outputs": [
    {
     "name": "stdout",
     "output_type": "stream",
     "text": [
      "<class 'pandas.core.frame.DataFrame'>\n",
      "Int64Index: 51517 entries, 0 to 52915\n",
      "Data columns (total 21 columns):\n",
      " #   Column               Non-Null Count  Dtype         \n",
      "---  ------               --------------  -----         \n",
      " 0   Order #              51517 non-null  float64       \n",
      " 1   Transaction Type     51517 non-null  object        \n",
      " 2   Order Time           51517 non-null  datetime64[ns]\n",
      " 3   Order Date           51517 non-null  datetime64[ns]\n",
      " 4   Delivery Date_x      51517 non-null  datetime64[ns]\n",
      " 5   Product Total        51517 non-null  float64       \n",
      " 6   Nontaxable Delivery  51517 non-null  float64       \n",
      " 7   Wire Out Fee         51517 non-null  float64       \n",
      " 8   Gift Cards           51517 non-null  float64       \n",
      " 9   Grand Total_x        51517 non-null  float64       \n",
      " 10  Payment Method_x     51517 non-null  object        \n",
      " 11  Order Type           51517 non-null  object        \n",
      " 12  Order Method         51517 non-null  object        \n",
      " 13  Order Source         51517 non-null  object        \n",
      " 14  Delivery Method      51517 non-null  object        \n",
      " 15  Product Name         51517 non-null  object        \n",
      " 16  Occasion             51517 non-null  object        \n",
      " 17  Delivery Street      51517 non-null  object        \n",
      " 18  Delivery City        51517 non-null  object        \n",
      " 19  Delivery Zip         51517 non-null  float64       \n",
      " 20  Subtotal             51517 non-null  float64       \n",
      "dtypes: datetime64[ns](3), float64(8), object(10)\n",
      "memory usage: 8.6+ MB\n"
     ]
    }
   ],
   "source": [
    "fd.info()"
   ]
  },
  {
   "cell_type": "markdown",
   "id": "f95b4128",
   "metadata": {},
   "source": [
    "### **Payment Method**"
   ]
  },
  {
   "cell_type": "code",
   "execution_count": 27,
   "id": "a6c9e5f2",
   "metadata": {},
   "outputs": [
    {
     "data": {
      "text/plain": [
       "Credit Card                           41489\n",
       "Bloomnation                            6252\n",
       "Cash                                   1942\n",
       "CFS                                     919\n",
       "FSN                                     251\n",
       "Check / Money order                     249\n",
       "BBROOKS                                 161\n",
       "Donation                                145\n",
       "External Processor (Not Floranext)       60\n",
       "Write Off                                32\n",
       "Gift Certificate                         16\n",
       "Wire Service                              1\n",
       "Name: Payment Method_x, dtype: int64"
      ]
     },
     "execution_count": 27,
     "metadata": {},
     "output_type": "execute_result"
    }
   ],
   "source": [
    "fd['Payment Method_x'].value_counts()"
   ]
  },
  {
   "cell_type": "markdown",
   "id": "4659fe06",
   "metadata": {},
   "source": [
    "### **Sale Date**"
   ]
  },
  {
   "cell_type": "markdown",
   "id": "f40a0440",
   "metadata": {},
   "source": [
    "### **Order method, type & source** "
   ]
  },
  {
   "cell_type": "code",
   "execution_count": 28,
   "id": "e8c7694b",
   "metadata": {},
   "outputs": [
    {
     "data": {
      "text/plain": [
       "Phone                            29031\n",
       "Walk-In                          21849\n",
       "Subscription / Standing Order      320\n",
       "Website                            281\n",
       "Florist-to-Florist                  36\n",
       "Name: Order Method, dtype: int64"
      ]
     },
     "execution_count": 28,
     "metadata": {},
     "output_type": "execute_result"
    }
   ],
   "source": [
    "#Compare to order source to verify there are no duplicates \n",
    "fd['Order Method'].value_counts()"
   ]
  },
  {
   "cell_type": "code",
   "execution_count": 29,
   "id": "891f87bd",
   "metadata": {},
   "outputs": [
    {
     "data": {
      "text/plain": [
       "Premium Site    51324\n",
       "Marketplace       160\n",
       "F2F                29\n",
       "Yelp                4\n",
       "Name: Order Source, dtype: int64"
      ]
     },
     "execution_count": 29,
     "metadata": {},
     "output_type": "execute_result"
    }
   ],
   "source": [
    "#Compare to order method to verify there are no duplicates \n",
    "fd['Order Source'].value_counts()"
   ]
  },
  {
   "cell_type": "code",
   "execution_count": 30,
   "id": "c8521fc8",
   "metadata": {},
   "outputs": [
    {
     "data": {
      "text/plain": [
       "Delivery    25364\n",
       "Taken       19686\n",
       "Pickup       5240\n",
       "Wire Out     1227\n",
       "Name: Order Type, dtype: int64"
      ]
     },
     "execution_count": 30,
     "metadata": {},
     "output_type": "execute_result"
    }
   ],
   "source": [
    "# Identify what the difference is in these last three columns ^^^\n",
    "fd['Order Type'].value_counts()"
   ]
  },
  {
   "cell_type": "markdown",
   "id": "cd1611a9",
   "metadata": {},
   "source": [
    "### **Delivery Date**"
   ]
  },
  {
   "cell_type": "code",
   "execution_count": 31,
   "id": "f0a69c84",
   "metadata": {
    "scrolled": true
   },
   "outputs": [
    {
     "data": {
      "text/plain": [
       "2021-05-08    5685\n",
       "2022-05-07     214\n",
       "2023-02-14     208\n",
       "2019-05-11     200\n",
       "2023-05-13     196\n",
       "              ... \n",
       "2022-05-29       1\n",
       "2018-04-08       1\n",
       "2017-12-22       1\n",
       "2022-11-13       1\n",
       "2018-06-10       1\n",
       "Name: Delivery Date_x, Length: 1722, dtype: int64"
      ]
     },
     "execution_count": 31,
     "metadata": {},
     "output_type": "execute_result"
    }
   ],
   "source": [
    "fd['Delivery Date_x'].value_counts()"
   ]
  },
  {
   "cell_type": "markdown",
   "id": "d1e70187",
   "metadata": {},
   "source": [
    "### **Delivery Street**"
   ]
  },
  {
   "cell_type": "code",
   "execution_count": 32,
   "id": "f3938180",
   "metadata": {
    "scrolled": true
   },
   "outputs": [
    {
     "data": {
      "text/plain": [
       "2179 Hillsboro Road      46309\n",
       "3009 Columbia Ave           22\n",
       "689 Legends Crest Dr.       21\n",
       "3117 Tristan Drive          19\n",
       "1007 Boxwood Drive          18\n",
       "                         ...  \n",
       "112 Drake act.               1\n",
       "414 Stable Drive             1\n",
       "4105B Lone Oak Rd            1\n",
       "4205 Cassie Court            1\n",
       "1824 Thornbrook Lane         1\n",
       "Name: Delivery Street, Length: 4056, dtype: int64"
      ]
     },
     "execution_count": 32,
     "metadata": {},
     "output_type": "execute_result"
    }
   ],
   "source": [
    "# Looking further into the sales data for locating the most popular delivery street.\n",
    "#The shop is located on Hilsboro Road, so it makes sense that its the most popular delivery street.\n",
    "fd['Delivery Street'].value_counts()"
   ]
  },
  {
   "cell_type": "markdown",
   "id": "cfb0d4e1",
   "metadata": {},
   "source": [
    "### **Non-taxable Delivery Compaired to Delivery Zip/Street**"
   ]
  },
  {
   "cell_type": "code",
   "execution_count": 33,
   "id": "a170cf6b",
   "metadata": {},
   "outputs": [
    {
     "data": {
      "text/plain": [
       "0.00     30462\n",
       "12.00     6662\n",
       "15.00     5074\n",
       "17.95     2437\n",
       "16.95     1094\n",
       "         ...  \n",
       "9.95         1\n",
       "45.40        1\n",
       "12.30        1\n",
       "46.99        1\n",
       "11.49        1\n",
       "Name: Nontaxable Delivery, Length: 282, dtype: int64"
      ]
     },
     "execution_count": 33,
     "metadata": {},
     "output_type": "execute_result"
    }
   ],
   "source": [
    "#Figure out what the amounts represent\n",
    "fd['Nontaxable Delivery'].value_counts()"
   ]
  },
  {
   "cell_type": "markdown",
   "id": "164da1e8",
   "metadata": {},
   "source": [
    "### **Product Name**"
   ]
  },
  {
   "cell_type": "code",
   "execution_count": 34,
   "id": "bd1bbf08",
   "metadata": {
    "scrolled": false
   },
   "outputs": [
    {
     "data": {
      "text/plain": [
       "Vivid Daydream                                                                  46348\n",
       "Designer's Choice  75                                                             194\n",
       "Mimi’s Rose Garden: Pretty in Pink Edition                                        128\n",
       "Blush Designer's Choice                                                           122\n",
       "CARNTON Hydrangea Cluster in white                                                121\n",
       "                                                                                ...  \n",
       "Mini poinsettias in Barnwood - upgrade:deluxe|Mini poinsettias in Barnwood          1\n",
       "RED BIRD WINTER                                                                     1\n",
       "Blush Designer's Choice - upgrade:deluxe|Peony Gathering  (Colors will vary)        1\n",
       "Joy - Fall - upgrade:deluxe|Joy - Fall                                              1\n",
       "Designer's Choice $250 - upgrade:premium                                            1\n",
       "Name: Product Name, Length: 535, dtype: int64"
      ]
     },
     "execution_count": 34,
     "metadata": {},
     "output_type": "execute_result"
    }
   ],
   "source": [
    "#This will help to identify the most frequently ordered products\n",
    "fd['Product Name'].value_counts()"
   ]
  },
  {
   "cell_type": "code",
   "execution_count": 35,
   "id": "23c1b796",
   "metadata": {},
   "outputs": [
    {
     "name": "stdout",
     "output_type": "stream",
     "text": [
      "Number of duplicate rows: 6\n",
      "Duplicate rows:\n",
      "           Order # Transaction Type          Order Time Order Date  \\\n",
      "3690   100013681.0             Sale 2023-07-21 13:54:08 2018-07-13   \n",
      "14356  100019111.0             Sale 2023-07-21 15:25:54 2019-03-15   \n",
      "17756  100031715.0             Sale 2023-07-24 14:50:07 2020-11-02   \n",
      "37552  100048548.0             Sale 2023-07-24 10:45:29 2022-07-25   \n",
      "45732  100055178.0             Sale 2023-07-21 12:52:04 2023-03-10   \n",
      "45733  100055178.0             Sale 2023-07-21 12:52:04 2023-03-10   \n",
      "\n",
      "      Delivery Date_x  Product Total  Nontaxable Delivery  Wire Out Fee  \\\n",
      "3690       2018-07-18          41.00                 5.00           0.0   \n",
      "14356      2019-03-15          50.75                 0.00           0.0   \n",
      "17756      2020-11-06         250.00                 8.98           0.0   \n",
      "37552      2022-07-26         615.98                 8.98           0.0   \n",
      "45732      2023-03-10          41.67                 4.27           0.0   \n",
      "45733      2023-03-10          83.33                 8.54           0.0   \n",
      "\n",
      "       Gift Cards  Grand Total_x  ... Order Type Order Method  Order Source  \\\n",
      "3690          0.0          50.00  ...   Delivery        Phone  Premium Site   \n",
      "14356         0.0          55.70  ...      Taken      Walk-In  Premium Site   \n",
      "17756         0.0         283.35  ...   Delivery      Walk-In  Premium Site   \n",
      "37552         0.0         685.01  ...   Delivery      Walk-In  Premium Site   \n",
      "45732         0.0          50.00  ...   Delivery        Phone  Premium Site   \n",
      "45733         0.0         100.00  ...   Delivery        Phone  Premium Site   \n",
      "\n",
      "      Delivery Method    Product Name  Occasion      Delivery Street  \\\n",
      "3690   Local Delivery  Vivid Daydream  Birthday  2179 Hillsboro Road   \n",
      "14356  Local Delivery  Vivid Daydream  Birthday  2179 Hillsboro Road   \n",
      "17756  Local Delivery  Vivid Daydream  Birthday  2179 Hillsboro Road   \n",
      "37552  Local Delivery  Vivid Daydream  Birthday  2179 Hillsboro Road   \n",
      "45732  Local Delivery  Vivid Daydream  Birthday  2179 Hillsboro Road   \n",
      "45733  Local Delivery  Vivid Daydream  Birthday  2179 Hillsboro Road   \n",
      "\n",
      "      Delivery City Delivery Zip  Subtotal  \n",
      "3690       Franklin      37064.0      75.0  \n",
      "14356      Franklin      37064.0      75.0  \n",
      "17756      Franklin      37064.0      75.0  \n",
      "37552      Franklin      37064.0      75.0  \n",
      "45732      Franklin      37064.0      75.0  \n",
      "45733      Franklin      37064.0      75.0  \n",
      "\n",
      "[6 rows x 21 columns]\n"
     ]
    }
   ],
   "source": [
    "#Identifying duplicates\n",
    "duplicates = fd.duplicated(keep='first') \n",
    "num_duplicates = duplicates.sum()\n",
    "print('Number of duplicate rows:', num_duplicates)\n",
    "\n",
    "#Print the duplicated rows\n",
    "duplicate_rows = fd[duplicates]\n",
    "print('Duplicate rows:')\n",
    "print(duplicate_rows)\n",
    "\n",
    "#Drop the identified duplicate rows\n",
    "fd = fd.drop_duplicates(keep='first')"
   ]
  },
  {
   "cell_type": "code",
   "execution_count": 36,
   "id": "ce3fa8fe",
   "metadata": {},
   "outputs": [
    {
     "name": "stdout",
     "output_type": "stream",
     "text": [
      "Number of duplicate rows: 0\n",
      "Duplicate rows:\n",
      "Empty DataFrame\n",
      "Columns: [Order #, Transaction Type, Order Time, Order Date, Delivery Date_x, Product Total, Nontaxable Delivery, Wire Out Fee, Gift Cards, Grand Total_x, Payment Method_x, Order Type, Order Method, Order Source, Delivery Method, Product Name, Occasion, Delivery Street, Delivery City, Delivery Zip, Subtotal]\n",
      "Index: []\n",
      "\n",
      "[0 rows x 21 columns]\n"
     ]
    }
   ],
   "source": [
    "#Confiriming there are no duplicates remaining\n",
    "duplicates = fd.duplicated(keep='first') \n",
    "num_duplicates = duplicates.sum()\n",
    "print('Number of duplicate rows:', num_duplicates)\n",
    "duplicate_rows = fd[duplicates]\n",
    "print('Duplicate rows:')\n",
    "print(duplicate_rows)"
   ]
  },
  {
   "cell_type": "code",
   "execution_count": 37,
   "id": "dd5b637a",
   "metadata": {},
   "outputs": [
    {
     "name": "stdout",
     "output_type": "stream",
     "text": [
      "<class 'pandas.core.frame.DataFrame'>\n",
      "Int64Index: 51511 entries, 0 to 52915\n",
      "Data columns (total 21 columns):\n",
      " #   Column               Non-Null Count  Dtype         \n",
      "---  ------               --------------  -----         \n",
      " 0   Order #              51511 non-null  float64       \n",
      " 1   Transaction Type     51511 non-null  object        \n",
      " 2   Order Time           51511 non-null  datetime64[ns]\n",
      " 3   Order Date           51511 non-null  datetime64[ns]\n",
      " 4   Delivery Date_x      51511 non-null  datetime64[ns]\n",
      " 5   Product Total        51511 non-null  float64       \n",
      " 6   Nontaxable Delivery  51511 non-null  float64       \n",
      " 7   Wire Out Fee         51511 non-null  float64       \n",
      " 8   Gift Cards           51511 non-null  float64       \n",
      " 9   Grand Total_x        51511 non-null  float64       \n",
      " 10  Payment Method_x     51511 non-null  object        \n",
      " 11  Order Type           51511 non-null  object        \n",
      " 12  Order Method         51511 non-null  object        \n",
      " 13  Order Source         51511 non-null  object        \n",
      " 14  Delivery Method      51511 non-null  object        \n",
      " 15  Product Name         51511 non-null  object        \n",
      " 16  Occasion             51511 non-null  object        \n",
      " 17  Delivery Street      51511 non-null  object        \n",
      " 18  Delivery City        51511 non-null  object        \n",
      " 19  Delivery Zip         51511 non-null  float64       \n",
      " 20  Subtotal             51511 non-null  float64       \n",
      "dtypes: datetime64[ns](3), float64(8), object(10)\n",
      "memory usage: 8.6+ MB\n"
     ]
    }
   ],
   "source": [
    "#Looking at overview of data\n",
    "fd.info()"
   ]
  },
  {
   "cell_type": "markdown",
   "id": "58f6dd38",
   "metadata": {},
   "source": [
    "### **Zip**"
   ]
  },
  {
   "cell_type": "code",
   "execution_count": 38,
   "id": "fe4e0430",
   "metadata": {
    "scrolled": false
   },
   "outputs": [
    {
     "data": {
      "text/plain": [
       "37064.0    47552\n",
       "37069.0     1403\n",
       "37027.0      720\n",
       "37067.0      714\n",
       "37215.0      204\n",
       "37221.0      170\n",
       "37205.0      164\n",
       "37204.0       79\n",
       "37203.0       70\n",
       "37209.0       59\n",
       "37211.0       55\n",
       "37212.0       53\n",
       "37220.0       39\n",
       "37013.0       31\n",
       "37075.0       26\n",
       "37207.0       17\n",
       "37216.0       15\n",
       "37206.0       15\n",
       "37174.0       14\n",
       "37076.0       13\n",
       "37122.0       13\n",
       "37214.0       12\n",
       "37208.0       12\n",
       "37138.0        9\n",
       "37210.0        9\n",
       "37217.0        8\n",
       "37072.0        6\n",
       "37228.0        6\n",
       "37065.0        6\n",
       "37219.0        5\n",
       "37179.0        5\n",
       "37218.0        3\n",
       "37201.0        2\n",
       "37213.0        1\n",
       "37202.0        1\n",
       "Name: Delivery Zip, dtype: int64"
      ]
     },
     "execution_count": 38,
     "metadata": {},
     "output_type": "execute_result"
    }
   ],
   "source": [
    "#This column should be changed in the future to whatever method used for geospatial viz\n",
    "# Looking at the delivery zip for insight about what are the most popular zip codes for the shop\n",
    "# We know from this that 37064 is by very far the most popular zipcode for obvious reasons\n",
    "# We now want to look at other surrounding zip codes that may be in close competition\n",
    "#Then visualize the comparison of the results for futher analysis\n",
    "fd['Delivery Zip'].value_counts()"
   ]
  },
  {
   "cell_type": "markdown",
   "id": "9f344524",
   "metadata": {},
   "source": [
    "## **Visualizations**"
   ]
  },
  {
   "cell_type": "markdown",
   "id": "6bfc0667",
   "metadata": {},
   "source": [
    "- From the above print out we see there are two significantly more popular zip codes compared to the rest of the data. 37064 & 37069 (47,558 & 1403 respectively). \n",
    "- I'm choosing to visualize the other zip codes except these two, and zip codes with less than five occurrences as they contribute little insight to exploring the most popular surrounding zip codes."
   ]
  },
  {
   "cell_type": "code",
   "execution_count": 39,
   "id": "34dfdeae",
   "metadata": {},
   "outputs": [
    {
     "data": {
      "image/png": "[encoded data removed]",
      "text/plain": [
       "<Figure size 1000x600 with 1 Axes>"
      ]
     },
     "metadata": {},
     "output_type": "display_data"
    }
   ],
   "source": [
    "# Count the occurrences of each zip code\n",
    "zip_code_counts = fd['Delivery Zip'].value_counts()\n",
    "\n",
    "# Get the zip codes with less than five occurrences\n",
    "zip_codes_to_remove = zip_code_counts[(zip_code_counts < 5) | (zip_code_counts > 30000)].index# Set the style and color palette\n",
    "# Filter the DataFrame to exclude zip codes with less than five occurrences\n",
    "filtered_zip_data = fd[~fd['Delivery Zip'].isin(zip_codes_to_remove)]\n",
    "sns.set_style('whitegrid')\n",
    "sns.set_palette('Set2')\n",
    "\n",
    "# Create a larger figure size\n",
    "plt.figure(figsize=(10, 6))\n",
    "# Plot the data\n",
    "ax = filtered_zip_data['Delivery Zip'].value_counts().plot(kind='bar')\n",
    "# Customize the plot\n",
    "ax.set_title('Zip Code Occurrences', fontsize=16)\n",
    "ax.set_xlabel('Zip Code', fontsize=12)\n",
    "ax.set_ylabel('Count', fontsize=12)\n",
    "ax.tick_params(axis='x', labelrotation=45)\n",
    "ax.spines['top'].set_visible(False)\n",
    "ax.spines['right'].set_visible(False)\n",
    "# Add labels to the bars\n",
    "for p in ax.patches:\n",
    "    ax.annotate(str(p.get_height()), (p.get_x() + p.get_width() / 2., p.get_height()), ha='center', va='center',\n",
    "                xytext=(0, 5), textcoords='offset points', fontsize=10)\n",
    "# Save the plot as an image file\n",
    "plt.savefig('zip_code_occurrences.png', bbox_inches='tight')"
   ]
  },
  {
   "cell_type": "code",
   "execution_count": 40,
   "id": "3e683e3f",
   "metadata": {},
   "outputs": [
    {
     "data": {
      "image/png": "[encoded data removed]",
      "text/plain": [
       "<Figure size 640x480 with 1 Axes>"
      ]
     },
     "metadata": {},
     "output_type": "display_data"
    }
   ],
   "source": [
    "# Create barplot\n",
    "plt.bar(fd['Payment Method_x'], fd['Product Total'])\n",
    "\n",
    "# Set plot labels and title\n",
    "plt.xlabel('Payment Method')\n",
    "plt.ylabel('Product Total')\n",
    "plt.xticks(rotation=45, fontsize = 9, fontweight = 'heavy', ha = 'right');\n",
    "plt.title('Payment Methods')\n",
    "\n",
    "# Show the plot\n",
    "plt.show()"
   ]
  },
  {
   "cell_type": "code",
   "execution_count": 41,
   "id": "9b07eac7",
   "metadata": {
    "scrolled": true
   },
   "outputs": [
    {
     "data": {
      "image/png": "[encoded data removed]",
      "text/plain": [
       "<Figure size 640x480 with 1 Axes>"
      ]
     },
     "metadata": {},
     "output_type": "display_data"
    }
   ],
   "source": [
    "# Create barplot\n",
    "plt.bar(fd['Occasion'], fd['Product Total'])\n",
    "\n",
    "# Set plot labels and title\n",
    "plt.xlabel('Occasion')\n",
    "plt.ylabel('Product Total')\n",
    "plt.xticks(rotation=45, fontsize = 9, fontweight = 'heavy', ha = 'right');\n",
    "plt.title('Floral Occasion Breakdown')\n",
    "\n",
    "# Show the plot\n",
    "plt.show()"
   ]
  },
  {
   "cell_type": "code",
   "execution_count": 42,
   "id": "1452fec7",
   "metadata": {},
   "outputs": [
    {
     "data": {
      "text/plain": [
       "Birthday                         47923\n",
       "Sympathy and Funeral               835\n",
       "Mother's Day                       502\n",
       "Just Because                       405\n",
       "Get Well                           398\n",
       "Thank You                          295\n",
       "Valentine's Day                    232\n",
       "Anniversary                        222\n",
       "Congrats                           193\n",
       "Christmas                          101\n",
       "Love and Romance                    78\n",
       "New Baby                            67\n",
       "I'm Sorry                           60\n",
       "Easter and Passover                 45\n",
       "Thanksgiving                        28\n",
       "Wedding                             22\n",
       "Admin Professionals' Week           21\n",
       "Prom                                12\n",
       "Autumn                               9\n",
       "Father's Day                         9\n",
       "Summer                               8\n",
       "Best Friends Day                     7\n",
       "Spring                               6\n",
       "New Year                             6\n",
       "Graduation                           6\n",
       "Holiday                              5\n",
       "Women's Day                          4\n",
       "Winter                               3\n",
       "Halloween                            1\n",
       "Grandparent's Day                    1\n",
       "Breast Cancer Awareness Month        1\n",
       "Flower Crown                         1\n",
       "Parent's Day                         1\n",
       "Persian New Year                     1\n",
       "Boss's Day                           1\n",
       "Gift Sets                            1\n",
       "Cinco De Mayo                        1\n",
       "Name: Occasion, dtype: int64"
      ]
     },
     "execution_count": 42,
     "metadata": {},
     "output_type": "execute_result"
    }
   ],
   "source": [
    "fd['Occasion'].value_counts()"
   ]
  },
  {
   "cell_type": "code",
   "execution_count": 43,
   "id": "d2214681",
   "metadata": {
    "scrolled": false
   },
   "outputs": [
    {
     "data": {
      "image/png": "[encoded data removed]",
      "text/plain": [
       "<Figure size 640x480 with 1 Axes>"
      ]
     },
     "metadata": {},
     "output_type": "display_data"
    }
   ],
   "source": [
    "# Create barplot of order methods\n",
    "plt.bar(fd['Order Method'], fd['Product Total'])\n",
    "\n",
    "# Set plot labels and title\n",
    "plt.xlabel('Order Method')\n",
    "plt.ylabel('Product Total')\n",
    "plt.xticks(rotation=35, fontsize = 12, fontweight = 'normal', ha = 'right');\n",
    "plt.title('Floral Order Type')\n",
    "\n",
    "# Show the plot\n",
    "plt.show()"
   ]
  },
  {
   "cell_type": "code",
   "execution_count": 44,
   "id": "131a259f",
   "metadata": {},
   "outputs": [],
   "source": [
    "#Saving the new dataframe to upload in the next notebook\n",
    "fd.to_csv('fd', index=False)"
   ]
  },
  {
   "cell_type": "code",
   "execution_count": null,
   "id": "2cfafd01",
   "metadata": {},
   "outputs": [],
   "source": []
  }
 ],
 "metadata": {
  "kernelspec": {
   "display_name": "Python (dojo-env)",
   "language": "python",
   "name": "dojo-env"
  },
  "language_info": {
   "codemirror_mode": {
    "name": "ipython",
    "version": 3
   },
   "file_extension": ".py",
   "mimetype": "text/x-python",
   "name": "python",
   "nbconvert_exporter": "python",
   "pygments_lexer": "ipython3",
   "version": "3.9.15"
  },
  "toc": {
   "base_numbering": 1,
   "nav_menu": {},
   "number_sections": false,
   "sideBar": true,
   "skip_h1_title": false,
   "title_cell": "Table of Contents",
   "title_sidebar": "Contents",
   "toc_cell": false,
   "toc_position": {
    "height": "calc(100% - 180px)",
    "left": "10px",
    "top": "150px",
    "width": "215.824px"
   },
   "toc_section_display": true,
   "toc_window_display": false
  }
 },
 "nbformat": 4,
 "nbformat_minor": 5
}
