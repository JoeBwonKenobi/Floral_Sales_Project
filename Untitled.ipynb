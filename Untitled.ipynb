{
 "cells": [
  {
   "cell_type": "markdown",
   "id": "75650c19",
   "metadata": {},
   "source": [
    "# **Floral Sales Prediction Project**"
   ]
  },
  {
   "cell_type": "markdown",
   "id": "62c051fe",
   "metadata": {},
   "source": [
    "Joe Lardie\n",
    "\n",
    "May 2023"
   ]
  },
  {
   "cell_type": "markdown",
   "id": "da97aa03",
   "metadata": {},
   "source": [
    "# **Imports**"
   ]
  },
  {
   "cell_type": "code",
   "execution_count": 1,
   "id": "54699d9c",
   "metadata": {},
   "outputs": [],
   "source": [
    "\n",
    "#Numpy\n",
    "import numpy as np\n",
    "\n",
    "#Pandas\n",
    "import pandas as pd\n",
    "\n",
    "#Seaborn\n",
    "import seaborn as sns\n",
    "\n",
    "#matplotlib\n",
    "import matplotlib.pyplot as plt\n",
    "\n",
    "#Sklearn preprocessing\n",
    "from sklearn.preprocessing import OrdinalEncoder\n",
    "from sklearn.preprocessing import OneHotEncoder\n",
    "from sklearn import preprocessing\n",
    "from sklearn.preprocessing import StandardScaler,LabelEncoder\n",
    "\n",
    "#Sklearn Models\n",
    "from sklearn.model_selection import train_test_split\n",
    "from sklearn.pipeline import Pipeline, make_pipeline\n",
    "from sklearn.impute import SimpleImputer\n",
    "from sklearn import preprocessing\n",
    "from sklearn import set_config\n",
    "from sklearn.pipeline import Pipeline, make_pipeline\n",
    "from sklearn.impute import SimpleImputer\n",
    "from sklearn.compose import ColumnTransformer\n",
    "from sklearn.compose import make_column_selector\n",
    "from sklearn.compose import make_column_transformer\n",
    "from sklearn.ensemble import RandomForestClassifier\n",
    "from sklearn.linear_model import LogisticRegression\n",
    "from sklearn.neighbors import KNeighborsClassifier\n",
    "from sklearn.tree import DecisionTreeClassifier\n",
    "import warnings\n",
    "from sklearn.decomposition import PCA\n",
    "warnings.filterwarnings(\"ignore\")\n",
    "set_config(display = 'diagram')\n",
    "\n",
    "#Sklearn Metrics\n",
    "from sklearn.metrics import accuracy_score, recall_score, precision_score, f1_score, confusion_matrix, roc_auc_score, roc_curve, classification_report\n",
    "from sklearn.model_selection import GridSearchCV\n"
   ]
  },
  {
   "cell_type": "markdown",
   "id": "c15e867f",
   "metadata": {},
   "source": [
    "# **Loading Data**"
   ]
  },
  {
   "cell_type": "markdown",
   "id": "26327b9b",
   "metadata": {},
   "source": [
    "- The files are being imported year by year in separate csv files"
   ]
  },
  {
   "cell_type": "code",
   "execution_count": 11,
   "id": "ddf3898c",
   "metadata": {},
   "outputs": [
    {
     "data": {
      "text/html": [
       "<div>\n",
       "<style scoped>\n",
       "    .dataframe tbody tr th:only-of-type {\n",
       "        vertical-align: middle;\n",
       "    }\n",
       "\n",
       "    .dataframe tbody tr th {\n",
       "        vertical-align: top;\n",
       "    }\n",
       "\n",
       "    .dataframe thead th {\n",
       "        text-align: right;\n",
       "    }\n",
       "</style>\n",
       "<table border=\"1\" class=\"dataframe\">\n",
       "  <thead>\n",
       "    <tr style=\"text-align: right;\">\n",
       "      <th></th>\n",
       "      <th>Order #</th>\n",
       "      <th>Transaction Type</th>\n",
       "      <th>Order Time</th>\n",
       "      <th>Order Date</th>\n",
       "      <th>Delivery Date</th>\n",
       "      <th>Sender</th>\n",
       "      <th>Recipient</th>\n",
       "      <th>Product Total</th>\n",
       "      <th>Delivery</th>\n",
       "      <th>Nontaxable Delivery</th>\n",
       "      <th>Wire Out Fee</th>\n",
       "      <th>Discount</th>\n",
       "      <th>Gift Cards</th>\n",
       "      <th>Tax</th>\n",
       "      <th>Tips</th>\n",
       "      <th>Grand Total</th>\n",
       "      <th>Payment Method</th>\n",
       "      <th>Order Type</th>\n",
       "      <th>Order Method</th>\n",
       "    </tr>\n",
       "  </thead>\n",
       "  <tbody>\n",
       "    <tr>\n",
       "      <th>0</th>\n",
       "      <td>100017453</td>\n",
       "      <td>Sale</td>\n",
       "      <td>03:28:16PM Sat</td>\n",
       "      <td>Dec 29, 2018</td>\n",
       "      <td>Dec 29, 2018</td>\n",
       "      <td>Candyce Williams Glaser</td>\n",
       "      <td>NaN</td>\n",
       "      <td>$815.00</td>\n",
       "      <td>$0.00</td>\n",
       "      <td>$0.00</td>\n",
       "      <td>$0.00</td>\n",
       "      <td>$0.00</td>\n",
       "      <td>$0.00</td>\n",
       "      <td>$79.46</td>\n",
       "      <td>$0.00</td>\n",
       "      <td>$894.46</td>\n",
       "      <td>Credit Card</td>\n",
       "      <td>Taken</td>\n",
       "      <td>Phone</td>\n",
       "    </tr>\n",
       "    <tr>\n",
       "      <th>1</th>\n",
       "      <td>100017452</td>\n",
       "      <td>Sale</td>\n",
       "      <td>03:16:50PM Sat</td>\n",
       "      <td>Dec 29, 2018</td>\n",
       "      <td>Dec 29, 2018</td>\n",
       "      <td>NaN</td>\n",
       "      <td>NaN</td>\n",
       "      <td>$249.90</td>\n",
       "      <td>$0.00</td>\n",
       "      <td>$0.00</td>\n",
       "      <td>$0.00</td>\n",
       "      <td>-$124.96</td>\n",
       "      <td>$0.00</td>\n",
       "      <td>$12.19</td>\n",
       "      <td>$0.00</td>\n",
       "      <td>$137.13</td>\n",
       "      <td>Credit Card</td>\n",
       "      <td>Taken</td>\n",
       "      <td>Walk-In</td>\n",
       "    </tr>\n",
       "    <tr>\n",
       "      <th>2</th>\n",
       "      <td>100017451</td>\n",
       "      <td>Sale</td>\n",
       "      <td>02:58:53PM Sat</td>\n",
       "      <td>Dec 29, 2018</td>\n",
       "      <td>Dec 29, 2018</td>\n",
       "      <td>NaN</td>\n",
       "      <td>NaN</td>\n",
       "      <td>$24.95</td>\n",
       "      <td>$0.00</td>\n",
       "      <td>$0.00</td>\n",
       "      <td>$0.00</td>\n",
       "      <td>$0.00</td>\n",
       "      <td>$0.00</td>\n",
       "      <td>$2.43</td>\n",
       "      <td>$0.00</td>\n",
       "      <td>$27.38</td>\n",
       "      <td>Credit Card</td>\n",
       "      <td>Taken</td>\n",
       "      <td>Walk-In</td>\n",
       "    </tr>\n",
       "    <tr>\n",
       "      <th>3</th>\n",
       "      <td>100017450</td>\n",
       "      <td>Sale</td>\n",
       "      <td>02:54:45PM Sat</td>\n",
       "      <td>Dec 29, 2018</td>\n",
       "      <td>Dec 29, 2018</td>\n",
       "      <td>Tracie Hamilton</td>\n",
       "      <td>NaN</td>\n",
       "      <td>$635.00</td>\n",
       "      <td>$0.00</td>\n",
       "      <td>$0.00</td>\n",
       "      <td>$0.00</td>\n",
       "      <td>$0.00</td>\n",
       "      <td>$0.00</td>\n",
       "      <td>$61.91</td>\n",
       "      <td>$0.00</td>\n",
       "      <td>$696.91</td>\n",
       "      <td>Credit Card</td>\n",
       "      <td>Taken</td>\n",
       "      <td>Phone</td>\n",
       "    </tr>\n",
       "    <tr>\n",
       "      <th>4</th>\n",
       "      <td>100017202</td>\n",
       "      <td>Sale</td>\n",
       "      <td>02:48:15PM Sat</td>\n",
       "      <td>Dec 29, 2018</td>\n",
       "      <td>Dec 23, 2018</td>\n",
       "      <td>Candyce Williams Glaser</td>\n",
       "      <td>Candyce Williams Glaser</td>\n",
       "      <td>$702.00</td>\n",
       "      <td>$0.00</td>\n",
       "      <td>$25.00</td>\n",
       "      <td>$0.00</td>\n",
       "      <td>$0.00</td>\n",
       "      <td>$0.00</td>\n",
       "      <td>$68.45</td>\n",
       "      <td>$0.00</td>\n",
       "      <td>$795.45</td>\n",
       "      <td>Credit Card</td>\n",
       "      <td>Delivery</td>\n",
       "      <td>Walk-In</td>\n",
       "    </tr>\n",
       "  </tbody>\n",
       "</table>\n",
       "</div>"
      ],
      "text/plain": [
       "     Order # Transaction Type      Order Time    Order Date Delivery Date  \\\n",
       "0  100017453             Sale  03:28:16PM Sat  Dec 29, 2018  Dec 29, 2018   \n",
       "1  100017452             Sale  03:16:50PM Sat  Dec 29, 2018  Dec 29, 2018   \n",
       "2  100017451             Sale  02:58:53PM Sat  Dec 29, 2018  Dec 29, 2018   \n",
       "3  100017450             Sale  02:54:45PM Sat  Dec 29, 2018  Dec 29, 2018   \n",
       "4  100017202             Sale  02:48:15PM Sat  Dec 29, 2018  Dec 23, 2018   \n",
       "\n",
       "                    Sender                Recipient Product Total Delivery  \\\n",
       "0  Candyce Williams Glaser                      NaN       $815.00    $0.00   \n",
       "1                      NaN                      NaN       $249.90    $0.00   \n",
       "2                      NaN                      NaN        $24.95    $0.00   \n",
       "3          Tracie Hamilton                      NaN       $635.00    $0.00   \n",
       "4  Candyce Williams Glaser  Candyce Williams Glaser       $702.00    $0.00   \n",
       "\n",
       "  Nontaxable Delivery Wire Out Fee   Discount Gift Cards     Tax   Tips  \\\n",
       "0               $0.00        $0.00      $0.00      $0.00  $79.46  $0.00   \n",
       "1               $0.00        $0.00   -$124.96      $0.00  $12.19  $0.00   \n",
       "2               $0.00        $0.00      $0.00      $0.00   $2.43  $0.00   \n",
       "3               $0.00        $0.00      $0.00      $0.00  $61.91  $0.00   \n",
       "4              $25.00        $0.00      $0.00      $0.00  $68.45  $0.00   \n",
       "\n",
       "  Grand Total Payment Method Order Type Order Method  \n",
       "0     $894.46    Credit Card      Taken        Phone  \n",
       "1     $137.13    Credit Card      Taken      Walk-In  \n",
       "2      $27.38    Credit Card      Taken      Walk-In  \n",
       "3     $696.91    Credit Card      Taken        Phone  \n",
       "4     $795.45    Credit Card   Delivery      Walk-In  "
      ]
     },
     "execution_count": 11,
     "metadata": {},
     "output_type": "execute_result"
    }
   ],
   "source": [
    "# Floral Sales Data for 2018\n",
    "flowers2018 = '/Users/davyd/OneDrive/Desktop/Sales_Report_Jan_01_2018_to_Dec_31_2018_Garden_Delights_Fine_Florist.csv'\n",
    "df18 = pd.read_csv(flowers2018)\n",
    "df18.head()"
   ]
  },
  {
   "cell_type": "code",
   "execution_count": null,
   "id": "b9d86b34",
   "metadata": {},
   "outputs": [],
   "source": [
    "#floral sales for 2019\n",
    "flowers2019 = ''\n",
    "df19 = pd.read_csv(flowers2019)\n",
    "df19.head()"
   ]
  },
  {
   "cell_type": "code",
   "execution_count": null,
   "id": "328d8869",
   "metadata": {},
   "outputs": [],
   "source": [
    "#floral sales for 2020\n",
    "flowers2020 = ''\n",
    "df20 = pd.read_csv(flowers2020)\n",
    "df20.head()"
   ]
  },
  {
   "cell_type": "code",
   "execution_count": null,
   "id": "10cac7b0",
   "metadata": {},
   "outputs": [],
   "source": [
    "#floral sales for 2021\n",
    "flowers2021 = ''\n",
    "df21 = pd.read_csv(flowers2021)\n",
    "df21.head()"
   ]
  },
  {
   "cell_type": "code",
   "execution_count": null,
   "id": "c29127a1",
   "metadata": {},
   "outputs": [],
   "source": [
    "#floral sales for 2022\n",
    "flowers2022 = ''\n",
    "df22 = pd.read_csv(flowers2022)\n",
    "df22.head()"
   ]
  },
  {
   "cell_type": "markdown",
   "id": "7c616e94",
   "metadata": {},
   "source": [
    "# **Data Cleaning**"
   ]
  },
  {
   "cell_type": "code",
   "execution_count": null,
   "id": "e820ccb2",
   "metadata": {},
   "outputs": [],
   "source": []
  },
  {
   "cell_type": "code",
   "execution_count": null,
   "id": "7710c55f",
   "metadata": {},
   "outputs": [],
   "source": []
  },
  {
   "cell_type": "code",
   "execution_count": null,
   "id": "c424fa0f",
   "metadata": {},
   "outputs": [],
   "source": []
  },
  {
   "cell_type": "code",
   "execution_count": null,
   "id": "547195cf",
   "metadata": {},
   "outputs": [],
   "source": []
  },
  {
   "cell_type": "markdown",
   "id": "293c712a",
   "metadata": {},
   "source": [
    "# **Something important**"
   ]
  },
  {
   "cell_type": "code",
   "execution_count": null,
   "id": "fb5ca3c9",
   "metadata": {},
   "outputs": [],
   "source": []
  },
  {
   "cell_type": "code",
   "execution_count": null,
   "id": "70952a3e",
   "metadata": {},
   "outputs": [],
   "source": []
  },
  {
   "cell_type": "code",
   "execution_count": null,
   "id": "fcd69ec7",
   "metadata": {},
   "outputs": [],
   "source": []
  },
  {
   "cell_type": "code",
   "execution_count": null,
   "id": "3270e14d",
   "metadata": {},
   "outputs": [],
   "source": []
  },
  {
   "cell_type": "markdown",
   "id": "4cc74ee8",
   "metadata": {},
   "source": [
    "# **hopefully something else important**"
   ]
  },
  {
   "cell_type": "code",
   "execution_count": null,
   "id": "829f4b9d",
   "metadata": {},
   "outputs": [],
   "source": []
  },
  {
   "cell_type": "code",
   "execution_count": null,
   "id": "e075296b",
   "metadata": {},
   "outputs": [],
   "source": []
  },
  {
   "cell_type": "code",
   "execution_count": null,
   "id": "a9e190c6",
   "metadata": {},
   "outputs": [],
   "source": []
  },
  {
   "cell_type": "markdown",
   "id": "c0911ab8",
   "metadata": {},
   "source": [
    "# **Who even knows at this point**"
   ]
  },
  {
   "cell_type": "code",
   "execution_count": null,
   "id": "eb04bd2c",
   "metadata": {},
   "outputs": [],
   "source": []
  },
  {
   "cell_type": "code",
   "execution_count": null,
   "id": "49e0d987",
   "metadata": {},
   "outputs": [],
   "source": []
  },
  {
   "cell_type": "code",
   "execution_count": null,
   "id": "73d263f0",
   "metadata": {},
   "outputs": [],
   "source": []
  },
  {
   "cell_type": "code",
   "execution_count": null,
   "id": "21907d36",
   "metadata": {},
   "outputs": [],
   "source": []
  },
  {
   "cell_type": "code",
   "execution_count": null,
   "id": "c5a99eca",
   "metadata": {},
   "outputs": [],
   "source": []
  },
  {
   "cell_type": "code",
   "execution_count": null,
   "id": "16e4a832",
   "metadata": {},
   "outputs": [],
   "source": []
  },
  {
   "cell_type": "code",
   "execution_count": null,
   "id": "e0999ed8",
   "metadata": {},
   "outputs": [],
   "source": []
  },
  {
   "cell_type": "code",
   "execution_count": null,
   "id": "b82a7b3f",
   "metadata": {},
   "outputs": [],
   "source": []
  },
  {
   "cell_type": "code",
   "execution_count": null,
   "id": "5a6d12e2",
   "metadata": {},
   "outputs": [],
   "source": []
  },
  {
   "cell_type": "code",
   "execution_count": null,
   "id": "c687828f",
   "metadata": {},
   "outputs": [],
   "source": []
  },
  {
   "cell_type": "code",
   "execution_count": null,
   "id": "ed243b03",
   "metadata": {},
   "outputs": [],
   "source": []
  },
  {
   "cell_type": "code",
   "execution_count": null,
   "id": "5f2cb33d",
   "metadata": {},
   "outputs": [],
   "source": []
  }
 ],
 "metadata": {
  "kernelspec": {
   "display_name": "Python (dojo-env)",
   "language": "python",
   "name": "dojo-env"
  },
  "language_info": {
   "codemirror_mode": {
    "name": "ipython",
    "version": 3
   },
   "file_extension": ".py",
   "mimetype": "text/x-python",
   "name": "python",
   "nbconvert_exporter": "python",
   "pygments_lexer": "ipython3",
   "version": "3.9.15"
  },
  "toc": {
   "base_numbering": 1,
   "nav_menu": {},
   "number_sections": false,
   "sideBar": true,
   "skip_h1_title": false,
   "title_cell": "Table of Contents",
   "title_sidebar": "Contents",
   "toc_cell": false,
   "toc_position": {},
   "toc_section_display": true,
   "toc_window_display": false
  }
 },
 "nbformat": 4,
 "nbformat_minor": 5
}
