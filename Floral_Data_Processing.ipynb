{
 "cells": [
  {
   "cell_type": "markdown",
   "id": "b767f6ec",
   "metadata": {},
   "source": [
    "# Floral Data Processing"
   ]
  },
  {
   "cell_type": "markdown",
   "id": "9e02cb2b",
   "metadata": {},
   "source": [
    "# **Imports**"
   ]
  },
  {
   "cell_type": "code",
   "execution_count": 1,
   "id": "797f1d83",
   "metadata": {},
   "outputs": [],
   "source": [
    "#Numpy\n",
    "import numpy as np\n",
    "from numpy import median\n",
    "\n",
    "#Pandas\n",
    "import pandas as pd\n",
    "\n",
    "#Seaborn\n",
    "import seaborn as sns\n",
    "\n",
    "#matplotlib\n",
    "import matplotlib.pyplot as plt\n",
    "import plotly\n",
    "\n",
    "#Sklearn\n",
    "from sklearn.preprocessing import StandardScaler\n",
    "from sklearn.preprocessing import OneHotEncoder\n",
    "from sklearn.model_selection import train_test_split\n",
    "from sklearn.compose import make_column_selector\n",
    "from sklearn.compose import make_column_transformer\n",
    "from sklearn.impute import SimpleImputer\n",
    "from sklearn.pipeline import make_pipeline\n",
    "\n",
    "#Warnings\n",
    "import warnings\n",
    "warnings.filterwarnings(\"ignore\")"
   ]
  },
  {
   "cell_type": "markdown",
   "id": "19b79bb2",
   "metadata": {},
   "source": [
    "# **Loading Data**"
   ]
  },
  {
   "cell_type": "code",
   "execution_count": 2,
   "id": "da3879a6",
   "metadata": {},
   "outputs": [],
   "source": [
    "#Loading in the data from the previous notebook\n",
    "GDS = pd.read_csv('GDS')"
   ]
  },
  {
   "cell_type": "code",
   "execution_count": 3,
   "id": "58ec9149",
   "metadata": {},
   "outputs": [
    {
     "name": "stdout",
     "output_type": "stream",
     "text": [
      "<class 'pandas.core.frame.DataFrame'>\n",
      "RangeIndex: 49376 entries, 0 to 49375\n",
      "Data columns (total 19 columns):\n",
      " #   Column               Non-Null Count  Dtype \n",
      "---  ------               --------------  ----- \n",
      " 0   Order #              49376 non-null  object\n",
      " 1   Transaction Type     49376 non-null  object\n",
      " 2   Order Time           49376 non-null  object\n",
      " 3   Order Date           49376 non-null  object\n",
      " 4   Delivery Date        49355 non-null  object\n",
      " 5   Sender               30039 non-null  object\n",
      " 6   Recipient            23570 non-null  object\n",
      " 7   Product Total        49369 non-null  object\n",
      " 8   Delivery             49364 non-null  object\n",
      " 9   Nontaxable Delivery  49364 non-null  object\n",
      " 10  Wire Out Fee         49250 non-null  object\n",
      " 11  Discount             49250 non-null  object\n",
      " 12  Gift Cards           49250 non-null  object\n",
      " 13  Tax                  49364 non-null  object\n",
      " 14  Tips                 49250 non-null  object\n",
      " 15  Grand Total          49376 non-null  object\n",
      " 16  Payment Method       49376 non-null  object\n",
      " 17  Order Type           49059 non-null  object\n",
      " 18  Order Method         49250 non-null  object\n",
      "dtypes: object(19)\n",
      "memory usage: 7.2+ MB\n"
     ]
    }
   ],
   "source": [
    "GDS.info()"
   ]
  },
  {
   "cell_type": "code",
   "execution_count": 4,
   "id": "fdb2e264",
   "metadata": {
    "scrolled": true
   },
   "outputs": [
    {
     "data": {
      "text/html": [
       "<div>\n",
       "<style scoped>\n",
       "    .dataframe tbody tr th:only-of-type {\n",
       "        vertical-align: middle;\n",
       "    }\n",
       "\n",
       "    .dataframe tbody tr th {\n",
       "        vertical-align: top;\n",
       "    }\n",
       "\n",
       "    .dataframe thead th {\n",
       "        text-align: right;\n",
       "    }\n",
       "</style>\n",
       "<table border=\"1\" class=\"dataframe\">\n",
       "  <thead>\n",
       "    <tr style=\"text-align: right;\">\n",
       "      <th></th>\n",
       "      <th>Order #</th>\n",
       "      <th>Transaction Type</th>\n",
       "      <th>Order Time</th>\n",
       "      <th>Order Date</th>\n",
       "      <th>Delivery Date</th>\n",
       "      <th>Sender</th>\n",
       "      <th>Recipient</th>\n",
       "      <th>Product Total</th>\n",
       "      <th>Delivery</th>\n",
       "      <th>Nontaxable Delivery</th>\n",
       "      <th>Wire Out Fee</th>\n",
       "      <th>Discount</th>\n",
       "      <th>Gift Cards</th>\n",
       "      <th>Tax</th>\n",
       "      <th>Tips</th>\n",
       "      <th>Grand Total</th>\n",
       "      <th>Payment Method</th>\n",
       "      <th>Order Type</th>\n",
       "      <th>Order Method</th>\n",
       "    </tr>\n",
       "  </thead>\n",
       "  <tbody>\n",
       "    <tr>\n",
       "      <th>0</th>\n",
       "      <td>100017453</td>\n",
       "      <td>Sale</td>\n",
       "      <td>03:28:16PM Sat</td>\n",
       "      <td>Dec 29, 2018</td>\n",
       "      <td>Dec 29, 2018</td>\n",
       "      <td>Candyce Williams Glaser</td>\n",
       "      <td>NaN</td>\n",
       "      <td>$815.00</td>\n",
       "      <td>$0.00</td>\n",
       "      <td>$0.00</td>\n",
       "      <td>$0.00</td>\n",
       "      <td>$0.00</td>\n",
       "      <td>$0.00</td>\n",
       "      <td>$79.46</td>\n",
       "      <td>$0.00</td>\n",
       "      <td>$894.46</td>\n",
       "      <td>Credit Card</td>\n",
       "      <td>Taken</td>\n",
       "      <td>Phone</td>\n",
       "    </tr>\n",
       "    <tr>\n",
       "      <th>1</th>\n",
       "      <td>100017452</td>\n",
       "      <td>Sale</td>\n",
       "      <td>03:16:50PM Sat</td>\n",
       "      <td>Dec 29, 2018</td>\n",
       "      <td>Dec 29, 2018</td>\n",
       "      <td>NaN</td>\n",
       "      <td>NaN</td>\n",
       "      <td>$249.90</td>\n",
       "      <td>$0.00</td>\n",
       "      <td>$0.00</td>\n",
       "      <td>$0.00</td>\n",
       "      <td>-$124.96</td>\n",
       "      <td>$0.00</td>\n",
       "      <td>$12.19</td>\n",
       "      <td>$0.00</td>\n",
       "      <td>$137.13</td>\n",
       "      <td>Credit Card</td>\n",
       "      <td>Taken</td>\n",
       "      <td>Walk-In</td>\n",
       "    </tr>\n",
       "    <tr>\n",
       "      <th>2</th>\n",
       "      <td>100017451</td>\n",
       "      <td>Sale</td>\n",
       "      <td>02:58:53PM Sat</td>\n",
       "      <td>Dec 29, 2018</td>\n",
       "      <td>Dec 29, 2018</td>\n",
       "      <td>NaN</td>\n",
       "      <td>NaN</td>\n",
       "      <td>$24.95</td>\n",
       "      <td>$0.00</td>\n",
       "      <td>$0.00</td>\n",
       "      <td>$0.00</td>\n",
       "      <td>$0.00</td>\n",
       "      <td>$0.00</td>\n",
       "      <td>$2.43</td>\n",
       "      <td>$0.00</td>\n",
       "      <td>$27.38</td>\n",
       "      <td>Credit Card</td>\n",
       "      <td>Taken</td>\n",
       "      <td>Walk-In</td>\n",
       "    </tr>\n",
       "    <tr>\n",
       "      <th>3</th>\n",
       "      <td>100017450</td>\n",
       "      <td>Sale</td>\n",
       "      <td>02:54:45PM Sat</td>\n",
       "      <td>Dec 29, 2018</td>\n",
       "      <td>Dec 29, 2018</td>\n",
       "      <td>Tracie Hamilton</td>\n",
       "      <td>NaN</td>\n",
       "      <td>$635.00</td>\n",
       "      <td>$0.00</td>\n",
       "      <td>$0.00</td>\n",
       "      <td>$0.00</td>\n",
       "      <td>$0.00</td>\n",
       "      <td>$0.00</td>\n",
       "      <td>$61.91</td>\n",
       "      <td>$0.00</td>\n",
       "      <td>$696.91</td>\n",
       "      <td>Credit Card</td>\n",
       "      <td>Taken</td>\n",
       "      <td>Phone</td>\n",
       "    </tr>\n",
       "    <tr>\n",
       "      <th>4</th>\n",
       "      <td>100017202</td>\n",
       "      <td>Sale</td>\n",
       "      <td>02:48:15PM Sat</td>\n",
       "      <td>Dec 29, 2018</td>\n",
       "      <td>Dec 23, 2018</td>\n",
       "      <td>Candyce Williams Glaser</td>\n",
       "      <td>Candyce Williams Glaser</td>\n",
       "      <td>$702.00</td>\n",
       "      <td>$0.00</td>\n",
       "      <td>$25.00</td>\n",
       "      <td>$0.00</td>\n",
       "      <td>$0.00</td>\n",
       "      <td>$0.00</td>\n",
       "      <td>$68.45</td>\n",
       "      <td>$0.00</td>\n",
       "      <td>$795.45</td>\n",
       "      <td>Credit Card</td>\n",
       "      <td>Delivery</td>\n",
       "      <td>Walk-In</td>\n",
       "    </tr>\n",
       "  </tbody>\n",
       "</table>\n",
       "</div>"
      ],
      "text/plain": [
       "     Order # Transaction Type      Order Time    Order Date Delivery Date  \\\n",
       "0  100017453             Sale  03:28:16PM Sat  Dec 29, 2018  Dec 29, 2018   \n",
       "1  100017452             Sale  03:16:50PM Sat  Dec 29, 2018  Dec 29, 2018   \n",
       "2  100017451             Sale  02:58:53PM Sat  Dec 29, 2018  Dec 29, 2018   \n",
       "3  100017450             Sale  02:54:45PM Sat  Dec 29, 2018  Dec 29, 2018   \n",
       "4  100017202             Sale  02:48:15PM Sat  Dec 29, 2018  Dec 23, 2018   \n",
       "\n",
       "                    Sender                Recipient Product Total Delivery  \\\n",
       "0  Candyce Williams Glaser                      NaN       $815.00    $0.00   \n",
       "1                      NaN                      NaN       $249.90    $0.00   \n",
       "2                      NaN                      NaN        $24.95    $0.00   \n",
       "3          Tracie Hamilton                      NaN       $635.00    $0.00   \n",
       "4  Candyce Williams Glaser  Candyce Williams Glaser       $702.00    $0.00   \n",
       "\n",
       "  Nontaxable Delivery Wire Out Fee   Discount Gift Cards     Tax   Tips  \\\n",
       "0               $0.00        $0.00      $0.00      $0.00  $79.46  $0.00   \n",
       "1               $0.00        $0.00   -$124.96      $0.00  $12.19  $0.00   \n",
       "2               $0.00        $0.00      $0.00      $0.00   $2.43  $0.00   \n",
       "3               $0.00        $0.00      $0.00      $0.00  $61.91  $0.00   \n",
       "4              $25.00        $0.00      $0.00      $0.00  $68.45  $0.00   \n",
       "\n",
       "  Grand Total Payment Method Order Type Order Method  \n",
       "0     $894.46    Credit Card      Taken        Phone  \n",
       "1     $137.13    Credit Card      Taken      Walk-In  \n",
       "2      $27.38    Credit Card      Taken      Walk-In  \n",
       "3     $696.91    Credit Card      Taken        Phone  \n",
       "4     $795.45    Credit Card   Delivery      Walk-In  "
      ]
     },
     "execution_count": 4,
     "metadata": {},
     "output_type": "execute_result"
    }
   ],
   "source": [
    "#Preview of data\n",
    "GDS.head()"
   ]
  },
  {
   "cell_type": "markdown",
   "id": "fc969a11",
   "metadata": {},
   "source": [
    "# **Data Exploration**"
   ]
  },
  {
   "cell_type": "code",
   "execution_count": 5,
   "id": "d5429309",
   "metadata": {},
   "outputs": [
    {
     "name": "stdout",
     "output_type": "stream",
     "text": [
      "There are 46154 missing values.\n"
     ]
    }
   ],
   "source": [
    "#Print statement containing number of total missing values\n",
    "print(\"There are\", GDS.isna().sum().sum(), \"missing values.\")"
   ]
  },
  {
   "cell_type": "code",
   "execution_count": 6,
   "id": "f8f5e61f",
   "metadata": {},
   "outputs": [
    {
     "data": {
      "text/plain": [
       "Order #                    0\n",
       "Transaction Type           0\n",
       "Order Time                 0\n",
       "Order Date                 0\n",
       "Delivery Date             21\n",
       "Sender                 19337\n",
       "Recipient              25806\n",
       "Product Total              7\n",
       "Delivery                  12\n",
       "Nontaxable Delivery       12\n",
       "Wire Out Fee             126\n",
       "Discount                 126\n",
       "Gift Cards               126\n",
       "Tax                       12\n",
       "Tips                     126\n",
       "Grand Total                0\n",
       "Payment Method             0\n",
       "Order Type               317\n",
       "Order Method             126\n",
       "dtype: int64"
      ]
     },
     "execution_count": 6,
     "metadata": {},
     "output_type": "execute_result"
    }
   ],
   "source": [
    "#Looking at missing calues for each column\n",
    "GDS.isna().sum()"
   ]
  },
  {
   "cell_type": "code",
   "execution_count": 7,
   "id": "39c7e28f",
   "metadata": {
    "scrolled": true
   },
   "outputs": [
    {
     "name": "stdout",
     "output_type": "stream",
     "text": [
      "<class 'pandas.core.frame.DataFrame'>\n",
      "RangeIndex: 49376 entries, 0 to 49375\n",
      "Data columns (total 19 columns):\n",
      " #   Column               Non-Null Count  Dtype \n",
      "---  ------               --------------  ----- \n",
      " 0   Order #              49376 non-null  object\n",
      " 1   Transaction Type     49376 non-null  object\n",
      " 2   Order Time           49376 non-null  object\n",
      " 3   Order Date           49376 non-null  object\n",
      " 4   Delivery Date        49355 non-null  object\n",
      " 5   Sender               30039 non-null  object\n",
      " 6   Recipient            23570 non-null  object\n",
      " 7   Product Total        49369 non-null  object\n",
      " 8   Delivery             49364 non-null  object\n",
      " 9   Nontaxable Delivery  49364 non-null  object\n",
      " 10  Wire Out Fee         49250 non-null  object\n",
      " 11  Discount             49250 non-null  object\n",
      " 12  Gift Cards           49250 non-null  object\n",
      " 13  Tax                  49364 non-null  object\n",
      " 14  Tips                 49250 non-null  object\n",
      " 15  Grand Total          49376 non-null  object\n",
      " 16  Payment Method       49376 non-null  object\n",
      " 17  Order Type           49059 non-null  object\n",
      " 18  Order Method         49250 non-null  object\n",
      "dtypes: object(19)\n",
      "memory usage: 7.2+ MB\n"
     ]
    }
   ],
   "source": [
    "#Looking at data types and null values\n",
    "GDS.info()"
   ]
  },
  {
   "cell_type": "markdown",
   "id": "413eab9d",
   "metadata": {},
   "source": [
    "# **Data Cleaning**"
   ]
  },
  {
   "cell_type": "markdown",
   "id": "ca24917e",
   "metadata": {},
   "source": [
    "### **Dropping unnecessary columns**"
   ]
  },
  {
   "cell_type": "code",
   "execution_count": 8,
   "id": "3f440d90",
   "metadata": {},
   "outputs": [
    {
     "name": "stdout",
     "output_type": "stream",
     "text": [
      "<class 'pandas.core.frame.DataFrame'>\n",
      "RangeIndex: 49376 entries, 0 to 49375\n",
      "Data columns (total 17 columns):\n",
      " #   Column               Non-Null Count  Dtype \n",
      "---  ------               --------------  ----- \n",
      " 0   Order #              49376 non-null  object\n",
      " 1   Transaction Type     49376 non-null  object\n",
      " 2   Order Time           49376 non-null  object\n",
      " 3   Order Date           49376 non-null  object\n",
      " 4   Delivery Date        49355 non-null  object\n",
      " 5   Product Total        49369 non-null  object\n",
      " 6   Delivery             49364 non-null  object\n",
      " 7   Nontaxable Delivery  49364 non-null  object\n",
      " 8   Wire Out Fee         49250 non-null  object\n",
      " 9   Discount             49250 non-null  object\n",
      " 10  Gift Cards           49250 non-null  object\n",
      " 11  Tax                  49364 non-null  object\n",
      " 12  Tips                 49250 non-null  object\n",
      " 13  Grand Total          49376 non-null  object\n",
      " 14  Payment Method       49376 non-null  object\n",
      " 15  Order Type           49059 non-null  object\n",
      " 16  Order Method         49250 non-null  object\n",
      "dtypes: object(17)\n",
      "memory usage: 6.4+ MB\n"
     ]
    }
   ],
   "source": [
    "#Dropping unecessarry columns\n",
    "#These columns do not contribute any meaningful data to the insight I am after\n",
    "columns_to_drop = ['Sender','Recipient']\n",
    "df = GDS.drop(columns_to_drop, axis = 1)\n",
    "df.info()"
   ]
  },
  {
   "cell_type": "markdown",
   "id": "92786499",
   "metadata": {},
   "source": [
    "### **Changing Data Types**"
   ]
  },
  {
   "cell_type": "code",
   "execution_count": 9,
   "id": "76449fdb",
   "metadata": {},
   "outputs": [
    {
     "name": "stdout",
     "output_type": "stream",
     "text": [
      "Before conversion:\n",
      "Order #                object\n",
      "Transaction Type       object\n",
      "Order Time             object\n",
      "Order Date             object\n",
      "Delivery Date          object\n",
      "Product Total          object\n",
      "Delivery               object\n",
      "Nontaxable Delivery    object\n",
      "Wire Out Fee           object\n",
      "Discount               object\n",
      "Gift Cards             object\n",
      "Tax                    object\n",
      "Tips                   object\n",
      "Grand Total            object\n",
      "Payment Method         object\n",
      "Order Type             object\n",
      "Order Method           object\n",
      "dtype: object\n",
      "         Order # Transaction Type      Order Time    Order Date Delivery Date  \\\n",
      "0      100017453             Sale  03:28:16PM Sat  Dec 29, 2018  Dec 29, 2018   \n",
      "1      100017452             Sale  03:16:50PM Sat  Dec 29, 2018  Dec 29, 2018   \n",
      "2      100017451             Sale  02:58:53PM Sat  Dec 29, 2018  Dec 29, 2018   \n",
      "3      100017450             Sale  02:54:45PM Sat  Dec 29, 2018  Dec 29, 2018   \n",
      "4      100017202             Sale  02:48:15PM Sat  Dec 29, 2018  Dec 23, 2018   \n",
      "...          ...              ...             ...           ...           ...   \n",
      "49371  100053354             Sale  08:59:44AM Tue      3-Jan-23      3-Jan-23   \n",
      "49372  100053353             Sale  08:57:34AM Tue      3-Jan-23      3-Jan-23   \n",
      "49373  100053352             Sale  08:55:04AM Tue      3-Jan-23      3-Jan-23   \n",
      "49374  100053351             Sale  08:48:31AM Tue      3-Jan-23      3-Jan-23   \n",
      "49375  100053350             Sale  08:44:51AM Tue      3-Jan-23      3-Jan-23   \n",
      "\n",
      "      Product Total Delivery Nontaxable Delivery Wire Out Fee   Discount  \\\n",
      "0           $815.00    $0.00               $0.00        $0.00      $0.00   \n",
      "1           $249.90    $0.00               $0.00        $0.00   -$124.96   \n",
      "2            $24.95    $0.00               $0.00        $0.00      $0.00   \n",
      "3           $635.00    $0.00               $0.00        $0.00      $0.00   \n",
      "4           $702.00    $0.00              $25.00        $0.00      $0.00   \n",
      "...             ...      ...                 ...          ...        ...   \n",
      "49371      $247.50    $0.00              $17.95        $0.00      $0.00    \n",
      "49372       $78.00    $0.00              $15.00        $0.00      $0.00    \n",
      "49373       $48.95    $0.00              $15.95        $0.00      $0.00    \n",
      "49374       $48.95    $0.00              $15.95        $0.00      $0.00    \n",
      "49375       $62.50    $0.00              $15.95        $0.00      $0.00    \n",
      "\n",
      "      Gift Cards     Tax    Tips Grand Total Payment Method Order Type  \\\n",
      "0          $0.00  $79.46   $0.00     $894.46    Credit Card      Taken   \n",
      "1          $0.00  $12.19   $0.00     $137.13    Credit Card      Taken   \n",
      "2          $0.00   $2.43   $0.00      $27.38    Credit Card      Taken   \n",
      "3          $0.00  $61.91   $0.00     $696.91    Credit Card      Taken   \n",
      "4          $0.00  $68.45   $0.00     $795.45    Credit Card   Delivery   \n",
      "...          ...     ...     ...         ...            ...        ...   \n",
      "49371     $0.00   $0.00   $0.00     $265.45     Bloomnation   Delivery   \n",
      "49372     $0.00   $7.61   $0.00     $100.61     Credit Card   Delivery   \n",
      "49373     $0.00   $0.00   $0.00      $64.90             CFS   Delivery   \n",
      "49374     $0.00   $0.00   $0.00      $64.90             CFS   Delivery   \n",
      "49375     $0.00   $0.00   $0.00      $78.45             CFS   Delivery   \n",
      "\n",
      "      Order Method  \n",
      "0            Phone  \n",
      "1          Walk-In  \n",
      "2          Walk-In  \n",
      "3            Phone  \n",
      "4          Walk-In  \n",
      "...            ...  \n",
      "49371        Phone  \n",
      "49372        Phone  \n",
      "49373        Phone  \n",
      "49374        Phone  \n",
      "49375        Phone  \n",
      "\n",
      "[49376 rows x 17 columns]\n"
     ]
    }
   ],
   "source": [
    "# Print Data Frame Before Conversion \n",
    "print(\"Before conversion:\")\n",
    "print(df.dtypes)\n",
    "print(df)"
   ]
  },
  {
   "cell_type": "code",
   "execution_count": 10,
   "id": "f329b340",
   "metadata": {},
   "outputs": [],
   "source": [
    "# Define the desired data types for columns as a dictionary\n",
    "column_dict = {\n",
    "    'Product Total': float,\n",
    "    'Nontaxable Delivery': float,\n",
    "    'Wire Out Fee': float,\n",
    "    'Gift Cards': float,\n",
    "    'Discount' : float, \n",
    "    'Grand Total' : float, \n",
    "    'Tax' : float, \n",
    "    'Tips': float,\n",
    "}\n",
    "# Function to change data types of specific columns in the DataFrame\n",
    "def change_column_datatype(dataframe, col_dict):\n",
    "    for col_name, col_type in col_dict.items():\n",
    "        if col_type == float:  # Check if the target type is float (numeric)\n",
    "            dataframe[col_name] = dataframe[col_name].str.replace(r'[\\$,()]', '', regex=True).astype(col_type)\n",
    "        else:\n",
    "            dataframe[col_name] = dataframe[col_name].astype(col_type)\n",
    "    return dataframe\n",
    "# Call the function to change data types \n",
    "df = change_column_datatype(df, column_dict)"
   ]
  },
  {
   "cell_type": "code",
   "execution_count": 11,
   "id": "f6b89610",
   "metadata": {},
   "outputs": [
    {
     "name": "stdout",
     "output_type": "stream",
     "text": [
      "\n",
      "After conversion\n",
      "Order #                 object\n",
      "Transaction Type        object\n",
      "Order Time              object\n",
      "Order Date              object\n",
      "Delivery Date           object\n",
      "Product Total          float64\n",
      "Delivery                object\n",
      "Nontaxable Delivery    float64\n",
      "Wire Out Fee           float64\n",
      "Discount               float64\n",
      "Gift Cards             float64\n",
      "Tax                    float64\n",
      "Tips                   float64\n",
      "Grand Total            float64\n",
      "Payment Method          object\n",
      "Order Type              object\n",
      "Order Method            object\n",
      "dtype: object\n",
      "         Order # Transaction Type      Order Time    Order Date Delivery Date  \\\n",
      "0      100017453             Sale  03:28:16PM Sat  Dec 29, 2018  Dec 29, 2018   \n",
      "1      100017452             Sale  03:16:50PM Sat  Dec 29, 2018  Dec 29, 2018   \n",
      "2      100017451             Sale  02:58:53PM Sat  Dec 29, 2018  Dec 29, 2018   \n",
      "3      100017450             Sale  02:54:45PM Sat  Dec 29, 2018  Dec 29, 2018   \n",
      "4      100017202             Sale  02:48:15PM Sat  Dec 29, 2018  Dec 23, 2018   \n",
      "...          ...              ...             ...           ...           ...   \n",
      "49371  100053354             Sale  08:59:44AM Tue      3-Jan-23      3-Jan-23   \n",
      "49372  100053353             Sale  08:57:34AM Tue      3-Jan-23      3-Jan-23   \n",
      "49373  100053352             Sale  08:55:04AM Tue      3-Jan-23      3-Jan-23   \n",
      "49374  100053351             Sale  08:48:31AM Tue      3-Jan-23      3-Jan-23   \n",
      "49375  100053350             Sale  08:44:51AM Tue      3-Jan-23      3-Jan-23   \n",
      "\n",
      "       Product Total Delivery  Nontaxable Delivery  Wire Out Fee  Discount  \\\n",
      "0             815.00    $0.00                 0.00           0.0      0.00   \n",
      "1             249.90    $0.00                 0.00           0.0   -124.96   \n",
      "2              24.95    $0.00                 0.00           0.0      0.00   \n",
      "3             635.00    $0.00                 0.00           0.0      0.00   \n",
      "4             702.00    $0.00                25.00           0.0      0.00   \n",
      "...              ...      ...                  ...           ...       ...   \n",
      "49371         247.50   $0.00                 17.95           0.0      0.00   \n",
      "49372          78.00   $0.00                 15.00           0.0      0.00   \n",
      "49373          48.95   $0.00                 15.95           0.0      0.00   \n",
      "49374          48.95   $0.00                 15.95           0.0      0.00   \n",
      "49375          62.50   $0.00                 15.95           0.0      0.00   \n",
      "\n",
      "       Gift Cards    Tax  Tips  Grand Total Payment Method Order Type  \\\n",
      "0             0.0  79.46   0.0       894.46    Credit Card      Taken   \n",
      "1             0.0  12.19   0.0       137.13    Credit Card      Taken   \n",
      "2             0.0   2.43   0.0        27.38    Credit Card      Taken   \n",
      "3             0.0  61.91   0.0       696.91    Credit Card      Taken   \n",
      "4             0.0  68.45   0.0       795.45    Credit Card   Delivery   \n",
      "...           ...    ...   ...          ...            ...        ...   \n",
      "49371         0.0   0.00   0.0       265.45    Bloomnation   Delivery   \n",
      "49372         0.0   7.61   0.0       100.61    Credit Card   Delivery   \n",
      "49373         0.0   0.00   0.0        64.90            CFS   Delivery   \n",
      "49374         0.0   0.00   0.0        64.90            CFS   Delivery   \n",
      "49375         0.0   0.00   0.0        78.45            CFS   Delivery   \n",
      "\n",
      "      Order Method  \n",
      "0            Phone  \n",
      "1          Walk-In  \n",
      "2          Walk-In  \n",
      "3            Phone  \n",
      "4          Walk-In  \n",
      "...            ...  \n",
      "49371        Phone  \n",
      "49372        Phone  \n",
      "49373        Phone  \n",
      "49374        Phone  \n",
      "49375        Phone  \n",
      "\n",
      "[49376 rows x 17 columns]\n"
     ]
    }
   ],
   "source": [
    "# Print Data Frame After Conversion \n",
    "print(\"\\nAfter conversion\")\n",
    "print(df.dtypes)\n",
    "print(df)"
   ]
  },
  {
   "cell_type": "markdown",
   "id": "99ab6777",
   "metadata": {},
   "source": [
    "### **Unique values**"
   ]
  },
  {
   "cell_type": "code",
   "execution_count": 12,
   "id": "d2f98251",
   "metadata": {
    "scrolled": false
   },
   "outputs": [
    {
     "name": "stdout",
     "output_type": "stream",
     "text": [
      "Order #                47794\n",
      "Transaction Type           6\n",
      "Order Time             42430\n",
      "Order Date              1684\n",
      "Delivery Date           1822\n",
      "Product Total           4614\n",
      "Delivery                   4\n",
      "Nontaxable Delivery      418\n",
      "Wire Out Fee              55\n",
      "Discount                1839\n",
      "Gift Cards                21\n",
      "Tax                     3084\n",
      "Tips                       4\n",
      "Grand Total             8252\n",
      "Payment Method            13\n",
      "Order Type                 4\n",
      "Order Method               5\n",
      "dtype: int64\n"
     ]
    }
   ],
   "source": [
    "# Check for unique values to make sure they all make sense\n",
    "unique_counts = df.nunique()\n",
    "print(unique_counts)"
   ]
  },
  {
   "cell_type": "code",
   "execution_count": 13,
   "id": "7516e11c",
   "metadata": {},
   "outputs": [
    {
     "data": {
      "text/html": [
       "<div>\n",
       "<style scoped>\n",
       "    .dataframe tbody tr th:only-of-type {\n",
       "        vertical-align: middle;\n",
       "    }\n",
       "\n",
       "    .dataframe tbody tr th {\n",
       "        vertical-align: top;\n",
       "    }\n",
       "\n",
       "    .dataframe thead th {\n",
       "        text-align: right;\n",
       "    }\n",
       "</style>\n",
       "<table border=\"1\" class=\"dataframe\">\n",
       "  <thead>\n",
       "    <tr style=\"text-align: right;\">\n",
       "      <th></th>\n",
       "      <th>Order #</th>\n",
       "      <th>Transaction Type</th>\n",
       "      <th>Order Time</th>\n",
       "      <th>Order Date</th>\n",
       "      <th>Delivery Date</th>\n",
       "      <th>Product Total</th>\n",
       "      <th>Delivery</th>\n",
       "      <th>Nontaxable Delivery</th>\n",
       "      <th>Wire Out Fee</th>\n",
       "      <th>Discount</th>\n",
       "      <th>Gift Cards</th>\n",
       "      <th>Tax</th>\n",
       "      <th>Tips</th>\n",
       "      <th>Grand Total</th>\n",
       "      <th>Payment Method</th>\n",
       "      <th>Order Type</th>\n",
       "      <th>Order Method</th>\n",
       "    </tr>\n",
       "  </thead>\n",
       "  <tbody>\n",
       "    <tr>\n",
       "      <th>0</th>\n",
       "      <td>100017453</td>\n",
       "      <td>Sale</td>\n",
       "      <td>03:28:16PM Sat</td>\n",
       "      <td>Dec 29, 2018</td>\n",
       "      <td>Dec 29, 2018</td>\n",
       "      <td>815.00</td>\n",
       "      <td>$0.00</td>\n",
       "      <td>0.0</td>\n",
       "      <td>0.0</td>\n",
       "      <td>0.00</td>\n",
       "      <td>0.0</td>\n",
       "      <td>79.46</td>\n",
       "      <td>0.0</td>\n",
       "      <td>894.46</td>\n",
       "      <td>Credit Card</td>\n",
       "      <td>Taken</td>\n",
       "      <td>Phone</td>\n",
       "    </tr>\n",
       "    <tr>\n",
       "      <th>1</th>\n",
       "      <td>100017452</td>\n",
       "      <td>Sale</td>\n",
       "      <td>03:16:50PM Sat</td>\n",
       "      <td>Dec 29, 2018</td>\n",
       "      <td>Dec 29, 2018</td>\n",
       "      <td>249.90</td>\n",
       "      <td>$0.00</td>\n",
       "      <td>0.0</td>\n",
       "      <td>0.0</td>\n",
       "      <td>-124.96</td>\n",
       "      <td>0.0</td>\n",
       "      <td>12.19</td>\n",
       "      <td>0.0</td>\n",
       "      <td>137.13</td>\n",
       "      <td>Credit Card</td>\n",
       "      <td>Taken</td>\n",
       "      <td>Walk-In</td>\n",
       "    </tr>\n",
       "    <tr>\n",
       "      <th>2</th>\n",
       "      <td>100017451</td>\n",
       "      <td>Sale</td>\n",
       "      <td>02:58:53PM Sat</td>\n",
       "      <td>Dec 29, 2018</td>\n",
       "      <td>Dec 29, 2018</td>\n",
       "      <td>24.95</td>\n",
       "      <td>$0.00</td>\n",
       "      <td>0.0</td>\n",
       "      <td>0.0</td>\n",
       "      <td>0.00</td>\n",
       "      <td>0.0</td>\n",
       "      <td>2.43</td>\n",
       "      <td>0.0</td>\n",
       "      <td>27.38</td>\n",
       "      <td>Credit Card</td>\n",
       "      <td>Taken</td>\n",
       "      <td>Walk-In</td>\n",
       "    </tr>\n",
       "    <tr>\n",
       "      <th>3</th>\n",
       "      <td>100017450</td>\n",
       "      <td>Sale</td>\n",
       "      <td>02:54:45PM Sat</td>\n",
       "      <td>Dec 29, 2018</td>\n",
       "      <td>Dec 29, 2018</td>\n",
       "      <td>635.00</td>\n",
       "      <td>$0.00</td>\n",
       "      <td>0.0</td>\n",
       "      <td>0.0</td>\n",
       "      <td>0.00</td>\n",
       "      <td>0.0</td>\n",
       "      <td>61.91</td>\n",
       "      <td>0.0</td>\n",
       "      <td>696.91</td>\n",
       "      <td>Credit Card</td>\n",
       "      <td>Taken</td>\n",
       "      <td>Phone</td>\n",
       "    </tr>\n",
       "    <tr>\n",
       "      <th>4</th>\n",
       "      <td>100017202</td>\n",
       "      <td>Sale</td>\n",
       "      <td>02:48:15PM Sat</td>\n",
       "      <td>Dec 29, 2018</td>\n",
       "      <td>Dec 23, 2018</td>\n",
       "      <td>702.00</td>\n",
       "      <td>$0.00</td>\n",
       "      <td>25.0</td>\n",
       "      <td>0.0</td>\n",
       "      <td>0.00</td>\n",
       "      <td>0.0</td>\n",
       "      <td>68.45</td>\n",
       "      <td>0.0</td>\n",
       "      <td>795.45</td>\n",
       "      <td>Credit Card</td>\n",
       "      <td>Delivery</td>\n",
       "      <td>Walk-In</td>\n",
       "    </tr>\n",
       "  </tbody>\n",
       "</table>\n",
       "</div>"
      ],
      "text/plain": [
       "     Order # Transaction Type      Order Time    Order Date Delivery Date  \\\n",
       "0  100017453             Sale  03:28:16PM Sat  Dec 29, 2018  Dec 29, 2018   \n",
       "1  100017452             Sale  03:16:50PM Sat  Dec 29, 2018  Dec 29, 2018   \n",
       "2  100017451             Sale  02:58:53PM Sat  Dec 29, 2018  Dec 29, 2018   \n",
       "3  100017450             Sale  02:54:45PM Sat  Dec 29, 2018  Dec 29, 2018   \n",
       "4  100017202             Sale  02:48:15PM Sat  Dec 29, 2018  Dec 23, 2018   \n",
       "\n",
       "   Product Total Delivery  Nontaxable Delivery  Wire Out Fee  Discount  \\\n",
       "0         815.00    $0.00                  0.0           0.0      0.00   \n",
       "1         249.90    $0.00                  0.0           0.0   -124.96   \n",
       "2          24.95    $0.00                  0.0           0.0      0.00   \n",
       "3         635.00    $0.00                  0.0           0.0      0.00   \n",
       "4         702.00    $0.00                 25.0           0.0      0.00   \n",
       "\n",
       "   Gift Cards    Tax  Tips  Grand Total Payment Method Order Type Order Method  \n",
       "0         0.0  79.46   0.0       894.46    Credit Card      Taken        Phone  \n",
       "1         0.0  12.19   0.0       137.13    Credit Card      Taken      Walk-In  \n",
       "2         0.0   2.43   0.0        27.38    Credit Card      Taken      Walk-In  \n",
       "3         0.0  61.91   0.0       696.91    Credit Card      Taken        Phone  \n",
       "4         0.0  68.45   0.0       795.45    Credit Card   Delivery      Walk-In  "
      ]
     },
     "execution_count": 13,
     "metadata": {},
     "output_type": "execute_result"
    }
   ],
   "source": [
    "df.head()"
   ]
  },
  {
   "cell_type": "markdown",
   "id": "2c7ebffa",
   "metadata": {},
   "source": [
    "### **Replace nans function**"
   ]
  },
  {
   "cell_type": "markdown",
   "id": "6097fa68",
   "metadata": {},
   "source": [
    "- The dataset had missing values in every column, necessitating the use of imputation techniques to fill in these gaps and ensure sufficient data for accurate analysis. \n",
    "- Imputation involved systematically replacing the missing values in each column with estimated or substituted values using simple imputer, ultimately creating a complete dataset suitable for further analysis."
   ]
  },
  {
   "cell_type": "code",
   "execution_count": 14,
   "id": "478ad5d9",
   "metadata": {},
   "outputs": [],
   "source": [
    "def replace_nan(df):\n",
    "    # Find categorical and numerical columns\n",
    "    categorical_cols = df.select_dtypes(include='object').columns\n",
    "    numerical_cols = df.select_dtypes(include=np.number).columns\n",
    "    date_cols = ['Order Time', 'Order Date', 'Delivery Date']\n",
    "# Replace NaT values with NaN\n",
    "    df = df.replace(pd.NaT, np.nan)\n",
    "\n",
    "# Impute missing values with mode for categorical variables\n",
    "    categorical_imputer = SimpleImputer(strategy='most_frequent')\n",
    "    df[categorical_cols] = categorical_imputer.fit_transform(df[categorical_cols])\n",
    "# Replace missing values in date columns with most frequent date\n",
    "    for col in date_cols:\n",
    "        most_frequent_date = df[col].mode().values[0]\n",
    "        df[col].fillna(most_frequent_date, inplace=True)\n",
    "        # Impute missing values with median for numerical variables\n",
    "        numerical_imputer = SimpleImputer(strategy='most_frequent')\n",
    "    df[numerical_cols] = numerical_imputer.fit_transform(df[numerical_cols])\n",
    "\n",
    "    return df"
   ]
  },
  {
   "cell_type": "code",
   "execution_count": 15,
   "id": "a565bab5",
   "metadata": {},
   "outputs": [],
   "source": [
    "#Runing the function to transform the data\n",
    "transformed_data =replace_nan(df)"
   ]
  },
  {
   "cell_type": "code",
   "execution_count": 16,
   "id": "b865d4b5",
   "metadata": {
    "scrolled": true
   },
   "outputs": [
    {
     "data": {
      "text/html": [
       "<div>\n",
       "<style scoped>\n",
       "    .dataframe tbody tr th:only-of-type {\n",
       "        vertical-align: middle;\n",
       "    }\n",
       "\n",
       "    .dataframe tbody tr th {\n",
       "        vertical-align: top;\n",
       "    }\n",
       "\n",
       "    .dataframe thead th {\n",
       "        text-align: right;\n",
       "    }\n",
       "</style>\n",
       "<table border=\"1\" class=\"dataframe\">\n",
       "  <thead>\n",
       "    <tr style=\"text-align: right;\">\n",
       "      <th></th>\n",
       "      <th>Order #</th>\n",
       "      <th>Transaction Type</th>\n",
       "      <th>Order Time</th>\n",
       "      <th>Order Date</th>\n",
       "      <th>Delivery Date</th>\n",
       "      <th>Product Total</th>\n",
       "      <th>Delivery</th>\n",
       "      <th>Nontaxable Delivery</th>\n",
       "      <th>Wire Out Fee</th>\n",
       "      <th>Discount</th>\n",
       "      <th>Gift Cards</th>\n",
       "      <th>Tax</th>\n",
       "      <th>Tips</th>\n",
       "      <th>Grand Total</th>\n",
       "      <th>Payment Method</th>\n",
       "      <th>Order Type</th>\n",
       "      <th>Order Method</th>\n",
       "    </tr>\n",
       "  </thead>\n",
       "  <tbody>\n",
       "    <tr>\n",
       "      <th>0</th>\n",
       "      <td>100017453</td>\n",
       "      <td>Sale</td>\n",
       "      <td>03:28:16PM Sat</td>\n",
       "      <td>Dec 29, 2018</td>\n",
       "      <td>Dec 29, 2018</td>\n",
       "      <td>815.00</td>\n",
       "      <td>$0.00</td>\n",
       "      <td>0.00</td>\n",
       "      <td>0.0</td>\n",
       "      <td>0.00</td>\n",
       "      <td>0.0</td>\n",
       "      <td>79.46</td>\n",
       "      <td>0.0</td>\n",
       "      <td>894.46</td>\n",
       "      <td>Credit Card</td>\n",
       "      <td>Taken</td>\n",
       "      <td>Phone</td>\n",
       "    </tr>\n",
       "    <tr>\n",
       "      <th>1</th>\n",
       "      <td>100017452</td>\n",
       "      <td>Sale</td>\n",
       "      <td>03:16:50PM Sat</td>\n",
       "      <td>Dec 29, 2018</td>\n",
       "      <td>Dec 29, 2018</td>\n",
       "      <td>249.90</td>\n",
       "      <td>$0.00</td>\n",
       "      <td>0.00</td>\n",
       "      <td>0.0</td>\n",
       "      <td>-124.96</td>\n",
       "      <td>0.0</td>\n",
       "      <td>12.19</td>\n",
       "      <td>0.0</td>\n",
       "      <td>137.13</td>\n",
       "      <td>Credit Card</td>\n",
       "      <td>Taken</td>\n",
       "      <td>Walk-In</td>\n",
       "    </tr>\n",
       "    <tr>\n",
       "      <th>2</th>\n",
       "      <td>100017451</td>\n",
       "      <td>Sale</td>\n",
       "      <td>02:58:53PM Sat</td>\n",
       "      <td>Dec 29, 2018</td>\n",
       "      <td>Dec 29, 2018</td>\n",
       "      <td>24.95</td>\n",
       "      <td>$0.00</td>\n",
       "      <td>0.00</td>\n",
       "      <td>0.0</td>\n",
       "      <td>0.00</td>\n",
       "      <td>0.0</td>\n",
       "      <td>2.43</td>\n",
       "      <td>0.0</td>\n",
       "      <td>27.38</td>\n",
       "      <td>Credit Card</td>\n",
       "      <td>Taken</td>\n",
       "      <td>Walk-In</td>\n",
       "    </tr>\n",
       "    <tr>\n",
       "      <th>3</th>\n",
       "      <td>100017450</td>\n",
       "      <td>Sale</td>\n",
       "      <td>02:54:45PM Sat</td>\n",
       "      <td>Dec 29, 2018</td>\n",
       "      <td>Dec 29, 2018</td>\n",
       "      <td>635.00</td>\n",
       "      <td>$0.00</td>\n",
       "      <td>0.00</td>\n",
       "      <td>0.0</td>\n",
       "      <td>0.00</td>\n",
       "      <td>0.0</td>\n",
       "      <td>61.91</td>\n",
       "      <td>0.0</td>\n",
       "      <td>696.91</td>\n",
       "      <td>Credit Card</td>\n",
       "      <td>Taken</td>\n",
       "      <td>Phone</td>\n",
       "    </tr>\n",
       "    <tr>\n",
       "      <th>4</th>\n",
       "      <td>100017202</td>\n",
       "      <td>Sale</td>\n",
       "      <td>02:48:15PM Sat</td>\n",
       "      <td>Dec 29, 2018</td>\n",
       "      <td>Dec 23, 2018</td>\n",
       "      <td>702.00</td>\n",
       "      <td>$0.00</td>\n",
       "      <td>25.00</td>\n",
       "      <td>0.0</td>\n",
       "      <td>0.00</td>\n",
       "      <td>0.0</td>\n",
       "      <td>68.45</td>\n",
       "      <td>0.0</td>\n",
       "      <td>795.45</td>\n",
       "      <td>Credit Card</td>\n",
       "      <td>Delivery</td>\n",
       "      <td>Walk-In</td>\n",
       "    </tr>\n",
       "    <tr>\n",
       "      <th>...</th>\n",
       "      <td>...</td>\n",
       "      <td>...</td>\n",
       "      <td>...</td>\n",
       "      <td>...</td>\n",
       "      <td>...</td>\n",
       "      <td>...</td>\n",
       "      <td>...</td>\n",
       "      <td>...</td>\n",
       "      <td>...</td>\n",
       "      <td>...</td>\n",
       "      <td>...</td>\n",
       "      <td>...</td>\n",
       "      <td>...</td>\n",
       "      <td>...</td>\n",
       "      <td>...</td>\n",
       "      <td>...</td>\n",
       "      <td>...</td>\n",
       "    </tr>\n",
       "    <tr>\n",
       "      <th>49371</th>\n",
       "      <td>100053354</td>\n",
       "      <td>Sale</td>\n",
       "      <td>08:59:44AM Tue</td>\n",
       "      <td>3-Jan-23</td>\n",
       "      <td>3-Jan-23</td>\n",
       "      <td>247.50</td>\n",
       "      <td>$0.00</td>\n",
       "      <td>17.95</td>\n",
       "      <td>0.0</td>\n",
       "      <td>0.00</td>\n",
       "      <td>0.0</td>\n",
       "      <td>0.00</td>\n",
       "      <td>0.0</td>\n",
       "      <td>265.45</td>\n",
       "      <td>Bloomnation</td>\n",
       "      <td>Delivery</td>\n",
       "      <td>Phone</td>\n",
       "    </tr>\n",
       "    <tr>\n",
       "      <th>49372</th>\n",
       "      <td>100053353</td>\n",
       "      <td>Sale</td>\n",
       "      <td>08:57:34AM Tue</td>\n",
       "      <td>3-Jan-23</td>\n",
       "      <td>3-Jan-23</td>\n",
       "      <td>78.00</td>\n",
       "      <td>$0.00</td>\n",
       "      <td>15.00</td>\n",
       "      <td>0.0</td>\n",
       "      <td>0.00</td>\n",
       "      <td>0.0</td>\n",
       "      <td>7.61</td>\n",
       "      <td>0.0</td>\n",
       "      <td>100.61</td>\n",
       "      <td>Credit Card</td>\n",
       "      <td>Delivery</td>\n",
       "      <td>Phone</td>\n",
       "    </tr>\n",
       "    <tr>\n",
       "      <th>49373</th>\n",
       "      <td>100053352</td>\n",
       "      <td>Sale</td>\n",
       "      <td>08:55:04AM Tue</td>\n",
       "      <td>3-Jan-23</td>\n",
       "      <td>3-Jan-23</td>\n",
       "      <td>48.95</td>\n",
       "      <td>$0.00</td>\n",
       "      <td>15.95</td>\n",
       "      <td>0.0</td>\n",
       "      <td>0.00</td>\n",
       "      <td>0.0</td>\n",
       "      <td>0.00</td>\n",
       "      <td>0.0</td>\n",
       "      <td>64.90</td>\n",
       "      <td>CFS</td>\n",
       "      <td>Delivery</td>\n",
       "      <td>Phone</td>\n",
       "    </tr>\n",
       "    <tr>\n",
       "      <th>49374</th>\n",
       "      <td>100053351</td>\n",
       "      <td>Sale</td>\n",
       "      <td>08:48:31AM Tue</td>\n",
       "      <td>3-Jan-23</td>\n",
       "      <td>3-Jan-23</td>\n",
       "      <td>48.95</td>\n",
       "      <td>$0.00</td>\n",
       "      <td>15.95</td>\n",
       "      <td>0.0</td>\n",
       "      <td>0.00</td>\n",
       "      <td>0.0</td>\n",
       "      <td>0.00</td>\n",
       "      <td>0.0</td>\n",
       "      <td>64.90</td>\n",
       "      <td>CFS</td>\n",
       "      <td>Delivery</td>\n",
       "      <td>Phone</td>\n",
       "    </tr>\n",
       "    <tr>\n",
       "      <th>49375</th>\n",
       "      <td>100053350</td>\n",
       "      <td>Sale</td>\n",
       "      <td>08:44:51AM Tue</td>\n",
       "      <td>3-Jan-23</td>\n",
       "      <td>3-Jan-23</td>\n",
       "      <td>62.50</td>\n",
       "      <td>$0.00</td>\n",
       "      <td>15.95</td>\n",
       "      <td>0.0</td>\n",
       "      <td>0.00</td>\n",
       "      <td>0.0</td>\n",
       "      <td>0.00</td>\n",
       "      <td>0.0</td>\n",
       "      <td>78.45</td>\n",
       "      <td>CFS</td>\n",
       "      <td>Delivery</td>\n",
       "      <td>Phone</td>\n",
       "    </tr>\n",
       "  </tbody>\n",
       "</table>\n",
       "<p>49376 rows × 17 columns</p>\n",
       "</div>"
      ],
      "text/plain": [
       "         Order # Transaction Type      Order Time    Order Date Delivery Date  \\\n",
       "0      100017453             Sale  03:28:16PM Sat  Dec 29, 2018  Dec 29, 2018   \n",
       "1      100017452             Sale  03:16:50PM Sat  Dec 29, 2018  Dec 29, 2018   \n",
       "2      100017451             Sale  02:58:53PM Sat  Dec 29, 2018  Dec 29, 2018   \n",
       "3      100017450             Sale  02:54:45PM Sat  Dec 29, 2018  Dec 29, 2018   \n",
       "4      100017202             Sale  02:48:15PM Sat  Dec 29, 2018  Dec 23, 2018   \n",
       "...          ...              ...             ...           ...           ...   \n",
       "49371  100053354             Sale  08:59:44AM Tue      3-Jan-23      3-Jan-23   \n",
       "49372  100053353             Sale  08:57:34AM Tue      3-Jan-23      3-Jan-23   \n",
       "49373  100053352             Sale  08:55:04AM Tue      3-Jan-23      3-Jan-23   \n",
       "49374  100053351             Sale  08:48:31AM Tue      3-Jan-23      3-Jan-23   \n",
       "49375  100053350             Sale  08:44:51AM Tue      3-Jan-23      3-Jan-23   \n",
       "\n",
       "       Product Total Delivery  Nontaxable Delivery  Wire Out Fee  Discount  \\\n",
       "0             815.00    $0.00                 0.00           0.0      0.00   \n",
       "1             249.90    $0.00                 0.00           0.0   -124.96   \n",
       "2              24.95    $0.00                 0.00           0.0      0.00   \n",
       "3             635.00    $0.00                 0.00           0.0      0.00   \n",
       "4             702.00    $0.00                25.00           0.0      0.00   \n",
       "...              ...      ...                  ...           ...       ...   \n",
       "49371         247.50   $0.00                 17.95           0.0      0.00   \n",
       "49372          78.00   $0.00                 15.00           0.0      0.00   \n",
       "49373          48.95   $0.00                 15.95           0.0      0.00   \n",
       "49374          48.95   $0.00                 15.95           0.0      0.00   \n",
       "49375          62.50   $0.00                 15.95           0.0      0.00   \n",
       "\n",
       "       Gift Cards    Tax  Tips  Grand Total Payment Method Order Type  \\\n",
       "0             0.0  79.46   0.0       894.46    Credit Card      Taken   \n",
       "1             0.0  12.19   0.0       137.13    Credit Card      Taken   \n",
       "2             0.0   2.43   0.0        27.38    Credit Card      Taken   \n",
       "3             0.0  61.91   0.0       696.91    Credit Card      Taken   \n",
       "4             0.0  68.45   0.0       795.45    Credit Card   Delivery   \n",
       "...           ...    ...   ...          ...            ...        ...   \n",
       "49371         0.0   0.00   0.0       265.45    Bloomnation   Delivery   \n",
       "49372         0.0   7.61   0.0       100.61    Credit Card   Delivery   \n",
       "49373         0.0   0.00   0.0        64.90            CFS   Delivery   \n",
       "49374         0.0   0.00   0.0        64.90            CFS   Delivery   \n",
       "49375         0.0   0.00   0.0        78.45            CFS   Delivery   \n",
       "\n",
       "      Order Method  \n",
       "0            Phone  \n",
       "1          Walk-In  \n",
       "2          Walk-In  \n",
       "3            Phone  \n",
       "4          Walk-In  \n",
       "...            ...  \n",
       "49371        Phone  \n",
       "49372        Phone  \n",
       "49373        Phone  \n",
       "49374        Phone  \n",
       "49375        Phone  \n",
       "\n",
       "[49376 rows x 17 columns]"
      ]
     },
     "execution_count": 16,
     "metadata": {},
     "output_type": "execute_result"
    }
   ],
   "source": [
    "#Making sure the data has been transformed\n",
    "transformed_data"
   ]
  },
  {
   "cell_type": "markdown",
   "id": "a24379d7",
   "metadata": {},
   "source": [
    "# **Creating the pipeline**"
   ]
  },
  {
   "cell_type": "code",
   "execution_count": 17,
   "id": "984f5037",
   "metadata": {},
   "outputs": [],
   "source": [
    "#Validation Split\n",
    "X= transformed_data.drop(columns = 'Product Total')\n",
    "y = transformed_data['Product Total']"
   ]
  },
  {
   "cell_type": "code",
   "execution_count": 18,
   "id": "a1ab2d33",
   "metadata": {},
   "outputs": [],
   "source": [
    "#Train, Test, Split\n",
    "X_train, X_test, y_train, y_test = train_test_split(X, y, random_state=42)"
   ]
  },
  {
   "cell_type": "code",
   "execution_count": 19,
   "id": "0acaef74",
   "metadata": {
    "scrolled": false
   },
   "outputs": [],
   "source": [
    "#Function for pipeline creation\n",
    "def create_preprocessing_pipeline(X_train, numeric_cols, categorical_cols):\n",
    "\n",
    "#Scaler\n",
    "    scaler = StandardScaler()\n",
    "\n",
    "# Numeric pipeline\n",
    "    numeric_pipe = make_pipeline(scaler)\n",
    "    numeric_pipe\n",
    "\n",
    "#OneHotEncoder\n",
    "    ohe =OneHotEncoder(handle_unknown='ignore', sparse=False)\n",
    "\n",
    "# Create the numeric and categorical pipeline\n",
    "    numeric_pipe = make_pipeline(scaler)\n",
    "    categorical_pipe = make_pipeline(ohe)\n",
    "\n",
    "# Create column selectors\n",
    "    num_cols_idx = np.isin(X_train.columns, numeric_cols)\n",
    "    cat_cols_idx = np.isin(X_train.columns, categorical_cols)\n",
    "    \n",
    "# Create tuples for preprocessing the categorical and numeric columns\n",
    "    num_tuple = (numeric_pipe, num_cols_idx)\n",
    "    cat_tuple = (categorical_pipe, cat_cols_idx)\n",
    "    \n",
    "# Create the Column Transformer\n",
    "    preprocessor = make_column_transformer(num_tuple, cat_tuple, remainder='passthrough')\n",
    "\n",
    "# Fit the transformer\n",
    "    preprocessor.fit(X_train)\n",
    "    \n",
    "    return preprocessor"
   ]
  },
  {
   "cell_type": "code",
   "execution_count": 20,
   "id": "0ed9749a",
   "metadata": {},
   "outputs": [],
   "source": [
    "#Defining columns \n",
    "numeric_cols = ['Product Total', 'Grand Total']\n",
    "categorical_cols = ['Transaction Type', 'Order Type']"
   ]
  },
  {
   "cell_type": "code",
   "execution_count": 21,
   "id": "48141759",
   "metadata": {},
   "outputs": [],
   "source": [
    "#Preprocessor creation\n",
    "preprocessor = create_preprocessing_pipeline(X_train, numeric_cols, categorical_cols)"
   ]
  },
  {
   "cell_type": "code",
   "execution_count": 22,
   "id": "a019967e",
   "metadata": {},
   "outputs": [],
   "source": [
    "#Transforming x-train\n",
    "X_train_preprocessed = preprocessor.transform(X_train)"
   ]
  },
  {
   "cell_type": "code",
   "execution_count": 23,
   "id": "3d1c6688",
   "metadata": {},
   "outputs": [],
   "source": [
    "#simplifying transformed data name\n",
    "cd = transformed_data"
   ]
  },
  {
   "cell_type": "code",
   "execution_count": 24,
   "id": "bc6c98fc",
   "metadata": {
    "scrolled": false
   },
   "outputs": [
    {
     "data": {
      "text/plain": [
       "Sale                     46068\n",
       "House Account Payment     1783\n",
       "Adjustment                 981\n",
       "Refund                     418\n",
       "proposal                   114\n",
       "House Account Credit        12\n",
       "Name: Transaction Type, dtype: int64"
      ]
     },
     "execution_count": 24,
     "metadata": {},
     "output_type": "execute_result"
    }
   ],
   "source": [
    "#This shows us that there are rows in the data that are not sales, so we want to delete them.\n",
    "cd['Transaction Type'].value_counts()"
   ]
  },
  {
   "cell_type": "code",
   "execution_count": 25,
   "id": "447787e6",
   "metadata": {},
   "outputs": [],
   "source": [
    "#Function to extract only sales \n",
    "\n",
    "def remove_adjustment_refund_rows(data):\n",
    "    # Filter out rows with 'Adjustment' and 'Refund' transaction types\n",
    "    filtered_data = cd[cd['Transaction Type'].isin(['Sale'])]\n",
    "    \n",
    "    return filtered_data\n",
    "\n",
    "# Example usage:\n",
    "filtered_data = remove_adjustment_refund_rows(transformed_data)\n",
    "fd = filtered_data"
   ]
  },
  {
   "cell_type": "code",
   "execution_count": 26,
   "id": "fc9e53aa",
   "metadata": {},
   "outputs": [
    {
     "data": {
      "text/plain": [
       "Sale    46068\n",
       "Name: Transaction Type, dtype: int64"
      ]
     },
     "execution_count": 26,
     "metadata": {},
     "output_type": "execute_result"
    }
   ],
   "source": [
    "#Checking there are only sales rows in the data\n",
    "fd['Transaction Type'].value_counts()"
   ]
  },
  {
   "cell_type": "markdown",
   "id": "4ef62521",
   "metadata": {},
   "source": [
    "# **Data Exploration**"
   ]
  },
  {
   "cell_type": "markdown",
   "id": "c0c0dcb5",
   "metadata": {},
   "source": [
    "This section looks into exploring irregularities within the data and how I assess them."
   ]
  },
  {
   "cell_type": "code",
   "execution_count": 27,
   "id": "f58665d1",
   "metadata": {
    "scrolled": true
   },
   "outputs": [
    {
     "name": "stdout",
     "output_type": "stream",
     "text": [
      "<class 'pandas.core.frame.DataFrame'>\n",
      "Int64Index: 46068 entries, 0 to 49375\n",
      "Data columns (total 17 columns):\n",
      " #   Column               Non-Null Count  Dtype  \n",
      "---  ------               --------------  -----  \n",
      " 0   Order #              46068 non-null  object \n",
      " 1   Transaction Type     46068 non-null  object \n",
      " 2   Order Time           46068 non-null  object \n",
      " 3   Order Date           46068 non-null  object \n",
      " 4   Delivery Date        46068 non-null  object \n",
      " 5   Product Total        46068 non-null  float64\n",
      " 6   Delivery             46068 non-null  object \n",
      " 7   Nontaxable Delivery  46068 non-null  float64\n",
      " 8   Wire Out Fee         46068 non-null  float64\n",
      " 9   Discount             46068 non-null  float64\n",
      " 10  Gift Cards           46068 non-null  float64\n",
      " 11  Tax                  46068 non-null  float64\n",
      " 12  Tips                 46068 non-null  float64\n",
      " 13  Grand Total          46068 non-null  float64\n",
      " 14  Payment Method       46068 non-null  object \n",
      " 15  Order Type           46068 non-null  object \n",
      " 16  Order Method         46068 non-null  object \n",
      "dtypes: float64(8), object(9)\n",
      "memory usage: 6.3+ MB\n"
     ]
    }
   ],
   "source": [
    "fd.info()"
   ]
  },
  {
   "cell_type": "markdown",
   "id": "f95b4128",
   "metadata": {},
   "source": [
    "### **Payment Method**"
   ]
  },
  {
   "cell_type": "code",
   "execution_count": 28,
   "id": "a6c9e5f2",
   "metadata": {},
   "outputs": [
    {
     "data": {
      "text/plain": [
       "Credit Card                           36040\n",
       "Bloomnation                            6252\n",
       "Cash                                   1942\n",
       "CFS                                     919\n",
       "FSN                                     251\n",
       "Check / Money order                     249\n",
       "BBROOKS                                 161\n",
       "Donation                                145\n",
       "External Processor (Not Floranext)       60\n",
       "Write Off                                32\n",
       "Gift Certificate                         16\n",
       "Wire Service                              1\n",
       "Name: Payment Method, dtype: int64"
      ]
     },
     "execution_count": 28,
     "metadata": {},
     "output_type": "execute_result"
    }
   ],
   "source": [
    "fd['Payment Method'].value_counts()"
   ]
  },
  {
   "cell_type": "markdown",
   "id": "f40a0440",
   "metadata": {},
   "source": [
    "### **Order method, type & source** "
   ]
  },
  {
   "cell_type": "code",
   "execution_count": 29,
   "id": "e8c7694b",
   "metadata": {},
   "outputs": [
    {
     "data": {
      "text/plain": [
       "Phone                            23582\n",
       "Walk-In                          21849\n",
       "Subscription / Standing Order      320\n",
       "Website                            281\n",
       "Florist-to-Florist                  36\n",
       "Name: Order Method, dtype: int64"
      ]
     },
     "execution_count": 29,
     "metadata": {},
     "output_type": "execute_result"
    }
   ],
   "source": [
    "#Compare to order source to verify there are no duplicates \n",
    "fd['Order Method'].value_counts()"
   ]
  },
  {
   "cell_type": "code",
   "execution_count": 30,
   "id": "c8521fc8",
   "metadata": {},
   "outputs": [
    {
     "data": {
      "text/plain": [
       "Delivery    19915\n",
       "Taken       19686\n",
       "Pickup       5240\n",
       "Wire Out     1227\n",
       "Name: Order Type, dtype: int64"
      ]
     },
     "execution_count": 30,
     "metadata": {},
     "output_type": "execute_result"
    }
   ],
   "source": [
    "# Identify what the difference is in these last three columns ^^^\n",
    "fd['Order Type'].value_counts()"
   ]
  },
  {
   "cell_type": "markdown",
   "id": "cfb0d4e1",
   "metadata": {},
   "source": [
    "### **Non-taxable Delivery Compaired to Delivery Zip/Street**"
   ]
  },
  {
   "cell_type": "code",
   "execution_count": 31,
   "id": "a170cf6b",
   "metadata": {},
   "outputs": [
    {
     "data": {
      "text/plain": [
       "0.00     25013\n",
       "12.00     6662\n",
       "15.00     5074\n",
       "17.95     2437\n",
       "16.95     1094\n",
       "         ...  \n",
       "9.95         1\n",
       "45.40        1\n",
       "12.30        1\n",
       "46.99        1\n",
       "11.49        1\n",
       "Name: Nontaxable Delivery, Length: 282, dtype: int64"
      ]
     },
     "execution_count": 31,
     "metadata": {},
     "output_type": "execute_result"
    }
   ],
   "source": [
    "#Figure out what the amounts represent\n",
    "fd['Nontaxable Delivery'].value_counts()"
   ]
  },
  {
   "cell_type": "markdown",
   "id": "164da1e8",
   "metadata": {},
   "source": [
    "### **Product Name**"
   ]
  },
  {
   "cell_type": "code",
   "execution_count": 32,
   "id": "23c1b796",
   "metadata": {},
   "outputs": [
    {
     "name": "stdout",
     "output_type": "stream",
     "text": [
      "Number of duplicate rows: 6\n",
      "Duplicate rows:\n",
      "         Order # Transaction Type      Order Time    Order Date Delivery Date  \\\n",
      "3917   100013681             Sale  01:54:08PM Fri  Jul 13, 2018  Jul 18, 2018   \n",
      "15219  100019111             Sale  03:25:54PM Fri     15-Mar-19     15-Mar-19   \n",
      "18752  100031715             Sale  02:50:07PM Mon      2-Nov-20      6-Nov-20   \n",
      "39121  100048548             Sale  10:45:29AM Mon     25-Jul-22     26-Jul-22   \n",
      "47587  100055178             Sale  12:52:04PM Fri     10-Mar-23     10-Mar-23   \n",
      "47588  100055178             Sale  12:52:04PM Fri     10-Mar-23     10-Mar-23   \n",
      "\n",
      "       Product Total Delivery  Nontaxable Delivery  Wire Out Fee  Discount  \\\n",
      "3917           41.00    $0.00                 5.00           0.0       0.0   \n",
      "15219          50.75   $0.00                  0.00           0.0       0.0   \n",
      "18752         250.00   $0.00                  8.98           0.0       0.0   \n",
      "39121         615.98   $0.00                  8.98           0.0       0.0   \n",
      "47587          41.67   $0.00                  4.27           0.0       0.0   \n",
      "47588          83.33   $0.00                  8.54           0.0       0.0   \n",
      "\n",
      "       Gift Cards    Tax  Tips  Grand Total Payment Method Order Type  \\\n",
      "3917          0.0   4.00   0.0        50.00    Credit Card   Delivery   \n",
      "15219         0.0   4.95   0.0        55.70    Credit Card      Taken   \n",
      "18752         0.0  24.38   0.0       283.35    Credit Card   Delivery   \n",
      "39121         0.0  60.06   0.0       685.01    Credit Card   Delivery   \n",
      "47587         0.0   4.06   0.0        50.00    Credit Card   Delivery   \n",
      "47588         0.0   8.13   0.0       100.00    Credit Card   Delivery   \n",
      "\n",
      "      Order Method  \n",
      "3917         Phone  \n",
      "15219      Walk-In  \n",
      "18752      Walk-In  \n",
      "39121      Walk-In  \n",
      "47587        Phone  \n",
      "47588        Phone  \n"
     ]
    }
   ],
   "source": [
    "#Identifying duplicates\n",
    "duplicates = fd.duplicated(keep='first') \n",
    "num_duplicates = duplicates.sum()\n",
    "print('Number of duplicate rows:', num_duplicates)\n",
    "\n",
    "#Print the duplicated rows\n",
    "duplicate_rows = fd[duplicates]\n",
    "print('Duplicate rows:')\n",
    "print(duplicate_rows)\n",
    "\n",
    "#Drop the identified duplicate rows\n",
    "fd = fd.drop_duplicates(keep='first')"
   ]
  },
  {
   "cell_type": "code",
   "execution_count": 33,
   "id": "ce3fa8fe",
   "metadata": {},
   "outputs": [
    {
     "name": "stdout",
     "output_type": "stream",
     "text": [
      "Number of duplicate rows: 0\n",
      "Duplicate rows:\n",
      "Empty DataFrame\n",
      "Columns: [Order #, Transaction Type, Order Time, Order Date, Delivery Date, Product Total, Delivery, Nontaxable Delivery, Wire Out Fee, Discount, Gift Cards, Tax, Tips, Grand Total, Payment Method, Order Type, Order Method]\n",
      "Index: []\n"
     ]
    }
   ],
   "source": [
    "#Confiriming there are no duplicates remaining\n",
    "duplicates = fd.duplicated(keep='first') \n",
    "num_duplicates = duplicates.sum()\n",
    "print('Number of duplicate rows:', num_duplicates)\n",
    "duplicate_rows = fd[duplicates]\n",
    "print('Duplicate rows:')\n",
    "print(duplicate_rows)"
   ]
  },
  {
   "cell_type": "code",
   "execution_count": 34,
   "id": "dd5b637a",
   "metadata": {},
   "outputs": [
    {
     "name": "stdout",
     "output_type": "stream",
     "text": [
      "<class 'pandas.core.frame.DataFrame'>\n",
      "Int64Index: 46062 entries, 0 to 49375\n",
      "Data columns (total 17 columns):\n",
      " #   Column               Non-Null Count  Dtype  \n",
      "---  ------               --------------  -----  \n",
      " 0   Order #              46062 non-null  object \n",
      " 1   Transaction Type     46062 non-null  object \n",
      " 2   Order Time           46062 non-null  object \n",
      " 3   Order Date           46062 non-null  object \n",
      " 4   Delivery Date        46062 non-null  object \n",
      " 5   Product Total        46062 non-null  float64\n",
      " 6   Delivery             46062 non-null  object \n",
      " 7   Nontaxable Delivery  46062 non-null  float64\n",
      " 8   Wire Out Fee         46062 non-null  float64\n",
      " 9   Discount             46062 non-null  float64\n",
      " 10  Gift Cards           46062 non-null  float64\n",
      " 11  Tax                  46062 non-null  float64\n",
      " 12  Tips                 46062 non-null  float64\n",
      " 13  Grand Total          46062 non-null  float64\n",
      " 14  Payment Method       46062 non-null  object \n",
      " 15  Order Type           46062 non-null  object \n",
      " 16  Order Method         46062 non-null  object \n",
      "dtypes: float64(8), object(9)\n",
      "memory usage: 6.3+ MB\n"
     ]
    }
   ],
   "source": [
    "#Looking at overview of data\n",
    "fd.info()"
   ]
  },
  {
   "cell_type": "markdown",
   "id": "9f344524",
   "metadata": {},
   "source": [
    "# **Visualizations**"
   ]
  },
  {
   "cell_type": "code",
   "execution_count": 35,
   "id": "3e683e3f",
   "metadata": {
    "scrolled": false
   },
   "outputs": [
    {
     "data": {
      "image/png": "[encoded data removed]",
      "text/plain": [
       "<Figure size 640x480 with 1 Axes>"
      ]
     },
     "metadata": {},
     "output_type": "display_data"
    }
   ],
   "source": [
    "# Create barplot\n",
    "plt.bar(fd['Payment Method'], fd['Product Total'])\n",
    "\n",
    "# Set plot labels and title\n",
    "plt.xlabel('Payment Method')\n",
    "plt.ylabel('Product Total')\n",
    "plt.xticks(rotation=45, fontsize = 9, fontweight = 'heavy', ha = 'right');\n",
    "plt.title('Payment Methods')\n",
    "\n",
    "# Show the plot\n",
    "plt.show()"
   ]
  },
  {
   "cell_type": "code",
   "execution_count": 36,
   "id": "750b2ee6",
   "metadata": {},
   "outputs": [],
   "source": [
    "fd['Order Date'] = pd.to_datetime(fd['Order Date'])\n",
    "fd['Year'] = fd['Order Date'].dt.year"
   ]
  },
  {
   "cell_type": "code",
   "execution_count": 37,
   "id": "7c45e530",
   "metadata": {},
   "outputs": [],
   "source": [
    "product_total_by_year = fd.groupby('Year')['Product Total'].sum().reset_index()"
   ]
  },
  {
   "cell_type": "code",
   "execution_count": 38,
   "id": "fbee4231",
   "metadata": {
    "scrolled": false
   },
   "outputs": [
    {
     "data": {
      "image/png": "[encoded data removed]",
      "text/plain": [
       "<Figure size 640x480 with 1 Axes>"
      ]
     },
     "metadata": {},
     "output_type": "display_data"
    }
   ],
   "source": [
    "# Create barplot\n",
    "plt.bar(product_total_by_year['Year'], product_total_by_year['Product Total'])\n",
    "\n",
    "# Set plot labels and title\n",
    "plt.xlabel('Year')\n",
    "plt.ylabel('Product Total')\n",
    "plt.title('Product Total by Year')\n",
    "\n",
    "# Show the plot\n",
    "plt.show()"
   ]
  },
  {
   "cell_type": "markdown",
   "id": "b8a6a731",
   "metadata": {},
   "source": [
    "# **Delivery Date**"
   ]
  },
  {
   "cell_type": "code",
   "execution_count": 39,
   "id": "4d4e186c",
   "metadata": {},
   "outputs": [],
   "source": [
    "fd['Delivery Date'] = pd.to_datetime(fd['Delivery Date'])\n",
    "fd['Year'] = fd['Delivery Date'].dt.year"
   ]
  },
  {
   "cell_type": "code",
   "execution_count": 40,
   "id": "84e3d938",
   "metadata": {},
   "outputs": [],
   "source": [
    "filtered_data = fd[(fd['Year'] != 2016) & (fd['Year'] != 2017)]"
   ]
  },
  {
   "cell_type": "code",
   "execution_count": 41,
   "id": "b10d61f4",
   "metadata": {},
   "outputs": [],
   "source": [
    "product_total_by_year = filtered_data.groupby('Year')['Product Total'].sum().reset_index()"
   ]
  },
  {
   "cell_type": "code",
   "execution_count": 42,
   "id": "3cd8ad87",
   "metadata": {},
   "outputs": [
    {
     "data": {
      "image/png": "[encoded data removed]",
      "text/plain": [
       "<Figure size 640x480 with 1 Axes>"
      ]
     },
     "metadata": {},
     "output_type": "display_data"
    }
   ],
   "source": [
    "# Create barplot\n",
    "plt.bar(product_total_by_year['Year'], product_total_by_year['Product Total'])\n",
    "\n",
    "# Set plot labels and title\n",
    "plt.xlabel('Year')\n",
    "plt.ylabel('Product Total')\n",
    "plt.title('Product Total by Year')\n",
    "\n",
    "# Show the plot\n",
    "plt.show()"
   ]
  },
  {
   "cell_type": "markdown",
   "id": "f82b7797",
   "metadata": {},
   "source": [
    "## **Product Total for Delivery Dates**"
   ]
  },
  {
   "cell_type": "code",
   "execution_count": 43,
   "id": "9b07eac7",
   "metadata": {
    "scrolled": true
   },
   "outputs": [
    {
     "data": {
      "image/png": "[encoded data removed]",
      "text/plain": [
       "<Figure size 640x480 with 1 Axes>"
      ]
     },
     "metadata": {},
     "output_type": "display_data"
    }
   ],
   "source": [
    "# Create barplot\n",
    "plt.bar(fd['Delivery Date'], fd['Product Total'])\n",
    "\n",
    "# Set plot labels and title\n",
    "plt.xlabel('Delivery Date')\n",
    "plt.ylabel('Product Total')\n",
    "plt.xticks(rotation=45, fontsize = 9, fontweight = 'heavy', ha = 'right');\n",
    "plt.title('Product Total for Delivery Dates')\n",
    "\n",
    "# Show the plot\n",
    "plt.show()"
   ]
  },
  {
   "cell_type": "code",
   "execution_count": 44,
   "id": "d2214681",
   "metadata": {
    "scrolled": false
   },
   "outputs": [
    {
     "data": {
      "image/png": "[encoded data removed]",
      "text/plain": [
       "<Figure size 640x480 with 1 Axes>"
      ]
     },
     "metadata": {},
     "output_type": "display_data"
    }
   ],
   "source": [
    "# Create barplot of order methods\n",
    "plt.bar(fd['Order Method'], fd['Product Total'])\n",
    "\n",
    "# Set plot labels and title\n",
    "plt.xlabel('Order Method')\n",
    "plt.ylabel('Product Total')\n",
    "plt.xticks(rotation=35, fontsize = 12, fontweight = 'normal', ha = 'right');\n",
    "plt.title('Floral Order Method')\n",
    "\n",
    "# Show the plot\n",
    "plt.show()"
   ]
  },
  {
   "cell_type": "code",
   "execution_count": 45,
   "id": "131a259f",
   "metadata": {},
   "outputs": [],
   "source": [
    "#Saving the new dataframe to upload in the next notebook\n",
    "fd.to_csv('fd', index=False)"
   ]
  }
 ],
 "metadata": {
  "kernelspec": {
   "display_name": "Python (dojo-env)",
   "language": "python",
   "name": "dojo-env"
  },
  "language_info": {
   "codemirror_mode": {
    "name": "ipython",
    "version": 3
   },
   "file_extension": ".py",
   "mimetype": "text/x-python",
   "name": "python",
   "nbconvert_exporter": "python",
   "pygments_lexer": "ipython3",
   "version": "3.9.15"
  },
  "toc": {
   "base_numbering": 1,
   "nav_menu": {},
   "number_sections": false,
   "sideBar": true,
   "skip_h1_title": false,
   "title_cell": "Table of Contents",
   "title_sidebar": "Contents",
   "toc_cell": false,
   "toc_position": {
    "height": "calc(100% - 180px)",
    "left": "10px",
    "top": "150px",
    "width": "215.824px"
   },
   "toc_section_display": true,
   "toc_window_display": false
  }
 },
 "nbformat": 4,
 "nbformat_minor": 5
}
